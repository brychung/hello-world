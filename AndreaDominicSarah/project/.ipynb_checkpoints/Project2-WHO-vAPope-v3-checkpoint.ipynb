{
 "cells": [
  {
   "cell_type": "code",
   "execution_count": 34,
   "metadata": {
    "collapsed": true
   },
   "outputs": [],
   "source": [
    "%matplotlib inline\n",
    "import numpy as np\n",
    "import pandas as pd\n",
    "import matplotlib.pyplot as pyplot"
   ]
  },
  {
   "cell_type": "markdown",
   "metadata": {
    "collapsed": true
   },
   "source": [
    "# Life Expectancy\n",
    "Data Cleansing"
   ]
  },
  {
   "cell_type": "code",
   "execution_count": 2,
   "metadata": {
    "collapsed": false
   },
   "outputs": [],
   "source": [
    "df_le = pd.read_csv(\"research/LifeExpectancy.csv\")"
   ]
  },
  {
   "cell_type": "code",
   "execution_count": 3,
   "metadata": {
    "collapsed": false
   },
   "outputs": [
    {
     "data": {
      "text/html": [
       "<div>\n",
       "<table border=\"1\" class=\"dataframe\">\n",
       "  <thead>\n",
       "    <tr style=\"text-align: right;\">\n",
       "      <th></th>\n",
       "      <th>Country; Year</th>\n",
       "      <th>Life expectancy at birth (years); Both sexes</th>\n",
       "      <th>Life expectancy at birth (years); Female</th>\n",
       "      <th>Life expectancy at birth (years); Male</th>\n",
       "      <th>Life expectancy at age 60 (years); Both sexes</th>\n",
       "      <th>Life expectancy at age 60 (years); Female</th>\n",
       "      <th>Life expectancy at age 60 (years); Male</th>\n",
       "      <th>Healthy life expectancy (HALE) at birth (years); Both sexes</th>\n",
       "      <th>Healthy life expectancy (HALE) at birth (years); Female</th>\n",
       "      <th>Healthy life expectancy (HALE) at birth (years); Male</th>\n",
       "    </tr>\n",
       "  </thead>\n",
       "  <tbody>\n",
       "    <tr>\n",
       "      <th>0</th>\n",
       "      <td>Afghanistan; 2013</td>\n",
       "      <td>61</td>\n",
       "      <td>62</td>\n",
       "      <td>61</td>\n",
       "      <td>16</td>\n",
       "      <td>17</td>\n",
       "      <td>15</td>\n",
       "      <td>50</td>\n",
       "      <td>50</td>\n",
       "      <td>50</td>\n",
       "    </tr>\n",
       "    <tr>\n",
       "      <th>1</th>\n",
       "      <td>Afghanistan; 2012</td>\n",
       "      <td>60</td>\n",
       "      <td>61</td>\n",
       "      <td>58</td>\n",
       "      <td>16</td>\n",
       "      <td>17</td>\n",
       "      <td>15</td>\n",
       "      <td>49</td>\n",
       "      <td>49</td>\n",
       "      <td>49</td>\n",
       "    </tr>\n",
       "    <tr>\n",
       "      <th>2</th>\n",
       "      <td>Afghanistan; 2000</td>\n",
       "      <td>55</td>\n",
       "      <td>56</td>\n",
       "      <td>54</td>\n",
       "      <td>15</td>\n",
       "      <td>16</td>\n",
       "      <td>14</td>\n",
       "      <td>45</td>\n",
       "      <td>45</td>\n",
       "      <td>45</td>\n",
       "    </tr>\n",
       "    <tr>\n",
       "      <th>3</th>\n",
       "      <td>Afghanistan; 1990</td>\n",
       "      <td>49</td>\n",
       "      <td>50</td>\n",
       "      <td>49</td>\n",
       "      <td>14</td>\n",
       "      <td>15</td>\n",
       "      <td>13</td>\n",
       "      <td>NaN</td>\n",
       "      <td>NaN</td>\n",
       "      <td>NaN</td>\n",
       "    </tr>\n",
       "    <tr>\n",
       "      <th>4</th>\n",
       "      <td>Albania; 2013</td>\n",
       "      <td>74</td>\n",
       "      <td>76</td>\n",
       "      <td>73</td>\n",
       "      <td>19</td>\n",
       "      <td>20</td>\n",
       "      <td>18</td>\n",
       "      <td>65</td>\n",
       "      <td>66</td>\n",
       "      <td>64</td>\n",
       "    </tr>\n",
       "  </tbody>\n",
       "</table>\n",
       "</div>"
      ],
      "text/plain": [
       "       Country; Year  Life expectancy at birth (years); Both sexes  \\\n",
       "0  Afghanistan; 2013                                            61   \n",
       "1  Afghanistan; 2012                                            60   \n",
       "2  Afghanistan; 2000                                            55   \n",
       "3  Afghanistan; 1990                                            49   \n",
       "4      Albania; 2013                                            74   \n",
       "\n",
       "   Life expectancy at birth (years); Female  \\\n",
       "0                                        62   \n",
       "1                                        61   \n",
       "2                                        56   \n",
       "3                                        50   \n",
       "4                                        76   \n",
       "\n",
       "   Life expectancy at birth (years); Male  \\\n",
       "0                                      61   \n",
       "1                                      58   \n",
       "2                                      54   \n",
       "3                                      49   \n",
       "4                                      73   \n",
       "\n",
       "   Life expectancy at age 60 (years); Both sexes  \\\n",
       "0                                             16   \n",
       "1                                             16   \n",
       "2                                             15   \n",
       "3                                             14   \n",
       "4                                             19   \n",
       "\n",
       "   Life expectancy at age 60 (years); Female  \\\n",
       "0                                         17   \n",
       "1                                         17   \n",
       "2                                         16   \n",
       "3                                         15   \n",
       "4                                         20   \n",
       "\n",
       "   Life expectancy at age 60 (years); Male  \\\n",
       "0                                       15   \n",
       "1                                       15   \n",
       "2                                       14   \n",
       "3                                       13   \n",
       "4                                       18   \n",
       "\n",
       "  Healthy life expectancy (HALE) at birth (years); Both sexes  \\\n",
       "0                                                 50            \n",
       "1                                                 49            \n",
       "2                                                 45            \n",
       "3                                                NaN            \n",
       "4                                                 65            \n",
       "\n",
       "  Healthy life expectancy (HALE) at birth (years); Female  \\\n",
       "0                                                 50        \n",
       "1                                                 49        \n",
       "2                                                 45        \n",
       "3                                                NaN        \n",
       "4                                                 66        \n",
       "\n",
       "  Healthy life expectancy (HALE) at birth (years); Male  \n",
       "0                                                 50     \n",
       "1                                                 49     \n",
       "2                                                 45     \n",
       "3                                                NaN     \n",
       "4                                                 64     "
      ]
     },
     "execution_count": 3,
     "metadata": {},
     "output_type": "execute_result"
    }
   ],
   "source": [
    "df_le.head()"
   ]
  },
  {
   "cell_type": "code",
   "execution_count": 4,
   "metadata": {
    "collapsed": false
   },
   "outputs": [],
   "source": [
    "# Updating column names so easier to work with.\n",
    "df_le = pd.read_csv('research/LifeExpectancy.csv', names=(\"Country; Year\", \"LEatBirth\", \"LEatBirthFem\", \"LEatBirthMale\",\n",
    "                                                                      \"LEat60\", \"LEat60Female\", \"LEat60Male\", \"HALEatBirth\",\n",
    "                                                                      \"HALEatBirthFemale\", \"HALEatBirthMale\"))[1:]"
   ]
  },
  {
   "cell_type": "code",
   "execution_count": 5,
   "metadata": {
    "collapsed": false
   },
   "outputs": [
    {
     "data": {
      "text/html": [
       "<div>\n",
       "<table border=\"1\" class=\"dataframe\">\n",
       "  <thead>\n",
       "    <tr style=\"text-align: right;\">\n",
       "      <th></th>\n",
       "      <th>Country; Year</th>\n",
       "      <th>LEatBirth</th>\n",
       "      <th>LEatBirthFem</th>\n",
       "      <th>LEatBirthMale</th>\n",
       "      <th>LEat60</th>\n",
       "      <th>LEat60Female</th>\n",
       "      <th>LEat60Male</th>\n",
       "      <th>HALEatBirth</th>\n",
       "      <th>HALEatBirthFemale</th>\n",
       "      <th>HALEatBirthMale</th>\n",
       "    </tr>\n",
       "  </thead>\n",
       "  <tbody>\n",
       "    <tr>\n",
       "      <th>1</th>\n",
       "      <td>Afghanistan; 2013</td>\n",
       "      <td>61</td>\n",
       "      <td>62</td>\n",
       "      <td>61</td>\n",
       "      <td>16</td>\n",
       "      <td>17</td>\n",
       "      <td>15</td>\n",
       "      <td>50</td>\n",
       "      <td>50</td>\n",
       "      <td>50</td>\n",
       "    </tr>\n",
       "    <tr>\n",
       "      <th>2</th>\n",
       "      <td>Afghanistan; 2012</td>\n",
       "      <td>60</td>\n",
       "      <td>61</td>\n",
       "      <td>58</td>\n",
       "      <td>16</td>\n",
       "      <td>17</td>\n",
       "      <td>15</td>\n",
       "      <td>49</td>\n",
       "      <td>49</td>\n",
       "      <td>49</td>\n",
       "    </tr>\n",
       "    <tr>\n",
       "      <th>3</th>\n",
       "      <td>Afghanistan; 2000</td>\n",
       "      <td>55</td>\n",
       "      <td>56</td>\n",
       "      <td>54</td>\n",
       "      <td>15</td>\n",
       "      <td>16</td>\n",
       "      <td>14</td>\n",
       "      <td>45</td>\n",
       "      <td>45</td>\n",
       "      <td>45</td>\n",
       "    </tr>\n",
       "    <tr>\n",
       "      <th>4</th>\n",
       "      <td>Afghanistan; 1990</td>\n",
       "      <td>49</td>\n",
       "      <td>50</td>\n",
       "      <td>49</td>\n",
       "      <td>14</td>\n",
       "      <td>15</td>\n",
       "      <td>13</td>\n",
       "      <td>NaN</td>\n",
       "      <td>NaN</td>\n",
       "      <td>NaN</td>\n",
       "    </tr>\n",
       "    <tr>\n",
       "      <th>5</th>\n",
       "      <td>Albania; 2013</td>\n",
       "      <td>74</td>\n",
       "      <td>76</td>\n",
       "      <td>73</td>\n",
       "      <td>19</td>\n",
       "      <td>20</td>\n",
       "      <td>18</td>\n",
       "      <td>65</td>\n",
       "      <td>66</td>\n",
       "      <td>64</td>\n",
       "    </tr>\n",
       "  </tbody>\n",
       "</table>\n",
       "</div>"
      ],
      "text/plain": [
       "       Country; Year LEatBirth LEatBirthFem LEatBirthMale LEat60 LEat60Female  \\\n",
       "1  Afghanistan; 2013        61           62            61     16           17   \n",
       "2  Afghanistan; 2012        60           61            58     16           17   \n",
       "3  Afghanistan; 2000        55           56            54     15           16   \n",
       "4  Afghanistan; 1990        49           50            49     14           15   \n",
       "5      Albania; 2013        74           76            73     19           20   \n",
       "\n",
       "  LEat60Male HALEatBirth HALEatBirthFemale HALEatBirthMale  \n",
       "1         15          50                50              50  \n",
       "2         15          49                49              49  \n",
       "3         14          45                45              45  \n",
       "4         13         NaN               NaN             NaN  \n",
       "5         18          65                66              64  "
      ]
     },
     "execution_count": 5,
     "metadata": {},
     "output_type": "execute_result"
    }
   ],
   "source": [
    "df_le.head()"
   ]
  },
  {
   "cell_type": "code",
   "execution_count": 6,
   "metadata": {
    "collapsed": false
   },
   "outputs": [],
   "source": [
    "# separating country from year in initial cell to 2 separate cells\n",
    "df_le['Country'], df_le['Year'] = zip(*df_le['Country; Year'].apply(lambda x: x.split('; ', 1)))"
   ]
  },
  {
   "cell_type": "code",
   "execution_count": 7,
   "metadata": {
    "collapsed": false
   },
   "outputs": [
    {
     "data": {
      "text/html": [
       "<div>\n",
       "<table border=\"1\" class=\"dataframe\">\n",
       "  <thead>\n",
       "    <tr style=\"text-align: right;\">\n",
       "      <th></th>\n",
       "      <th>Country; Year</th>\n",
       "      <th>LEatBirth</th>\n",
       "      <th>LEatBirthFem</th>\n",
       "      <th>LEatBirthMale</th>\n",
       "      <th>LEat60</th>\n",
       "      <th>LEat60Female</th>\n",
       "      <th>LEat60Male</th>\n",
       "      <th>HALEatBirth</th>\n",
       "      <th>HALEatBirthFemale</th>\n",
       "      <th>HALEatBirthMale</th>\n",
       "      <th>Country</th>\n",
       "      <th>Year</th>\n",
       "    </tr>\n",
       "  </thead>\n",
       "  <tbody>\n",
       "    <tr>\n",
       "      <th>1</th>\n",
       "      <td>Afghanistan; 2013</td>\n",
       "      <td>61</td>\n",
       "      <td>62</td>\n",
       "      <td>61</td>\n",
       "      <td>16</td>\n",
       "      <td>17</td>\n",
       "      <td>15</td>\n",
       "      <td>50</td>\n",
       "      <td>50</td>\n",
       "      <td>50</td>\n",
       "      <td>Afghanistan</td>\n",
       "      <td>2013</td>\n",
       "    </tr>\n",
       "    <tr>\n",
       "      <th>2</th>\n",
       "      <td>Afghanistan; 2012</td>\n",
       "      <td>60</td>\n",
       "      <td>61</td>\n",
       "      <td>58</td>\n",
       "      <td>16</td>\n",
       "      <td>17</td>\n",
       "      <td>15</td>\n",
       "      <td>49</td>\n",
       "      <td>49</td>\n",
       "      <td>49</td>\n",
       "      <td>Afghanistan</td>\n",
       "      <td>2012</td>\n",
       "    </tr>\n",
       "    <tr>\n",
       "      <th>3</th>\n",
       "      <td>Afghanistan; 2000</td>\n",
       "      <td>55</td>\n",
       "      <td>56</td>\n",
       "      <td>54</td>\n",
       "      <td>15</td>\n",
       "      <td>16</td>\n",
       "      <td>14</td>\n",
       "      <td>45</td>\n",
       "      <td>45</td>\n",
       "      <td>45</td>\n",
       "      <td>Afghanistan</td>\n",
       "      <td>2000</td>\n",
       "    </tr>\n",
       "    <tr>\n",
       "      <th>4</th>\n",
       "      <td>Afghanistan; 1990</td>\n",
       "      <td>49</td>\n",
       "      <td>50</td>\n",
       "      <td>49</td>\n",
       "      <td>14</td>\n",
       "      <td>15</td>\n",
       "      <td>13</td>\n",
       "      <td>NaN</td>\n",
       "      <td>NaN</td>\n",
       "      <td>NaN</td>\n",
       "      <td>Afghanistan</td>\n",
       "      <td>1990</td>\n",
       "    </tr>\n",
       "    <tr>\n",
       "      <th>5</th>\n",
       "      <td>Albania; 2013</td>\n",
       "      <td>74</td>\n",
       "      <td>76</td>\n",
       "      <td>73</td>\n",
       "      <td>19</td>\n",
       "      <td>20</td>\n",
       "      <td>18</td>\n",
       "      <td>65</td>\n",
       "      <td>66</td>\n",
       "      <td>64</td>\n",
       "      <td>Albania</td>\n",
       "      <td>2013</td>\n",
       "    </tr>\n",
       "  </tbody>\n",
       "</table>\n",
       "</div>"
      ],
      "text/plain": [
       "       Country; Year LEatBirth LEatBirthFem LEatBirthMale LEat60 LEat60Female  \\\n",
       "1  Afghanistan; 2013        61           62            61     16           17   \n",
       "2  Afghanistan; 2012        60           61            58     16           17   \n",
       "3  Afghanistan; 2000        55           56            54     15           16   \n",
       "4  Afghanistan; 1990        49           50            49     14           15   \n",
       "5      Albania; 2013        74           76            73     19           20   \n",
       "\n",
       "  LEat60Male HALEatBirth HALEatBirthFemale HALEatBirthMale      Country  Year  \n",
       "1         15          50                50              50  Afghanistan  2013  \n",
       "2         15          49                49              49  Afghanistan  2012  \n",
       "3         14          45                45              45  Afghanistan  2000  \n",
       "4         13         NaN               NaN             NaN  Afghanistan  1990  \n",
       "5         18          65                66              64      Albania  2013  "
      ]
     },
     "execution_count": 7,
     "metadata": {},
     "output_type": "execute_result"
    }
   ],
   "source": [
    "df_le.head()"
   ]
  },
  {
   "cell_type": "code",
   "execution_count": 8,
   "metadata": {
    "collapsed": false
   },
   "outputs": [
    {
     "data": {
      "text/html": [
       "<div>\n",
       "<table border=\"1\" class=\"dataframe\">\n",
       "  <thead>\n",
       "    <tr style=\"text-align: right;\">\n",
       "      <th></th>\n",
       "      <th>Country; Year</th>\n",
       "      <th>LEatBirth</th>\n",
       "      <th>LEatBirthFem</th>\n",
       "      <th>LEatBirthMale</th>\n",
       "      <th>LEat60</th>\n",
       "      <th>LEat60Female</th>\n",
       "      <th>LEat60Male</th>\n",
       "      <th>HALEatBirth</th>\n",
       "      <th>HALEatBirthFemale</th>\n",
       "      <th>HALEatBirthMale</th>\n",
       "      <th>Country</th>\n",
       "      <th>Year</th>\n",
       "    </tr>\n",
       "  </thead>\n",
       "  <tbody>\n",
       "    <tr>\n",
       "      <th>count</th>\n",
       "      <td>776</td>\n",
       "      <td>776</td>\n",
       "      <td>776</td>\n",
       "      <td>776</td>\n",
       "      <td>776</td>\n",
       "      <td>776</td>\n",
       "      <td>776</td>\n",
       "      <td>582</td>\n",
       "      <td>582</td>\n",
       "      <td>582</td>\n",
       "      <td>776</td>\n",
       "      <td>776</td>\n",
       "    </tr>\n",
       "    <tr>\n",
       "      <th>unique</th>\n",
       "      <td>776</td>\n",
       "      <td>46</td>\n",
       "      <td>48</td>\n",
       "      <td>46</td>\n",
       "      <td>16</td>\n",
       "      <td>19</td>\n",
       "      <td>15</td>\n",
       "      <td>44</td>\n",
       "      <td>46</td>\n",
       "      <td>44</td>\n",
       "      <td>194</td>\n",
       "      <td>4</td>\n",
       "    </tr>\n",
       "    <tr>\n",
       "      <th>top</th>\n",
       "      <td>Lebanon; 2000</td>\n",
       "      <td>74</td>\n",
       "      <td>78</td>\n",
       "      <td>72</td>\n",
       "      <td>17</td>\n",
       "      <td>18</td>\n",
       "      <td>16</td>\n",
       "      <td>63</td>\n",
       "      <td>66</td>\n",
       "      <td>63</td>\n",
       "      <td>South Africa</td>\n",
       "      <td>2000</td>\n",
       "    </tr>\n",
       "    <tr>\n",
       "      <th>freq</th>\n",
       "      <td>1</td>\n",
       "      <td>51</td>\n",
       "      <td>65</td>\n",
       "      <td>51</td>\n",
       "      <td>118</td>\n",
       "      <td>95</td>\n",
       "      <td>125</td>\n",
       "      <td>40</td>\n",
       "      <td>51</td>\n",
       "      <td>42</td>\n",
       "      <td>4</td>\n",
       "      <td>194</td>\n",
       "    </tr>\n",
       "  </tbody>\n",
       "</table>\n",
       "</div>"
      ],
      "text/plain": [
       "        Country; Year LEatBirth LEatBirthFem LEatBirthMale LEat60  \\\n",
       "count             776       776          776           776    776   \n",
       "unique            776        46           48            46     16   \n",
       "top     Lebanon; 2000        74           78            72     17   \n",
       "freq                1        51           65            51    118   \n",
       "\n",
       "       LEat60Female LEat60Male HALEatBirth HALEatBirthFemale HALEatBirthMale  \\\n",
       "count           776        776         582               582             582   \n",
       "unique           19         15          44                46              44   \n",
       "top              18         16          63                66              63   \n",
       "freq             95        125          40                51              42   \n",
       "\n",
       "             Country  Year  \n",
       "count            776   776  \n",
       "unique           194     4  \n",
       "top     South Africa  2000  \n",
       "freq               4   194  "
      ]
     },
     "execution_count": 8,
     "metadata": {},
     "output_type": "execute_result"
    }
   ],
   "source": [
    "df_le.describe()"
   ]
  },
  {
   "cell_type": "code",
   "execution_count": 9,
   "metadata": {
    "collapsed": false
   },
   "outputs": [
    {
     "data": {
      "text/plain": [
       "dtype('O')"
      ]
     },
     "execution_count": 9,
     "metadata": {},
     "output_type": "execute_result"
    }
   ],
   "source": [
    "df_le['HALEatBirth'].dtype"
   ]
  },
  {
   "cell_type": "code",
   "execution_count": 10,
   "metadata": {
    "collapsed": true
   },
   "outputs": [],
   "source": [
    "# clearly we have cleanliness issues, so going to clean and put into a new dataset"
   ]
  },
  {
   "cell_type": "code",
   "execution_count": 11,
   "metadata": {
    "collapsed": false
   },
   "outputs": [
    {
     "data": {
      "text/plain": [
       "South Africa                                 4\n",
       "Swaziland                                    4\n",
       "Guyana                                       4\n",
       "Croatia                                      4\n",
       "El Salvador                                  4\n",
       "Egypt                                        4\n",
       "Slovenia                                     4\n",
       "Viet Nam                                     4\n",
       "Fiji                                         4\n",
       "Cameroon                                     4\n",
       "Brazil                                       4\n",
       "Solomon Islands                              4\n",
       "Costa Rica                                   4\n",
       "Cuba                                         4\n",
       "Bulgaria                                     4\n",
       "Botswana                                     4\n",
       "Czech Republic                               4\n",
       "Nigeria                                      4\n",
       "Slovakia                                     4\n",
       "Montenegro                                   4\n",
       "Central African Republic                     4\n",
       "Tajikistan                                   4\n",
       "Kiribati                                     4\n",
       "Haiti                                        4\n",
       "Maldives                                     4\n",
       "Paraguay                                     4\n",
       "Republic of Korea                            4\n",
       "Brunei Darussalam                            4\n",
       "Liberia                                      4\n",
       "Iran (Islamic Republic of)                   4\n",
       "                                            ..\n",
       "Myanmar                                      4\n",
       "Senegal                                      4\n",
       "Jordan                                       4\n",
       "Seychelles                                   4\n",
       "Peru                                         4\n",
       "Argentina                                    4\n",
       "Qatar                                        4\n",
       "Cook Islands                                 4\n",
       "Sri Lanka                                    4\n",
       "Luxembourg                                   4\n",
       "Iceland                                      4\n",
       "Somalia                                      4\n",
       "Mozambique                                   4\n",
       "Belgium                                      4\n",
       "Serbia                                       4\n",
       "Cote d'Ivoire                                4\n",
       "Bangladesh                                   4\n",
       "Romania                                      4\n",
       "Ukraine                                      4\n",
       "The former Yugoslav republic of Macedonia    4\n",
       "Cabo Verde                                   4\n",
       "Niger                                        4\n",
       "Iraq                                         4\n",
       "Sudan                                        4\n",
       "Antigua and Barbuda                          4\n",
       "Saudi Arabia                                 4\n",
       "Andorra                                      4\n",
       "United Republic of Tanzania                  4\n",
       "Sweden                                       4\n",
       "Congo                                        4\n",
       "Name: Country, dtype: int64"
      ]
     },
     "execution_count": 11,
     "metadata": {},
     "output_type": "execute_result"
    }
   ],
   "source": [
    "df_le['Country'].value_counts()"
   ]
  },
  {
   "cell_type": "code",
   "execution_count": 12,
   "metadata": {
    "collapsed": false
   },
   "outputs": [
    {
     "data": {
      "text/plain": [
       "2000    194\n",
       "1990    194\n",
       "2013    194\n",
       "2012    194\n",
       "Name: Year, dtype: int64"
      ]
     },
     "execution_count": 12,
     "metadata": {},
     "output_type": "execute_result"
    }
   ],
   "source": [
    "df_le['Year'].value_counts()"
   ]
  },
  {
   "cell_type": "code",
   "execution_count": 13,
   "metadata": {
    "collapsed": false
   },
   "outputs": [],
   "source": [
    "#convert year into date format\n",
    "df_le['Year'] = pd.to_datetime(df_le['Year'], format='%Y')"
   ]
  },
  {
   "cell_type": "code",
   "execution_count": 14,
   "metadata": {
    "collapsed": false
   },
   "outputs": [
    {
     "data": {
      "text/html": [
       "<div>\n",
       "<table border=\"1\" class=\"dataframe\">\n",
       "  <thead>\n",
       "    <tr style=\"text-align: right;\">\n",
       "      <th></th>\n",
       "      <th>Country; Year</th>\n",
       "      <th>LEatBirth</th>\n",
       "      <th>LEatBirthFem</th>\n",
       "      <th>LEatBirthMale</th>\n",
       "      <th>LEat60</th>\n",
       "      <th>LEat60Female</th>\n",
       "      <th>LEat60Male</th>\n",
       "      <th>HALEatBirth</th>\n",
       "      <th>HALEatBirthFemale</th>\n",
       "      <th>HALEatBirthMale</th>\n",
       "      <th>Country</th>\n",
       "      <th>Year</th>\n",
       "    </tr>\n",
       "  </thead>\n",
       "  <tbody>\n",
       "    <tr>\n",
       "      <th>1</th>\n",
       "      <td>Afghanistan; 2013</td>\n",
       "      <td>61</td>\n",
       "      <td>62</td>\n",
       "      <td>61</td>\n",
       "      <td>16</td>\n",
       "      <td>17</td>\n",
       "      <td>15</td>\n",
       "      <td>50</td>\n",
       "      <td>50</td>\n",
       "      <td>50</td>\n",
       "      <td>Afghanistan</td>\n",
       "      <td>2013-01-01</td>\n",
       "    </tr>\n",
       "    <tr>\n",
       "      <th>2</th>\n",
       "      <td>Afghanistan; 2012</td>\n",
       "      <td>60</td>\n",
       "      <td>61</td>\n",
       "      <td>58</td>\n",
       "      <td>16</td>\n",
       "      <td>17</td>\n",
       "      <td>15</td>\n",
       "      <td>49</td>\n",
       "      <td>49</td>\n",
       "      <td>49</td>\n",
       "      <td>Afghanistan</td>\n",
       "      <td>2012-01-01</td>\n",
       "    </tr>\n",
       "    <tr>\n",
       "      <th>3</th>\n",
       "      <td>Afghanistan; 2000</td>\n",
       "      <td>55</td>\n",
       "      <td>56</td>\n",
       "      <td>54</td>\n",
       "      <td>15</td>\n",
       "      <td>16</td>\n",
       "      <td>14</td>\n",
       "      <td>45</td>\n",
       "      <td>45</td>\n",
       "      <td>45</td>\n",
       "      <td>Afghanistan</td>\n",
       "      <td>2000-01-01</td>\n",
       "    </tr>\n",
       "    <tr>\n",
       "      <th>4</th>\n",
       "      <td>Afghanistan; 1990</td>\n",
       "      <td>49</td>\n",
       "      <td>50</td>\n",
       "      <td>49</td>\n",
       "      <td>14</td>\n",
       "      <td>15</td>\n",
       "      <td>13</td>\n",
       "      <td>NaN</td>\n",
       "      <td>NaN</td>\n",
       "      <td>NaN</td>\n",
       "      <td>Afghanistan</td>\n",
       "      <td>1990-01-01</td>\n",
       "    </tr>\n",
       "    <tr>\n",
       "      <th>5</th>\n",
       "      <td>Albania; 2013</td>\n",
       "      <td>74</td>\n",
       "      <td>76</td>\n",
       "      <td>73</td>\n",
       "      <td>19</td>\n",
       "      <td>20</td>\n",
       "      <td>18</td>\n",
       "      <td>65</td>\n",
       "      <td>66</td>\n",
       "      <td>64</td>\n",
       "      <td>Albania</td>\n",
       "      <td>2013-01-01</td>\n",
       "    </tr>\n",
       "  </tbody>\n",
       "</table>\n",
       "</div>"
      ],
      "text/plain": [
       "       Country; Year LEatBirth LEatBirthFem LEatBirthMale LEat60 LEat60Female  \\\n",
       "1  Afghanistan; 2013        61           62            61     16           17   \n",
       "2  Afghanistan; 2012        60           61            58     16           17   \n",
       "3  Afghanistan; 2000        55           56            54     15           16   \n",
       "4  Afghanistan; 1990        49           50            49     14           15   \n",
       "5      Albania; 2013        74           76            73     19           20   \n",
       "\n",
       "  LEat60Male HALEatBirth HALEatBirthFemale HALEatBirthMale      Country  \\\n",
       "1         15          50                50              50  Afghanistan   \n",
       "2         15          49                49              49  Afghanistan   \n",
       "3         14          45                45              45  Afghanistan   \n",
       "4         13         NaN               NaN             NaN  Afghanistan   \n",
       "5         18          65                66              64      Albania   \n",
       "\n",
       "        Year  \n",
       "1 2013-01-01  \n",
       "2 2012-01-01  \n",
       "3 2000-01-01  \n",
       "4 1990-01-01  \n",
       "5 2013-01-01  "
      ]
     },
     "execution_count": 14,
     "metadata": {},
     "output_type": "execute_result"
    }
   ],
   "source": [
    "df_le.head()"
   ]
  },
  {
   "cell_type": "code",
   "execution_count": 15,
   "metadata": {
    "collapsed": true
   },
   "outputs": [],
   "source": [
    "# function to use on number fields that contain multiple answers, in order to update number fields appropriately\n",
    "# data is at year level, so ints can be used (vs floats)\n",
    "def clean_le(value):\n",
    "    if type(value) == type(np.NaN):\n",
    "        return np.NaN\n",
    "    return int(value[0:2])"
   ]
  },
  {
   "cell_type": "code",
   "execution_count": 119,
   "metadata": {
    "collapsed": true
   },
   "outputs": [],
   "source": [
    "#used to convert to float, but check for NaN values first\n",
    "def clean_float(value):\n",
    "    if type(value) == type(np.NaN):\n",
    "        return np.NaN\n",
    "    return float(value)"
   ]
  },
  {
   "cell_type": "code",
   "execution_count": 16,
   "metadata": {
    "collapsed": false
   },
   "outputs": [
    {
     "data": {
      "text/plain": [
       "46"
      ]
     },
     "execution_count": 16,
     "metadata": {},
     "output_type": "execute_result"
    }
   ],
   "source": [
    "#check\n",
    "clean_le('46 48')"
   ]
  },
  {
   "cell_type": "code",
   "execution_count": 17,
   "metadata": {
    "collapsed": false
   },
   "outputs": [
    {
     "data": {
      "text/plain": [
       "1     50\n",
       "2     49\n",
       "3     45\n",
       "4    NaN\n",
       "5     65\n",
       "Name: HALEatBirth, dtype: object"
      ]
     },
     "execution_count": 17,
     "metadata": {},
     "output_type": "execute_result"
    }
   ],
   "source": [
    "df_le['HALEatBirth'].head()"
   ]
  },
  {
   "cell_type": "code",
   "execution_count": 18,
   "metadata": {
    "collapsed": true
   },
   "outputs": [],
   "source": [
    "df_le['HALEatBirth'] = df_le['HALEatBirth'].apply(clean_le)"
   ]
  },
  {
   "cell_type": "code",
   "execution_count": 19,
   "metadata": {
    "collapsed": false
   },
   "outputs": [
    {
     "data": {
      "text/plain": [
       "63    40\n",
       "65    39\n",
       "62    36\n",
       "64    33\n",
       "66    32\n",
       "60    26\n",
       "67    25\n",
       "69    22\n",
       "61    22\n",
       "72    21\n",
       "68    21\n",
       "71    20\n",
       "70    18\n",
       "50    18\n",
       "54    16\n",
       "59    15\n",
       "53    14\n",
       "57    14\n",
       "58    13\n",
       "49    12\n",
       "55    12\n",
       "51    11\n",
       "73    10\n",
       "44    10\n",
       "56     9\n",
       "52     8\n",
       "43     8\n",
       "41     8\n",
       "48     7\n",
       "46     7\n",
       "45     7\n",
       "47     6\n",
       "39     5\n",
       "42     4\n",
       "40     2\n",
       "38     2\n",
       "76     2\n",
       "75     2\n",
       "74     2\n",
       "37     1\n",
       "36     1\n",
       "33     1\n",
       "Name: HALEatBirth, dtype: int64"
      ]
     },
     "execution_count": 19,
     "metadata": {},
     "output_type": "execute_result"
    }
   ],
   "source": [
    "df_le['HALEatBirth'].value_counts()"
   ]
  },
  {
   "cell_type": "code",
   "execution_count": 20,
   "metadata": {
    "collapsed": false
   },
   "outputs": [
    {
     "data": {
      "text/plain": [
       "dtype('float64')"
      ]
     },
     "execution_count": 20,
     "metadata": {},
     "output_type": "execute_result"
    }
   ],
   "source": [
    "# confirm float, as we have NaN and ints\n",
    "df_le['HALEatBirth'].dtype"
   ]
  },
  {
   "cell_type": "code",
   "execution_count": 21,
   "metadata": {
    "collapsed": false
   },
   "outputs": [
    {
     "data": {
      "text/plain": [
       "1    50\n",
       "2    49\n",
       "3    45\n",
       "4   NaN\n",
       "5    65\n",
       "Name: HALEatBirth, dtype: float64"
      ]
     },
     "execution_count": 21,
     "metadata": {},
     "output_type": "execute_result"
    }
   ],
   "source": [
    "# confirm NaN are maintained\n",
    "df_le['HALEatBirth'].head()"
   ]
  },
  {
   "cell_type": "code",
   "execution_count": null,
   "metadata": {
    "collapsed": false
   },
   "outputs": [],
   "source": [
    "# no longer necessary\n",
    "# keeping as a reference\n",
    "# df_le['HALEatBirth'] = df_le['HALEatBirth'].astype('float')"
   ]
  },
  {
   "cell_type": "code",
   "execution_count": 22,
   "metadata": {
    "collapsed": true
   },
   "outputs": [],
   "source": [
    "# repeat above process for LEatBirth and LEat60\n",
    "df_le['LEatBirth'] = df_le['LEatBirth'].apply(clean_le)\n",
    "df_le['LEat60'] = df_le['LEat60'].apply(clean_le)"
   ]
  },
  {
   "cell_type": "code",
   "execution_count": 24,
   "metadata": {
    "collapsed": false
   },
   "outputs": [
    {
     "data": {
      "text/plain": [
       "Country; Year                object\n",
       "LEatBirth                     int64\n",
       "LEatBirthFem                 object\n",
       "LEatBirthMale                object\n",
       "LEat60                        int64\n",
       "LEat60Female                 object\n",
       "LEat60Male                   object\n",
       "HALEatBirth                 float64\n",
       "HALEatBirthFemale            object\n",
       "HALEatBirthMale              object\n",
       "Country                      object\n",
       "Year                 datetime64[ns]\n",
       "dtype: object"
      ]
     },
     "execution_count": 24,
     "metadata": {},
     "output_type": "execute_result"
    }
   ],
   "source": [
    "#confirm type: int will work\n",
    "df_le.dtypes"
   ]
  },
  {
   "cell_type": "code",
   "execution_count": 28,
   "metadata": {
    "collapsed": false
   },
   "outputs": [
    {
     "data": {
      "text/html": [
       "<div>\n",
       "<table border=\"1\" class=\"dataframe\">\n",
       "  <thead>\n",
       "    <tr style=\"text-align: right;\">\n",
       "      <th></th>\n",
       "      <th>Country</th>\n",
       "      <th>HALEatBirth</th>\n",
       "      <th>LEat60</th>\n",
       "      <th>LEatBirth</th>\n",
       "      <th>Year</th>\n",
       "    </tr>\n",
       "  </thead>\n",
       "  <tbody>\n",
       "    <tr>\n",
       "      <th>1</th>\n",
       "      <td>Afghanistan</td>\n",
       "      <td>50</td>\n",
       "      <td>16</td>\n",
       "      <td>61</td>\n",
       "      <td>2013-01-01</td>\n",
       "    </tr>\n",
       "    <tr>\n",
       "      <th>2</th>\n",
       "      <td>Afghanistan</td>\n",
       "      <td>49</td>\n",
       "      <td>16</td>\n",
       "      <td>60</td>\n",
       "      <td>2012-01-01</td>\n",
       "    </tr>\n",
       "    <tr>\n",
       "      <th>3</th>\n",
       "      <td>Afghanistan</td>\n",
       "      <td>45</td>\n",
       "      <td>15</td>\n",
       "      <td>55</td>\n",
       "      <td>2000-01-01</td>\n",
       "    </tr>\n",
       "    <tr>\n",
       "      <th>4</th>\n",
       "      <td>Afghanistan</td>\n",
       "      <td>NaN</td>\n",
       "      <td>14</td>\n",
       "      <td>49</td>\n",
       "      <td>1990-01-01</td>\n",
       "    </tr>\n",
       "    <tr>\n",
       "      <th>5</th>\n",
       "      <td>Albania</td>\n",
       "      <td>65</td>\n",
       "      <td>19</td>\n",
       "      <td>74</td>\n",
       "      <td>2013-01-01</td>\n",
       "    </tr>\n",
       "  </tbody>\n",
       "</table>\n",
       "</div>"
      ],
      "text/plain": [
       "       Country  HALEatBirth  LEat60  LEatBirth       Year\n",
       "1  Afghanistan           50      16         61 2013-01-01\n",
       "2  Afghanistan           49      16         60 2012-01-01\n",
       "3  Afghanistan           45      15         55 2000-01-01\n",
       "4  Afghanistan          NaN      14         49 1990-01-01\n",
       "5      Albania           65      19         74 2013-01-01"
      ]
     },
     "execution_count": 28,
     "metadata": {},
     "output_type": "execute_result"
    }
   ],
   "source": [
    "# create a smaller df with fields of interest\n",
    "df_le_clean = pd.DataFrame({'Country': df_le.Country, 'Year': df_le.Year, \"LEatBirth\": df_le.LEatBirth, \n",
    "                            \"LEat60\": df_le.LEat60, \"HALEatBirth\": df_le.HALEatBirth})\n",
    "df_le_clean.head()"
   ]
  },
  {
   "cell_type": "code",
   "execution_count": 29,
   "metadata": {
    "collapsed": false
   },
   "outputs": [
    {
     "data": {
      "text/plain": [
       "Country                object\n",
       "HALEatBirth           float64\n",
       "LEat60                  int64\n",
       "LEatBirth               int64\n",
       "Year           datetime64[ns]\n",
       "dtype: object"
      ]
     },
     "execution_count": 29,
     "metadata": {},
     "output_type": "execute_result"
    }
   ],
   "source": [
    "# confirm datatypes are what we need\n",
    "df_le_clean.dtypes"
   ]
  },
  {
   "cell_type": "markdown",
   "metadata": {},
   "source": [
    "# Life Expectancy\n",
    "Initial Analysis"
   ]
  },
  {
   "cell_type": "code",
   "execution_count": 37,
   "metadata": {
    "collapsed": false
   },
   "outputs": [
    {
     "data": {
      "text/plain": [
       "<matplotlib.lines.Line2D at 0x91e5c18>"
      ]
     },
     "execution_count": 37,
     "metadata": {},
     "output_type": "execute_result"
    },
    {
     "data": {
      "image/png": "[encoded data removed]",
      "text/plain": [
       "<matplotlib.figure.Figure at 0x9105828>"
      ]
     },
     "metadata": {},
     "output_type": "display_data"
    }
   ],
   "source": [
    "#historgram of HALE\n",
    "df_le_clean.hist('HALEatBirth', bins = 20)\n",
    "pyplot.ylabel(\"Countries\")\n",
    "pyplot.xlabel(\"Life Expectancy\")\n",
    "pyplot.title(\"Distribution of Healthy Life Expectancy\")\n",
    "pyplot.axvline(df_le_clean['HALEatBirth'].mean(), color='g', linestyle='dashed', linewidth=2)\n"
   ]
  },
  {
   "cell_type": "code",
   "execution_count": 44,
   "metadata": {
    "collapsed": false
   },
   "outputs": [
    {
     "data": {
      "text/plain": [
       "194"
      ]
     },
     "execution_count": 44,
     "metadata": {},
     "output_type": "execute_result"
    }
   ],
   "source": [
    "# of countries\n",
    "len(df_le_clean.Country.unique())"
   ]
  },
  {
   "cell_type": "code",
   "execution_count": 45,
   "metadata": {
    "collapsed": false
   },
   "outputs": [],
   "source": [
    "le_by_country = df_le_clean.groupby('Country')"
   ]
  },
  {
   "cell_type": "code",
   "execution_count": 46,
   "metadata": {
    "collapsed": false
   },
   "outputs": [
    {
     "data": {
      "text/html": [
       "<div>\n",
       "<table border=\"1\" class=\"dataframe\">\n",
       "  <thead>\n",
       "    <tr style=\"text-align: right;\">\n",
       "      <th></th>\n",
       "      <th></th>\n",
       "      <th>HALEatBirth</th>\n",
       "      <th>LEat60</th>\n",
       "      <th>LEatBirth</th>\n",
       "    </tr>\n",
       "    <tr>\n",
       "      <th>Country</th>\n",
       "      <th></th>\n",
       "      <th></th>\n",
       "      <th></th>\n",
       "      <th></th>\n",
       "    </tr>\n",
       "  </thead>\n",
       "  <tbody>\n",
       "    <tr>\n",
       "      <th rowspan=\"8\" valign=\"top\">Afghanistan</th>\n",
       "      <th>count</th>\n",
       "      <td>3.000000</td>\n",
       "      <td>4.000000</td>\n",
       "      <td>4.000000</td>\n",
       "    </tr>\n",
       "    <tr>\n",
       "      <th>mean</th>\n",
       "      <td>48.000000</td>\n",
       "      <td>15.250000</td>\n",
       "      <td>56.250000</td>\n",
       "    </tr>\n",
       "    <tr>\n",
       "      <th>std</th>\n",
       "      <td>2.645751</td>\n",
       "      <td>0.957427</td>\n",
       "      <td>5.500000</td>\n",
       "    </tr>\n",
       "    <tr>\n",
       "      <th>min</th>\n",
       "      <td>45.000000</td>\n",
       "      <td>14.000000</td>\n",
       "      <td>49.000000</td>\n",
       "    </tr>\n",
       "    <tr>\n",
       "      <th>25%</th>\n",
       "      <td>47.000000</td>\n",
       "      <td>14.750000</td>\n",
       "      <td>53.500000</td>\n",
       "    </tr>\n",
       "    <tr>\n",
       "      <th>50%</th>\n",
       "      <td>49.000000</td>\n",
       "      <td>15.500000</td>\n",
       "      <td>57.500000</td>\n",
       "    </tr>\n",
       "    <tr>\n",
       "      <th>75%</th>\n",
       "      <td>49.500000</td>\n",
       "      <td>16.000000</td>\n",
       "      <td>60.250000</td>\n",
       "    </tr>\n",
       "    <tr>\n",
       "      <th>max</th>\n",
       "      <td>50.000000</td>\n",
       "      <td>16.000000</td>\n",
       "      <td>61.000000</td>\n",
       "    </tr>\n",
       "    <tr>\n",
       "      <th rowspan=\"8\" valign=\"top\">Albania</th>\n",
       "      <th>count</th>\n",
       "      <td>3.000000</td>\n",
       "      <td>4.000000</td>\n",
       "      <td>4.000000</td>\n",
       "    </tr>\n",
       "    <tr>\n",
       "      <th>mean</th>\n",
       "      <td>64.000000</td>\n",
       "      <td>17.750000</td>\n",
       "      <td>71.750000</td>\n",
       "    </tr>\n",
       "    <tr>\n",
       "      <th>std</th>\n",
       "      <td>1.732051</td>\n",
       "      <td>1.500000</td>\n",
       "      <td>2.629956</td>\n",
       "    </tr>\n",
       "    <tr>\n",
       "      <th>min</th>\n",
       "      <td>62.000000</td>\n",
       "      <td>16.000000</td>\n",
       "      <td>69.000000</td>\n",
       "    </tr>\n",
       "    <tr>\n",
       "      <th>25%</th>\n",
       "      <td>63.500000</td>\n",
       "      <td>16.750000</td>\n",
       "      <td>69.750000</td>\n",
       "    </tr>\n",
       "    <tr>\n",
       "      <th>50%</th>\n",
       "      <td>65.000000</td>\n",
       "      <td>18.000000</td>\n",
       "      <td>72.000000</td>\n",
       "    </tr>\n",
       "    <tr>\n",
       "      <th>75%</th>\n",
       "      <td>65.000000</td>\n",
       "      <td>19.000000</td>\n",
       "      <td>74.000000</td>\n",
       "    </tr>\n",
       "    <tr>\n",
       "      <th>max</th>\n",
       "      <td>65.000000</td>\n",
       "      <td>19.000000</td>\n",
       "      <td>74.000000</td>\n",
       "    </tr>\n",
       "    <tr>\n",
       "      <th rowspan=\"8\" valign=\"top\">Algeria</th>\n",
       "      <th>count</th>\n",
       "      <td>3.000000</td>\n",
       "      <td>4.000000</td>\n",
       "      <td>4.000000</td>\n",
       "    </tr>\n",
       "    <tr>\n",
       "      <th>mean</th>\n",
       "      <td>61.333333</td>\n",
       "      <td>17.750000</td>\n",
       "      <td>70.500000</td>\n",
       "    </tr>\n",
       "    <tr>\n",
       "      <th>std</th>\n",
       "      <td>1.154701</td>\n",
       "      <td>0.500000</td>\n",
       "      <td>1.914854</td>\n",
       "    </tr>\n",
       "    <tr>\n",
       "      <th>min</th>\n",
       "      <td>60.000000</td>\n",
       "      <td>17.000000</td>\n",
       "      <td>68.000000</td>\n",
       "    </tr>\n",
       "    <tr>\n",
       "      <th>25%</th>\n",
       "      <td>61.000000</td>\n",
       "      <td>17.750000</td>\n",
       "      <td>69.500000</td>\n",
       "    </tr>\n",
       "    <tr>\n",
       "      <th>50%</th>\n",
       "      <td>62.000000</td>\n",
       "      <td>18.000000</td>\n",
       "      <td>71.000000</td>\n",
       "    </tr>\n",
       "    <tr>\n",
       "      <th>75%</th>\n",
       "      <td>62.000000</td>\n",
       "      <td>18.000000</td>\n",
       "      <td>72.000000</td>\n",
       "    </tr>\n",
       "    <tr>\n",
       "      <th>max</th>\n",
       "      <td>62.000000</td>\n",
       "      <td>18.000000</td>\n",
       "      <td>72.000000</td>\n",
       "    </tr>\n",
       "    <tr>\n",
       "      <th rowspan=\"6\" valign=\"top\">Andorra</th>\n",
       "      <th>count</th>\n",
       "      <td>3.000000</td>\n",
       "      <td>4.000000</td>\n",
       "      <td>4.000000</td>\n",
       "    </tr>\n",
       "    <tr>\n",
       "      <th>mean</th>\n",
       "      <td>71.000000</td>\n",
       "      <td>23.750000</td>\n",
       "      <td>80.750000</td>\n",
       "    </tr>\n",
       "    <tr>\n",
       "      <th>std</th>\n",
       "      <td>1.732051</td>\n",
       "      <td>1.500000</td>\n",
       "      <td>2.872281</td>\n",
       "    </tr>\n",
       "    <tr>\n",
       "      <th>min</th>\n",
       "      <td>69.000000</td>\n",
       "      <td>22.000000</td>\n",
       "      <td>77.000000</td>\n",
       "    </tr>\n",
       "    <tr>\n",
       "      <th>25%</th>\n",
       "      <td>70.500000</td>\n",
       "      <td>22.750000</td>\n",
       "      <td>79.250000</td>\n",
       "    </tr>\n",
       "    <tr>\n",
       "      <th>50%</th>\n",
       "      <td>72.000000</td>\n",
       "      <td>24.000000</td>\n",
       "      <td>81.500000</td>\n",
       "    </tr>\n",
       "    <tr>\n",
       "      <th>...</th>\n",
       "      <th>...</th>\n",
       "      <td>...</td>\n",
       "      <td>...</td>\n",
       "      <td>...</td>\n",
       "    </tr>\n",
       "    <tr>\n",
       "      <th rowspan=\"6\" valign=\"top\">Viet Nam</th>\n",
       "      <th>std</th>\n",
       "      <td>1.732051</td>\n",
       "      <td>0.957427</td>\n",
       "      <td>2.872281</td>\n",
       "    </tr>\n",
       "    <tr>\n",
       "      <th>min</th>\n",
       "      <td>63.000000</td>\n",
       "      <td>20.000000</td>\n",
       "      <td>70.000000</td>\n",
       "    </tr>\n",
       "    <tr>\n",
       "      <th>25%</th>\n",
       "      <td>64.500000</td>\n",
       "      <td>20.750000</td>\n",
       "      <td>72.250000</td>\n",
       "    </tr>\n",
       "    <tr>\n",
       "      <th>50%</th>\n",
       "      <td>66.000000</td>\n",
       "      <td>21.500000</td>\n",
       "      <td>74.500000</td>\n",
       "    </tr>\n",
       "    <tr>\n",
       "      <th>75%</th>\n",
       "      <td>66.000000</td>\n",
       "      <td>22.000000</td>\n",
       "      <td>76.000000</td>\n",
       "    </tr>\n",
       "    <tr>\n",
       "      <th>max</th>\n",
       "      <td>66.000000</td>\n",
       "      <td>22.000000</td>\n",
       "      <td>76.000000</td>\n",
       "    </tr>\n",
       "    <tr>\n",
       "      <th rowspan=\"8\" valign=\"top\">Yemen</th>\n",
       "      <th>count</th>\n",
       "      <td>3.000000</td>\n",
       "      <td>4.000000</td>\n",
       "      <td>4.000000</td>\n",
       "    </tr>\n",
       "    <tr>\n",
       "      <th>mean</th>\n",
       "      <td>53.333333</td>\n",
       "      <td>16.000000</td>\n",
       "      <td>61.750000</td>\n",
       "    </tr>\n",
       "    <tr>\n",
       "      <th>std</th>\n",
       "      <td>2.081666</td>\n",
       "      <td>0.000000</td>\n",
       "      <td>2.872281</td>\n",
       "    </tr>\n",
       "    <tr>\n",
       "      <th>min</th>\n",
       "      <td>51.000000</td>\n",
       "      <td>16.000000</td>\n",
       "      <td>58.000000</td>\n",
       "    </tr>\n",
       "    <tr>\n",
       "      <th>25%</th>\n",
       "      <td>52.500000</td>\n",
       "      <td>16.000000</td>\n",
       "      <td>60.250000</td>\n",
       "    </tr>\n",
       "    <tr>\n",
       "      <th>50%</th>\n",
       "      <td>54.000000</td>\n",
       "      <td>16.000000</td>\n",
       "      <td>62.500000</td>\n",
       "    </tr>\n",
       "    <tr>\n",
       "      <th>75%</th>\n",
       "      <td>54.500000</td>\n",
       "      <td>16.000000</td>\n",
       "      <td>64.000000</td>\n",
       "    </tr>\n",
       "    <tr>\n",
       "      <th>max</th>\n",
       "      <td>55.000000</td>\n",
       "      <td>16.000000</td>\n",
       "      <td>64.000000</td>\n",
       "    </tr>\n",
       "    <tr>\n",
       "      <th rowspan=\"8\" valign=\"top\">Zambia</th>\n",
       "      <th>count</th>\n",
       "      <td>3.000000</td>\n",
       "      <td>4.000000</td>\n",
       "      <td>4.000000</td>\n",
       "    </tr>\n",
       "    <tr>\n",
       "      <th>mean</th>\n",
       "      <td>45.000000</td>\n",
       "      <td>16.000000</td>\n",
       "      <td>49.750000</td>\n",
       "    </tr>\n",
       "    <tr>\n",
       "      <th>std</th>\n",
       "      <td>7.810250</td>\n",
       "      <td>1.154701</td>\n",
       "      <td>8.995369</td>\n",
       "    </tr>\n",
       "    <tr>\n",
       "      <th>min</th>\n",
       "      <td>36.000000</td>\n",
       "      <td>15.000000</td>\n",
       "      <td>41.000000</td>\n",
       "    </tr>\n",
       "    <tr>\n",
       "      <th>25%</th>\n",
       "      <td>42.500000</td>\n",
       "      <td>15.000000</td>\n",
       "      <td>42.500000</td>\n",
       "    </tr>\n",
       "    <tr>\n",
       "      <th>50%</th>\n",
       "      <td>49.000000</td>\n",
       "      <td>16.000000</td>\n",
       "      <td>50.000000</td>\n",
       "    </tr>\n",
       "    <tr>\n",
       "      <th>75%</th>\n",
       "      <td>49.500000</td>\n",
       "      <td>17.000000</td>\n",
       "      <td>57.250000</td>\n",
       "    </tr>\n",
       "    <tr>\n",
       "      <th>max</th>\n",
       "      <td>50.000000</td>\n",
       "      <td>17.000000</td>\n",
       "      <td>58.000000</td>\n",
       "    </tr>\n",
       "    <tr>\n",
       "      <th rowspan=\"8\" valign=\"top\">Zimbabwe</th>\n",
       "      <th>count</th>\n",
       "      <td>3.000000</td>\n",
       "      <td>4.000000</td>\n",
       "      <td>4.000000</td>\n",
       "    </tr>\n",
       "    <tr>\n",
       "      <th>mean</th>\n",
       "      <td>45.333333</td>\n",
       "      <td>17.500000</td>\n",
       "      <td>55.250000</td>\n",
       "    </tr>\n",
       "    <tr>\n",
       "      <th>std</th>\n",
       "      <td>7.234178</td>\n",
       "      <td>1.000000</td>\n",
       "      <td>8.995369</td>\n",
       "    </tr>\n",
       "    <tr>\n",
       "      <th>min</th>\n",
       "      <td>37.000000</td>\n",
       "      <td>16.000000</td>\n",
       "      <td>42.000000</td>\n",
       "    </tr>\n",
       "    <tr>\n",
       "      <th>25%</th>\n",
       "      <td>43.000000</td>\n",
       "      <td>17.500000</td>\n",
       "      <td>54.000000</td>\n",
       "    </tr>\n",
       "    <tr>\n",
       "      <th>50%</th>\n",
       "      <td>49.000000</td>\n",
       "      <td>18.000000</td>\n",
       "      <td>58.500000</td>\n",
       "    </tr>\n",
       "    <tr>\n",
       "      <th>75%</th>\n",
       "      <td>49.500000</td>\n",
       "      <td>18.000000</td>\n",
       "      <td>59.750000</td>\n",
       "    </tr>\n",
       "    <tr>\n",
       "      <th>max</th>\n",
       "      <td>50.000000</td>\n",
       "      <td>18.000000</td>\n",
       "      <td>62.000000</td>\n",
       "    </tr>\n",
       "  </tbody>\n",
       "</table>\n",
       "<p>1552 rows × 3 columns</p>\n",
       "</div>"
      ],
      "text/plain": [
       "                   HALEatBirth     LEat60  LEatBirth\n",
       "Country                                             \n",
       "Afghanistan count     3.000000   4.000000   4.000000\n",
       "            mean     48.000000  15.250000  56.250000\n",
       "            std       2.645751   0.957427   5.500000\n",
       "            min      45.000000  14.000000  49.000000\n",
       "            25%      47.000000  14.750000  53.500000\n",
       "            50%      49.000000  15.500000  57.500000\n",
       "            75%      49.500000  16.000000  60.250000\n",
       "            max      50.000000  16.000000  61.000000\n",
       "Albania     count     3.000000   4.000000   4.000000\n",
       "            mean     64.000000  17.750000  71.750000\n",
       "            std       1.732051   1.500000   2.629956\n",
       "            min      62.000000  16.000000  69.000000\n",
       "            25%      63.500000  16.750000  69.750000\n",
       "            50%      65.000000  18.000000  72.000000\n",
       "            75%      65.000000  19.000000  74.000000\n",
       "            max      65.000000  19.000000  74.000000\n",
       "Algeria     count     3.000000   4.000000   4.000000\n",
       "            mean     61.333333  17.750000  70.500000\n",
       "            std       1.154701   0.500000   1.914854\n",
       "            min      60.000000  17.000000  68.000000\n",
       "            25%      61.000000  17.750000  69.500000\n",
       "            50%      62.000000  18.000000  71.000000\n",
       "            75%      62.000000  18.000000  72.000000\n",
       "            max      62.000000  18.000000  72.000000\n",
       "Andorra     count     3.000000   4.000000   4.000000\n",
       "            mean     71.000000  23.750000  80.750000\n",
       "            std       1.732051   1.500000   2.872281\n",
       "            min      69.000000  22.000000  77.000000\n",
       "            25%      70.500000  22.750000  79.250000\n",
       "            50%      72.000000  24.000000  81.500000\n",
       "...                        ...        ...        ...\n",
       "Viet Nam    std       1.732051   0.957427   2.872281\n",
       "            min      63.000000  20.000000  70.000000\n",
       "            25%      64.500000  20.750000  72.250000\n",
       "            50%      66.000000  21.500000  74.500000\n",
       "            75%      66.000000  22.000000  76.000000\n",
       "            max      66.000000  22.000000  76.000000\n",
       "Yemen       count     3.000000   4.000000   4.000000\n",
       "            mean     53.333333  16.000000  61.750000\n",
       "            std       2.081666   0.000000   2.872281\n",
       "            min      51.000000  16.000000  58.000000\n",
       "            25%      52.500000  16.000000  60.250000\n",
       "            50%      54.000000  16.000000  62.500000\n",
       "            75%      54.500000  16.000000  64.000000\n",
       "            max      55.000000  16.000000  64.000000\n",
       "Zambia      count     3.000000   4.000000   4.000000\n",
       "            mean     45.000000  16.000000  49.750000\n",
       "            std       7.810250   1.154701   8.995369\n",
       "            min      36.000000  15.000000  41.000000\n",
       "            25%      42.500000  15.000000  42.500000\n",
       "            50%      49.000000  16.000000  50.000000\n",
       "            75%      49.500000  17.000000  57.250000\n",
       "            max      50.000000  17.000000  58.000000\n",
       "Zimbabwe    count     3.000000   4.000000   4.000000\n",
       "            mean     45.333333  17.500000  55.250000\n",
       "            std       7.234178   1.000000   8.995369\n",
       "            min      37.000000  16.000000  42.000000\n",
       "            25%      43.000000  17.500000  54.000000\n",
       "            50%      49.000000  18.000000  58.500000\n",
       "            75%      49.500000  18.000000  59.750000\n",
       "            max      50.000000  18.000000  62.000000\n",
       "\n",
       "[1552 rows x 3 columns]"
      ]
     },
     "execution_count": 46,
     "metadata": {},
     "output_type": "execute_result"
    }
   ],
   "source": [
    "le_by_country.describe()"
   ]
  },
  {
   "cell_type": "code",
   "execution_count": 51,
   "metadata": {
    "collapsed": false
   },
   "outputs": [
    {
     "data": {
      "text/plain": [
       "<matplotlib.text.Text at 0xa309828>"
      ]
     },
     "execution_count": 51,
     "metadata": {},
     "output_type": "execute_result"
    },
    {
     "data": {
      "image/png": "[encoded data removed]",
      "text/plain": [
       "<matplotlib.figure.Figure at 0xa270358>"
      ]
     },
     "metadata": {},
     "output_type": "display_data"
    }
   ],
   "source": [
    "# countries with the lowest life expectancy\n",
    "le_by_country['LEatBirth'].mean()[le_by_country['LEatBirth'].mean()<50].plot(kind='barh')\n",
    "pyplot.xlabel(\"Life Expectancy\")\n",
    "pyplot.title(\"Countries with Shortest Life Expectancy\")"
   ]
  },
  {
   "cell_type": "code",
   "execution_count": 50,
   "metadata": {
    "collapsed": false
   },
   "outputs": [
    {
     "data": {
      "text/plain": [
       "<matplotlib.text.Text at 0xa27aa90>"
      ]
     },
     "execution_count": 50,
     "metadata": {},
     "output_type": "execute_result"
    },
    {
     "data": {
      "image/png": "[encoded data removed]",
      "text/plain": [
       "<matplotlib.figure.Figure at 0xa2269b0>"
      ]
     },
     "metadata": {},
     "output_type": "display_data"
    }
   ],
   "source": [
    "# countries with the highest life expectancy\n",
    "le_by_country['LEatBirth'].mean()[le_by_country['LEatBirth'].mean()>80].plot(kind='barh')\n",
    "pyplot.xlabel(\"Life Expectancy\")\n",
    "pyplot.title(\"Countries with Longest Life Expectancy\")"
   ]
  },
  {
   "cell_type": "code",
   "execution_count": 70,
   "metadata": {
    "collapsed": false
   },
   "outputs": [
    {
     "data": {
      "text/html": [
       "<div>\n",
       "<table border=\"1\" class=\"dataframe\">\n",
       "  <thead>\n",
       "    <tr style=\"text-align: right;\">\n",
       "      <th></th>\n",
       "      <th>Country</th>\n",
       "      <th>HALEatBirth</th>\n",
       "      <th>LEat60</th>\n",
       "      <th>LEatBirth</th>\n",
       "      <th>Year</th>\n",
       "    </tr>\n",
       "  </thead>\n",
       "  <tbody>\n",
       "    <tr>\n",
       "      <th>613</th>\n",
       "      <td>Sierra Leone</td>\n",
       "      <td>39</td>\n",
       "      <td>13</td>\n",
       "      <td>46</td>\n",
       "      <td>2013-01-01</td>\n",
       "    </tr>\n",
       "    <tr>\n",
       "      <th>614</th>\n",
       "      <td>Sierra Leone</td>\n",
       "      <td>39</td>\n",
       "      <td>13</td>\n",
       "      <td>46</td>\n",
       "      <td>2012-01-01</td>\n",
       "    </tr>\n",
       "    <tr>\n",
       "      <th>615</th>\n",
       "      <td>Sierra Leone</td>\n",
       "      <td>33</td>\n",
       "      <td>11</td>\n",
       "      <td>39</td>\n",
       "      <td>2000-01-01</td>\n",
       "    </tr>\n",
       "    <tr>\n",
       "      <th>616</th>\n",
       "      <td>Sierra Leone</td>\n",
       "      <td>NaN</td>\n",
       "      <td>11</td>\n",
       "      <td>38</td>\n",
       "      <td>1990-01-01</td>\n",
       "    </tr>\n",
       "  </tbody>\n",
       "</table>\n",
       "</div>"
      ],
      "text/plain": [
       "          Country  HALEatBirth  LEat60  LEatBirth       Year\n",
       "613  Sierra Leone           39      13         46 2013-01-01\n",
       "614  Sierra Leone           39      13         46 2012-01-01\n",
       "615  Sierra Leone           33      11         39 2000-01-01\n",
       "616  Sierra Leone          NaN      11         38 1990-01-01"
      ]
     },
     "execution_count": 70,
     "metadata": {},
     "output_type": "execute_result"
    }
   ],
   "source": [
    "# used to test difference calculation below\n",
    "df_le_clean[df_le_clean.Country == 'Sierra Leone']"
   ]
  },
  {
   "cell_type": "code",
   "execution_count": 81,
   "metadata": {
    "collapsed": false
   },
   "outputs": [
    {
     "data": {
      "text/plain": [
       "Country\n",
       "Sierra Leone                        29.5\n",
       "Angola                              27.0\n",
       "Zambia                              26.0\n",
       "Central African Republic            26.0\n",
       "Chad                                26.0\n",
       "Lesotho                             26.0\n",
       "Mozambique                          25.5\n",
       "Nigeria                             25.0\n",
       "Democratic Republic of the Congo    24.5\n",
       "Somalia                             24.0\n",
       "dtype: float64"
      ]
     },
     "execution_count": 81,
     "metadata": {},
     "output_type": "execute_result"
    }
   ],
   "source": [
    "# look at countries with largest difference b/t LEatBirth and LEat60 (using median values across years of data)\n",
    "le_variance = abs(le_by_country['LEatBirth'].median() - (le_by_country['LEat60'].median() + 60)).sort_values(ascending=False)\n",
    "le_variance.head(10)"
   ]
  },
  {
   "cell_type": "code",
   "execution_count": 84,
   "metadata": {
    "collapsed": false
   },
   "outputs": [],
   "source": [
    "# alt approach in order to graph LEatBirth, LEat60, and Difference on 1 plot\n",
    "df_le_clean['LEDifference'] = abs(df_le_clean['LEatBirth'] - (df_le_clean['LEat60'] + 60))\n",
    "le_by_country = df_le_clean.groupby('Country')"
   ]
  },
  {
   "cell_type": "code",
   "execution_count": 99,
   "metadata": {
    "collapsed": false
   },
   "outputs": [
    {
     "data": {
      "text/html": [
       "<div>\n",
       "<table border=\"1\" class=\"dataframe\">\n",
       "  <thead>\n",
       "    <tr style=\"text-align: right;\">\n",
       "      <th></th>\n",
       "      <th>Country</th>\n",
       "      <th>HALEatBirth</th>\n",
       "      <th>LEat60</th>\n",
       "      <th>LEatBirth</th>\n",
       "      <th>Year</th>\n",
       "      <th>LEDifference</th>\n",
       "    </tr>\n",
       "  </thead>\n",
       "  <tbody>\n",
       "    <tr>\n",
       "      <th>20</th>\n",
       "      <td>Angola</td>\n",
       "      <td>NaN</td>\n",
       "      <td>14</td>\n",
       "      <td>43</td>\n",
       "      <td>1990-01-01</td>\n",
       "      <td>31</td>\n",
       "    </tr>\n",
       "    <tr>\n",
       "      <th>388</th>\n",
       "      <td>Liberia</td>\n",
       "      <td>NaN</td>\n",
       "      <td>14</td>\n",
       "      <td>42</td>\n",
       "      <td>1990-01-01</td>\n",
       "      <td>32</td>\n",
       "    </tr>\n",
       "    <tr>\n",
       "      <th>407</th>\n",
       "      <td>Malawi</td>\n",
       "      <td>38</td>\n",
       "      <td>15</td>\n",
       "      <td>44</td>\n",
       "      <td>2000-01-01</td>\n",
       "      <td>31</td>\n",
       "    </tr>\n",
       "    <tr>\n",
       "      <th>464</th>\n",
       "      <td>Mozambique</td>\n",
       "      <td>NaN</td>\n",
       "      <td>14</td>\n",
       "      <td>43</td>\n",
       "      <td>1990-01-01</td>\n",
       "      <td>31</td>\n",
       "    </tr>\n",
       "    <tr>\n",
       "      <th>496</th>\n",
       "      <td>Niger</td>\n",
       "      <td>NaN</td>\n",
       "      <td>15</td>\n",
       "      <td>43</td>\n",
       "      <td>1990-01-01</td>\n",
       "      <td>32</td>\n",
       "    </tr>\n",
       "    <tr>\n",
       "      <th>615</th>\n",
       "      <td>Sierra Leone</td>\n",
       "      <td>33</td>\n",
       "      <td>11</td>\n",
       "      <td>39</td>\n",
       "      <td>2000-01-01</td>\n",
       "      <td>32</td>\n",
       "    </tr>\n",
       "    <tr>\n",
       "      <th>616</th>\n",
       "      <td>Sierra Leone</td>\n",
       "      <td>NaN</td>\n",
       "      <td>11</td>\n",
       "      <td>38</td>\n",
       "      <td>1990-01-01</td>\n",
       "      <td>33</td>\n",
       "    </tr>\n",
       "    <tr>\n",
       "      <th>644</th>\n",
       "      <td>South Sudan</td>\n",
       "      <td>NaN</td>\n",
       "      <td>14</td>\n",
       "      <td>42</td>\n",
       "      <td>1990-01-01</td>\n",
       "      <td>32</td>\n",
       "    </tr>\n",
       "    <tr>\n",
       "      <th>771</th>\n",
       "      <td>Zambia</td>\n",
       "      <td>36</td>\n",
       "      <td>15</td>\n",
       "      <td>41</td>\n",
       "      <td>2000-01-01</td>\n",
       "      <td>34</td>\n",
       "    </tr>\n",
       "    <tr>\n",
       "      <th>772</th>\n",
       "      <td>Zambia</td>\n",
       "      <td>NaN</td>\n",
       "      <td>15</td>\n",
       "      <td>43</td>\n",
       "      <td>1990-01-01</td>\n",
       "      <td>32</td>\n",
       "    </tr>\n",
       "    <tr>\n",
       "      <th>775</th>\n",
       "      <td>Zimbabwe</td>\n",
       "      <td>37</td>\n",
       "      <td>16</td>\n",
       "      <td>42</td>\n",
       "      <td>2000-01-01</td>\n",
       "      <td>34</td>\n",
       "    </tr>\n",
       "  </tbody>\n",
       "</table>\n",
       "</div>"
      ],
      "text/plain": [
       "          Country  HALEatBirth  LEat60  LEatBirth       Year  LEDifference\n",
       "20         Angola          NaN      14         43 1990-01-01            31\n",
       "388       Liberia          NaN      14         42 1990-01-01            32\n",
       "407        Malawi           38      15         44 2000-01-01            31\n",
       "464    Mozambique          NaN      14         43 1990-01-01            31\n",
       "496         Niger          NaN      15         43 1990-01-01            32\n",
       "615  Sierra Leone           33      11         39 2000-01-01            32\n",
       "616  Sierra Leone          NaN      11         38 1990-01-01            33\n",
       "644   South Sudan          NaN      14         42 1990-01-01            32\n",
       "771        Zambia           36      15         41 2000-01-01            34\n",
       "772        Zambia          NaN      15         43 1990-01-01            32\n",
       "775      Zimbabwe           37      16         42 2000-01-01            34"
      ]
     },
     "execution_count": 99,
     "metadata": {},
     "output_type": "execute_result"
    }
   ],
   "source": [
    "le_variance = df_le_clean[df_le_clean.LEDifference > 30]\n",
    "le_variance"
   ]
  },
  {
   "cell_type": "markdown",
   "metadata": {},
   "source": [
    "Need to expand LE analysis here..."
   ]
  },
  {
   "cell_type": "markdown",
   "metadata": {},
   "source": [
    "# Commitments & Dispursements\n",
    "Data Cleansing"
   ]
  },
  {
   "cell_type": "code",
   "execution_count": 106,
   "metadata": {
    "collapsed": false
   },
   "outputs": [],
   "source": [
    "# import raw data, and again rename columns to make them easier to use\n",
    "df_c = pd.read_csv(\"research/Commitments_n_DisbursementsofAidbyCountry.csv\", names = (\"Country; Year\", \"Commitments\", \"Disbursements\"))[1:]"
   ]
  },
  {
   "cell_type": "code",
   "execution_count": 107,
   "metadata": {
    "collapsed": false
   },
   "outputs": [
    {
     "data": {
      "text/html": [
       "<div>\n",
       "<table border=\"1\" class=\"dataframe\">\n",
       "  <thead>\n",
       "    <tr style=\"text-align: right;\">\n",
       "      <th></th>\n",
       "      <th>Country; Year</th>\n",
       "      <th>Commitments</th>\n",
       "      <th>Disbursements</th>\n",
       "    </tr>\n",
       "  </thead>\n",
       "  <tbody>\n",
       "    <tr>\n",
       "      <th>1</th>\n",
       "      <td>Afghanistan; 2010</td>\n",
       "      <td>386.92</td>\n",
       "      <td>300.09</td>\n",
       "    </tr>\n",
       "    <tr>\n",
       "      <th>2</th>\n",
       "      <td>Afghanistan; 2009</td>\n",
       "      <td>254.04</td>\n",
       "      <td>345.59</td>\n",
       "    </tr>\n",
       "    <tr>\n",
       "      <th>3</th>\n",
       "      <td>Afghanistan; 2008</td>\n",
       "      <td>459.8</td>\n",
       "      <td>254.46</td>\n",
       "    </tr>\n",
       "    <tr>\n",
       "      <th>4</th>\n",
       "      <td>Afghanistan; 2007</td>\n",
       "      <td>217.22</td>\n",
       "      <td>254.4</td>\n",
       "    </tr>\n",
       "    <tr>\n",
       "      <th>5</th>\n",
       "      <td>Afghanistan; 2006</td>\n",
       "      <td>334.53</td>\n",
       "      <td>186.74</td>\n",
       "    </tr>\n",
       "  </tbody>\n",
       "</table>\n",
       "</div>"
      ],
      "text/plain": [
       "       Country; Year Commitments Disbursements\n",
       "1  Afghanistan; 2010      386.92        300.09\n",
       "2  Afghanistan; 2009      254.04        345.59\n",
       "3  Afghanistan; 2008       459.8        254.46\n",
       "4  Afghanistan; 2007      217.22         254.4\n",
       "5  Afghanistan; 2006      334.53        186.74"
      ]
     },
     "execution_count": 107,
     "metadata": {},
     "output_type": "execute_result"
    }
   ],
   "source": [
    "df_c.head()"
   ]
  },
  {
   "cell_type": "code",
   "execution_count": 108,
   "metadata": {
    "collapsed": false
   },
   "outputs": [
    {
     "data": {
      "text/plain": [
       "Country; Year    1295\n",
       "Commitments      1295\n",
       "Disbursements    1295\n",
       "dtype: int64"
      ]
     },
     "execution_count": 108,
     "metadata": {},
     "output_type": "execute_result"
    }
   ],
   "source": [
    "df_c.count()"
   ]
  },
  {
   "cell_type": "code",
   "execution_count": 109,
   "metadata": {
    "collapsed": false
   },
   "outputs": [
    {
     "data": {
      "text/plain": [
       "Index(['Country; Year', 'Commitments', 'Disbursements'], dtype='object')"
      ]
     },
     "execution_count": 109,
     "metadata": {},
     "output_type": "execute_result"
    }
   ],
   "source": [
    "df_c.columns\n"
   ]
  },
  {
   "cell_type": "code",
   "execution_count": 110,
   "metadata": {
    "collapsed": false
   },
   "outputs": [],
   "source": [
    "# separate country and year into their own columns\n",
    "df_c['Country'], df_c['Year'] = zip(*df_c['Country; Year'].apply(lambda x: x.split('; ', 1)))"
   ]
  },
  {
   "cell_type": "code",
   "execution_count": 111,
   "metadata": {
    "collapsed": false
   },
   "outputs": [
    {
     "data": {
      "text/plain": [
       "array(['Afghanistan', 'Albania', 'Algeria', 'Angola', 'Argentina',\n",
       "       'Armenia', 'Azerbaijan', 'Bangladesh', 'Belarus', 'Benin', 'Bhutan',\n",
       "       'Bolivia (Plurinational State of)', 'Bosnia and Herzegovina',\n",
       "       'Botswana', 'Brazil', 'Burkina Faso', 'Burundi', \"Cote d'Ivoire\",\n",
       "       'Cambodia', 'Cameroon', 'Central African Republic', 'Chad', 'Chile',\n",
       "       'China', 'Colombia', 'Comoros', 'Congo', 'Costa Rica', 'Croatia',\n",
       "       'Cuba', \"Democratic People's Republic of Korea\",\n",
       "       'Democratic Republic of the Congo', 'Djibouti',\n",
       "       'Dominican Republic', 'Ecuador', 'Egypt', 'El Salvador',\n",
       "       'Equatorial Guinea', 'Eritrea', 'Ethiopia', 'Fiji', 'Gabon',\n",
       "       'Gambia', 'Georgia', 'Ghana', 'Guatemala', 'Guinea',\n",
       "       'Guinea-Bissau', 'Guyana', 'Haiti', 'Honduras', 'India',\n",
       "       'Indonesia', 'Iran (Islamic Republic of)', 'Iraq', 'Jamaica',\n",
       "       'Jordan', 'Kazakhstan', 'Kenya', 'Kyrgyzstan',\n",
       "       \"Lao People's Democratic Republic\", 'Lebanon', 'Lesotho', 'Liberia',\n",
       "       'Madagascar', 'Malawi', 'Malaysia', 'Mali', 'Mauritania',\n",
       "       'Mauritius', 'Mexico', 'Mongolia', 'Montenegro', 'Morocco',\n",
       "       'Mozambique', 'Myanmar', 'Namibia', 'Nepal', 'Nicaragua', 'Niger',\n",
       "       'Nigeria', 'Pakistan', 'Panama', 'Papua New Guinea', 'Paraguay',\n",
       "       'Peru', 'Philippines', 'Republic of Moldova', 'Rwanda', 'Senegal',\n",
       "       'Serbia', 'Sierra Leone', 'Solomon Islands', 'Somalia',\n",
       "       'South Africa', 'Sri Lanka', 'Sudan', 'Suriname', 'Swaziland',\n",
       "       'Syrian Arab Republic', 'Tajikistan', 'Thailand',\n",
       "       'The former Yugoslav republic of Macedonia', 'Timor-Leste', 'Togo',\n",
       "       'Trinidad and Tobago', 'Tunisia', 'Turkey', 'Turkmenistan',\n",
       "       'Uganda', 'Ukraine', 'United Republic of Tanzania', 'Uruguay',\n",
       "       'Uzbekistan', 'Venezuela (Bolivarian Republic of)', 'Viet Nam',\n",
       "       'Yemen', 'Zambia', 'Zimbabwe'], dtype=object)"
      ]
     },
     "execution_count": 111,
     "metadata": {},
     "output_type": "execute_result"
    }
   ],
   "source": [
    "df_c.Country.unique()"
   ]
  },
  {
   "cell_type": "code",
   "execution_count": 112,
   "metadata": {
    "collapsed": false
   },
   "outputs": [
    {
     "data": {
      "text/plain": [
       "119"
      ]
     },
     "execution_count": 112,
     "metadata": {},
     "output_type": "execute_result"
    }
   ],
   "source": [
    "len(df_c.Country.unique())"
   ]
  },
  {
   "cell_type": "code",
   "execution_count": 113,
   "metadata": {
    "collapsed": false
   },
   "outputs": [
    {
     "data": {
      "text/plain": [
       "Country; Year    object\n",
       "Commitments      object\n",
       "Disbursements    object\n",
       "Country          object\n",
       "Year             object\n",
       "dtype: object"
      ]
     },
     "execution_count": 113,
     "metadata": {},
     "output_type": "execute_result"
    }
   ],
   "source": [
    "df_c.dtypes"
   ]
  },
  {
   "cell_type": "code",
   "execution_count": 114,
   "metadata": {
    "collapsed": false
   },
   "outputs": [
    {
     "data": {
      "text/plain": [
       "2008    119\n",
       "2007    119\n",
       "2005    119\n",
       "2010    119\n",
       "2009    119\n",
       "2006    119\n",
       "2004    117\n",
       "2000    116\n",
       "2002    116\n",
       "2001    116\n",
       "2003    116\n",
       "Name: Year, dtype: int64"
      ]
     },
     "execution_count": 114,
     "metadata": {},
     "output_type": "execute_result"
    }
   ],
   "source": [
    "df_c.Year.value_counts()"
   ]
  },
  {
   "cell_type": "code",
   "execution_count": 115,
   "metadata": {
    "collapsed": true
   },
   "outputs": [],
   "source": [
    "#convert year into date format\n",
    "df_c['Year'] = pd.to_datetime(df_c['Year'], format='%Y')"
   ]
  },
  {
   "cell_type": "code",
   "execution_count": 116,
   "metadata": {
    "collapsed": false
   },
   "outputs": [
    {
     "data": {
      "text/plain": [
       "Country; Year            object\n",
       "Commitments              object\n",
       "Disbursements            object\n",
       "Country                  object\n",
       "Year             datetime64[ns]\n",
       "dtype: object"
      ]
     },
     "execution_count": 116,
     "metadata": {},
     "output_type": "execute_result"
    }
   ],
   "source": [
    "df_c.dtypes"
   ]
  },
  {
   "cell_type": "code",
   "execution_count": 121,
   "metadata": {
    "collapsed": true
   },
   "outputs": [],
   "source": [
    "#similar to LE, need to clean up Commitments & Dispursements to change to number fields\n",
    "# cannot change directly to float, so need to clean using function written\n",
    "# repeat above process for LEatBirth and LEat60\n",
    "df_c['Commitments'] = df_c['Commitments'].apply(clean_float)\n",
    "df_c['Disbursements'] = df_c['Disbursements'].apply(clean_float)"
   ]
  },
  {
   "cell_type": "code",
   "execution_count": 123,
   "metadata": {
    "collapsed": false
   },
   "outputs": [
    {
     "data": {
      "text/plain": [
       "Country; Year            object\n",
       "Commitments             float64\n",
       "Disbursements           float64\n",
       "Country                  object\n",
       "Year             datetime64[ns]\n",
       "dtype: object"
      ]
     },
     "execution_count": 123,
     "metadata": {},
     "output_type": "execute_result"
    }
   ],
   "source": [
    "df_c.dtypes"
   ]
  },
  {
   "cell_type": "code",
   "execution_count": 124,
   "metadata": {
    "collapsed": true
   },
   "outputs": [],
   "source": [
    "commitments_by_country = df_c.groupby('Country')"
   ]
  },
  {
   "cell_type": "code",
   "execution_count": 125,
   "metadata": {
    "collapsed": false
   },
   "outputs": [
    {
     "data": {
      "text/html": [
       "<div>\n",
       "<table border=\"1\" class=\"dataframe\">\n",
       "  <thead>\n",
       "    <tr style=\"text-align: right;\">\n",
       "      <th></th>\n",
       "      <th></th>\n",
       "      <th>Commitments</th>\n",
       "      <th>Disbursements</th>\n",
       "    </tr>\n",
       "    <tr>\n",
       "      <th>Country</th>\n",
       "      <th></th>\n",
       "      <th></th>\n",
       "      <th></th>\n",
       "    </tr>\n",
       "  </thead>\n",
       "  <tbody>\n",
       "    <tr>\n",
       "      <th rowspan=\"8\" valign=\"top\">Afghanistan</th>\n",
       "      <th>count</th>\n",
       "      <td>11.000000</td>\n",
       "      <td>11.000000</td>\n",
       "    </tr>\n",
       "    <tr>\n",
       "      <th>mean</th>\n",
       "      <td>202.500909</td>\n",
       "      <td>154.827273</td>\n",
       "    </tr>\n",
       "    <tr>\n",
       "      <th>std</th>\n",
       "      <td>148.448272</td>\n",
       "      <td>122.432684</td>\n",
       "    </tr>\n",
       "    <tr>\n",
       "      <th>min</th>\n",
       "      <td>7.910000</td>\n",
       "      <td>6.000000</td>\n",
       "    </tr>\n",
       "    <tr>\n",
       "      <th>25%</th>\n",
       "      <td>89.970000</td>\n",
       "      <td>42.355000</td>\n",
       "    </tr>\n",
       "    <tr>\n",
       "      <th>50%</th>\n",
       "      <td>178.730000</td>\n",
       "      <td>160.790000</td>\n",
       "    </tr>\n",
       "    <tr>\n",
       "      <th>75%</th>\n",
       "      <td>294.285000</td>\n",
       "      <td>254.430000</td>\n",
       "    </tr>\n",
       "    <tr>\n",
       "      <th>max</th>\n",
       "      <td>459.800000</td>\n",
       "      <td>345.590000</td>\n",
       "    </tr>\n",
       "    <tr>\n",
       "      <th rowspan=\"8\" valign=\"top\">Albania</th>\n",
       "      <th>count</th>\n",
       "      <td>11.000000</td>\n",
       "      <td>11.000000</td>\n",
       "    </tr>\n",
       "    <tr>\n",
       "      <th>mean</th>\n",
       "      <td>23.777273</td>\n",
       "      <td>20.459091</td>\n",
       "    </tr>\n",
       "    <tr>\n",
       "      <th>std</th>\n",
       "      <td>13.460340</td>\n",
       "      <td>5.757750</td>\n",
       "    </tr>\n",
       "    <tr>\n",
       "      <th>min</th>\n",
       "      <td>8.790000</td>\n",
       "      <td>12.690000</td>\n",
       "    </tr>\n",
       "    <tr>\n",
       "      <th>25%</th>\n",
       "      <td>16.410000</td>\n",
       "      <td>15.650000</td>\n",
       "    </tr>\n",
       "    <tr>\n",
       "      <th>50%</th>\n",
       "      <td>18.310000</td>\n",
       "      <td>22.780000</td>\n",
       "    </tr>\n",
       "    <tr>\n",
       "      <th>75%</th>\n",
       "      <td>28.355000</td>\n",
       "      <td>23.590000</td>\n",
       "    </tr>\n",
       "    <tr>\n",
       "      <th>max</th>\n",
       "      <td>58.290000</td>\n",
       "      <td>30.950000</td>\n",
       "    </tr>\n",
       "    <tr>\n",
       "      <th rowspan=\"8\" valign=\"top\">Algeria</th>\n",
       "      <th>count</th>\n",
       "      <td>11.000000</td>\n",
       "      <td>11.000000</td>\n",
       "    </tr>\n",
       "    <tr>\n",
       "      <th>mean</th>\n",
       "      <td>5.640909</td>\n",
       "      <td>3.446364</td>\n",
       "    </tr>\n",
       "    <tr>\n",
       "      <th>std</th>\n",
       "      <td>6.376788</td>\n",
       "      <td>1.115950</td>\n",
       "    </tr>\n",
       "    <tr>\n",
       "      <th>min</th>\n",
       "      <td>1.430000</td>\n",
       "      <td>1.030000</td>\n",
       "    </tr>\n",
       "    <tr>\n",
       "      <th>25%</th>\n",
       "      <td>2.475000</td>\n",
       "      <td>3.065000</td>\n",
       "    </tr>\n",
       "    <tr>\n",
       "      <th>50%</th>\n",
       "      <td>2.850000</td>\n",
       "      <td>3.510000</td>\n",
       "    </tr>\n",
       "    <tr>\n",
       "      <th>75%</th>\n",
       "      <td>5.750000</td>\n",
       "      <td>4.155000</td>\n",
       "    </tr>\n",
       "    <tr>\n",
       "      <th>max</th>\n",
       "      <td>23.580000</td>\n",
       "      <td>5.050000</td>\n",
       "    </tr>\n",
       "    <tr>\n",
       "      <th rowspan=\"6\" valign=\"top\">Angola</th>\n",
       "      <th>count</th>\n",
       "      <td>11.000000</td>\n",
       "      <td>11.000000</td>\n",
       "    </tr>\n",
       "    <tr>\n",
       "      <th>mean</th>\n",
       "      <td>83.455455</td>\n",
       "      <td>66.180909</td>\n",
       "    </tr>\n",
       "    <tr>\n",
       "      <th>std</th>\n",
       "      <td>43.153513</td>\n",
       "      <td>27.618575</td>\n",
       "    </tr>\n",
       "    <tr>\n",
       "      <th>min</th>\n",
       "      <td>39.670000</td>\n",
       "      <td>20.780000</td>\n",
       "    </tr>\n",
       "    <tr>\n",
       "      <th>25%</th>\n",
       "      <td>50.580000</td>\n",
       "      <td>47.830000</td>\n",
       "    </tr>\n",
       "    <tr>\n",
       "      <th>50%</th>\n",
       "      <td>70.600000</td>\n",
       "      <td>65.260000</td>\n",
       "    </tr>\n",
       "    <tr>\n",
       "      <th>...</th>\n",
       "      <th>...</th>\n",
       "      <td>...</td>\n",
       "      <td>...</td>\n",
       "    </tr>\n",
       "    <tr>\n",
       "      <th rowspan=\"6\" valign=\"top\">Viet Nam</th>\n",
       "      <th>std</th>\n",
       "      <td>95.650483</td>\n",
       "      <td>66.707983</td>\n",
       "    </tr>\n",
       "    <tr>\n",
       "      <th>min</th>\n",
       "      <td>51.890000</td>\n",
       "      <td>64.650000</td>\n",
       "    </tr>\n",
       "    <tr>\n",
       "      <th>25%</th>\n",
       "      <td>176.670000</td>\n",
       "      <td>96.600000</td>\n",
       "    </tr>\n",
       "    <tr>\n",
       "      <th>50%</th>\n",
       "      <td>181.930000</td>\n",
       "      <td>139.830000</td>\n",
       "    </tr>\n",
       "    <tr>\n",
       "      <th>75%</th>\n",
       "      <td>248.235000</td>\n",
       "      <td>183.795000</td>\n",
       "    </tr>\n",
       "    <tr>\n",
       "      <th>max</th>\n",
       "      <td>402.130000</td>\n",
       "      <td>279.970000</td>\n",
       "    </tr>\n",
       "    <tr>\n",
       "      <th rowspan=\"8\" valign=\"top\">Yemen</th>\n",
       "      <th>count</th>\n",
       "      <td>11.000000</td>\n",
       "      <td>11.000000</td>\n",
       "    </tr>\n",
       "    <tr>\n",
       "      <th>mean</th>\n",
       "      <td>52.169091</td>\n",
       "      <td>37.998182</td>\n",
       "    </tr>\n",
       "    <tr>\n",
       "      <th>std</th>\n",
       "      <td>26.802211</td>\n",
       "      <td>14.670756</td>\n",
       "    </tr>\n",
       "    <tr>\n",
       "      <th>min</th>\n",
       "      <td>19.760000</td>\n",
       "      <td>17.930000</td>\n",
       "    </tr>\n",
       "    <tr>\n",
       "      <th>25%</th>\n",
       "      <td>36.055000</td>\n",
       "      <td>24.635000</td>\n",
       "    </tr>\n",
       "    <tr>\n",
       "      <th>50%</th>\n",
       "      <td>48.520000</td>\n",
       "      <td>41.230000</td>\n",
       "    </tr>\n",
       "    <tr>\n",
       "      <th>75%</th>\n",
       "      <td>56.370000</td>\n",
       "      <td>46.860000</td>\n",
       "    </tr>\n",
       "    <tr>\n",
       "      <th>max</th>\n",
       "      <td>118.190000</td>\n",
       "      <td>63.160000</td>\n",
       "    </tr>\n",
       "    <tr>\n",
       "      <th rowspan=\"8\" valign=\"top\">Zambia</th>\n",
       "      <th>count</th>\n",
       "      <td>11.000000</td>\n",
       "      <td>11.000000</td>\n",
       "    </tr>\n",
       "    <tr>\n",
       "      <th>mean</th>\n",
       "      <td>279.232727</td>\n",
       "      <td>210.233636</td>\n",
       "    </tr>\n",
       "    <tr>\n",
       "      <th>std</th>\n",
       "      <td>136.452329</td>\n",
       "      <td>112.454957</td>\n",
       "    </tr>\n",
       "    <tr>\n",
       "      <th>min</th>\n",
       "      <td>108.220000</td>\n",
       "      <td>26.680000</td>\n",
       "    </tr>\n",
       "    <tr>\n",
       "      <th>25%</th>\n",
       "      <td>196.550000</td>\n",
       "      <td>129.795000</td>\n",
       "    </tr>\n",
       "    <tr>\n",
       "      <th>50%</th>\n",
       "      <td>294.670000</td>\n",
       "      <td>224.850000</td>\n",
       "    </tr>\n",
       "    <tr>\n",
       "      <th>75%</th>\n",
       "      <td>324.815000</td>\n",
       "      <td>286.290000</td>\n",
       "    </tr>\n",
       "    <tr>\n",
       "      <th>max</th>\n",
       "      <td>593.990000</td>\n",
       "      <td>376.820000</td>\n",
       "    </tr>\n",
       "    <tr>\n",
       "      <th rowspan=\"8\" valign=\"top\">Zimbabwe</th>\n",
       "      <th>count</th>\n",
       "      <td>11.000000</td>\n",
       "      <td>11.000000</td>\n",
       "    </tr>\n",
       "    <tr>\n",
       "      <th>mean</th>\n",
       "      <td>95.682727</td>\n",
       "      <td>96.979091</td>\n",
       "    </tr>\n",
       "    <tr>\n",
       "      <th>std</th>\n",
       "      <td>40.083605</td>\n",
       "      <td>65.223643</td>\n",
       "    </tr>\n",
       "    <tr>\n",
       "      <th>min</th>\n",
       "      <td>51.170000</td>\n",
       "      <td>12.290000</td>\n",
       "    </tr>\n",
       "    <tr>\n",
       "      <th>25%</th>\n",
       "      <td>68.610000</td>\n",
       "      <td>48.500000</td>\n",
       "    </tr>\n",
       "    <tr>\n",
       "      <th>50%</th>\n",
       "      <td>84.720000</td>\n",
       "      <td>108.050000</td>\n",
       "    </tr>\n",
       "    <tr>\n",
       "      <th>75%</th>\n",
       "      <td>114.120000</td>\n",
       "      <td>133.260000</td>\n",
       "    </tr>\n",
       "    <tr>\n",
       "      <th>max</th>\n",
       "      <td>169.790000</td>\n",
       "      <td>229.190000</td>\n",
       "    </tr>\n",
       "  </tbody>\n",
       "</table>\n",
       "<p>952 rows × 2 columns</p>\n",
       "</div>"
      ],
      "text/plain": [
       "                   Commitments  Disbursements\n",
       "Country                                      \n",
       "Afghanistan count    11.000000      11.000000\n",
       "            mean    202.500909     154.827273\n",
       "            std     148.448272     122.432684\n",
       "            min       7.910000       6.000000\n",
       "            25%      89.970000      42.355000\n",
       "            50%     178.730000     160.790000\n",
       "            75%     294.285000     254.430000\n",
       "            max     459.800000     345.590000\n",
       "Albania     count    11.000000      11.000000\n",
       "            mean     23.777273      20.459091\n",
       "            std      13.460340       5.757750\n",
       "            min       8.790000      12.690000\n",
       "            25%      16.410000      15.650000\n",
       "            50%      18.310000      22.780000\n",
       "            75%      28.355000      23.590000\n",
       "            max      58.290000      30.950000\n",
       "Algeria     count    11.000000      11.000000\n",
       "            mean      5.640909       3.446364\n",
       "            std       6.376788       1.115950\n",
       "            min       1.430000       1.030000\n",
       "            25%       2.475000       3.065000\n",
       "            50%       2.850000       3.510000\n",
       "            75%       5.750000       4.155000\n",
       "            max      23.580000       5.050000\n",
       "Angola      count    11.000000      11.000000\n",
       "            mean     83.455455      66.180909\n",
       "            std      43.153513      27.618575\n",
       "            min      39.670000      20.780000\n",
       "            25%      50.580000      47.830000\n",
       "            50%      70.600000      65.260000\n",
       "...                        ...            ...\n",
       "Viet Nam    std      95.650483      66.707983\n",
       "            min      51.890000      64.650000\n",
       "            25%     176.670000      96.600000\n",
       "            50%     181.930000     139.830000\n",
       "            75%     248.235000     183.795000\n",
       "            max     402.130000     279.970000\n",
       "Yemen       count    11.000000      11.000000\n",
       "            mean     52.169091      37.998182\n",
       "            std      26.802211      14.670756\n",
       "            min      19.760000      17.930000\n",
       "            25%      36.055000      24.635000\n",
       "            50%      48.520000      41.230000\n",
       "            75%      56.370000      46.860000\n",
       "            max     118.190000      63.160000\n",
       "Zambia      count    11.000000      11.000000\n",
       "            mean    279.232727     210.233636\n",
       "            std     136.452329     112.454957\n",
       "            min     108.220000      26.680000\n",
       "            25%     196.550000     129.795000\n",
       "            50%     294.670000     224.850000\n",
       "            75%     324.815000     286.290000\n",
       "            max     593.990000     376.820000\n",
       "Zimbabwe    count    11.000000      11.000000\n",
       "            mean     95.682727      96.979091\n",
       "            std      40.083605      65.223643\n",
       "            min      51.170000      12.290000\n",
       "            25%      68.610000      48.500000\n",
       "            50%      84.720000     108.050000\n",
       "            75%     114.120000     133.260000\n",
       "            max     169.790000     229.190000\n",
       "\n",
       "[952 rows x 2 columns]"
      ]
     },
     "execution_count": 125,
     "metadata": {},
     "output_type": "execute_result"
    }
   ],
   "source": [
    "commitments_by_country.describe()"
   ]
  },
  {
   "cell_type": "code",
   "execution_count": 126,
   "metadata": {
    "collapsed": false
   },
   "outputs": [
    {
     "data": {
      "text/html": [
       "<div>\n",
       "<table border=\"1\" class=\"dataframe\">\n",
       "  <thead>\n",
       "    <tr style=\"text-align: right;\">\n",
       "      <th></th>\n",
       "      <th>Commitments</th>\n",
       "      <th>Disbursements</th>\n",
       "    </tr>\n",
       "    <tr>\n",
       "      <th>Country</th>\n",
       "      <th></th>\n",
       "      <th></th>\n",
       "    </tr>\n",
       "  </thead>\n",
       "  <tbody>\n",
       "    <tr>\n",
       "      <th>Afghanistan</th>\n",
       "      <td>202.500909</td>\n",
       "      <td>154.827273</td>\n",
       "    </tr>\n",
       "    <tr>\n",
       "      <th>Albania</th>\n",
       "      <td>23.777273</td>\n",
       "      <td>20.459091</td>\n",
       "    </tr>\n",
       "    <tr>\n",
       "      <th>Algeria</th>\n",
       "      <td>5.640909</td>\n",
       "      <td>3.446364</td>\n",
       "    </tr>\n",
       "    <tr>\n",
       "      <th>Angola</th>\n",
       "      <td>83.455455</td>\n",
       "      <td>66.180909</td>\n",
       "    </tr>\n",
       "    <tr>\n",
       "      <th>Argentina</th>\n",
       "      <td>21.648182</td>\n",
       "      <td>18.371818</td>\n",
       "    </tr>\n",
       "    <tr>\n",
       "      <th>Armenia</th>\n",
       "      <td>19.489091</td>\n",
       "      <td>17.068182</td>\n",
       "    </tr>\n",
       "    <tr>\n",
       "      <th>Azerbaijan</th>\n",
       "      <td>16.588182</td>\n",
       "      <td>10.827273</td>\n",
       "    </tr>\n",
       "    <tr>\n",
       "      <th>Bangladesh</th>\n",
       "      <td>221.431818</td>\n",
       "      <td>204.337273</td>\n",
       "    </tr>\n",
       "    <tr>\n",
       "      <th>Belarus</th>\n",
       "      <td>8.240000</td>\n",
       "      <td>9.078333</td>\n",
       "    </tr>\n",
       "    <tr>\n",
       "      <th>Benin</th>\n",
       "      <td>70.810000</td>\n",
       "      <td>54.440000</td>\n",
       "    </tr>\n",
       "    <tr>\n",
       "      <th>Bhutan</th>\n",
       "      <td>7.555455</td>\n",
       "      <td>5.836364</td>\n",
       "    </tr>\n",
       "    <tr>\n",
       "      <th>Bolivia (Plurinational State of)</th>\n",
       "      <td>73.733636</td>\n",
       "      <td>63.392727</td>\n",
       "    </tr>\n",
       "    <tr>\n",
       "      <th>Bosnia and Herzegovina</th>\n",
       "      <td>24.741818</td>\n",
       "      <td>19.053636</td>\n",
       "    </tr>\n",
       "    <tr>\n",
       "      <th>Botswana</th>\n",
       "      <td>73.323636</td>\n",
       "      <td>64.626364</td>\n",
       "    </tr>\n",
       "    <tr>\n",
       "      <th>Brazil</th>\n",
       "      <td>26.258182</td>\n",
       "      <td>22.825455</td>\n",
       "    </tr>\n",
       "    <tr>\n",
       "      <th>Burkina Faso</th>\n",
       "      <td>93.657273</td>\n",
       "      <td>82.290909</td>\n",
       "    </tr>\n",
       "    <tr>\n",
       "      <th>Burundi</th>\n",
       "      <td>51.120000</td>\n",
       "      <td>40.870000</td>\n",
       "    </tr>\n",
       "    <tr>\n",
       "      <th>Cambodia</th>\n",
       "      <td>124.965455</td>\n",
       "      <td>98.958182</td>\n",
       "    </tr>\n",
       "    <tr>\n",
       "      <th>Cameroon</th>\n",
       "      <td>64.306364</td>\n",
       "      <td>47.975455</td>\n",
       "    </tr>\n",
       "    <tr>\n",
       "      <th>Central African Republic</th>\n",
       "      <td>20.541818</td>\n",
       "      <td>18.099091</td>\n",
       "    </tr>\n",
       "    <tr>\n",
       "      <th>Chad</th>\n",
       "      <td>37.635455</td>\n",
       "      <td>36.236364</td>\n",
       "    </tr>\n",
       "    <tr>\n",
       "      <th>Chile</th>\n",
       "      <td>6.876364</td>\n",
       "      <td>6.303636</td>\n",
       "    </tr>\n",
       "    <tr>\n",
       "      <th>China</th>\n",
       "      <td>245.923636</td>\n",
       "      <td>205.377273</td>\n",
       "    </tr>\n",
       "    <tr>\n",
       "      <th>Colombia</th>\n",
       "      <td>9.133636</td>\n",
       "      <td>8.586364</td>\n",
       "    </tr>\n",
       "    <tr>\n",
       "      <th>Comoros</th>\n",
       "      <td>5.024545</td>\n",
       "      <td>4.561818</td>\n",
       "    </tr>\n",
       "    <tr>\n",
       "      <th>Congo</th>\n",
       "      <td>22.272727</td>\n",
       "      <td>14.415455</td>\n",
       "    </tr>\n",
       "    <tr>\n",
       "      <th>Costa Rica</th>\n",
       "      <td>4.513636</td>\n",
       "      <td>5.350909</td>\n",
       "    </tr>\n",
       "    <tr>\n",
       "      <th>Cote d'Ivoire</th>\n",
       "      <td>91.263636</td>\n",
       "      <td>70.627273</td>\n",
       "    </tr>\n",
       "    <tr>\n",
       "      <th>Croatia</th>\n",
       "      <td>3.052727</td>\n",
       "      <td>1.052727</td>\n",
       "    </tr>\n",
       "    <tr>\n",
       "      <th>Cuba</th>\n",
       "      <td>12.458182</td>\n",
       "      <td>10.664545</td>\n",
       "    </tr>\n",
       "    <tr>\n",
       "      <th>...</th>\n",
       "      <td>...</td>\n",
       "      <td>...</td>\n",
       "    </tr>\n",
       "    <tr>\n",
       "      <th>Senegal</th>\n",
       "      <td>98.165455</td>\n",
       "      <td>96.790000</td>\n",
       "    </tr>\n",
       "    <tr>\n",
       "      <th>Serbia</th>\n",
       "      <td>37.191818</td>\n",
       "      <td>21.380000</td>\n",
       "    </tr>\n",
       "    <tr>\n",
       "      <th>Sierra Leone</th>\n",
       "      <td>43.451818</td>\n",
       "      <td>38.705455</td>\n",
       "    </tr>\n",
       "    <tr>\n",
       "      <th>Solomon Islands</th>\n",
       "      <td>12.500000</td>\n",
       "      <td>12.928182</td>\n",
       "    </tr>\n",
       "    <tr>\n",
       "      <th>Somalia</th>\n",
       "      <td>23.337273</td>\n",
       "      <td>20.987273</td>\n",
       "    </tr>\n",
       "    <tr>\n",
       "      <th>South Africa</th>\n",
       "      <td>349.667273</td>\n",
       "      <td>246.567273</td>\n",
       "    </tr>\n",
       "    <tr>\n",
       "      <th>Sri Lanka</th>\n",
       "      <td>36.100909</td>\n",
       "      <td>28.704545</td>\n",
       "    </tr>\n",
       "    <tr>\n",
       "      <th>Sudan</th>\n",
       "      <td>92.124545</td>\n",
       "      <td>81.651818</td>\n",
       "    </tr>\n",
       "    <tr>\n",
       "      <th>Suriname</th>\n",
       "      <td>11.476364</td>\n",
       "      <td>8.811818</td>\n",
       "    </tr>\n",
       "    <tr>\n",
       "      <th>Swaziland</th>\n",
       "      <td>27.640909</td>\n",
       "      <td>19.337273</td>\n",
       "    </tr>\n",
       "    <tr>\n",
       "      <th>Syrian Arab Republic</th>\n",
       "      <td>20.214545</td>\n",
       "      <td>16.028182</td>\n",
       "    </tr>\n",
       "    <tr>\n",
       "      <th>Tajikistan</th>\n",
       "      <td>25.073636</td>\n",
       "      <td>20.958182</td>\n",
       "    </tr>\n",
       "    <tr>\n",
       "      <th>Thailand</th>\n",
       "      <td>52.507273</td>\n",
       "      <td>46.522727</td>\n",
       "    </tr>\n",
       "    <tr>\n",
       "      <th>The former Yugoslav republic of Macedonia</th>\n",
       "      <td>6.280000</td>\n",
       "      <td>7.390909</td>\n",
       "    </tr>\n",
       "    <tr>\n",
       "      <th>Timor-Leste</th>\n",
       "      <td>18.543636</td>\n",
       "      <td>13.893636</td>\n",
       "    </tr>\n",
       "    <tr>\n",
       "      <th>Togo</th>\n",
       "      <td>26.229091</td>\n",
       "      <td>19.422727</td>\n",
       "    </tr>\n",
       "    <tr>\n",
       "      <th>Trinidad and Tobago</th>\n",
       "      <td>1.806364</td>\n",
       "      <td>1.202727</td>\n",
       "    </tr>\n",
       "    <tr>\n",
       "      <th>Tunisia</th>\n",
       "      <td>6.554545</td>\n",
       "      <td>10.586364</td>\n",
       "    </tr>\n",
       "    <tr>\n",
       "      <th>Turkey</th>\n",
       "      <td>15.684545</td>\n",
       "      <td>9.194545</td>\n",
       "    </tr>\n",
       "    <tr>\n",
       "      <th>Turkmenistan</th>\n",
       "      <td>3.690000</td>\n",
       "      <td>3.180000</td>\n",
       "    </tr>\n",
       "    <tr>\n",
       "      <th>Uganda</th>\n",
       "      <td>332.251818</td>\n",
       "      <td>270.920000</td>\n",
       "    </tr>\n",
       "    <tr>\n",
       "      <th>Ukraine</th>\n",
       "      <td>60.646667</td>\n",
       "      <td>54.803333</td>\n",
       "    </tr>\n",
       "    <tr>\n",
       "      <th>United Republic of Tanzania</th>\n",
       "      <td>431.484545</td>\n",
       "      <td>323.142727</td>\n",
       "    </tr>\n",
       "    <tr>\n",
       "      <th>Uruguay</th>\n",
       "      <td>3.840000</td>\n",
       "      <td>2.042727</td>\n",
       "    </tr>\n",
       "    <tr>\n",
       "      <th>Uzbekistan</th>\n",
       "      <td>34.703636</td>\n",
       "      <td>26.211818</td>\n",
       "    </tr>\n",
       "    <tr>\n",
       "      <th>Venezuela (Bolivarian Republic of)</th>\n",
       "      <td>2.521818</td>\n",
       "      <td>2.761818</td>\n",
       "    </tr>\n",
       "    <tr>\n",
       "      <th>Viet Nam</th>\n",
       "      <td>216.588182</td>\n",
       "      <td>148.514545</td>\n",
       "    </tr>\n",
       "    <tr>\n",
       "      <th>Yemen</th>\n",
       "      <td>52.169091</td>\n",
       "      <td>37.998182</td>\n",
       "    </tr>\n",
       "    <tr>\n",
       "      <th>Zambia</th>\n",
       "      <td>279.232727</td>\n",
       "      <td>210.233636</td>\n",
       "    </tr>\n",
       "    <tr>\n",
       "      <th>Zimbabwe</th>\n",
       "      <td>95.682727</td>\n",
       "      <td>96.979091</td>\n",
       "    </tr>\n",
       "  </tbody>\n",
       "</table>\n",
       "<p>119 rows × 2 columns</p>\n",
       "</div>"
      ],
      "text/plain": [
       "                                           Commitments  Disbursements\n",
       "Country                                                              \n",
       "Afghanistan                                 202.500909     154.827273\n",
       "Albania                                      23.777273      20.459091\n",
       "Algeria                                       5.640909       3.446364\n",
       "Angola                                       83.455455      66.180909\n",
       "Argentina                                    21.648182      18.371818\n",
       "Armenia                                      19.489091      17.068182\n",
       "Azerbaijan                                   16.588182      10.827273\n",
       "Bangladesh                                  221.431818     204.337273\n",
       "Belarus                                       8.240000       9.078333\n",
       "Benin                                        70.810000      54.440000\n",
       "Bhutan                                        7.555455       5.836364\n",
       "Bolivia (Plurinational State of)             73.733636      63.392727\n",
       "Bosnia and Herzegovina                       24.741818      19.053636\n",
       "Botswana                                     73.323636      64.626364\n",
       "Brazil                                       26.258182      22.825455\n",
       "Burkina Faso                                 93.657273      82.290909\n",
       "Burundi                                      51.120000      40.870000\n",
       "Cambodia                                    124.965455      98.958182\n",
       "Cameroon                                     64.306364      47.975455\n",
       "Central African Republic                     20.541818      18.099091\n",
       "Chad                                         37.635455      36.236364\n",
       "Chile                                         6.876364       6.303636\n",
       "China                                       245.923636     205.377273\n",
       "Colombia                                      9.133636       8.586364\n",
       "Comoros                                       5.024545       4.561818\n",
       "Congo                                        22.272727      14.415455\n",
       "Costa Rica                                    4.513636       5.350909\n",
       "Cote d'Ivoire                                91.263636      70.627273\n",
       "Croatia                                       3.052727       1.052727\n",
       "Cuba                                         12.458182      10.664545\n",
       "...                                                ...            ...\n",
       "Senegal                                      98.165455      96.790000\n",
       "Serbia                                       37.191818      21.380000\n",
       "Sierra Leone                                 43.451818      38.705455\n",
       "Solomon Islands                              12.500000      12.928182\n",
       "Somalia                                      23.337273      20.987273\n",
       "South Africa                                349.667273     246.567273\n",
       "Sri Lanka                                    36.100909      28.704545\n",
       "Sudan                                        92.124545      81.651818\n",
       "Suriname                                     11.476364       8.811818\n",
       "Swaziland                                    27.640909      19.337273\n",
       "Syrian Arab Republic                         20.214545      16.028182\n",
       "Tajikistan                                   25.073636      20.958182\n",
       "Thailand                                     52.507273      46.522727\n",
       "The former Yugoslav republic of Macedonia     6.280000       7.390909\n",
       "Timor-Leste                                  18.543636      13.893636\n",
       "Togo                                         26.229091      19.422727\n",
       "Trinidad and Tobago                           1.806364       1.202727\n",
       "Tunisia                                       6.554545      10.586364\n",
       "Turkey                                       15.684545       9.194545\n",
       "Turkmenistan                                  3.690000       3.180000\n",
       "Uganda                                      332.251818     270.920000\n",
       "Ukraine                                      60.646667      54.803333\n",
       "United Republic of Tanzania                 431.484545     323.142727\n",
       "Uruguay                                       3.840000       2.042727\n",
       "Uzbekistan                                   34.703636      26.211818\n",
       "Venezuela (Bolivarian Republic of)            2.521818       2.761818\n",
       "Viet Nam                                    216.588182     148.514545\n",
       "Yemen                                        52.169091      37.998182\n",
       "Zambia                                      279.232727     210.233636\n",
       "Zimbabwe                                     95.682727      96.979091\n",
       "\n",
       "[119 rows x 2 columns]"
      ]
     },
     "execution_count": 126,
     "metadata": {},
     "output_type": "execute_result"
    }
   ],
   "source": [
    "commitments_by_country.mean()"
   ]
  },
  {
   "cell_type": "markdown",
   "metadata": {},
   "source": [
    "# Commitments & Dispursements\n",
    "Initial Analysis"
   ]
  },
  {
   "cell_type": "code",
   "execution_count": 128,
   "metadata": {
    "collapsed": false
   },
   "outputs": [
    {
     "data": {
      "text/plain": [
       "<matplotlib.axes._subplots.AxesSubplot at 0xad93668>"
      ]
     },
     "execution_count": 128,
     "metadata": {},
     "output_type": "execute_result"
    },
    {
     "data": {
      "image/png": "[encoded data removed]",
      "text/plain": [
       "<matplotlib.figure.Figure at 0xad96630>"
      ]
     },
     "metadata": {},
     "output_type": "display_data"
    }
   ],
   "source": [
    "commitments_by_country['Commitments'].mean().hist()\n",
    "#add mean"
   ]
  },
  {
   "cell_type": "code",
   "execution_count": 129,
   "metadata": {
    "collapsed": false
   },
   "outputs": [
    {
     "data": {
      "text/plain": [
       "<matplotlib.axes._subplots.AxesSubplot at 0xa4a25c0>"
      ]
     },
     "execution_count": 129,
     "metadata": {},
     "output_type": "execute_result"
    },
    {
     "data": {
      "image/png": "[encoded data removed]",
      "text/plain": [
       "<matplotlib.figure.Figure at 0xa48c438>"
      ]
     },
     "metadata": {},
     "output_type": "display_data"
    }
   ],
   "source": [
    "# look at those countries with the most committed to them\n",
    "commitments_by_country['Commitments'].mean()[commitments_by_country['Commitments'].mean()>250].plot(kind='barh')"
   ]
  },
  {
   "cell_type": "code",
   "execution_count": 130,
   "metadata": {
    "collapsed": false
   },
   "outputs": [
    {
     "data": {
      "text/plain": [
       "<matplotlib.axes._subplots.AxesSubplot at 0xa95a1d0>"
      ]
     },
     "execution_count": 130,
     "metadata": {},
     "output_type": "execute_result"
    },
    {
     "data": {
      "image/png": "[encoded data removed]",
      "text/plain": [
       "<matplotlib.figure.Figure at 0xa9d4160>"
      ]
     },
     "metadata": {},
     "output_type": "display_data"
    }
   ],
   "source": [
    "# look at those countries with the largest dispursements\n",
    "commitments_by_country['Disbursements'].mean()[commitments_by_country['Disbursements'].mean()>250].plot(kind='barh')"
   ]
  },
  {
   "cell_type": "code",
   "execution_count": null,
   "metadata": {
    "collapsed": false
   },
   "outputs": [],
   "source": [
    "# Need to expand commitments analysis here..."
   ]
  },
  {
   "cell_type": "code",
   "execution_count": null,
   "metadata": {
    "collapsed": true
   },
   "outputs": [],
   "source": []
  }
 ],
 "metadata": {
  "kernelspec": {
   "display_name": "Python 3",
   "language": "python",
   "name": "python3"
  },
  "language_info": {
   "codemirror_mode": {
    "name": "ipython",
    "version": 3
   },
   "file_extension": ".py",
   "mimetype": "text/x-python",
   "name": "python",
   "nbconvert_exporter": "python",
   "pygments_lexer": "ipython3",
   "version": "3.5.1"
  }
 },
 "nbformat": 4,
 "nbformat_minor": 0
}
