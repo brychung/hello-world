{
 "cells": [
  {
   "cell_type": "markdown",
   "metadata": {},
   "source": [
    "# Exploring Life Expectancy, Aid, Health Services, and Access"
   ]
  },
  {
   "cell_type": "markdown",
   "metadata": {},
   "source": [
    "Team: Andrea Pope, Dominic Delmolino, Sarah Kelley"
   ]
  },
  {
   "cell_type": "markdown",
   "metadata": {},
   "source": [
    "Data came from the World Health Organization, available at http://apps.who.int/gho/data/node.main. We downloaded individual data sets for Life Expectancy, Aid, Health Services, HIV prevalances, and Acccess. "
   ]
  },
  {
   "cell_type": "markdown",
   "metadata": {},
   "source": [
    "## Imports and Data"
   ]
  },
  {
   "cell_type": "code",
   "execution_count": 1,
   "metadata": {
    "collapsed": true
   },
   "outputs": [],
   "source": [
    "%matplotlib inline\n",
    "import numpy as np\n",
    "import pandas as pd\n",
    "import matplotlib.pyplot as pyplot"
   ]
  },
  {
   "cell_type": "markdown",
   "metadata": {},
   "source": [
    "Data Imports:"
   ]
  },
  {
   "cell_type": "code",
   "execution_count": 2,
   "metadata": {
    "collapsed": false
   },
   "outputs": [],
   "source": [
    "df_le = pd.read_csv(\"LifeExpectancy.csv\") #various life expectancy measures\n",
    "HIV = pd.read_csv(\"HIV.csv\") #HIV prevalance\n",
    "HS = pd.read_csv(\"health_services.csv\") #Expenditures on Health Services\n",
    "df_exp = pd.read_csv(\"access_to_water.csv\") #Access to clean water and sanitation\n",
    "df_c = pd.read_csv(\"Commitments_n_DisbursementsofAidbyCountry.csv\")"
   ]
  },
  {
   "cell_type": "markdown",
   "metadata": {},
   "source": [
    "## Life Expectancy Data Preparation"
   ]
  },
  {
   "cell_type": "code",
   "execution_count": 3,
   "metadata": {
    "collapsed": false
   },
   "outputs": [],
   "source": [
    "df_le.columns = [\"Country; Year\", \"LEatBirth\", \"LEatBirthFem\", \"LEatBirthMale\",\"LEat60\", \"LEat60Female\", \n",
    "                 \"LEat60Male\",\"HALEatBirth\",\"HALEatBirthFemale\", \"HALEatBirthMale\"]\n",
    "# Seperating Country from Year in initial cell to 2 separate cells\n",
    "df_le['Country'], df_le['Year'] = zip(*df_le['Country; Year'].apply(lambda x: x.split('; ', 1)))"
   ]
  },
  {
   "cell_type": "code",
   "execution_count": 4,
   "metadata": {
    "collapsed": false
   },
   "outputs": [],
   "source": [
    "# convert year into date format\n",
    "df_le['Year'] = pd.to_datetime(df_le['Year'], format='%Y')"
   ]
  },
  {
   "cell_type": "code",
   "execution_count": 5,
   "metadata": {
    "collapsed": true
   },
   "outputs": [],
   "source": [
    "# function to use on number fields that contain multiple answers, in order to update number fields appropriately\n",
    "# data is at year level, so ints can be used (vs floats)\n",
    "def clean_le(value):\n",
    "    if type(value) == type(np.NaN):\n",
    "        return np.NaN\n",
    "    return int(value[0:2])"
   ]
  },
  {
   "cell_type": "code",
   "execution_count": 6,
   "metadata": {
    "collapsed": true
   },
   "outputs": [],
   "source": [
    "# used to convert to float, but check for NaN values first\n",
    "def clean_float(value):\n",
    "    if type(value) == type(np.NaN):\n",
    "        return np.NaN\n",
    "    return float(value)"
   ]
  },
  {
   "cell_type": "code",
   "execution_count": 7,
   "metadata": {
    "collapsed": false
   },
   "outputs": [],
   "source": [
    "# Clean up healthy life expectancy at birth, life expectancy at birth and at 60\n",
    "df_le['HALEatBirth'] = df_le['HALEatBirth'].apply(clean_le) \n",
    "#df_le['LEatBirth'] = df_le['LEatBirth'].apply(clean_le)\n",
    "#df_le['LEat60'] = df_le['LEat60'].apply(clean_le)"
   ]
  },
  {
   "cell_type": "code",
   "execution_count": 124,
   "metadata": {
    "collapsed": false
   },
   "outputs": [],
   "source": [
    "df_le_clean = pd.DataFrame({'Country': df_le.Country, 'Year': df_le.Year, \"LEatBirth\": df_le.LEatBirth, \n",
    "                            \"LEat60\": df_le.LEat60, \"LEat60-Adj\": df_le.LEat60 + 60,  \"HALEatBirth\": df_le.HALEatBirth})"
   ]
  },
  {
   "cell_type": "code",
   "execution_count": 125,
   "metadata": {
    "collapsed": false
   },
   "outputs": [
    {
     "data": {
      "text/html": [
       "<div>\n",
       "<table border=\"1\" class=\"dataframe\">\n",
       "  <thead>\n",
       "    <tr style=\"text-align: right;\">\n",
       "      <th></th>\n",
       "      <th>Country</th>\n",
       "      <th>HALEatBirth</th>\n",
       "      <th>LEat60</th>\n",
       "      <th>LEat60-Adj</th>\n",
       "      <th>LEatBirth</th>\n",
       "      <th>Year</th>\n",
       "    </tr>\n",
       "  </thead>\n",
       "  <tbody>\n",
       "    <tr>\n",
       "      <th>0</th>\n",
       "      <td>Afghanistan</td>\n",
       "      <td>50</td>\n",
       "      <td>16</td>\n",
       "      <td>76</td>\n",
       "      <td>61</td>\n",
       "      <td>2013-01-01</td>\n",
       "    </tr>\n",
       "    <tr>\n",
       "      <th>1</th>\n",
       "      <td>Afghanistan</td>\n",
       "      <td>49</td>\n",
       "      <td>16</td>\n",
       "      <td>76</td>\n",
       "      <td>60</td>\n",
       "      <td>2012-01-01</td>\n",
       "    </tr>\n",
       "    <tr>\n",
       "      <th>2</th>\n",
       "      <td>Afghanistan</td>\n",
       "      <td>45</td>\n",
       "      <td>15</td>\n",
       "      <td>75</td>\n",
       "      <td>55</td>\n",
       "      <td>2000-01-01</td>\n",
       "    </tr>\n",
       "    <tr>\n",
       "      <th>3</th>\n",
       "      <td>Afghanistan</td>\n",
       "      <td>NaN</td>\n",
       "      <td>14</td>\n",
       "      <td>74</td>\n",
       "      <td>49</td>\n",
       "      <td>1990-01-01</td>\n",
       "    </tr>\n",
       "    <tr>\n",
       "      <th>4</th>\n",
       "      <td>Albania</td>\n",
       "      <td>65</td>\n",
       "      <td>19</td>\n",
       "      <td>79</td>\n",
       "      <td>74</td>\n",
       "      <td>2013-01-01</td>\n",
       "    </tr>\n",
       "  </tbody>\n",
       "</table>\n",
       "</div>"
      ],
      "text/plain": [
       "       Country  HALEatBirth  LEat60  LEat60-Adj  LEatBirth       Year\n",
       "0  Afghanistan           50      16          76         61 2013-01-01\n",
       "1  Afghanistan           49      16          76         60 2012-01-01\n",
       "2  Afghanistan           45      15          75         55 2000-01-01\n",
       "3  Afghanistan          NaN      14          74         49 1990-01-01\n",
       "4      Albania           65      19          79         74 2013-01-01"
      ]
     },
     "execution_count": 125,
     "metadata": {},
     "output_type": "execute_result"
    }
   ],
   "source": [
    "# fully tidied up Life Expectancy Data\n",
    "df_le_clean.head()"
   ]
  },
  {
   "cell_type": "code",
   "execution_count": 126,
   "metadata": {
    "collapsed": false
   },
   "outputs": [
    {
     "data": {
      "text/plain": [
       "Country                object\n",
       "HALEatBirth           float64\n",
       "LEat60                  int64\n",
       "LEat60-Adj              int64\n",
       "LEatBirth               int64\n",
       "Year           datetime64[ns]\n",
       "dtype: object"
      ]
     },
     "execution_count": 126,
     "metadata": {},
     "output_type": "execute_result"
    }
   ],
   "source": [
    "# with numeric data columns\n",
    "df_le_clean.dtypes"
   ]
  },
  {
   "cell_type": "code",
   "execution_count": 127,
   "metadata": {
    "collapsed": false
   },
   "outputs": [],
   "source": [
    "# in a separate lab notebook, extracted data from WHO website to map Regions to Countries (through a series of WHO web pages)\n",
    "# output was saved to a csv to be uploaded here, for use in broaded summarizations of the LE data\n",
    "rc_map = pd.read_csv('RegionCountryMap.csv', encoding='ISO-8859-2')\n",
    "#rc_map.set_index('Country', inplace=True)"
   ]
  },
  {
   "cell_type": "code",
   "execution_count": 128,
   "metadata": {
    "collapsed": false
   },
   "outputs": [
    {
     "data": {
      "text/html": [
       "<div>\n",
       "<table border=\"1\" class=\"dataframe\">\n",
       "  <thead>\n",
       "    <tr style=\"text-align: right;\">\n",
       "      <th></th>\n",
       "      <th>Country</th>\n",
       "      <th>Region</th>\n",
       "    </tr>\n",
       "  </thead>\n",
       "  <tbody>\n",
       "    <tr>\n",
       "      <th>0</th>\n",
       "      <td>Algeria</td>\n",
       "      <td>Africa</td>\n",
       "    </tr>\n",
       "    <tr>\n",
       "      <th>1</th>\n",
       "      <td>Angola</td>\n",
       "      <td>Africa</td>\n",
       "    </tr>\n",
       "    <tr>\n",
       "      <th>2</th>\n",
       "      <td>Benin</td>\n",
       "      <td>Africa</td>\n",
       "    </tr>\n",
       "    <tr>\n",
       "      <th>3</th>\n",
       "      <td>Botswana</td>\n",
       "      <td>Africa</td>\n",
       "    </tr>\n",
       "    <tr>\n",
       "      <th>4</th>\n",
       "      <td>Burkina Faso</td>\n",
       "      <td>Africa</td>\n",
       "    </tr>\n",
       "  </tbody>\n",
       "</table>\n",
       "</div>"
      ],
      "text/plain": [
       "         Country  Region\n",
       "0       Algeria   Africa\n",
       "1        Angola   Africa\n",
       "2         Benin   Africa\n",
       "3       Botswana  Africa\n",
       "4  Burkina Faso   Africa"
      ]
     },
     "execution_count": 128,
     "metadata": {},
     "output_type": "execute_result"
    }
   ],
   "source": [
    "rc_map = rc_map.drop('Unnamed: 0', axis=1)\n",
    "rc_map.head()"
   ]
  },
  {
   "cell_type": "code",
   "execution_count": 129,
   "metadata": {
    "collapsed": false
   },
   "outputs": [
    {
     "data": {
      "text/html": [
       "<div>\n",
       "<table border=\"1\" class=\"dataframe\">\n",
       "  <thead>\n",
       "    <tr style=\"text-align: right;\">\n",
       "      <th></th>\n",
       "      <th>Country</th>\n",
       "      <th>HALEatBirth</th>\n",
       "      <th>LEat60</th>\n",
       "      <th>LEat60-Adj</th>\n",
       "      <th>LEatBirth</th>\n",
       "      <th>Year</th>\n",
       "      <th>Region</th>\n",
       "    </tr>\n",
       "  </thead>\n",
       "  <tbody>\n",
       "    <tr>\n",
       "      <th>0</th>\n",
       "      <td>Afghanistan</td>\n",
       "      <td>50</td>\n",
       "      <td>16</td>\n",
       "      <td>76</td>\n",
       "      <td>61</td>\n",
       "      <td>2013-01-01</td>\n",
       "      <td>Eastern Mediterranean</td>\n",
       "    </tr>\n",
       "    <tr>\n",
       "      <th>1</th>\n",
       "      <td>Afghanistan</td>\n",
       "      <td>49</td>\n",
       "      <td>16</td>\n",
       "      <td>76</td>\n",
       "      <td>60</td>\n",
       "      <td>2012-01-01</td>\n",
       "      <td>Eastern Mediterranean</td>\n",
       "    </tr>\n",
       "    <tr>\n",
       "      <th>2</th>\n",
       "      <td>Afghanistan</td>\n",
       "      <td>45</td>\n",
       "      <td>15</td>\n",
       "      <td>75</td>\n",
       "      <td>55</td>\n",
       "      <td>2000-01-01</td>\n",
       "      <td>Eastern Mediterranean</td>\n",
       "    </tr>\n",
       "    <tr>\n",
       "      <th>3</th>\n",
       "      <td>Afghanistan</td>\n",
       "      <td>NaN</td>\n",
       "      <td>14</td>\n",
       "      <td>74</td>\n",
       "      <td>49</td>\n",
       "      <td>1990-01-01</td>\n",
       "      <td>Eastern Mediterranean</td>\n",
       "    </tr>\n",
       "    <tr>\n",
       "      <th>4</th>\n",
       "      <td>Albania</td>\n",
       "      <td>65</td>\n",
       "      <td>19</td>\n",
       "      <td>79</td>\n",
       "      <td>74</td>\n",
       "      <td>2013-01-01</td>\n",
       "      <td>Europe</td>\n",
       "    </tr>\n",
       "  </tbody>\n",
       "</table>\n",
       "</div>"
      ],
      "text/plain": [
       "       Country  HALEatBirth  LEat60  LEat60-Adj  LEatBirth       Year  \\\n",
       "0  Afghanistan           50      16          76         61 2013-01-01   \n",
       "1  Afghanistan           49      16          76         60 2012-01-01   \n",
       "2  Afghanistan           45      15          75         55 2000-01-01   \n",
       "3  Afghanistan          NaN      14          74         49 1990-01-01   \n",
       "4      Albania           65      19          79         74 2013-01-01   \n",
       "\n",
       "                  Region  \n",
       "0  Eastern Mediterranean  \n",
       "1  Eastern Mediterranean  \n",
       "2  Eastern Mediterranean  \n",
       "3  Eastern Mediterranean  \n",
       "4                 Europe  "
      ]
     },
     "execution_count": 129,
     "metadata": {},
     "output_type": "execute_result"
    }
   ],
   "source": [
    "# compare to Region / Country map to look at global trends for 2013\n",
    "# merging the LE data set with the Region Country map; joining field is \"Country\"\n",
    "df_le_clean = pd.merge(df_le_clean, rc_map, on='Country')\n",
    "\n",
    "df_le_clean.head()"
   ]
  },
  {
   "cell_type": "markdown",
   "metadata": {},
   "source": [
    "## Aid Disbursement Data Preparation"
   ]
  },
  {
   "cell_type": "code",
   "execution_count": 11,
   "metadata": {
    "collapsed": false
   },
   "outputs": [],
   "source": [
    "#rename columns\n",
    "df_c.columns = [\"Country; Year\", \"Commitments\", \"Disbursements\"]"
   ]
  },
  {
   "cell_type": "code",
   "execution_count": 12,
   "metadata": {
    "collapsed": false
   },
   "outputs": [],
   "source": [
    "#split country and year\n",
    "df_c['Country'], df_c['Year'] = zip(*df_c['Country; Year'].apply(lambda x: x.split('; ', 1)))"
   ]
  },
  {
   "cell_type": "code",
   "execution_count": 13,
   "metadata": {
    "collapsed": false
   },
   "outputs": [],
   "source": [
    "#make year into date format\n",
    "df_c['Year'] = pd.to_datetime(df_c['Year'], format='%Y')"
   ]
  },
  {
   "cell_type": "code",
   "execution_count": 14,
   "metadata": {
    "collapsed": false
   },
   "outputs": [],
   "source": [
    "#clean up formatting\n",
    "df_c['Commitments'] = df_c['Commitments'].apply(clean_float)\n",
    "df_c['Disbursements'] = df_c['Disbursements'].apply(clean_float)"
   ]
  },
  {
   "cell_type": "code",
   "execution_count": 15,
   "metadata": {
    "collapsed": true
   },
   "outputs": [],
   "source": [
    "#make a frame of aid commitments by country\n",
    "commitments_by_country = df_c.groupby('Country')"
   ]
  },
  {
   "cell_type": "code",
   "execution_count": 16,
   "metadata": {
    "collapsed": false
   },
   "outputs": [
    {
     "data": {
      "text/html": [
       "<div>\n",
       "<table border=\"1\" class=\"dataframe\">\n",
       "  <thead>\n",
       "    <tr style=\"text-align: right;\">\n",
       "      <th></th>\n",
       "      <th>Country; Year</th>\n",
       "      <th>Commitments</th>\n",
       "      <th>Disbursements</th>\n",
       "      <th>Country</th>\n",
       "      <th>Year</th>\n",
       "    </tr>\n",
       "  </thead>\n",
       "  <tbody>\n",
       "    <tr>\n",
       "      <th>0</th>\n",
       "      <td>Afghanistan; 2010</td>\n",
       "      <td>386.92</td>\n",
       "      <td>300.09</td>\n",
       "      <td>Afghanistan</td>\n",
       "      <td>2010-01-01</td>\n",
       "    </tr>\n",
       "    <tr>\n",
       "      <th>1</th>\n",
       "      <td>Afghanistan; 2009</td>\n",
       "      <td>254.04</td>\n",
       "      <td>345.59</td>\n",
       "      <td>Afghanistan</td>\n",
       "      <td>2009-01-01</td>\n",
       "    </tr>\n",
       "    <tr>\n",
       "      <th>2</th>\n",
       "      <td>Afghanistan; 2008</td>\n",
       "      <td>459.80</td>\n",
       "      <td>254.46</td>\n",
       "      <td>Afghanistan</td>\n",
       "      <td>2008-01-01</td>\n",
       "    </tr>\n",
       "    <tr>\n",
       "      <th>3</th>\n",
       "      <td>Afghanistan; 2007</td>\n",
       "      <td>217.22</td>\n",
       "      <td>254.40</td>\n",
       "      <td>Afghanistan</td>\n",
       "      <td>2007-01-01</td>\n",
       "    </tr>\n",
       "    <tr>\n",
       "      <th>4</th>\n",
       "      <td>Afghanistan; 2006</td>\n",
       "      <td>334.53</td>\n",
       "      <td>186.74</td>\n",
       "      <td>Afghanistan</td>\n",
       "      <td>2006-01-01</td>\n",
       "    </tr>\n",
       "  </tbody>\n",
       "</table>\n",
       "</div>"
      ],
      "text/plain": [
       "       Country; Year  Commitments  Disbursements      Country       Year\n",
       "0  Afghanistan; 2010       386.92         300.09  Afghanistan 2010-01-01\n",
       "1  Afghanistan; 2009       254.04         345.59  Afghanistan 2009-01-01\n",
       "2  Afghanistan; 2008       459.80         254.46  Afghanistan 2008-01-01\n",
       "3  Afghanistan; 2007       217.22         254.40  Afghanistan 2007-01-01\n",
       "4  Afghanistan; 2006       334.53         186.74  Afghanistan 2006-01-01"
      ]
     },
     "execution_count": 16,
     "metadata": {},
     "output_type": "execute_result"
    }
   ],
   "source": [
    "df_c.head()"
   ]
  },
  {
   "cell_type": "code",
   "execution_count": 17,
   "metadata": {
    "collapsed": false
   },
   "outputs": [
    {
     "data": {
      "text/plain": [
       "Country; Year            object\n",
       "Commitments             float64\n",
       "Disbursements           float64\n",
       "Country                  object\n",
       "Year             datetime64[ns]\n",
       "dtype: object"
      ]
     },
     "execution_count": 17,
     "metadata": {},
     "output_type": "execute_result"
    }
   ],
   "source": [
    "df_c.dtypes"
   ]
  },
  {
   "cell_type": "markdown",
   "metadata": {},
   "source": [
    "## Water and Sanitation Data Preparation"
   ]
  },
  {
   "cell_type": "code",
   "execution_count": 18,
   "metadata": {
    "collapsed": false
   },
   "outputs": [],
   "source": [
    "#Improve Column Names\n",
    "df_exp.columns = [\"Country; Year\", \"IWRuralPct\",\"IWUrbanPct\",\"IWPct\", \"ISRuralPct\", \"ISUrbanPct\", \"ISPct\"]"
   ]
  },
  {
   "cell_type": "code",
   "execution_count": 19,
   "metadata": {
    "collapsed": false
   },
   "outputs": [],
   "source": [
    "df_exp['Country'], df_exp['Year'] = zip(*df_exp['Country; Year'].apply(lambda x: x.split('; ',1)))\n",
    "df_exp['Year'] = pd.to_datetime(df_exp['Year'], format='%Y')\n",
    "df_exp.drop(['Country; Year'], inplace=True, axis=1)"
   ]
  },
  {
   "cell_type": "code",
   "execution_count": 20,
   "metadata": {
    "collapsed": false
   },
   "outputs": [
    {
     "data": {
      "text/html": [
       "<div>\n",
       "<table border=\"1\" class=\"dataframe\">\n",
       "  <thead>\n",
       "    <tr style=\"text-align: right;\">\n",
       "      <th></th>\n",
       "      <th>IWRuralPct</th>\n",
       "      <th>IWUrbanPct</th>\n",
       "      <th>IWPct</th>\n",
       "      <th>ISRuralPct</th>\n",
       "      <th>ISUrbanPct</th>\n",
       "      <th>ISPct</th>\n",
       "      <th>Country</th>\n",
       "      <th>Year</th>\n",
       "    </tr>\n",
       "  </thead>\n",
       "  <tbody>\n",
       "    <tr>\n",
       "      <th>0</th>\n",
       "      <td>47.0</td>\n",
       "      <td>78.2</td>\n",
       "      <td>55.3</td>\n",
       "      <td>27.0</td>\n",
       "      <td>45.1</td>\n",
       "      <td>31.9</td>\n",
       "      <td>Afghanistan</td>\n",
       "      <td>2015-01-01</td>\n",
       "    </tr>\n",
       "    <tr>\n",
       "      <th>1</th>\n",
       "      <td>24.3</td>\n",
       "      <td>52.2</td>\n",
       "      <td>30.3</td>\n",
       "      <td>21.3</td>\n",
       "      <td>31.2</td>\n",
       "      <td>23.4</td>\n",
       "      <td>Afghanistan</td>\n",
       "      <td>2000-01-01</td>\n",
       "    </tr>\n",
       "    <tr>\n",
       "      <th>2</th>\n",
       "      <td>95.2</td>\n",
       "      <td>94.9</td>\n",
       "      <td>95.1</td>\n",
       "      <td>90.2</td>\n",
       "      <td>95.5</td>\n",
       "      <td>93.2</td>\n",
       "      <td>Albania</td>\n",
       "      <td>2015-01-01</td>\n",
       "    </tr>\n",
       "    <tr>\n",
       "      <th>3</th>\n",
       "      <td>93.3</td>\n",
       "      <td>100.0</td>\n",
       "      <td>96.1</td>\n",
       "      <td>75.2</td>\n",
       "      <td>94.8</td>\n",
       "      <td>83.4</td>\n",
       "      <td>Albania</td>\n",
       "      <td>2000-01-01</td>\n",
       "    </tr>\n",
       "    <tr>\n",
       "      <th>4</th>\n",
       "      <td>NaN</td>\n",
       "      <td>100.0</td>\n",
       "      <td>NaN</td>\n",
       "      <td>68.7</td>\n",
       "      <td>94.5</td>\n",
       "      <td>78.1</td>\n",
       "      <td>Albania</td>\n",
       "      <td>1990-01-01</td>\n",
       "    </tr>\n",
       "  </tbody>\n",
       "</table>\n",
       "</div>"
      ],
      "text/plain": [
       "   IWRuralPct  IWUrbanPct  IWPct  ISRuralPct  ISUrbanPct  ISPct      Country  \\\n",
       "0        47.0        78.2   55.3        27.0        45.1   31.9  Afghanistan   \n",
       "1        24.3        52.2   30.3        21.3        31.2   23.4  Afghanistan   \n",
       "2        95.2        94.9   95.1        90.2        95.5   93.2      Albania   \n",
       "3        93.3       100.0   96.1        75.2        94.8   83.4      Albania   \n",
       "4         NaN       100.0    NaN        68.7        94.5   78.1      Albania   \n",
       "\n",
       "        Year  \n",
       "0 2015-01-01  \n",
       "1 2000-01-01  \n",
       "2 2015-01-01  \n",
       "3 2000-01-01  \n",
       "4 1990-01-01  "
      ]
     },
     "execution_count": 20,
     "metadata": {},
     "output_type": "execute_result"
    }
   ],
   "source": [
    "#Cleaned Up Sanitation Data Set\n",
    "df_exp.head()"
   ]
  },
  {
   "cell_type": "code",
   "execution_count": 21,
   "metadata": {
    "collapsed": false
   },
   "outputs": [
    {
     "data": {
      "text/plain": [
       "IWRuralPct           float64\n",
       "IWUrbanPct           float64\n",
       "IWPct                float64\n",
       "ISRuralPct           float64\n",
       "ISUrbanPct           float64\n",
       "ISPct                float64\n",
       "Country               object\n",
       "Year          datetime64[ns]\n",
       "dtype: object"
      ]
     },
     "execution_count": 21,
     "metadata": {},
     "output_type": "execute_result"
    }
   ],
   "source": [
    "df_exp.dtypes"
   ]
  },
  {
   "cell_type": "markdown",
   "metadata": {},
   "source": [
    "## Health Services Data Preparation"
   ]
  },
  {
   "cell_type": "code",
   "execution_count": 22,
   "metadata": {
    "collapsed": false
   },
   "outputs": [],
   "source": [
    "to_drop = list(range(10,22))+ list(range(25,28))\n",
    "HS = HS.drop(HS.columns[to_drop], axis=1)\n",
    "HS.columns = [\"Country\", \"Total_pct_GDP2013\", \"Total_pct_GDP2012\", \"Total_pct_GDP2000\", \"Govt_pct_total2013\", \"Govt_pct_total2012\", \"Govt_pct_total2000\", \"Pvt_pct_total2013\", \"Pvt_pct_total2012\", \"Pvt_pct_total2000\", \"Pocket_pct_total2013\", \"Pocket_pct_total2012\", \"Pocket_pct_total2000\"]"
   ]
  },
  {
   "cell_type": "code",
   "execution_count": 23,
   "metadata": {
    "collapsed": false
   },
   "outputs": [
    {
     "data": {
      "text/plain": [
       "Index(['Country', 'Total_pct_GDP2013', 'Total_pct_GDP2012',\n",
       "       'Total_pct_GDP2000', 'Govt_pct_total2013', 'Govt_pct_total2012',\n",
       "       'Govt_pct_total2000', 'Pvt_pct_total2013', 'Pvt_pct_total2012',\n",
       "       'Pvt_pct_total2000', 'Pocket_pct_total2013', 'Pocket_pct_total2012',\n",
       "       'Pocket_pct_total2000'],\n",
       "      dtype='object')"
      ]
     },
     "execution_count": 23,
     "metadata": {},
     "output_type": "execute_result"
    }
   ],
   "source": [
    "HS.columns"
   ]
  },
  {
   "cell_type": "code",
   "execution_count": 24,
   "metadata": {
    "collapsed": false,
    "scrolled": true
   },
   "outputs": [
    {
     "name": "stderr",
     "output_type": "stream",
     "text": [
      "c:\\Users\\u958Pope\\AppData\\Local\\Continuum\\Anaconda3\\lib\\site-packages\\ipykernel\\__main__.py:5: SettingWithCopyWarning: \n",
      "A value is trying to be set on a copy of a slice from a DataFrame.\n",
      "Try using .loc[row_indexer,col_indexer] = value instead\n",
      "\n",
      "See the caveats in the documentation: http://pandas.pydata.org/pandas-docs/stable/indexing.html#indexing-view-versus-copy\n",
      "c:\\Users\\u958Pope\\AppData\\Local\\Continuum\\Anaconda3\\lib\\site-packages\\ipykernel\\__main__.py:6: SettingWithCopyWarning: \n",
      "A value is trying to be set on a copy of a slice from a DataFrame.\n",
      "Try using .loc[row_indexer,col_indexer] = value instead\n",
      "\n",
      "See the caveats in the documentation: http://pandas.pydata.org/pandas-docs/stable/indexing.html#indexing-view-versus-copy\n",
      "c:\\Users\\u958Pope\\AppData\\Local\\Continuum\\Anaconda3\\lib\\site-packages\\ipykernel\\__main__.py:7: SettingWithCopyWarning: \n",
      "A value is trying to be set on a copy of a slice from a DataFrame.\n",
      "Try using .loc[row_indexer,col_indexer] = value instead\n",
      "\n",
      "See the caveats in the documentation: http://pandas.pydata.org/pandas-docs/stable/indexing.html#indexing-view-versus-copy\n",
      "c:\\Users\\u958Pope\\AppData\\Local\\Continuum\\Anaconda3\\lib\\site-packages\\ipykernel\\__main__.py:8: SettingWithCopyWarning: \n",
      "A value is trying to be set on a copy of a slice from a DataFrame.\n",
      "Try using .loc[row_indexer,col_indexer] = value instead\n",
      "\n",
      "See the caveats in the documentation: http://pandas.pydata.org/pandas-docs/stable/indexing.html#indexing-view-versus-copy\n"
     ]
    }
   ],
   "source": [
    "#The challenge here is that this data is organized differently, with the years in the column headers\n",
    "HS2013 = HS.ix[:,[0,1,4,7, 10]]\n",
    "HS2012 = HS.ix[:,[0,2,5,8, 11]]\n",
    "HS2000 = HS.ix[:,[0,3,6,9, 12]]\n",
    "HS2013[\"Year\"] = pd.Series([2013]*len(HS2013))\n",
    "HS2013[\"Year\"] = pd.to_datetime(2013, format = '%Y')\n",
    "HS2012[\"Year\"] = pd.to_datetime(2012, format = '%Y')\n",
    "HS2000[\"Year\"] = pd.to_datetime(2000, format = '%Y')"
   ]
  },
  {
   "cell_type": "code",
   "execution_count": 25,
   "metadata": {
    "collapsed": false
   },
   "outputs": [
    {
     "data": {
      "text/html": [
       "<div>\n",
       "<table border=\"1\" class=\"dataframe\">\n",
       "  <thead>\n",
       "    <tr style=\"text-align: right;\">\n",
       "      <th></th>\n",
       "      <th>Country</th>\n",
       "      <th>Total_pct_GDP2013</th>\n",
       "      <th>Govt_pct_total2013</th>\n",
       "      <th>Pvt_pct_total2013</th>\n",
       "      <th>Pocket_pct_total2013</th>\n",
       "      <th>Year</th>\n",
       "    </tr>\n",
       "  </thead>\n",
       "  <tbody>\n",
       "    <tr>\n",
       "      <th>0</th>\n",
       "      <td>Afghanistan</td>\n",
       "      <td>8.1</td>\n",
       "      <td>21.2</td>\n",
       "      <td>78.8</td>\n",
       "      <td>73.8</td>\n",
       "      <td>2013-01-01</td>\n",
       "    </tr>\n",
       "    <tr>\n",
       "      <th>1</th>\n",
       "      <td>Albania</td>\n",
       "      <td>5.9</td>\n",
       "      <td>48.4</td>\n",
       "      <td>51.6</td>\n",
       "      <td>51.5</td>\n",
       "      <td>2013-01-01</td>\n",
       "    </tr>\n",
       "    <tr>\n",
       "      <th>2</th>\n",
       "      <td>Algeria</td>\n",
       "      <td>6.6</td>\n",
       "      <td>74.2</td>\n",
       "      <td>25.8</td>\n",
       "      <td>25.1</td>\n",
       "      <td>2013-01-01</td>\n",
       "    </tr>\n",
       "    <tr>\n",
       "      <th>3</th>\n",
       "      <td>Andorra</td>\n",
       "      <td>8.1</td>\n",
       "      <td>75.3</td>\n",
       "      <td>24.7</td>\n",
       "      <td>18.4</td>\n",
       "      <td>2013-01-01</td>\n",
       "    </tr>\n",
       "    <tr>\n",
       "      <th>4</th>\n",
       "      <td>Angola</td>\n",
       "      <td>3.8</td>\n",
       "      <td>66.7</td>\n",
       "      <td>33.3</td>\n",
       "      <td>24.4</td>\n",
       "      <td>2013-01-01</td>\n",
       "    </tr>\n",
       "  </tbody>\n",
       "</table>\n",
       "</div>"
      ],
      "text/plain": [
       "       Country  Total_pct_GDP2013  Govt_pct_total2013  Pvt_pct_total2013  \\\n",
       "0  Afghanistan                8.1                21.2               78.8   \n",
       "1      Albania                5.9                48.4               51.6   \n",
       "2      Algeria                6.6                74.2               25.8   \n",
       "3      Andorra                8.1                75.3               24.7   \n",
       "4       Angola                3.8                66.7               33.3   \n",
       "\n",
       "   Pocket_pct_total2013       Year  \n",
       "0                  73.8 2013-01-01  \n",
       "1                  51.5 2013-01-01  \n",
       "2                  25.1 2013-01-01  \n",
       "3                  18.4 2013-01-01  \n",
       "4                  24.4 2013-01-01  "
      ]
     },
     "execution_count": 25,
     "metadata": {},
     "output_type": "execute_result"
    }
   ],
   "source": [
    "HS2013.head()"
   ]
  },
  {
   "cell_type": "code",
   "execution_count": 26,
   "metadata": {
    "collapsed": false
   },
   "outputs": [],
   "source": [
    "col_names = [\"Country\", \"Total_pct_GDP\", \"Govt_pct_total\", \"Pvt_pct_total\", \"Pocket_pct_total\", \"Year\"]\n",
    "HS2013.columns = col_names\n",
    "HS2012.columns = col_names\n",
    "HS2000.columns = col_names"
   ]
  },
  {
   "cell_type": "code",
   "execution_count": 27,
   "metadata": {
    "collapsed": false
   },
   "outputs": [],
   "source": [
    "frames = [HS2000, HS2012, HS2013]\n",
    "df_hs = pd.concat(frames)"
   ]
  },
  {
   "cell_type": "code",
   "execution_count": 28,
   "metadata": {
    "collapsed": false
   },
   "outputs": [
    {
     "data": {
      "text/html": [
       "<div>\n",
       "<table border=\"1\" class=\"dataframe\">\n",
       "  <thead>\n",
       "    <tr style=\"text-align: right;\">\n",
       "      <th></th>\n",
       "      <th>Country</th>\n",
       "      <th>Total_pct_GDP</th>\n",
       "      <th>Govt_pct_total</th>\n",
       "      <th>Pvt_pct_total</th>\n",
       "      <th>Pocket_pct_total</th>\n",
       "      <th>Year</th>\n",
       "    </tr>\n",
       "  </thead>\n",
       "  <tbody>\n",
       "    <tr>\n",
       "      <th>0</th>\n",
       "      <td>Afghanistan</td>\n",
       "      <td>NaN</td>\n",
       "      <td>NaN</td>\n",
       "      <td>NaN</td>\n",
       "      <td>NaN</td>\n",
       "      <td>2000-01-01</td>\n",
       "    </tr>\n",
       "    <tr>\n",
       "      <th>1</th>\n",
       "      <td>Albania</td>\n",
       "      <td>6.3</td>\n",
       "      <td>36.1</td>\n",
       "      <td>63.9</td>\n",
       "      <td>63.8</td>\n",
       "      <td>2000-01-01</td>\n",
       "    </tr>\n",
       "    <tr>\n",
       "      <th>2</th>\n",
       "      <td>Algeria</td>\n",
       "      <td>3.5</td>\n",
       "      <td>73.3</td>\n",
       "      <td>26.7</td>\n",
       "      <td>25.8</td>\n",
       "      <td>2000-01-01</td>\n",
       "    </tr>\n",
       "    <tr>\n",
       "      <th>3</th>\n",
       "      <td>Andorra</td>\n",
       "      <td>6.0</td>\n",
       "      <td>64.8</td>\n",
       "      <td>35.2</td>\n",
       "      <td>26.6</td>\n",
       "      <td>2000-01-01</td>\n",
       "    </tr>\n",
       "    <tr>\n",
       "      <th>4</th>\n",
       "      <td>Angola</td>\n",
       "      <td>3.4</td>\n",
       "      <td>49.5</td>\n",
       "      <td>50.5</td>\n",
       "      <td>36.1</td>\n",
       "      <td>2000-01-01</td>\n",
       "    </tr>\n",
       "  </tbody>\n",
       "</table>\n",
       "</div>"
      ],
      "text/plain": [
       "       Country  Total_pct_GDP  Govt_pct_total  Pvt_pct_total  \\\n",
       "0  Afghanistan            NaN             NaN            NaN   \n",
       "1      Albania            6.3            36.1           63.9   \n",
       "2      Algeria            3.5            73.3           26.7   \n",
       "3      Andorra            6.0            64.8           35.2   \n",
       "4       Angola            3.4            49.5           50.5   \n",
       "\n",
       "   Pocket_pct_total       Year  \n",
       "0               NaN 2000-01-01  \n",
       "1              63.8 2000-01-01  \n",
       "2              25.8 2000-01-01  \n",
       "3              26.6 2000-01-01  \n",
       "4              36.1 2000-01-01  "
      ]
     },
     "execution_count": 28,
     "metadata": {},
     "output_type": "execute_result"
    }
   ],
   "source": [
    "df_hs.head()"
   ]
  },
  {
   "cell_type": "code",
   "execution_count": 29,
   "metadata": {
    "collapsed": false
   },
   "outputs": [
    {
     "data": {
      "text/plain": [
       "Country                     object\n",
       "Total_pct_GDP              float64\n",
       "Govt_pct_total             float64\n",
       "Pvt_pct_total              float64\n",
       "Pocket_pct_total           float64\n",
       "Year                datetime64[ns]\n",
       "dtype: object"
      ]
     },
     "execution_count": 29,
     "metadata": {},
     "output_type": "execute_result"
    }
   ],
   "source": [
    "df_hs.dtypes"
   ]
  },
  {
   "cell_type": "code",
   "execution_count": 30,
   "metadata": {
    "collapsed": false
   },
   "outputs": [
    {
     "data": {
      "text/plain": [
       "573"
      ]
     },
     "execution_count": 30,
     "metadata": {},
     "output_type": "execute_result"
    }
   ],
   "source": [
    "len(df_hs)"
   ]
  },
  {
   "cell_type": "markdown",
   "metadata": {},
   "source": [
    "## HIV Data Cleaning"
   ]
  },
  {
   "cell_type": "code",
   "execution_count": 31,
   "metadata": {
    "collapsed": false
   },
   "outputs": [],
   "source": [
    "#removes the ranges and > or < to make clean numbers\n",
    "variables = list(HIV.columns.values)\n",
    "for item in variables[1:]: \n",
    "    HIV[item] = HIV[item].map(lambda x: x.lstrip('<'))\n",
    "    HIV[item] = HIV[item].map(lambda x: x[0:3])\n",
    "HIV = HIV.replace(\"No \", np.nan)"
   ]
  },
  {
   "cell_type": "code",
   "execution_count": 32,
   "metadata": {
    "collapsed": true
   },
   "outputs": [],
   "source": [
    "#makes all of these into floats\n",
    "HIV.HIV2013 = pd.to_numeric(HIV.HIV2013)\n",
    "HIV.HIV2009 = pd.to_numeric(HIV.HIV2009)\n",
    "HIV.HIV2005 = pd.to_numeric(HIV.HIV2005)\n",
    "HIV.HIV2001 = pd.to_numeric(HIV.HIV2001)"
   ]
  },
  {
   "cell_type": "code",
   "execution_count": 33,
   "metadata": {
    "collapsed": false
   },
   "outputs": [
    {
     "data": {
      "text/html": [
       "<div>\n",
       "<table border=\"1\" class=\"dataframe\">\n",
       "  <thead>\n",
       "    <tr style=\"text-align: right;\">\n",
       "      <th></th>\n",
       "      <th>Country</th>\n",
       "      <th>HIV2013</th>\n",
       "      <th>HIV2009</th>\n",
       "      <th>HIV2005</th>\n",
       "      <th>HIV2001</th>\n",
       "    </tr>\n",
       "  </thead>\n",
       "  <tbody>\n",
       "    <tr>\n",
       "      <th>0</th>\n",
       "      <td>Afghanistan</td>\n",
       "      <td>0.1</td>\n",
       "      <td>0.1</td>\n",
       "      <td>0.1</td>\n",
       "      <td>0.1</td>\n",
       "    </tr>\n",
       "    <tr>\n",
       "      <th>1</th>\n",
       "      <td>Albania</td>\n",
       "      <td>0.1</td>\n",
       "      <td>0.1</td>\n",
       "      <td>0.1</td>\n",
       "      <td>0.1</td>\n",
       "    </tr>\n",
       "    <tr>\n",
       "      <th>2</th>\n",
       "      <td>Algeria</td>\n",
       "      <td>0.1</td>\n",
       "      <td>0.1</td>\n",
       "      <td>0.1</td>\n",
       "      <td>0.1</td>\n",
       "    </tr>\n",
       "    <tr>\n",
       "      <th>3</th>\n",
       "      <td>Angola</td>\n",
       "      <td>2.4</td>\n",
       "      <td>2.1</td>\n",
       "      <td>1.9</td>\n",
       "      <td>1.8</td>\n",
       "    </tr>\n",
       "    <tr>\n",
       "      <th>4</th>\n",
       "      <td>Argentina</td>\n",
       "      <td>NaN</td>\n",
       "      <td>NaN</td>\n",
       "      <td>NaN</td>\n",
       "      <td>NaN</td>\n",
       "    </tr>\n",
       "  </tbody>\n",
       "</table>\n",
       "</div>"
      ],
      "text/plain": [
       "       Country  HIV2013  HIV2009  HIV2005  HIV2001\n",
       "0  Afghanistan      0.1      0.1      0.1      0.1\n",
       "1      Albania      0.1      0.1      0.1      0.1\n",
       "2      Algeria      0.1      0.1      0.1      0.1\n",
       "3       Angola      2.4      2.1      1.9      1.8\n",
       "4    Argentina      NaN      NaN      NaN      NaN"
      ]
     },
     "execution_count": 33,
     "metadata": {},
     "output_type": "execute_result"
    }
   ],
   "source": [
    "HIV.head()"
   ]
  },
  {
   "cell_type": "code",
   "execution_count": 34,
   "metadata": {
    "collapsed": false
   },
   "outputs": [
    {
     "name": "stderr",
     "output_type": "stream",
     "text": [
      "c:\\Users\\u958Pope\\AppData\\Local\\Continuum\\Anaconda3\\lib\\site-packages\\ipykernel\\__main__.py:5: SettingWithCopyWarning: \n",
      "A value is trying to be set on a copy of a slice from a DataFrame.\n",
      "Try using .loc[row_indexer,col_indexer] = value instead\n",
      "\n",
      "See the caveats in the documentation: http://pandas.pydata.org/pandas-docs/stable/indexing.html#indexing-view-versus-copy\n",
      "c:\\Users\\u958Pope\\AppData\\Local\\Continuum\\Anaconda3\\lib\\site-packages\\ipykernel\\__main__.py:6: SettingWithCopyWarning: \n",
      "A value is trying to be set on a copy of a slice from a DataFrame.\n",
      "Try using .loc[row_indexer,col_indexer] = value instead\n",
      "\n",
      "See the caveats in the documentation: http://pandas.pydata.org/pandas-docs/stable/indexing.html#indexing-view-versus-copy\n",
      "c:\\Users\\u958Pope\\AppData\\Local\\Continuum\\Anaconda3\\lib\\site-packages\\ipykernel\\__main__.py:7: SettingWithCopyWarning: \n",
      "A value is trying to be set on a copy of a slice from a DataFrame.\n",
      "Try using .loc[row_indexer,col_indexer] = value instead\n",
      "\n",
      "See the caveats in the documentation: http://pandas.pydata.org/pandas-docs/stable/indexing.html#indexing-view-versus-copy\n",
      "c:\\Users\\u958Pope\\AppData\\Local\\Continuum\\Anaconda3\\lib\\site-packages\\ipykernel\\__main__.py:8: SettingWithCopyWarning: \n",
      "A value is trying to be set on a copy of a slice from a DataFrame.\n",
      "Try using .loc[row_indexer,col_indexer] = value instead\n",
      "\n",
      "See the caveats in the documentation: http://pandas.pydata.org/pandas-docs/stable/indexing.html#indexing-view-versus-copy\n"
     ]
    }
   ],
   "source": [
    "HIV2001 = HIV.ix[:,[0,4]]\n",
    "HIV2005 = HIV.ix[:,[0,3]]\n",
    "HIV2009 = HIV.ix[:,[0,2]]\n",
    "HIV2013 = HIV.ix[:,[0,1]]\n",
    "HIV2001[\"Year\"] = pd.to_datetime(2001, format = '%Y')\n",
    "HIV2005[\"Year\"] = pd.to_datetime(2005, format = '%Y')\n",
    "HIV2009[\"Year\"] = pd.to_datetime(2009, format = '%Y')\n",
    "HIV2013[\"Year\"] = pd.to_datetime(2013, format = '%Y')"
   ]
  },
  {
   "cell_type": "code",
   "execution_count": 35,
   "metadata": {
    "collapsed": false
   },
   "outputs": [],
   "source": [
    "HIV2001.columns = [\"Country\", \"HIV_Rate\", \"Year\"]\n",
    "HIV2005.columns = [\"Country\", \"HIV_Rate\", \"Year\"]\n",
    "HIV2009.columns = [\"Country\", \"HIV_Rate\", \"Year\"]\n",
    "HIV2013.columns = [\"Country\", \"HIV_Rate\", \"Year\"]"
   ]
  },
  {
   "cell_type": "code",
   "execution_count": 36,
   "metadata": {
    "collapsed": false
   },
   "outputs": [],
   "source": [
    "frames = [HIV2001, HIV2005, HIV2009, HIV2013]\n",
    "df_HIV = pd.concat(frames)"
   ]
  },
  {
   "cell_type": "code",
   "execution_count": 37,
   "metadata": {
    "collapsed": false
   },
   "outputs": [
    {
     "data": {
      "text/html": [
       "<div>\n",
       "<table border=\"1\" class=\"dataframe\">\n",
       "  <thead>\n",
       "    <tr style=\"text-align: right;\">\n",
       "      <th></th>\n",
       "      <th>Country</th>\n",
       "      <th>HIV_Rate</th>\n",
       "      <th>Year</th>\n",
       "    </tr>\n",
       "  </thead>\n",
       "  <tbody>\n",
       "    <tr>\n",
       "      <th>0</th>\n",
       "      <td>Afghanistan</td>\n",
       "      <td>0.1</td>\n",
       "      <td>2001-01-01</td>\n",
       "    </tr>\n",
       "    <tr>\n",
       "      <th>1</th>\n",
       "      <td>Albania</td>\n",
       "      <td>0.1</td>\n",
       "      <td>2001-01-01</td>\n",
       "    </tr>\n",
       "    <tr>\n",
       "      <th>2</th>\n",
       "      <td>Algeria</td>\n",
       "      <td>0.1</td>\n",
       "      <td>2001-01-01</td>\n",
       "    </tr>\n",
       "    <tr>\n",
       "      <th>3</th>\n",
       "      <td>Angola</td>\n",
       "      <td>1.8</td>\n",
       "      <td>2001-01-01</td>\n",
       "    </tr>\n",
       "    <tr>\n",
       "      <th>4</th>\n",
       "      <td>Argentina</td>\n",
       "      <td>NaN</td>\n",
       "      <td>2001-01-01</td>\n",
       "    </tr>\n",
       "  </tbody>\n",
       "</table>\n",
       "</div>"
      ],
      "text/plain": [
       "       Country  HIV_Rate       Year\n",
       "0  Afghanistan       0.1 2001-01-01\n",
       "1      Albania       0.1 2001-01-01\n",
       "2      Algeria       0.1 2001-01-01\n",
       "3       Angola       1.8 2001-01-01\n",
       "4    Argentina       NaN 2001-01-01"
      ]
     },
     "execution_count": 37,
     "metadata": {},
     "output_type": "execute_result"
    }
   ],
   "source": [
    "df_HIV.head()"
   ]
  },
  {
   "cell_type": "code",
   "execution_count": 38,
   "metadata": {
    "collapsed": false
   },
   "outputs": [
    {
     "data": {
      "text/plain": [
       "Country             object\n",
       "HIV_Rate           float64\n",
       "Year        datetime64[ns]\n",
       "dtype: object"
      ]
     },
     "execution_count": 38,
     "metadata": {},
     "output_type": "execute_result"
    }
   ],
   "source": [
    "df_HIV.dtypes"
   ]
  },
  {
   "cell_type": "code",
   "execution_count": 39,
   "metadata": {
    "collapsed": false
   },
   "outputs": [
    {
     "data": {
      "text/plain": [
       "632"
      ]
     },
     "execution_count": 39,
     "metadata": {},
     "output_type": "execute_result"
    }
   ],
   "source": [
    "len(df_HIV)"
   ]
  },
  {
   "cell_type": "code",
   "execution_count": 40,
   "metadata": {
    "collapsed": false
   },
   "outputs": [
    {
     "data": {
      "text/html": [
       "<div>\n",
       "<table border=\"1\" class=\"dataframe\">\n",
       "  <thead>\n",
       "    <tr style=\"text-align: right;\">\n",
       "      <th></th>\n",
       "      <th>Country</th>\n",
       "      <th>HIV2013</th>\n",
       "      <th>HIV2009</th>\n",
       "      <th>HIV2005</th>\n",
       "      <th>HIV2001</th>\n",
       "    </tr>\n",
       "  </thead>\n",
       "  <tbody>\n",
       "    <tr>\n",
       "      <th>0</th>\n",
       "      <td>Afghanistan</td>\n",
       "      <td>0.1</td>\n",
       "      <td>0.1</td>\n",
       "      <td>0.1</td>\n",
       "      <td>0.1</td>\n",
       "    </tr>\n",
       "    <tr>\n",
       "      <th>1</th>\n",
       "      <td>Albania</td>\n",
       "      <td>0.1</td>\n",
       "      <td>0.1</td>\n",
       "      <td>0.1</td>\n",
       "      <td>0.1</td>\n",
       "    </tr>\n",
       "    <tr>\n",
       "      <th>2</th>\n",
       "      <td>Algeria</td>\n",
       "      <td>0.1</td>\n",
       "      <td>0.1</td>\n",
       "      <td>0.1</td>\n",
       "      <td>0.1</td>\n",
       "    </tr>\n",
       "    <tr>\n",
       "      <th>3</th>\n",
       "      <td>Angola</td>\n",
       "      <td>2.4</td>\n",
       "      <td>2.1</td>\n",
       "      <td>1.9</td>\n",
       "      <td>1.8</td>\n",
       "    </tr>\n",
       "    <tr>\n",
       "      <th>4</th>\n",
       "      <td>Argentina</td>\n",
       "      <td>NaN</td>\n",
       "      <td>NaN</td>\n",
       "      <td>NaN</td>\n",
       "      <td>NaN</td>\n",
       "    </tr>\n",
       "  </tbody>\n",
       "</table>\n",
       "</div>"
      ],
      "text/plain": [
       "       Country  HIV2013  HIV2009  HIV2005  HIV2001\n",
       "0  Afghanistan      0.1      0.1      0.1      0.1\n",
       "1      Albania      0.1      0.1      0.1      0.1\n",
       "2      Algeria      0.1      0.1      0.1      0.1\n",
       "3       Angola      2.4      2.1      1.9      1.8\n",
       "4    Argentina      NaN      NaN      NaN      NaN"
      ]
     },
     "execution_count": 40,
     "metadata": {},
     "output_type": "execute_result"
    }
   ],
   "source": [
    "# Keeping alternate form for easier analyis of change over time. \n",
    "HIV.head()"
   ]
  },
  {
   "cell_type": "markdown",
   "metadata": {},
   "source": [
    "## Life Expectancy Data Exploration"
   ]
  },
  {
   "cell_type": "code",
   "execution_count": 92,
   "metadata": {
    "collapsed": false
   },
   "outputs": [
    {
     "data": {
      "text/plain": [
       "<matplotlib.lines.Line2D at 0xa780908>"
      ]
     },
     "execution_count": 92,
     "metadata": {},
     "output_type": "execute_result"
    },
    {
     "data": {
      "image/png": "[encoded data removed]",
      "text/plain": [
       "<matplotlib.figure.Figure at 0xa736240>"
      ]
     },
     "metadata": {},
     "output_type": "display_data"
    }
   ],
   "source": [
    "#historgram of HALE\n",
    "df_le_clean.hist('HALEatBirth', bins = 20)\n",
    "pyplot.ylabel(\"Countries\")\n",
    "pyplot.xlabel(\"Life Expectancy\")\n",
    "pyplot.title(\"Distribution of Healthy Life Expectancy\")\n",
    "pyplot.axvline(df_le_clean['HALEatBirth'].mean(), color='g', linestyle='dashed', linewidth=2)"
   ]
  },
  {
   "cell_type": "code",
   "execution_count": 93,
   "metadata": {
    "collapsed": false
   },
   "outputs": [
    {
     "data": {
      "text/plain": [
       "<matplotlib.lines.Line2D at 0xa70aeb8>"
      ]
     },
     "execution_count": 93,
     "metadata": {},
     "output_type": "execute_result"
    },
    {
     "data": {
      "image/png": "[encoded data removed]",
      "text/plain": [
       "<matplotlib.figure.Figure at 0xa7a6f60>"
      ]
     },
     "metadata": {},
     "output_type": "display_data"
    }
   ],
   "source": [
    "#histogram of Life Expectanct at Birth\n",
    "df_le_clean.hist('LEatBirth', bins = 20)\n",
    "pyplot.ylabel(\"Countries\")\n",
    "pyplot.xlabel(\"Life Expectancy\")\n",
    "pyplot.title(\"Distribution of Life Expectancy at Birth\")\n",
    "pyplot.axvline(df_le_clean['LEatBirth'].mean(), color='g', linestyle='dashed', linewidth=2)"
   ]
  },
  {
   "cell_type": "code",
   "execution_count": 94,
   "metadata": {
    "collapsed": false
   },
   "outputs": [
    {
     "data": {
      "text/plain": [
       "<matplotlib.lines.Line2D at 0xa8c8588>"
      ]
     },
     "execution_count": 94,
     "metadata": {},
     "output_type": "execute_result"
    },
    {
     "data": {
      "image/png": "[encoded data removed]",
      "text/plain": [
       "<matplotlib.figure.Figure at 0xa818c18>"
      ]
     },
     "metadata": {},
     "output_type": "display_data"
    }
   ],
   "source": [
    "#histogram of Life Expectanct at 60 - using adjusted values to represent total age\n",
    "df_le_clean.hist('LEat60-Adj', bins = 20)\n",
    "pyplot.ylabel(\"Countries\")\n",
    "pyplot.xlabel(\"Life Expectancy\")\n",
    "pyplot.title(\"Distribution of Life Expectancy at Age 60\")\n",
    "pyplot.axvline(df_le_clean['LEat60-Adj'].mean(), color='g', linestyle='dashed', linewidth=2)"
   ]
  },
  {
   "cell_type": "code",
   "execution_count": 95,
   "metadata": {
    "collapsed": false
   },
   "outputs": [
    {
     "data": {
      "text/plain": [
       "<matplotlib.legend.Legend at 0xa97b320>"
      ]
     },
     "execution_count": 95,
     "metadata": {},
     "output_type": "execute_result"
    },
    {
     "data": {
      "image/png": "[encoded data removed]",
      "text/plain": [
       "<matplotlib.figure.Figure at 0xa8fef60>"
      ]
     },
     "metadata": {},
     "output_type": "display_data"
    }
   ],
   "source": [
    "#compare all 3 on 1 graph\n",
    "df_le_clean[df_le_clean.Year=='2013-01-01'].LEatBirth.hist(label = \"Life Expectancy at Birth\", figsize = (10,5))\n",
    "df_le_clean[df_le_clean.Year=='2013-01-01']['LEat60-Adj'].hist(label = \"Life Expectancy at 60\", figsize = (10,5))\n",
    "df_le_clean[df_le_clean.Year=='2013-01-01']['HALEatBirth'].hist(label = \"HALE at Birth\", figsize = (10,5))\n",
    "pyplot.title (\"Comparison of Measures\")\n",
    "pyplot.xlabel(\"Life Expectancy\")\n",
    "pyplot.ylabel(\"Number of Countries\")\n",
    "pyplot.legend(bbox_to_anchor=(.4, 1))"
   ]
  },
  {
   "cell_type": "code",
   "execution_count": 96,
   "metadata": {
    "collapsed": false
   },
   "outputs": [
    {
     "data": {
      "text/plain": [
       "<matplotlib.legend.Legend at 0xa8f1dd8>"
      ]
     },
     "execution_count": 96,
     "metadata": {},
     "output_type": "execute_result"
    },
    {
     "data": {
      "image/png": "[encoded data removed]",
      "text/plain": [
       "<matplotlib.figure.Figure at 0xa8f1400>"
      ]
     },
     "metadata": {},
     "output_type": "display_data"
    }
   ],
   "source": [
    "# look in variations over time for LEatBirth\n",
    "df_le_clean[df_le_clean.Year=='2013-01-01'].LEatBirth.hist(label = \"2013\", figsize = (10,5))\n",
    "df_le_clean[df_le_clean.Year=='2012-01-01'].LEatBirth.hist(label = \"2012\", figsize = (10,5))\n",
    "df_le_clean[df_le_clean.Year=='2000-01-01'].LEatBirth.hist(label = '2000', figsize = (10,5))\n",
    "pyplot.title (\"Variations in Life Expectancy over Time\")\n",
    "pyplot.xlabel(\"Life Expectancy at Birth\")\n",
    "pyplot.ylabel(\"Number of Countries\")\n",
    "pyplot.legend()"
   ]
  },
  {
   "cell_type": "code",
   "execution_count": 97,
   "metadata": {
    "collapsed": true
   },
   "outputs": [],
   "source": [
    "#creating a list of bins to group the year data\n",
    "ranges = [0, 49, 54, 59, 64, 69, 74, 79, 150]\n",
    "labels = ['Under 50','50-55','55-60','60-65', '65-70', '70-75', '75-80', 'Over 80']\n",
    "df_le_clean['LEB'] = pd.cut(df_le_clean['LEatBirth'], ranges, labels=labels).astype('category')\n",
    "df_le_clean['LE60-Adj'] = pd.cut(df_le_clean['LEat60-Adj'], ranges, labels=labels).astype('category')\n",
    "df_le_clean['HALE'] = pd.cut(df_le_clean['HALEatBirth'], ranges, labels=labels).astype('category')"
   ]
  },
  {
   "cell_type": "code",
   "execution_count": 98,
   "metadata": {
    "collapsed": false
   },
   "outputs": [
    {
     "data": {
      "text/html": [
       "<div>\n",
       "<table border=\"1\" class=\"dataframe\">\n",
       "  <thead>\n",
       "    <tr style=\"text-align: right;\">\n",
       "      <th></th>\n",
       "      <th>LEB</th>\n",
       "      <th>LE60-Adj</th>\n",
       "      <th>HALE</th>\n",
       "    </tr>\n",
       "  </thead>\n",
       "  <tbody>\n",
       "    <tr>\n",
       "      <th>count</th>\n",
       "      <td>776</td>\n",
       "      <td>776</td>\n",
       "      <td>582</td>\n",
       "    </tr>\n",
       "    <tr>\n",
       "      <th>unique</th>\n",
       "      <td>8</td>\n",
       "      <td>3</td>\n",
       "      <td>7</td>\n",
       "    </tr>\n",
       "    <tr>\n",
       "      <th>top</th>\n",
       "      <td>70-75</td>\n",
       "      <td>75-80</td>\n",
       "      <td>60-65</td>\n",
       "    </tr>\n",
       "    <tr>\n",
       "      <th>freq</th>\n",
       "      <td>190</td>\n",
       "      <td>457</td>\n",
       "      <td>157</td>\n",
       "    </tr>\n",
       "  </tbody>\n",
       "</table>\n",
       "</div>"
      ],
      "text/plain": [
       "          LEB LE60-Adj   HALE\n",
       "count     776      776    582\n",
       "unique      8        3      7\n",
       "top     70-75    75-80  60-65\n",
       "freq      190      457    157"
      ]
     },
     "execution_count": 98,
     "metadata": {},
     "output_type": "execute_result"
    }
   ],
   "source": [
    "df_le_clean[['LEB', 'LE60-Adj', 'HALE']].describe()\n"
   ]
  },
  {
   "cell_type": "code",
   "execution_count": 99,
   "metadata": {
    "collapsed": false
   },
   "outputs": [
    {
     "data": {
      "text/plain": [
       "70-75       190\n",
       "75-80       168\n",
       "65-70       108\n",
       "60-65        82\n",
       "Over 80      75\n",
       "55-60        61\n",
       "50-55        46\n",
       "Under 50     46\n",
       "dtype: int64"
      ]
     },
     "execution_count": 99,
     "metadata": {},
     "output_type": "execute_result"
    }
   ],
   "source": [
    "df_le_clean['LEB'].value_counts()"
   ]
  },
  {
   "cell_type": "code",
   "execution_count": 100,
   "metadata": {
    "collapsed": false
   },
   "outputs": [
    {
     "data": {
      "text/plain": [
       "<matplotlib.text.Text at 0xac1dd68>"
      ]
     },
     "execution_count": 100,
     "metadata": {},
     "output_type": "execute_result"
    },
    {
     "data": {
      "image/png": "[encoded data removed]",
      "text/plain": [
       "<matplotlib.figure.Figure at 0xaa435c0>"
      ]
     },
     "metadata": {},
     "output_type": "display_data"
    }
   ],
   "source": [
    "#Look ar records from 2013\n",
    "df_le_2013 = df_le_clean[df_le_clean['Year'] == '2013-01-01']\n",
    "df_le_2013.groupby(['LEB'])['Country'].count().plot(kind='barh', figsize=(10,5))\n",
    "pyplot.xlabel(\"Number of Countries\")\n",
    "pyplot.ylabel(\"Life Expectancy at Birth (grouped)\")"
   ]
  },
  {
   "cell_type": "code",
   "execution_count": 101,
   "metadata": {
    "collapsed": true
   },
   "outputs": [],
   "source": [
    "#group by country\n",
    "le_by_country = df_le_clean.groupby('Country')"
   ]
  },
  {
   "cell_type": "code",
   "execution_count": 102,
   "metadata": {
    "collapsed": false
   },
   "outputs": [
    {
     "data": {
      "text/plain": [
       "<matplotlib.text.Text at 0xab23828>"
      ]
     },
     "execution_count": 102,
     "metadata": {},
     "output_type": "execute_result"
    },
    {
     "data": {
      "image/png": "[encoded data removed]",
      "text/plain": [
       "<matplotlib.figure.Figure at 0xa738828>"
      ]
     },
     "metadata": {},
     "output_type": "display_data"
    }
   ],
   "source": [
    "#Countries with the shortest life expectancy\n",
    "le_by_country['LEatBirth'].mean()[le_by_country['LEatBirth'].mean()<50].plot(kind='barh')\n",
    "pyplot.xlabel(\"Life Expectancy\")\n",
    "pyplot.title(\"Countries with Shortest Life Expectancy\")"
   ]
  },
  {
   "cell_type": "code",
   "execution_count": 103,
   "metadata": {
    "collapsed": false
   },
   "outputs": [
    {
     "data": {
      "text/plain": [
       "<matplotlib.text.Text at 0xab91518>"
      ]
     },
     "execution_count": 103,
     "metadata": {},
     "output_type": "execute_result"
    },
    {
     "data": {
      "image/png": "[encoded data removed]",
      "text/plain": [
       "<matplotlib.figure.Figure at 0xa7204a8>"
      ]
     },
     "metadata": {},
     "output_type": "display_data"
    }
   ],
   "source": [
    "#countries with the highest Life Expectancies\n",
    "le_by_country['LEatBirth'].mean()[le_by_country['LEatBirth'].mean()>80].plot(kind='barh')\n",
    "pyplot.xlabel(\"Life Expectancy\")\n",
    "pyplot.title(\"Countries with Longest Life Expectancy\")"
   ]
  },
  {
   "cell_type": "code",
   "execution_count": 104,
   "metadata": {
    "collapsed": false
   },
   "outputs": [
    {
     "data": {
      "text/plain": [
       "Country\n",
       "Sierra Leone                        29.5\n",
       "Angola                              27.0\n",
       "Zambia                              26.0\n",
       "Central African Republic            26.0\n",
       "Chad                                26.0\n",
       "Lesotho                             26.0\n",
       "Mozambique                          25.5\n",
       "Nigeria                             25.0\n",
       "Democratic Republic of the Congo    24.5\n",
       "Somalia                             24.0\n",
       "dtype: float64"
      ]
     },
     "execution_count": 104,
     "metadata": {},
     "output_type": "execute_result"
    }
   ],
   "source": [
    "# look at countries with largest difference b/t LEatBirth and LEat60 (using median values across years of data)\n",
    "le_variance = abs(le_by_country['LEatBirth'].median() - (le_by_country['LEat60'].median() + 60)).sort_values(ascending=False)\n",
    "le_variance.head(10)"
   ]
  },
  {
   "cell_type": "code",
   "execution_count": 140,
   "metadata": {
    "collapsed": true
   },
   "outputs": [],
   "source": [
    "?df_le_clean.plot()"
   ]
  },
  {
   "cell_type": "code",
   "execution_count": 151,
   "metadata": {
    "collapsed": false
   },
   "outputs": [
    {
     "data": {
      "text/plain": [
       "<matplotlib.text.Text at 0xc531208>"
      ]
     },
     "execution_count": 151,
     "metadata": {},
     "output_type": "execute_result"
    },
    {
     "data": {
      "image/png": "[encoded data removed]",
      "text/plain": [
       "<matplotlib.figure.Figure at 0xc7c02e8>"
      ]
     },
     "metadata": {},
     "output_type": "display_data"
    }
   ],
   "source": [
    "#stats = ['LEatBirth', 'LEat60-Adj', 'HALEatBirth']\n",
    "df_le_clean[['LEatBirth', 'LEat60-Adj', 'HALEatBirth']].plot(kind='box', return_type='axes', rot=30)\n",
    "pyplot.title (\"Variation\")\n",
    "pyplot.ylabel(\"Life Expectancy\")"
   ]
  },
  {
   "cell_type": "code",
   "execution_count": 161,
   "metadata": {
    "collapsed": false
   },
   "outputs": [
    {
     "data": {
      "text/plain": [
       "<matplotlib.legend.Legend at 0xdaa2c18>"
      ]
     },
     "execution_count": 161,
     "metadata": {},
     "output_type": "execute_result"
    },
    {
     "data": {
      "image/png": "[encoded data removed]",
      "text/plain": [
       "<matplotlib.figure.Figure at 0xdaa2198>"
      ]
     },
     "metadata": {},
     "output_type": "display_data"
    }
   ],
   "source": [
    "# look at spread by global region\n",
    "df_le_clean.groupby('Region')[['HALEatBirth', 'LEat60-Adj', 'LEatBirth']].mean().plot(kind = 'bar', figsize = (8,8), rot=30)\n",
    "pyplot.title (\"View by Global Region\")\n",
    "pyplot.ylabel(\"Life Expectancy\")\n",
    "pyplot.legend([\"HALE at Birth\", 'LE at 60', 'LE at Birth'], bbox_to_anchor=(.28, 1.2))\n"
   ]
  },
  {
   "cell_type": "markdown",
   "metadata": {},
   "source": [
    "## Aid Exploration"
   ]
  },
  {
   "cell_type": "code",
   "execution_count": null,
   "metadata": {
    "collapsed": false
   },
   "outputs": [],
   "source": [
    "commitments_by_country['Commitments'].mean().hist()\n",
    "pyplot.xlabel(\"Millions of US Dollars Committed\")\n",
    "pyplot.title(\"Distribution of Aid Committed, in US Millions\")"
   ]
  },
  {
   "cell_type": "code",
   "execution_count": null,
   "metadata": {
    "collapsed": false
   },
   "outputs": [],
   "source": [
    "commitments_by_country['Commitments'].mean()[commitments_by_country['Commitments'].mean()>250].plot(kind='barh')\n",
    "pyplot.title(\"Countries with Highest Aid Reciepts\")\n",
    "pyplot.xlabel(\"Millions of Dollars Committed to Country\")"
   ]
  },
  {
   "cell_type": "markdown",
   "metadata": {},
   "source": [
    "## Water and Santiation Exploration"
   ]
  },
  {
   "cell_type": "code",
   "execution_count": null,
   "metadata": {
    "collapsed": false
   },
   "outputs": [],
   "source": [
    "# Histograms by year for Rural access to water\n",
    "df_exp[df_exp.Year=='1990'].IWRuralPct.plot(figsize=(7,7), kind=\"hist\", bins=20, label=\"1990\", xlim=(0, 100), ylim=(0, 150), grid=True)\n",
    "df_exp[df_exp.Year=='2000'].IWRuralPct.plot(kind=\"hist\", bins=20, label=\"2000\", grid=True)\n",
    "df_exp[df_exp.Year=='2015'].IWRuralPct.plot(kind=\"hist\", bins=20, label=\"2015\", grid=True)\n",
    "pyplot.title(\"Rural Access to Drinking Water\")\n",
    "pyplot.xlabel(\"Access Pct\")\n",
    "pyplot.ylabel(\"Number of Countries\")\n",
    "pyplot.legend()"
   ]
  },
  {
   "cell_type": "code",
   "execution_count": null,
   "metadata": {
    "collapsed": false
   },
   "outputs": [],
   "source": [
    "# Histograms by year for Urban access to water\n",
    "df_exp[df_exp.Year=='1990'].IWUrbanPct.plot(figsize=(7,7), kind=\"hist\", bins=13, label=\"1990\", xlim=(0, 100), ylim=(0, 150), grid=True)\n",
    "df_exp[df_exp.Year=='2000'].IWUrbanPct.plot(kind=\"hist\", bins=13, label=\"2000\", grid=True)\n",
    "df_exp[df_exp.Year=='2015'].IWUrbanPct.plot(kind=\"hist\", bins=13, label=\"2015\", grid=True)\n",
    "pyplot.title(\"Urban Access to Drinking Water\")\n",
    "pyplot.xlabel(\"Access Pct\")\n",
    "pyplot.ylabel(\"Number of Countries\")\n",
    "pyplot.legend()"
   ]
  },
  {
   "cell_type": "code",
   "execution_count": null,
   "metadata": {
    "collapsed": false
   },
   "outputs": [],
   "source": [
    "# Histograms by year for Overall access to water\n",
    "df_exp[df_exp.Year=='1990'].IWPct.plot(figsize=(7,7), kind=\"hist\", bins=15, label=\"1990\", xlim=(0, 100), ylim=(0, 150), grid=True)\n",
    "df_exp[df_exp.Year=='2000'].IWPct.plot(kind=\"hist\", bins=15, label=\"2000\", grid=True)\n",
    "df_exp[df_exp.Year=='2015'].IWPct.plot(kind=\"hist\", bins=15, label=\"2015\", grid=True)\n",
    "pyplot.title(\"Overall Access to Drinking Water\")\n",
    "pyplot.xlabel(\"Access Pct\")\n",
    "pyplot.ylabel(\"Number of Countries\")\n",
    "pyplot.legend()"
   ]
  },
  {
   "cell_type": "code",
   "execution_count": null,
   "metadata": {
    "collapsed": false
   },
   "outputs": [],
   "source": [
    "# Histograms by year for total access to sanitation\n",
    "df_exp[df_exp.Year=='1990'].ISPct.plot(figsize=(7,7), kind=\"hist\", bins=20, label=\"1990\", xlim=(0, 100), ylim=(0, 150), grid=True)\n",
    "df_exp[df_exp.Year=='2000'].ISPct.plot(kind=\"hist\", bins=20, label=\"2000\", grid=True)\n",
    "df_exp[df_exp.Year=='2015'].ISPct.plot(kind=\"hist\", bins=20, label=\"2015\", grid=True)\n",
    "pyplot.title(\"Overall Access to Sanitation\")\n",
    "pyplot.xlabel(\"Access Pct\")\n",
    "pyplot.ylabel(\"Number of Countries\")\n",
    "pyplot.legend()"
   ]
  },
  {
   "cell_type": "code",
   "execution_count": null,
   "metadata": {
    "collapsed": false
   },
   "outputs": [],
   "source": [
    "# Countries with lowest combined rural access to water & sanitation\n",
    "exp_by_country = df_exp.groupby('Country')\n",
    "exp_by_country.mean()[(exp_by_country.IWRuralPct.mean() + exp_by_country.ISRuralPct.mean()) < 50]"
   ]
  },
  {
   "cell_type": "code",
   "execution_count": null,
   "metadata": {
    "collapsed": false
   },
   "outputs": [],
   "source": [
    "exp_by_country.IWRuralPct.mean()[(exp_by_country.IWRuralPct.mean() + exp_by_country.ISRuralPct.mean()) < 50].plot(legend = True, label = \"Clean Water\", kind = \"barh\")\n",
    "exp_by_country.ISRuralPct.mean()[(exp_by_country.IWRuralPct.mean() + exp_by_country.ISRuralPct.mean()) < 50].plot(legend = True, label = \"Sanitation\", color = \"g\", kind = \"barh\")\n",
    "pyplot.title(\"Rural Access to Clean water and Sanitation in Countries with Least Access \")\n",
    "pyplot.xlabel(\"Percent of Rural Population with Access\")"
   ]
  },
  {
   "cell_type": "markdown",
   "metadata": {},
   "source": [
    "# Comparing Access to Water and Sanitation against Life Expectancy"
   ]
  },
  {
   "cell_type": "code",
   "execution_count": null,
   "metadata": {
    "collapsed": false
   },
   "outputs": [],
   "source": [
    "# Function to make 2013 data look like 2015 data so we can join 2015 to 2015 data\n",
    "from datetime import datetime\n",
    "def push2015(value):\n",
    "    if value == datetime.strptime('2013','%Y'):\n",
    "        return datetime.strptime('2015','%Y')\n",
    "    else:\n",
    "        return value"
   ]
  },
  {
   "cell_type": "code",
   "execution_count": null,
   "metadata": {
    "collapsed": true
   },
   "outputs": [],
   "source": [
    "df_le_clean_w = df_le_clean"
   ]
  },
  {
   "cell_type": "code",
   "execution_count": null,
   "metadata": {
    "collapsed": false
   },
   "outputs": [],
   "source": [
    "df_le_clean_w['Year'] = df_le_clean_w['Year'].apply(push2015)"
   ]
  },
  {
   "cell_type": "code",
   "execution_count": null,
   "metadata": {
    "collapsed": true
   },
   "outputs": [],
   "source": [
    "# We don't have water data for 2012, so remove it from our comparison set\n",
    "df_le_clean_w = df_le_clean_w[df_le_clean_w.Year != '2012']"
   ]
  },
  {
   "cell_type": "code",
   "execution_count": null,
   "metadata": {
    "collapsed": true
   },
   "outputs": [],
   "source": [
    "# Merge (Join) Life Expectancy and Water data\n",
    "df_le_exp = pd.merge(df_le_clean_w, df_exp)"
   ]
  },
  {
   "cell_type": "code",
   "execution_count": null,
   "metadata": {
    "collapsed": true
   },
   "outputs": [],
   "source": [
    "# Only look at countries where we have 3 years of samples in both LE and Water\n",
    "df3 = df_le_exp['Country'].groupby(df_le_exp['Country']).count()\n",
    "df3 = df3.to_frame()\n",
    "df3.columns = ['Count']\n",
    "df3.reset_index(level=0, inplace=True)\n",
    "df3 = df3[df3.Count == 3]\n",
    "df3_le_exp = pd.merge(df_le_exp, df3)"
   ]
  },
  {
   "cell_type": "code",
   "execution_count": null,
   "metadata": {
    "collapsed": false
   },
   "outputs": [],
   "source": [
    "# Examine correlations between Water/Sanitation Access and Life Expectancy\n",
    "df3_le_exp_corr = df3_le_exp.corr()\n",
    "df3_le_exp_corr = df3_le_exp_corr[['IWRuralPct','IWUrbanPct','IWPct','ISRuralPct','ISUrbanPct','ISPct']]\n",
    "df3_le_exp_corr.loc[:'LEatBirth']"
   ]
  },
  {
   "cell_type": "markdown",
   "metadata": {},
   "source": [
    "## Health Services Data Exploration"
   ]
  },
  {
   "cell_type": "code",
   "execution_count": null,
   "metadata": {
    "collapsed": false
   },
   "outputs": [],
   "source": [
    "df_hs.head()"
   ]
  },
  {
   "cell_type": "code",
   "execution_count": null,
   "metadata": {
    "collapsed": false
   },
   "outputs": [],
   "source": [
    "df_hs.Total_pct_GDP[df_hs.Year =='2013'].hist()\n",
    "pyplot.xlabel(\"Percent of GDP spent on Health, 2013\")\n",
    "pyplot.ylabel(\"# of Countries\")\n",
    "pyplot.title(\"Distribution of Total Health Expenditures as a Percent of GDP\")\n",
    "pyplot.axvline(HS[\"Total_pct_GDP2013\"].mean(), color='c', linestyle='dashed', linewidth=2)"
   ]
  },
  {
   "cell_type": "code",
   "execution_count": null,
   "metadata": {
    "collapsed": false
   },
   "outputs": [],
   "source": [
    "df_hs.Total_pct_GDP[df_hs.Year =='2000'].hist()\n",
    "pyplot.xlabel(\"Percent of GDP spent on Health, 2000\")\n",
    "pyplot.ylabel(\"# of Countries\")\n",
    "pyplot.title(\"Distribution of Total Health Expenditures as a Percent of GDP\")\n",
    "pyplot.axvline(HS[\"Total_pct_GDP2000\"].mean(), color='c', linestyle='dashed', linewidth=2)"
   ]
  },
  {
   "cell_type": "code",
   "execution_count": null,
   "metadata": {
    "collapsed": false
   },
   "outputs": [],
   "source": [
    "# All of the countries with government expeditures 2 or more standard deviations above the mean\n",
    "hs_2013 = df_hs[df_hs.Year =='2013']\n",
    "cut_off = hs_2013.Total_pct_GDP.mean() + 2*hs_2013.Total_pct_GDP.std() \n",
    "cut_off\n",
    "hs_2013_subset = hs_2013[hs_2013.Total_pct_GDP >= cut_off]\n",
    "hs_2013_subset.set_index(\"Country\", inplace = True)\n",
    "hs_2013_subset.Total_pct_GDP.plot(kind = \"barh\")\n",
    "pyplot.title(\"Countries with Overall Expeditures(% of GDP) 2 Standard Deviations above the Mean\")\n",
    "pyplot.xlabel(\"Percent of GDP spent on Health\")"
   ]
  },
  {
   "cell_type": "markdown",
   "metadata": {},
   "source": [
    "## HIV Prevalance Exploration"
   ]
  },
  {
   "cell_type": "code",
   "execution_count": null,
   "metadata": {
    "collapsed": false
   },
   "outputs": [],
   "source": [
    "df_HIV.HIV_Rate[df_HIV.Year == \"2013\"].hist(bins = 30, color = 'c')\n",
    "pyplot.xlabel(\"HIV Prevalance, 2013\")\n",
    "pyplot.ylabel(\"# of Countries\")\n",
    "pyplot.title(\"Distribution of HIV Prevalances, 2013\")\n",
    "pyplot.axvline(HIV.HIV2013.mean(), color='b', linestyle='dashed', linewidth=2)"
   ]
  },
  {
   "cell_type": "code",
   "execution_count": null,
   "metadata": {
    "collapsed": false
   },
   "outputs": [],
   "source": [
    "df_HIV.HIV_Rate[df_HIV.Year == \"2001\"].hist(bins = 30, color = 'g')\n",
    "pyplot.xlabel(\"HIV Prevalance, 2001\")\n",
    "pyplot.ylabel(\"# of Countries\")\n",
    "pyplot.title(\"Distribution of HIV Prevalances, 2001\")\n",
    "pyplot.axvline(HIV.HIV2013.mean(), color='b', linestyle='dashed', linewidth=2)"
   ]
  },
  {
   "cell_type": "code",
   "execution_count": null,
   "metadata": {
    "collapsed": false
   },
   "outputs": [],
   "source": [
    "# All of the countries with HIV rates over 10%\n",
    "hiv_2013 = df_HIV[df_HIV.Year =='2013']\n",
    "hiv_2013_subset = hiv_2013[hiv_2013.HIV_Rate >= 10]\n",
    "high_HIV_countries = hiv_2013_subset.Country\n",
    "hiv_2013_subset.set_index(\"Country\", inplace = True)\n",
    "hiv_2013_subset.HIV_Rate.plot(kind = \"barh\")\n",
    "pyplot.title(\"Countries with HIV Prevalances of more than 10% in 2013\")\n",
    "pyplot.xlabel(\"Percent of population with HIV\")"
   ]
  },
  {
   "cell_type": "code",
   "execution_count": null,
   "metadata": {
    "collapsed": false
   },
   "outputs": [],
   "source": [
    "#Change in HIV prevalances between 2001 and 2013\n",
    "HIV[\"Increase\"] = HIV[\"HIV2013\"] - HIV[\"HIV2001\"]\n",
    "HIV.Increase.hist(bins = 20)\n",
    "pyplot.xlabel(\"Change in HIV Prevalance\")\n",
    "pyplot.ylabel(\"# of Countries\")\n",
    "pyplot.title(\"Distribution of Change in HIV Prevalances, 2001-2013\")\n",
    "pyplot.axvline(HIV.Increase.mean(), color='c', linestyle='dashed', linewidth=2)"
   ]
  },
  {
   "cell_type": "code",
   "execution_count": null,
   "metadata": {
    "collapsed": false
   },
   "outputs": [],
   "source": [
    "# Current HIV Rate of all of the countries who have decreased thier HIV rate by more than 2%\n",
    "HIV_decrease = HIV[HIV.Increase <= -2]\n",
    "HIV_decrease.set_index(\"Country\", inplace = True)\n",
    "HIV_decrease.HIV2013.plot(kind = \"barh\", color = 'r')\n",
    "pyplot.title(\"HIV Prevalance in Countries in which HIV Rate has Fallen by 2% or More 2001-2013\")\n",
    "pyplot.xlabel(\"Percent of population with HIV\")"
   ]
  },
  {
   "cell_type": "code",
   "execution_count": null,
   "metadata": {
    "collapsed": false
   },
   "outputs": [],
   "source": [
    "#HIV Rate over time in countries with high HIV prevalence\n",
    "cols = [\"Country\",\"HIV2001\", \"HIV2005\", \"HIV2009\", \"HIV2013\"]\n",
    "HIV_ordered = HIV[cols]\n",
    "HIV_ordered.columns = [\"Country\", \"2001\", \"2005\", \"2009\", \"2013\"]\n",
    "highHIV = HIV_ordered[HIV_ordered[\"2013\"] >10]\n",
    "highHIV.set_index(\"Country\", inplace = True)\n",
    "highHIV_flipped = highHIV.T\n",
    "highHIV_flipped.plot( figsize = (10,10))\n",
    "pyplot.title(\"Changes over time in HIV Prevalance in Countries with High HIV Rates\")\n",
    "pyplot.ylabel(\"HIV Prevalance (%)\")"
   ]
  }
 ],
 "metadata": {
  "kernelspec": {
   "display_name": "Python 3",
   "language": "python",
   "name": "python3"
  },
  "language_info": {
   "codemirror_mode": {
    "name": "ipython",
    "version": 3
   },
   "file_extension": ".py",
   "mimetype": "text/x-python",
   "name": "python",
   "nbconvert_exporter": "python",
   "pygments_lexer": "ipython3",
   "version": "3.5.1"
  }
 },
 "nbformat": 4,
 "nbformat_minor": 0
}
