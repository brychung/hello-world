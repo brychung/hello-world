{
 "cells": [
  {
   "cell_type": "markdown",
   "metadata": {},
   "source": [
    "# Exploring Life Expectancy, Aid, Health Services, and Access"
   ]
  },
  {
   "cell_type": "markdown",
   "metadata": {},
   "source": [
    "Team: Andrea Pope, Dominic Delmolino, Sarah Kelley"
   ]
  },
  {
   "cell_type": "markdown",
   "metadata": {},
   "source": [
    "Data came from the World Health Organization, available at http://apps.who.int/gho/data/node.main. We downloaded individual data sets for Life Expectancy, Aid, Health Services, HIV prevalances, and Acccess. "
   ]
  },
  {
   "cell_type": "markdown",
   "metadata": {},
   "source": [
    "## Imports and Data"
   ]
  },
  {
   "cell_type": "code",
   "execution_count": 1,
   "metadata": {
    "collapsed": true
   },
   "outputs": [],
   "source": [
    "%matplotlib inline\n",
    "import numpy as np\n",
    "import pandas as pd\n",
    "import matplotlib.pyplot as pyplot"
   ]
  },
  {
   "cell_type": "markdown",
   "metadata": {},
   "source": [
    "Data Imports:"
   ]
  },
  {
   "cell_type": "code",
   "execution_count": 2,
   "metadata": {
    "collapsed": false
   },
   "outputs": [],
   "source": [
    "df_le = pd.read_csv(\"LifeExpectancy.csv\") #various life expectancy measures\n",
    "HIV = pd.read_csv(\"HIV.csv\") #HIV prevalance\n",
    "HS = pd.read_csv(\"health_services.csv\") #Expenditures on Health Services\n",
    "df_exp = pd.read_csv(\"access_to_water.csv\") #Access to clean water and sanitation\n",
    "df_c = pd.read_csv(\"Commitments_n_DisbursementsofAidbyCountry.csv\")"
   ]
  },
  {
   "cell_type": "markdown",
   "metadata": {},
   "source": [
    "## Life Expectancy Data Preparation"
   ]
  },
  {
   "cell_type": "code",
   "execution_count": 3,
   "metadata": {
    "collapsed": false
   },
   "outputs": [],
   "source": [
    "df_le.columns = [\"Country; Year\", \"LEatBirth\", \"LEatBirthFem\", \"LEatBirthMale\",\"LEat60\", \"LEat60Female\", \n",
    "                 \"LEat60Male\",\"HALEatBirth\",\"HALEatBirthFemale\", \"HALEatBirthMale\"]\n",
    "# Seperating Country from Year in initial cell to 2 separate cells\n",
    "df_le['Country'], df_le['Year'] = zip(*df_le['Country; Year'].apply(lambda x: x.split('; ', 1)))"
   ]
  },
  {
   "cell_type": "code",
   "execution_count": 4,
   "metadata": {
    "collapsed": false
   },
   "outputs": [],
   "source": [
    "# convert year into date format\n",
    "df_le['Year'] = pd.to_datetime(df_le['Year'], format='%Y')"
   ]
  },
  {
   "cell_type": "code",
   "execution_count": 5,
   "metadata": {
    "collapsed": true
   },
   "outputs": [],
   "source": [
    "# function to use on number fields that contain multiple answers, in order to update number fields appropriately\n",
    "# data is at year level, so ints can be used (vs floats)\n",
    "def clean_le(value):\n",
    "    if type(value) == type(np.NaN):\n",
    "        return np.NaN\n",
    "    return int(value[0:2])"
   ]
  },
  {
   "cell_type": "code",
   "execution_count": 6,
   "metadata": {
    "collapsed": true
   },
   "outputs": [],
   "source": [
    "# used to convert to float, but check for NaN values first\n",
    "def clean_float(value):\n",
    "    if type(value) == type(np.NaN):\n",
    "        return np.NaN\n",
    "    return float(value)"
   ]
  },
  {
   "cell_type": "code",
   "execution_count": 7,
   "metadata": {
    "collapsed": false
   },
   "outputs": [],
   "source": [
    "# Clean up healthy life expectancy at birth, life expectancy at birth and at 60\n",
    "df_le['HALEatBirth'] = df_le['HALEatBirth'].apply(clean_le) \n",
    "#df_le['LEatBirth'] = df_le['LEatBirth'].apply(clean_le)\n",
    "#df_le['LEat60'] = df_le['LEat60'].apply(clean_le)"
   ]
  },
  {
   "cell_type": "code",
   "execution_count": 8,
   "metadata": {
    "collapsed": false
   },
   "outputs": [],
   "source": [
    "df_le_clean = pd.DataFrame({'Country': df_le.Country, 'Year': df_le.Year, \"LEatBirth\": df_le.LEatBirth, \n",
    "                            \"LEat60\": df_le.LEat60, \"LEat60-Adj\": df_le.LEat60 + 60,  \"HALEatBirth\": df_le.HALEatBirth})"
   ]
  },
  {
   "cell_type": "code",
   "execution_count": 9,
   "metadata": {
    "collapsed": false
   },
   "outputs": [
    {
     "data": {
      "text/html": [
       "<div>\n",
       "<table border=\"1\" class=\"dataframe\">\n",
       "  <thead>\n",
       "    <tr style=\"text-align: right;\">\n",
       "      <th></th>\n",
       "      <th>Country</th>\n",
       "      <th>HALEatBirth</th>\n",
       "      <th>LEat60</th>\n",
       "      <th>LEat60-Adj</th>\n",
       "      <th>LEatBirth</th>\n",
       "      <th>Year</th>\n",
       "    </tr>\n",
       "  </thead>\n",
       "  <tbody>\n",
       "    <tr>\n",
       "      <th>0</th>\n",
       "      <td>Afghanistan</td>\n",
       "      <td>50</td>\n",
       "      <td>16</td>\n",
       "      <td>76</td>\n",
       "      <td>61</td>\n",
       "      <td>2013-01-01</td>\n",
       "    </tr>\n",
       "    <tr>\n",
       "      <th>1</th>\n",
       "      <td>Afghanistan</td>\n",
       "      <td>49</td>\n",
       "      <td>16</td>\n",
       "      <td>76</td>\n",
       "      <td>60</td>\n",
       "      <td>2012-01-01</td>\n",
       "    </tr>\n",
       "    <tr>\n",
       "      <th>2</th>\n",
       "      <td>Afghanistan</td>\n",
       "      <td>45</td>\n",
       "      <td>15</td>\n",
       "      <td>75</td>\n",
       "      <td>55</td>\n",
       "      <td>2000-01-01</td>\n",
       "    </tr>\n",
       "    <tr>\n",
       "      <th>3</th>\n",
       "      <td>Afghanistan</td>\n",
       "      <td>NaN</td>\n",
       "      <td>14</td>\n",
       "      <td>74</td>\n",
       "      <td>49</td>\n",
       "      <td>1990-01-01</td>\n",
       "    </tr>\n",
       "    <tr>\n",
       "      <th>4</th>\n",
       "      <td>Albania</td>\n",
       "      <td>65</td>\n",
       "      <td>19</td>\n",
       "      <td>79</td>\n",
       "      <td>74</td>\n",
       "      <td>2013-01-01</td>\n",
       "    </tr>\n",
       "  </tbody>\n",
       "</table>\n",
       "</div>"
      ],
      "text/plain": [
       "       Country  HALEatBirth  LEat60  LEat60-Adj  LEatBirth       Year\n",
       "0  Afghanistan           50      16          76         61 2013-01-01\n",
       "1  Afghanistan           49      16          76         60 2012-01-01\n",
       "2  Afghanistan           45      15          75         55 2000-01-01\n",
       "3  Afghanistan          NaN      14          74         49 1990-01-01\n",
       "4      Albania           65      19          79         74 2013-01-01"
      ]
     },
     "execution_count": 9,
     "metadata": {},
     "output_type": "execute_result"
    }
   ],
   "source": [
    "# fully tidied up Life Expectancy Data\n",
    "df_le_clean.head()"
   ]
  },
  {
   "cell_type": "code",
   "execution_count": 10,
   "metadata": {
    "collapsed": false
   },
   "outputs": [
    {
     "data": {
      "text/plain": [
       "Country                object\n",
       "HALEatBirth           float64\n",
       "LEat60                  int64\n",
       "LEat60-Adj              int64\n",
       "LEatBirth               int64\n",
       "Year           datetime64[ns]\n",
       "dtype: object"
      ]
     },
     "execution_count": 10,
     "metadata": {},
     "output_type": "execute_result"
    }
   ],
   "source": [
    "# with numeric data columns\n",
    "df_le_clean.dtypes"
   ]
  },
  {
   "cell_type": "code",
   "execution_count": 11,
   "metadata": {
    "collapsed": false
   },
   "outputs": [],
   "source": [
    "# in a separate lab notebook, extracted data from WHO website to map Regions to Countries (through a series of WHO web pages)\n",
    "# output was saved to a csv to be uploaded here, for use in broaded summarizations of the LE data\n",
    "rc_map = pd.read_csv('RegionCountryMap.csv', encoding='ISO-8859-2')\n",
    "#rc_map.set_index('Country', inplace=True)"
   ]
  },
  {
   "cell_type": "code",
   "execution_count": 12,
   "metadata": {
    "collapsed": false
   },
   "outputs": [
    {
     "data": {
      "text/html": [
       "<div>\n",
       "<table border=\"1\" class=\"dataframe\">\n",
       "  <thead>\n",
       "    <tr style=\"text-align: right;\">\n",
       "      <th></th>\n",
       "      <th>Country</th>\n",
       "      <th>Region</th>\n",
       "    </tr>\n",
       "  </thead>\n",
       "  <tbody>\n",
       "    <tr>\n",
       "      <th>0</th>\n",
       "      <td>Algeria</td>\n",
       "      <td>Africa</td>\n",
       "    </tr>\n",
       "    <tr>\n",
       "      <th>1</th>\n",
       "      <td>Angola</td>\n",
       "      <td>Africa</td>\n",
       "    </tr>\n",
       "    <tr>\n",
       "      <th>2</th>\n",
       "      <td>Benin</td>\n",
       "      <td>Africa</td>\n",
       "    </tr>\n",
       "    <tr>\n",
       "      <th>3</th>\n",
       "      <td>Botswana</td>\n",
       "      <td>Africa</td>\n",
       "    </tr>\n",
       "    <tr>\n",
       "      <th>4</th>\n",
       "      <td>Burkina Faso</td>\n",
       "      <td>Africa</td>\n",
       "    </tr>\n",
       "  </tbody>\n",
       "</table>\n",
       "</div>"
      ],
      "text/plain": [
       "         Country  Region\n",
       "0       Algeria   Africa\n",
       "1        Angola   Africa\n",
       "2         Benin   Africa\n",
       "3       Botswana  Africa\n",
       "4  Burkina Faso   Africa"
      ]
     },
     "execution_count": 12,
     "metadata": {},
     "output_type": "execute_result"
    }
   ],
   "source": [
    "rc_map = rc_map.drop('Unnamed: 0', axis=1)\n",
    "rc_map.head()"
   ]
  },
  {
   "cell_type": "code",
   "execution_count": 13,
   "metadata": {
    "collapsed": false
   },
   "outputs": [
    {
     "data": {
      "text/html": [
       "<div>\n",
       "<table border=\"1\" class=\"dataframe\">\n",
       "  <thead>\n",
       "    <tr style=\"text-align: right;\">\n",
       "      <th></th>\n",
       "      <th>Country</th>\n",
       "      <th>HALEatBirth</th>\n",
       "      <th>LEat60</th>\n",
       "      <th>LEat60-Adj</th>\n",
       "      <th>LEatBirth</th>\n",
       "      <th>Year</th>\n",
       "      <th>Region</th>\n",
       "    </tr>\n",
       "  </thead>\n",
       "  <tbody>\n",
       "    <tr>\n",
       "      <th>0</th>\n",
       "      <td>Afghanistan</td>\n",
       "      <td>50</td>\n",
       "      <td>16</td>\n",
       "      <td>76</td>\n",
       "      <td>61</td>\n",
       "      <td>2013-01-01</td>\n",
       "      <td>Eastern Mediterranean</td>\n",
       "    </tr>\n",
       "    <tr>\n",
       "      <th>1</th>\n",
       "      <td>Afghanistan</td>\n",
       "      <td>49</td>\n",
       "      <td>16</td>\n",
       "      <td>76</td>\n",
       "      <td>60</td>\n",
       "      <td>2012-01-01</td>\n",
       "      <td>Eastern Mediterranean</td>\n",
       "    </tr>\n",
       "    <tr>\n",
       "      <th>2</th>\n",
       "      <td>Afghanistan</td>\n",
       "      <td>45</td>\n",
       "      <td>15</td>\n",
       "      <td>75</td>\n",
       "      <td>55</td>\n",
       "      <td>2000-01-01</td>\n",
       "      <td>Eastern Mediterranean</td>\n",
       "    </tr>\n",
       "    <tr>\n",
       "      <th>3</th>\n",
       "      <td>Afghanistan</td>\n",
       "      <td>NaN</td>\n",
       "      <td>14</td>\n",
       "      <td>74</td>\n",
       "      <td>49</td>\n",
       "      <td>1990-01-01</td>\n",
       "      <td>Eastern Mediterranean</td>\n",
       "    </tr>\n",
       "    <tr>\n",
       "      <th>4</th>\n",
       "      <td>Albania</td>\n",
       "      <td>65</td>\n",
       "      <td>19</td>\n",
       "      <td>79</td>\n",
       "      <td>74</td>\n",
       "      <td>2013-01-01</td>\n",
       "      <td>Europe</td>\n",
       "    </tr>\n",
       "  </tbody>\n",
       "</table>\n",
       "</div>"
      ],
      "text/plain": [
       "       Country  HALEatBirth  LEat60  LEat60-Adj  LEatBirth       Year  \\\n",
       "0  Afghanistan           50      16          76         61 2013-01-01   \n",
       "1  Afghanistan           49      16          76         60 2012-01-01   \n",
       "2  Afghanistan           45      15          75         55 2000-01-01   \n",
       "3  Afghanistan          NaN      14          74         49 1990-01-01   \n",
       "4      Albania           65      19          79         74 2013-01-01   \n",
       "\n",
       "                  Region  \n",
       "0  Eastern Mediterranean  \n",
       "1  Eastern Mediterranean  \n",
       "2  Eastern Mediterranean  \n",
       "3  Eastern Mediterranean  \n",
       "4                 Europe  "
      ]
     },
     "execution_count": 13,
     "metadata": {},
     "output_type": "execute_result"
    }
   ],
   "source": [
    "# compare to Region / Country map to look at global trends for 2013\n",
    "# merging the LE data set with the Region Country map; joining field is \"Country\"\n",
    "df_le_clean = pd.merge(df_le_clean, rc_map, on='Country')\n",
    "\n",
    "df_le_clean.head()"
   ]
  },
  {
   "cell_type": "markdown",
   "metadata": {},
   "source": [
    "## Aid Disbursement Data Preparation"
   ]
  },
  {
   "cell_type": "code",
   "execution_count": 14,
   "metadata": {
    "collapsed": false
   },
   "outputs": [],
   "source": [
    "#rename columns\n",
    "df_c.columns = [\"Country; Year\", \"Commitments\", \"Disbursements\"]"
   ]
  },
  {
   "cell_type": "code",
   "execution_count": 15,
   "metadata": {
    "collapsed": false
   },
   "outputs": [],
   "source": [
    "#split country and year\n",
    "df_c['Country'], df_c['Year'] = zip(*df_c['Country; Year'].apply(lambda x: x.split('; ', 1)))"
   ]
  },
  {
   "cell_type": "code",
   "execution_count": 16,
   "metadata": {
    "collapsed": false
   },
   "outputs": [],
   "source": [
    "#make year into date format\n",
    "df_c['Year'] = pd.to_datetime(df_c['Year'], format='%Y')"
   ]
  },
  {
   "cell_type": "code",
   "execution_count": 17,
   "metadata": {
    "collapsed": false
   },
   "outputs": [],
   "source": [
    "#clean up formatting\n",
    "df_c['Commitments'] = df_c['Commitments'].apply(clean_float)\n",
    "df_c['Disbursements'] = df_c['Disbursements'].apply(clean_float)"
   ]
  },
  {
   "cell_type": "code",
   "execution_count": 18,
   "metadata": {
    "collapsed": true
   },
   "outputs": [],
   "source": [
    "#make a frame of aid commitments by country\n",
    "commitments_by_country = df_c.groupby('Country')"
   ]
  },
  {
   "cell_type": "code",
   "execution_count": 19,
   "metadata": {
    "collapsed": false
   },
   "outputs": [
    {
     "data": {
      "text/html": [
       "<div>\n",
       "<table border=\"1\" class=\"dataframe\">\n",
       "  <thead>\n",
       "    <tr style=\"text-align: right;\">\n",
       "      <th></th>\n",
       "      <th>Country; Year</th>\n",
       "      <th>Commitments</th>\n",
       "      <th>Disbursements</th>\n",
       "      <th>Country</th>\n",
       "      <th>Year</th>\n",
       "    </tr>\n",
       "  </thead>\n",
       "  <tbody>\n",
       "    <tr>\n",
       "      <th>0</th>\n",
       "      <td>Afghanistan; 2010</td>\n",
       "      <td>386.92</td>\n",
       "      <td>300.09</td>\n",
       "      <td>Afghanistan</td>\n",
       "      <td>2010-01-01</td>\n",
       "    </tr>\n",
       "    <tr>\n",
       "      <th>1</th>\n",
       "      <td>Afghanistan; 2009</td>\n",
       "      <td>254.04</td>\n",
       "      <td>345.59</td>\n",
       "      <td>Afghanistan</td>\n",
       "      <td>2009-01-01</td>\n",
       "    </tr>\n",
       "    <tr>\n",
       "      <th>2</th>\n",
       "      <td>Afghanistan; 2008</td>\n",
       "      <td>459.80</td>\n",
       "      <td>254.46</td>\n",
       "      <td>Afghanistan</td>\n",
       "      <td>2008-01-01</td>\n",
       "    </tr>\n",
       "    <tr>\n",
       "      <th>3</th>\n",
       "      <td>Afghanistan; 2007</td>\n",
       "      <td>217.22</td>\n",
       "      <td>254.40</td>\n",
       "      <td>Afghanistan</td>\n",
       "      <td>2007-01-01</td>\n",
       "    </tr>\n",
       "    <tr>\n",
       "      <th>4</th>\n",
       "      <td>Afghanistan; 2006</td>\n",
       "      <td>334.53</td>\n",
       "      <td>186.74</td>\n",
       "      <td>Afghanistan</td>\n",
       "      <td>2006-01-01</td>\n",
       "    </tr>\n",
       "  </tbody>\n",
       "</table>\n",
       "</div>"
      ],
      "text/plain": [
       "       Country; Year  Commitments  Disbursements      Country       Year\n",
       "0  Afghanistan; 2010       386.92         300.09  Afghanistan 2010-01-01\n",
       "1  Afghanistan; 2009       254.04         345.59  Afghanistan 2009-01-01\n",
       "2  Afghanistan; 2008       459.80         254.46  Afghanistan 2008-01-01\n",
       "3  Afghanistan; 2007       217.22         254.40  Afghanistan 2007-01-01\n",
       "4  Afghanistan; 2006       334.53         186.74  Afghanistan 2006-01-01"
      ]
     },
     "execution_count": 19,
     "metadata": {},
     "output_type": "execute_result"
    }
   ],
   "source": [
    "df_c.head()"
   ]
  },
  {
   "cell_type": "code",
   "execution_count": 20,
   "metadata": {
    "collapsed": false
   },
   "outputs": [
    {
     "data": {
      "text/plain": [
       "Country; Year            object\n",
       "Commitments             float64\n",
       "Disbursements           float64\n",
       "Country                  object\n",
       "Year             datetime64[ns]\n",
       "dtype: object"
      ]
     },
     "execution_count": 20,
     "metadata": {},
     "output_type": "execute_result"
    }
   ],
   "source": [
    "df_c.dtypes"
   ]
  },
  {
   "cell_type": "markdown",
   "metadata": {},
   "source": [
    "## Water and Sanitation Data Preparation"
   ]
  },
  {
   "cell_type": "code",
   "execution_count": 21,
   "metadata": {
    "collapsed": false
   },
   "outputs": [],
   "source": [
    "#Improve Column Names\n",
    "df_exp.columns = [\"Country; Year\", \"IWRuralPct\",\"IWUrbanPct\",\"IWPct\", \"ISRuralPct\", \"ISUrbanPct\", \"ISPct\"]"
   ]
  },
  {
   "cell_type": "code",
   "execution_count": 22,
   "metadata": {
    "collapsed": false
   },
   "outputs": [],
   "source": [
    "df_exp['Country'], df_exp['Year'] = zip(*df_exp['Country; Year'].apply(lambda x: x.split('; ',1)))\n",
    "df_exp['Year'] = pd.to_datetime(df_exp['Year'], format='%Y')\n",
    "df_exp.drop(['Country; Year'], inplace=True, axis=1)"
   ]
  },
  {
   "cell_type": "code",
   "execution_count": 23,
   "metadata": {
    "collapsed": false
   },
   "outputs": [
    {
     "data": {
      "text/html": [
       "<div>\n",
       "<table border=\"1\" class=\"dataframe\">\n",
       "  <thead>\n",
       "    <tr style=\"text-align: right;\">\n",
       "      <th></th>\n",
       "      <th>IWRuralPct</th>\n",
       "      <th>IWUrbanPct</th>\n",
       "      <th>IWPct</th>\n",
       "      <th>ISRuralPct</th>\n",
       "      <th>ISUrbanPct</th>\n",
       "      <th>ISPct</th>\n",
       "      <th>Country</th>\n",
       "      <th>Year</th>\n",
       "    </tr>\n",
       "  </thead>\n",
       "  <tbody>\n",
       "    <tr>\n",
       "      <th>0</th>\n",
       "      <td>47.0</td>\n",
       "      <td>78.2</td>\n",
       "      <td>55.3</td>\n",
       "      <td>27.0</td>\n",
       "      <td>45.1</td>\n",
       "      <td>31.9</td>\n",
       "      <td>Afghanistan</td>\n",
       "      <td>2015-01-01</td>\n",
       "    </tr>\n",
       "    <tr>\n",
       "      <th>1</th>\n",
       "      <td>24.3</td>\n",
       "      <td>52.2</td>\n",
       "      <td>30.3</td>\n",
       "      <td>21.3</td>\n",
       "      <td>31.2</td>\n",
       "      <td>23.4</td>\n",
       "      <td>Afghanistan</td>\n",
       "      <td>2000-01-01</td>\n",
       "    </tr>\n",
       "    <tr>\n",
       "      <th>2</th>\n",
       "      <td>95.2</td>\n",
       "      <td>94.9</td>\n",
       "      <td>95.1</td>\n",
       "      <td>90.2</td>\n",
       "      <td>95.5</td>\n",
       "      <td>93.2</td>\n",
       "      <td>Albania</td>\n",
       "      <td>2015-01-01</td>\n",
       "    </tr>\n",
       "    <tr>\n",
       "      <th>3</th>\n",
       "      <td>93.3</td>\n",
       "      <td>100.0</td>\n",
       "      <td>96.1</td>\n",
       "      <td>75.2</td>\n",
       "      <td>94.8</td>\n",
       "      <td>83.4</td>\n",
       "      <td>Albania</td>\n",
       "      <td>2000-01-01</td>\n",
       "    </tr>\n",
       "    <tr>\n",
       "      <th>4</th>\n",
       "      <td>NaN</td>\n",
       "      <td>100.0</td>\n",
       "      <td>NaN</td>\n",
       "      <td>68.7</td>\n",
       "      <td>94.5</td>\n",
       "      <td>78.1</td>\n",
       "      <td>Albania</td>\n",
       "      <td>1990-01-01</td>\n",
       "    </tr>\n",
       "  </tbody>\n",
       "</table>\n",
       "</div>"
      ],
      "text/plain": [
       "   IWRuralPct  IWUrbanPct  IWPct  ISRuralPct  ISUrbanPct  ISPct      Country  \\\n",
       "0        47.0        78.2   55.3        27.0        45.1   31.9  Afghanistan   \n",
       "1        24.3        52.2   30.3        21.3        31.2   23.4  Afghanistan   \n",
       "2        95.2        94.9   95.1        90.2        95.5   93.2      Albania   \n",
       "3        93.3       100.0   96.1        75.2        94.8   83.4      Albania   \n",
       "4         NaN       100.0    NaN        68.7        94.5   78.1      Albania   \n",
       "\n",
       "        Year  \n",
       "0 2015-01-01  \n",
       "1 2000-01-01  \n",
       "2 2015-01-01  \n",
       "3 2000-01-01  \n",
       "4 1990-01-01  "
      ]
     },
     "execution_count": 23,
     "metadata": {},
     "output_type": "execute_result"
    }
   ],
   "source": [
    "#Cleaned Up Sanitation Data Set\n",
    "df_exp.head()"
   ]
  },
  {
   "cell_type": "code",
   "execution_count": 24,
   "metadata": {
    "collapsed": false
   },
   "outputs": [
    {
     "data": {
      "text/plain": [
       "IWRuralPct           float64\n",
       "IWUrbanPct           float64\n",
       "IWPct                float64\n",
       "ISRuralPct           float64\n",
       "ISUrbanPct           float64\n",
       "ISPct                float64\n",
       "Country               object\n",
       "Year          datetime64[ns]\n",
       "dtype: object"
      ]
     },
     "execution_count": 24,
     "metadata": {},
     "output_type": "execute_result"
    }
   ],
   "source": [
    "df_exp.dtypes"
   ]
  },
  {
   "cell_type": "markdown",
   "metadata": {},
   "source": [
    "## Health Services Data Preparation"
   ]
  },
  {
   "cell_type": "code",
   "execution_count": 25,
   "metadata": {
    "collapsed": false
   },
   "outputs": [],
   "source": [
    "to_drop = list(range(10,22))+ list(range(25,28))\n",
    "HS = HS.drop(HS.columns[to_drop], axis=1)\n",
    "HS.columns = [\"Country\", \"Total_pct_GDP2013\", \"Total_pct_GDP2012\", \"Total_pct_GDP2000\", \"Govt_pct_total2013\", \"Govt_pct_total2012\", \"Govt_pct_total2000\", \"Pvt_pct_total2013\", \"Pvt_pct_total2012\", \"Pvt_pct_total2000\", \"Pocket_pct_total2013\", \"Pocket_pct_total2012\", \"Pocket_pct_total2000\"]"
   ]
  },
  {
   "cell_type": "code",
   "execution_count": 26,
   "metadata": {
    "collapsed": false
   },
   "outputs": [
    {
     "data": {
      "text/plain": [
       "Index(['Country', 'Total_pct_GDP2013', 'Total_pct_GDP2012',\n",
       "       'Total_pct_GDP2000', 'Govt_pct_total2013', 'Govt_pct_total2012',\n",
       "       'Govt_pct_total2000', 'Pvt_pct_total2013', 'Pvt_pct_total2012',\n",
       "       'Pvt_pct_total2000', 'Pocket_pct_total2013', 'Pocket_pct_total2012',\n",
       "       'Pocket_pct_total2000'],\n",
       "      dtype='object')"
      ]
     },
     "execution_count": 26,
     "metadata": {},
     "output_type": "execute_result"
    }
   ],
   "source": [
    "HS.columns"
   ]
  },
  {
   "cell_type": "code",
   "execution_count": 27,
   "metadata": {
    "collapsed": false,
    "scrolled": true
   },
   "outputs": [
    {
     "name": "stderr",
     "output_type": "stream",
     "text": [
      "c:\\Users\\u958Pope\\AppData\\Local\\Continuum\\Anaconda3\\lib\\site-packages\\ipykernel\\__main__.py:5: SettingWithCopyWarning: \n",
      "A value is trying to be set on a copy of a slice from a DataFrame.\n",
      "Try using .loc[row_indexer,col_indexer] = value instead\n",
      "\n",
      "See the caveats in the documentation: http://pandas.pydata.org/pandas-docs/stable/indexing.html#indexing-view-versus-copy\n",
      "c:\\Users\\u958Pope\\AppData\\Local\\Continuum\\Anaconda3\\lib\\site-packages\\ipykernel\\__main__.py:6: SettingWithCopyWarning: \n",
      "A value is trying to be set on a copy of a slice from a DataFrame.\n",
      "Try using .loc[row_indexer,col_indexer] = value instead\n",
      "\n",
      "See the caveats in the documentation: http://pandas.pydata.org/pandas-docs/stable/indexing.html#indexing-view-versus-copy\n",
      "c:\\Users\\u958Pope\\AppData\\Local\\Continuum\\Anaconda3\\lib\\site-packages\\ipykernel\\__main__.py:7: SettingWithCopyWarning: \n",
      "A value is trying to be set on a copy of a slice from a DataFrame.\n",
      "Try using .loc[row_indexer,col_indexer] = value instead\n",
      "\n",
      "See the caveats in the documentation: http://pandas.pydata.org/pandas-docs/stable/indexing.html#indexing-view-versus-copy\n",
      "c:\\Users\\u958Pope\\AppData\\Local\\Continuum\\Anaconda3\\lib\\site-packages\\ipykernel\\__main__.py:8: SettingWithCopyWarning: \n",
      "A value is trying to be set on a copy of a slice from a DataFrame.\n",
      "Try using .loc[row_indexer,col_indexer] = value instead\n",
      "\n",
      "See the caveats in the documentation: http://pandas.pydata.org/pandas-docs/stable/indexing.html#indexing-view-versus-copy\n"
     ]
    }
   ],
   "source": [
    "#The challenge here is that this data is organized differently, with the years in the column headers\n",
    "HS2013 = HS.ix[:,[0,1,4,7, 10]]\n",
    "HS2012 = HS.ix[:,[0,2,5,8, 11]]\n",
    "HS2000 = HS.ix[:,[0,3,6,9, 12]]\n",
    "HS2013[\"Year\"] = pd.Series([2013]*len(HS2013))\n",
    "HS2013[\"Year\"] = pd.to_datetime(2013, format = '%Y')\n",
    "HS2012[\"Year\"] = pd.to_datetime(2012, format = '%Y')\n",
    "HS2000[\"Year\"] = pd.to_datetime(2000, format = '%Y')"
   ]
  },
  {
   "cell_type": "code",
   "execution_count": 28,
   "metadata": {
    "collapsed": false
   },
   "outputs": [
    {
     "data": {
      "text/html": [
       "<div>\n",
       "<table border=\"1\" class=\"dataframe\">\n",
       "  <thead>\n",
       "    <tr style=\"text-align: right;\">\n",
       "      <th></th>\n",
       "      <th>Country</th>\n",
       "      <th>Total_pct_GDP2013</th>\n",
       "      <th>Govt_pct_total2013</th>\n",
       "      <th>Pvt_pct_total2013</th>\n",
       "      <th>Pocket_pct_total2013</th>\n",
       "      <th>Year</th>\n",
       "    </tr>\n",
       "  </thead>\n",
       "  <tbody>\n",
       "    <tr>\n",
       "      <th>0</th>\n",
       "      <td>Afghanistan</td>\n",
       "      <td>8.1</td>\n",
       "      <td>21.2</td>\n",
       "      <td>78.8</td>\n",
       "      <td>73.8</td>\n",
       "      <td>2013-01-01</td>\n",
       "    </tr>\n",
       "    <tr>\n",
       "      <th>1</th>\n",
       "      <td>Albania</td>\n",
       "      <td>5.9</td>\n",
       "      <td>48.4</td>\n",
       "      <td>51.6</td>\n",
       "      <td>51.5</td>\n",
       "      <td>2013-01-01</td>\n",
       "    </tr>\n",
       "    <tr>\n",
       "      <th>2</th>\n",
       "      <td>Algeria</td>\n",
       "      <td>6.6</td>\n",
       "      <td>74.2</td>\n",
       "      <td>25.8</td>\n",
       "      <td>25.1</td>\n",
       "      <td>2013-01-01</td>\n",
       "    </tr>\n",
       "    <tr>\n",
       "      <th>3</th>\n",
       "      <td>Andorra</td>\n",
       "      <td>8.1</td>\n",
       "      <td>75.3</td>\n",
       "      <td>24.7</td>\n",
       "      <td>18.4</td>\n",
       "      <td>2013-01-01</td>\n",
       "    </tr>\n",
       "    <tr>\n",
       "      <th>4</th>\n",
       "      <td>Angola</td>\n",
       "      <td>3.8</td>\n",
       "      <td>66.7</td>\n",
       "      <td>33.3</td>\n",
       "      <td>24.4</td>\n",
       "      <td>2013-01-01</td>\n",
       "    </tr>\n",
       "  </tbody>\n",
       "</table>\n",
       "</div>"
      ],
      "text/plain": [
       "       Country  Total_pct_GDP2013  Govt_pct_total2013  Pvt_pct_total2013  \\\n",
       "0  Afghanistan                8.1                21.2               78.8   \n",
       "1      Albania                5.9                48.4               51.6   \n",
       "2      Algeria                6.6                74.2               25.8   \n",
       "3      Andorra                8.1                75.3               24.7   \n",
       "4       Angola                3.8                66.7               33.3   \n",
       "\n",
       "   Pocket_pct_total2013       Year  \n",
       "0                  73.8 2013-01-01  \n",
       "1                  51.5 2013-01-01  \n",
       "2                  25.1 2013-01-01  \n",
       "3                  18.4 2013-01-01  \n",
       "4                  24.4 2013-01-01  "
      ]
     },
     "execution_count": 28,
     "metadata": {},
     "output_type": "execute_result"
    }
   ],
   "source": [
    "HS2013.head()"
   ]
  },
  {
   "cell_type": "code",
   "execution_count": 29,
   "metadata": {
    "collapsed": false
   },
   "outputs": [],
   "source": [
    "col_names = [\"Country\", \"Total_pct_GDP\", \"Govt_pct_total\", \"Pvt_pct_total\", \"Pocket_pct_total\", \"Year\"]\n",
    "HS2013.columns = col_names\n",
    "HS2012.columns = col_names\n",
    "HS2000.columns = col_names"
   ]
  },
  {
   "cell_type": "code",
   "execution_count": 30,
   "metadata": {
    "collapsed": false
   },
   "outputs": [],
   "source": [
    "frames = [HS2000, HS2012, HS2013]\n",
    "df_hs = pd.concat(frames)"
   ]
  },
  {
   "cell_type": "code",
   "execution_count": 31,
   "metadata": {
    "collapsed": false
   },
   "outputs": [
    {
     "data": {
      "text/html": [
       "<div>\n",
       "<table border=\"1\" class=\"dataframe\">\n",
       "  <thead>\n",
       "    <tr style=\"text-align: right;\">\n",
       "      <th></th>\n",
       "      <th>Country</th>\n",
       "      <th>Total_pct_GDP</th>\n",
       "      <th>Govt_pct_total</th>\n",
       "      <th>Pvt_pct_total</th>\n",
       "      <th>Pocket_pct_total</th>\n",
       "      <th>Year</th>\n",
       "    </tr>\n",
       "  </thead>\n",
       "  <tbody>\n",
       "    <tr>\n",
       "      <th>0</th>\n",
       "      <td>Afghanistan</td>\n",
       "      <td>NaN</td>\n",
       "      <td>NaN</td>\n",
       "      <td>NaN</td>\n",
       "      <td>NaN</td>\n",
       "      <td>2000-01-01</td>\n",
       "    </tr>\n",
       "    <tr>\n",
       "      <th>1</th>\n",
       "      <td>Albania</td>\n",
       "      <td>6.3</td>\n",
       "      <td>36.1</td>\n",
       "      <td>63.9</td>\n",
       "      <td>63.8</td>\n",
       "      <td>2000-01-01</td>\n",
       "    </tr>\n",
       "    <tr>\n",
       "      <th>2</th>\n",
       "      <td>Algeria</td>\n",
       "      <td>3.5</td>\n",
       "      <td>73.3</td>\n",
       "      <td>26.7</td>\n",
       "      <td>25.8</td>\n",
       "      <td>2000-01-01</td>\n",
       "    </tr>\n",
       "    <tr>\n",
       "      <th>3</th>\n",
       "      <td>Andorra</td>\n",
       "      <td>6.0</td>\n",
       "      <td>64.8</td>\n",
       "      <td>35.2</td>\n",
       "      <td>26.6</td>\n",
       "      <td>2000-01-01</td>\n",
       "    </tr>\n",
       "    <tr>\n",
       "      <th>4</th>\n",
       "      <td>Angola</td>\n",
       "      <td>3.4</td>\n",
       "      <td>49.5</td>\n",
       "      <td>50.5</td>\n",
       "      <td>36.1</td>\n",
       "      <td>2000-01-01</td>\n",
       "    </tr>\n",
       "  </tbody>\n",
       "</table>\n",
       "</div>"
      ],
      "text/plain": [
       "       Country  Total_pct_GDP  Govt_pct_total  Pvt_pct_total  \\\n",
       "0  Afghanistan            NaN             NaN            NaN   \n",
       "1      Albania            6.3            36.1           63.9   \n",
       "2      Algeria            3.5            73.3           26.7   \n",
       "3      Andorra            6.0            64.8           35.2   \n",
       "4       Angola            3.4            49.5           50.5   \n",
       "\n",
       "   Pocket_pct_total       Year  \n",
       "0               NaN 2000-01-01  \n",
       "1              63.8 2000-01-01  \n",
       "2              25.8 2000-01-01  \n",
       "3              26.6 2000-01-01  \n",
       "4              36.1 2000-01-01  "
      ]
     },
     "execution_count": 31,
     "metadata": {},
     "output_type": "execute_result"
    }
   ],
   "source": [
    "df_hs.head()"
   ]
  },
  {
   "cell_type": "code",
   "execution_count": 32,
   "metadata": {
    "collapsed": false
   },
   "outputs": [
    {
     "data": {
      "text/plain": [
       "Country                     object\n",
       "Total_pct_GDP              float64\n",
       "Govt_pct_total             float64\n",
       "Pvt_pct_total              float64\n",
       "Pocket_pct_total           float64\n",
       "Year                datetime64[ns]\n",
       "dtype: object"
      ]
     },
     "execution_count": 32,
     "metadata": {},
     "output_type": "execute_result"
    }
   ],
   "source": [
    "df_hs.dtypes"
   ]
  },
  {
   "cell_type": "code",
   "execution_count": 33,
   "metadata": {
    "collapsed": false
   },
   "outputs": [
    {
     "data": {
      "text/plain": [
       "573"
      ]
     },
     "execution_count": 33,
     "metadata": {},
     "output_type": "execute_result"
    }
   ],
   "source": [
    "len(df_hs)"
   ]
  },
  {
   "cell_type": "markdown",
   "metadata": {},
   "source": [
    "## HIV Data Cleaning"
   ]
  },
  {
   "cell_type": "code",
   "execution_count": 34,
   "metadata": {
    "collapsed": false
   },
   "outputs": [],
   "source": [
    "#removes the ranges and > or < to make clean numbers\n",
    "variables = list(HIV.columns.values)\n",
    "for item in variables[1:]: \n",
    "    HIV[item] = HIV[item].map(lambda x: x.lstrip('<'))\n",
    "    HIV[item] = HIV[item].map(lambda x: x[0:3])\n",
    "HIV = HIV.replace(\"No \", np.nan)"
   ]
  },
  {
   "cell_type": "code",
   "execution_count": 35,
   "metadata": {
    "collapsed": true
   },
   "outputs": [],
   "source": [
    "#makes all of these into floats\n",
    "HIV.HIV2013 = pd.to_numeric(HIV.HIV2013)\n",
    "HIV.HIV2009 = pd.to_numeric(HIV.HIV2009)\n",
    "HIV.HIV2005 = pd.to_numeric(HIV.HIV2005)\n",
    "HIV.HIV2001 = pd.to_numeric(HIV.HIV2001)"
   ]
  },
  {
   "cell_type": "code",
   "execution_count": 36,
   "metadata": {
    "collapsed": false
   },
   "outputs": [
    {
     "data": {
      "text/html": [
       "<div>\n",
       "<table border=\"1\" class=\"dataframe\">\n",
       "  <thead>\n",
       "    <tr style=\"text-align: right;\">\n",
       "      <th></th>\n",
       "      <th>Country</th>\n",
       "      <th>HIV2013</th>\n",
       "      <th>HIV2009</th>\n",
       "      <th>HIV2005</th>\n",
       "      <th>HIV2001</th>\n",
       "    </tr>\n",
       "  </thead>\n",
       "  <tbody>\n",
       "    <tr>\n",
       "      <th>0</th>\n",
       "      <td>Afghanistan</td>\n",
       "      <td>0.1</td>\n",
       "      <td>0.1</td>\n",
       "      <td>0.1</td>\n",
       "      <td>0.1</td>\n",
       "    </tr>\n",
       "    <tr>\n",
       "      <th>1</th>\n",
       "      <td>Albania</td>\n",
       "      <td>0.1</td>\n",
       "      <td>0.1</td>\n",
       "      <td>0.1</td>\n",
       "      <td>0.1</td>\n",
       "    </tr>\n",
       "    <tr>\n",
       "      <th>2</th>\n",
       "      <td>Algeria</td>\n",
       "      <td>0.1</td>\n",
       "      <td>0.1</td>\n",
       "      <td>0.1</td>\n",
       "      <td>0.1</td>\n",
       "    </tr>\n",
       "    <tr>\n",
       "      <th>3</th>\n",
       "      <td>Angola</td>\n",
       "      <td>2.4</td>\n",
       "      <td>2.1</td>\n",
       "      <td>1.9</td>\n",
       "      <td>1.8</td>\n",
       "    </tr>\n",
       "    <tr>\n",
       "      <th>4</th>\n",
       "      <td>Argentina</td>\n",
       "      <td>NaN</td>\n",
       "      <td>NaN</td>\n",
       "      <td>NaN</td>\n",
       "      <td>NaN</td>\n",
       "    </tr>\n",
       "  </tbody>\n",
       "</table>\n",
       "</div>"
      ],
      "text/plain": [
       "       Country  HIV2013  HIV2009  HIV2005  HIV2001\n",
       "0  Afghanistan      0.1      0.1      0.1      0.1\n",
       "1      Albania      0.1      0.1      0.1      0.1\n",
       "2      Algeria      0.1      0.1      0.1      0.1\n",
       "3       Angola      2.4      2.1      1.9      1.8\n",
       "4    Argentina      NaN      NaN      NaN      NaN"
      ]
     },
     "execution_count": 36,
     "metadata": {},
     "output_type": "execute_result"
    }
   ],
   "source": [
    "HIV.head()"
   ]
  },
  {
   "cell_type": "code",
   "execution_count": 37,
   "metadata": {
    "collapsed": false
   },
   "outputs": [
    {
     "name": "stderr",
     "output_type": "stream",
     "text": [
      "c:\\Users\\u958Pope\\AppData\\Local\\Continuum\\Anaconda3\\lib\\site-packages\\ipykernel\\__main__.py:5: SettingWithCopyWarning: \n",
      "A value is trying to be set on a copy of a slice from a DataFrame.\n",
      "Try using .loc[row_indexer,col_indexer] = value instead\n",
      "\n",
      "See the caveats in the documentation: http://pandas.pydata.org/pandas-docs/stable/indexing.html#indexing-view-versus-copy\n",
      "c:\\Users\\u958Pope\\AppData\\Local\\Continuum\\Anaconda3\\lib\\site-packages\\ipykernel\\__main__.py:6: SettingWithCopyWarning: \n",
      "A value is trying to be set on a copy of a slice from a DataFrame.\n",
      "Try using .loc[row_indexer,col_indexer] = value instead\n",
      "\n",
      "See the caveats in the documentation: http://pandas.pydata.org/pandas-docs/stable/indexing.html#indexing-view-versus-copy\n",
      "c:\\Users\\u958Pope\\AppData\\Local\\Continuum\\Anaconda3\\lib\\site-packages\\ipykernel\\__main__.py:7: SettingWithCopyWarning: \n",
      "A value is trying to be set on a copy of a slice from a DataFrame.\n",
      "Try using .loc[row_indexer,col_indexer] = value instead\n",
      "\n",
      "See the caveats in the documentation: http://pandas.pydata.org/pandas-docs/stable/indexing.html#indexing-view-versus-copy\n",
      "c:\\Users\\u958Pope\\AppData\\Local\\Continuum\\Anaconda3\\lib\\site-packages\\ipykernel\\__main__.py:8: SettingWithCopyWarning: \n",
      "A value is trying to be set on a copy of a slice from a DataFrame.\n",
      "Try using .loc[row_indexer,col_indexer] = value instead\n",
      "\n",
      "See the caveats in the documentation: http://pandas.pydata.org/pandas-docs/stable/indexing.html#indexing-view-versus-copy\n"
     ]
    }
   ],
   "source": [
    "HIV2001 = HIV.ix[:,[0,4]]\n",
    "HIV2005 = HIV.ix[:,[0,3]]\n",
    "HIV2009 = HIV.ix[:,[0,2]]\n",
    "HIV2013 = HIV.ix[:,[0,1]]\n",
    "HIV2001[\"Year\"] = pd.to_datetime(2001, format = '%Y')\n",
    "HIV2005[\"Year\"] = pd.to_datetime(2005, format = '%Y')\n",
    "HIV2009[\"Year\"] = pd.to_datetime(2009, format = '%Y')\n",
    "HIV2013[\"Year\"] = pd.to_datetime(2013, format = '%Y')"
   ]
  },
  {
   "cell_type": "code",
   "execution_count": 38,
   "metadata": {
    "collapsed": false
   },
   "outputs": [],
   "source": [
    "HIV2001.columns = [\"Country\", \"HIV_Rate\", \"Year\"]\n",
    "HIV2005.columns = [\"Country\", \"HIV_Rate\", \"Year\"]\n",
    "HIV2009.columns = [\"Country\", \"HIV_Rate\", \"Year\"]\n",
    "HIV2013.columns = [\"Country\", \"HIV_Rate\", \"Year\"]"
   ]
  },
  {
   "cell_type": "code",
   "execution_count": 39,
   "metadata": {
    "collapsed": false
   },
   "outputs": [],
   "source": [
    "frames = [HIV2001, HIV2005, HIV2009, HIV2013]\n",
    "df_HIV = pd.concat(frames)"
   ]
  },
  {
   "cell_type": "code",
   "execution_count": 40,
   "metadata": {
    "collapsed": false
   },
   "outputs": [
    {
     "data": {
      "text/html": [
       "<div>\n",
       "<table border=\"1\" class=\"dataframe\">\n",
       "  <thead>\n",
       "    <tr style=\"text-align: right;\">\n",
       "      <th></th>\n",
       "      <th>Country</th>\n",
       "      <th>HIV_Rate</th>\n",
       "      <th>Year</th>\n",
       "    </tr>\n",
       "  </thead>\n",
       "  <tbody>\n",
       "    <tr>\n",
       "      <th>0</th>\n",
       "      <td>Afghanistan</td>\n",
       "      <td>0.1</td>\n",
       "      <td>2001-01-01</td>\n",
       "    </tr>\n",
       "    <tr>\n",
       "      <th>1</th>\n",
       "      <td>Albania</td>\n",
       "      <td>0.1</td>\n",
       "      <td>2001-01-01</td>\n",
       "    </tr>\n",
       "    <tr>\n",
       "      <th>2</th>\n",
       "      <td>Algeria</td>\n",
       "      <td>0.1</td>\n",
       "      <td>2001-01-01</td>\n",
       "    </tr>\n",
       "    <tr>\n",
       "      <th>3</th>\n",
       "      <td>Angola</td>\n",
       "      <td>1.8</td>\n",
       "      <td>2001-01-01</td>\n",
       "    </tr>\n",
       "    <tr>\n",
       "      <th>4</th>\n",
       "      <td>Argentina</td>\n",
       "      <td>NaN</td>\n",
       "      <td>2001-01-01</td>\n",
       "    </tr>\n",
       "  </tbody>\n",
       "</table>\n",
       "</div>"
      ],
      "text/plain": [
       "       Country  HIV_Rate       Year\n",
       "0  Afghanistan       0.1 2001-01-01\n",
       "1      Albania       0.1 2001-01-01\n",
       "2      Algeria       0.1 2001-01-01\n",
       "3       Angola       1.8 2001-01-01\n",
       "4    Argentina       NaN 2001-01-01"
      ]
     },
     "execution_count": 40,
     "metadata": {},
     "output_type": "execute_result"
    }
   ],
   "source": [
    "df_HIV.head()"
   ]
  },
  {
   "cell_type": "code",
   "execution_count": 41,
   "metadata": {
    "collapsed": false
   },
   "outputs": [
    {
     "data": {
      "text/plain": [
       "Country             object\n",
       "HIV_Rate           float64\n",
       "Year        datetime64[ns]\n",
       "dtype: object"
      ]
     },
     "execution_count": 41,
     "metadata": {},
     "output_type": "execute_result"
    }
   ],
   "source": [
    "df_HIV.dtypes"
   ]
  },
  {
   "cell_type": "code",
   "execution_count": 42,
   "metadata": {
    "collapsed": false
   },
   "outputs": [
    {
     "data": {
      "text/plain": [
       "632"
      ]
     },
     "execution_count": 42,
     "metadata": {},
     "output_type": "execute_result"
    }
   ],
   "source": [
    "len(df_HIV)"
   ]
  },
  {
   "cell_type": "code",
   "execution_count": 43,
   "metadata": {
    "collapsed": false
   },
   "outputs": [
    {
     "data": {
      "text/html": [
       "<div>\n",
       "<table border=\"1\" class=\"dataframe\">\n",
       "  <thead>\n",
       "    <tr style=\"text-align: right;\">\n",
       "      <th></th>\n",
       "      <th>Country</th>\n",
       "      <th>HIV2013</th>\n",
       "      <th>HIV2009</th>\n",
       "      <th>HIV2005</th>\n",
       "      <th>HIV2001</th>\n",
       "    </tr>\n",
       "  </thead>\n",
       "  <tbody>\n",
       "    <tr>\n",
       "      <th>0</th>\n",
       "      <td>Afghanistan</td>\n",
       "      <td>0.1</td>\n",
       "      <td>0.1</td>\n",
       "      <td>0.1</td>\n",
       "      <td>0.1</td>\n",
       "    </tr>\n",
       "    <tr>\n",
       "      <th>1</th>\n",
       "      <td>Albania</td>\n",
       "      <td>0.1</td>\n",
       "      <td>0.1</td>\n",
       "      <td>0.1</td>\n",
       "      <td>0.1</td>\n",
       "    </tr>\n",
       "    <tr>\n",
       "      <th>2</th>\n",
       "      <td>Algeria</td>\n",
       "      <td>0.1</td>\n",
       "      <td>0.1</td>\n",
       "      <td>0.1</td>\n",
       "      <td>0.1</td>\n",
       "    </tr>\n",
       "    <tr>\n",
       "      <th>3</th>\n",
       "      <td>Angola</td>\n",
       "      <td>2.4</td>\n",
       "      <td>2.1</td>\n",
       "      <td>1.9</td>\n",
       "      <td>1.8</td>\n",
       "    </tr>\n",
       "    <tr>\n",
       "      <th>4</th>\n",
       "      <td>Argentina</td>\n",
       "      <td>NaN</td>\n",
       "      <td>NaN</td>\n",
       "      <td>NaN</td>\n",
       "      <td>NaN</td>\n",
       "    </tr>\n",
       "  </tbody>\n",
       "</table>\n",
       "</div>"
      ],
      "text/plain": [
       "       Country  HIV2013  HIV2009  HIV2005  HIV2001\n",
       "0  Afghanistan      0.1      0.1      0.1      0.1\n",
       "1      Albania      0.1      0.1      0.1      0.1\n",
       "2      Algeria      0.1      0.1      0.1      0.1\n",
       "3       Angola      2.4      2.1      1.9      1.8\n",
       "4    Argentina      NaN      NaN      NaN      NaN"
      ]
     },
     "execution_count": 43,
     "metadata": {},
     "output_type": "execute_result"
    }
   ],
   "source": [
    "# Keeping alternate form for easier analyis of change over time. \n",
    "HIV.head()"
   ]
  },
  {
   "cell_type": "markdown",
   "metadata": {},
   "source": [
    "## Life Expectancy Data Exploration"
   ]
  },
  {
   "cell_type": "code",
   "execution_count": 44,
   "metadata": {
    "collapsed": false
   },
   "outputs": [
    {
     "data": {
      "text/plain": [
       "<matplotlib.lines.Line2D at 0x887c198>"
      ]
     },
     "execution_count": 44,
     "metadata": {},
     "output_type": "execute_result"
    },
    {
     "data": {
      "image/png": "[encoded data removed]",
      "text/plain": [
       "<matplotlib.figure.Figure at 0x86ce978>"
      ]
     },
     "metadata": {},
     "output_type": "display_data"
    }
   ],
   "source": [
    "#historgram of HALE for 2013\n",
    "df_le_clean[df_le_clean.Year=='2013-01-01'].hist('HALEatBirth', bins = 20)\n",
    "pyplot.ylabel(\"# of Countries\")\n",
    "pyplot.xlabel(\"Life Expectancy\")\n",
    "pyplot.title(\"Distribution of Healthy Life Expectancy\")\n",
    "pyplot.axvline(df_le_clean['HALEatBirth'].mean(), color='g', linestyle='dashed', linewidth=2)"
   ]
  },
  {
   "cell_type": "code",
   "execution_count": 45,
   "metadata": {
    "collapsed": false
   },
   "outputs": [
    {
     "data": {
      "text/plain": [
       "<matplotlib.lines.Line2D at 0x8ec4cf8>"
      ]
     },
     "execution_count": 45,
     "metadata": {},
     "output_type": "execute_result"
    },
    {
     "data": {
      "image/png": "[encoded data removed]",
      "text/plain": [
       "<matplotlib.figure.Figure at 0x888e978>"
      ]
     },
     "metadata": {},
     "output_type": "display_data"
    }
   ],
   "source": [
    "#histogram of Life Expectanct at Birth for 2013\n",
    "df_le_clean[df_le_clean.Year=='2013-01-01'].hist('LEatBirth', bins = 20)\n",
    "pyplot.ylabel(\"# of Countries\")\n",
    "pyplot.xlabel(\"Life Expectancy\")\n",
    "pyplot.title(\"Distribution of Life Expectancy at Birth\")\n",
    "pyplot.axvline(df_le_clean['LEatBirth'].mean(), color='g', linestyle='dashed', linewidth=2)"
   ]
  },
  {
   "cell_type": "code",
   "execution_count": 46,
   "metadata": {
    "collapsed": false
   },
   "outputs": [
    {
     "data": {
      "text/plain": [
       "<matplotlib.lines.Line2D at 0x8f7c550>"
      ]
     },
     "execution_count": 46,
     "metadata": {},
     "output_type": "execute_result"
    },
    {
     "data": {
      "image/png": "[encoded data removed]",
      "text/plain": [
       "<matplotlib.figure.Figure at 0x8e90eb8>"
      ]
     },
     "metadata": {},
     "output_type": "display_data"
    }
   ],
   "source": [
    "#histogram of Life Expectanct at 60 - using adjusted values to represent total age\n",
    "df_le_clean[df_le_clean.Year=='2013-01-01'].hist('LEat60-Adj', bins = 20)\n",
    "pyplot.ylabel(\"# of Countries\")\n",
    "pyplot.xlabel(\"Life Expectancy\")\n",
    "pyplot.title(\"Distribution of Life Expectancy at Age 60\")\n",
    "pyplot.axvline(df_le_clean['LEat60-Adj'].mean(), color='g', linestyle='dashed', linewidth=2)"
   ]
  },
  {
   "cell_type": "code",
   "execution_count": 47,
   "metadata": {
    "collapsed": false
   },
   "outputs": [
    {
     "data": {
      "text/plain": [
       "<matplotlib.legend.Legend at 0x902d2b0>"
      ]
     },
     "execution_count": 47,
     "metadata": {},
     "output_type": "execute_result"
    },
    {
     "data": {
      "image/png": "[encoded data removed]",
      "text/plain": [
       "<matplotlib.figure.Figure at 0x8c0fef0>"
      ]
     },
     "metadata": {},
     "output_type": "display_data"
    }
   ],
   "source": [
    "#compare all 3 on 1 graph\n",
    "df_le_clean[df_le_clean.Year=='2013-01-01'].LEatBirth.hist(label = \"Life Expectancy at Birth\", figsize = (10,5))\n",
    "df_le_clean[df_le_clean.Year=='2013-01-01']['LEat60-Adj'].hist(label = \"Life Expectancy at 60\", figsize = (10,5))\n",
    "df_le_clean[df_le_clean.Year=='2013-01-01']['HALEatBirth'].hist(label = \"HALE at Birth\", figsize = (10,5))\n",
    "pyplot.title (\"Comparison of Measures\")\n",
    "pyplot.xlabel(\"Life Expectancy\")\n",
    "pyplot.ylabel(\"Number of Countries\")\n",
    "pyplot.legend(bbox_to_anchor=(.4, 1))"
   ]
  },
  {
   "cell_type": "code",
   "execution_count": 48,
   "metadata": {
    "collapsed": false
   },
   "outputs": [
    {
     "data": {
      "text/plain": [
       "<matplotlib.legend.Legend at 0x9033780>"
      ]
     },
     "execution_count": 48,
     "metadata": {},
     "output_type": "execute_result"
    },
    {
     "data": {
      "image/png": "[encoded data removed]",
      "text/plain": [
       "<matplotlib.figure.Figure at 0x9039b70>"
      ]
     },
     "metadata": {},
     "output_type": "display_data"
    }
   ],
   "source": [
    "# look in variations over time for LEatBirth\n",
    "df_le_clean[df_le_clean.Year=='2013-01-01'].LEatBirth.hist(label = \"2013\", figsize = (10,5))\n",
    "df_le_clean[df_le_clean.Year=='2012-01-01'].LEatBirth.hist(label = \"2012\", figsize = (10,5))\n",
    "df_le_clean[df_le_clean.Year=='2000-01-01'].LEatBirth.hist(label = '2000', figsize = (10,5))\n",
    "df_le_clean[df_le_clean.Year=='1990-01-01'].LEatBirth.hist(label = '1990', figsize = (10,5))\n",
    "pyplot.title (\"Variations in Life Expectancy over Time\")\n",
    "pyplot.xlabel(\"Life Expectancy at Birth\")\n",
    "pyplot.ylabel(\"Number of Countries\")\n",
    "pyplot.legend()"
   ]
  },
  {
   "cell_type": "code",
   "execution_count": 49,
   "metadata": {
    "collapsed": true
   },
   "outputs": [],
   "source": [
    "#creating a list of bins to group the year data\n",
    "ranges = [0, 49, 54, 59, 64, 69, 74, 79, 150]\n",
    "labels = ['Under 50','50-55','55-60','60-65', '65-70', '70-75', '75-80', 'Over 80']\n",
    "df_le_clean['LEB'] = pd.cut(df_le_clean['LEatBirth'], ranges, labels=labels).astype('category')\n",
    "df_le_clean['LE60-Adj'] = pd.cut(df_le_clean['LEat60-Adj'], ranges, labels=labels).astype('category')\n",
    "df_le_clean['HALE'] = pd.cut(df_le_clean['HALEatBirth'], ranges, labels=labels).astype('category')"
   ]
  },
  {
   "cell_type": "code",
   "execution_count": 50,
   "metadata": {
    "collapsed": false
   },
   "outputs": [
    {
     "data": {
      "text/html": [
       "<div>\n",
       "<table border=\"1\" class=\"dataframe\">\n",
       "  <thead>\n",
       "    <tr style=\"text-align: right;\">\n",
       "      <th></th>\n",
       "      <th>LEB</th>\n",
       "      <th>LE60-Adj</th>\n",
       "      <th>HALE</th>\n",
       "    </tr>\n",
       "  </thead>\n",
       "  <tbody>\n",
       "    <tr>\n",
       "      <th>count</th>\n",
       "      <td>648</td>\n",
       "      <td>648</td>\n",
       "      <td>486</td>\n",
       "    </tr>\n",
       "    <tr>\n",
       "      <th>unique</th>\n",
       "      <td>8</td>\n",
       "      <td>3</td>\n",
       "      <td>7</td>\n",
       "    </tr>\n",
       "    <tr>\n",
       "      <th>top</th>\n",
       "      <td>70-75</td>\n",
       "      <td>75-80</td>\n",
       "      <td>60-65</td>\n",
       "    </tr>\n",
       "    <tr>\n",
       "      <th>freq</th>\n",
       "      <td>174</td>\n",
       "      <td>345</td>\n",
       "      <td>142</td>\n",
       "    </tr>\n",
       "  </tbody>\n",
       "</table>\n",
       "</div>"
      ],
      "text/plain": [
       "          LEB LE60-Adj   HALE\n",
       "count     648      648    486\n",
       "unique      8        3      7\n",
       "top     70-75    75-80  60-65\n",
       "freq      174      345    142"
      ]
     },
     "execution_count": 50,
     "metadata": {},
     "output_type": "execute_result"
    }
   ],
   "source": [
    "df_le_clean[['LEB', 'LE60-Adj', 'HALE']].describe()\n"
   ]
  },
  {
   "cell_type": "code",
   "execution_count": 114,
   "metadata": {
    "collapsed": false
   },
   "outputs": [
    {
     "name": "stderr",
     "output_type": "stream",
     "text": [
      "c:\\Users\\u958Pope\\AppData\\Local\\Continuum\\Anaconda3\\lib\\site-packages\\pandas\\core\\frame.py:1997: UserWarning: Boolean Series key will be reindexed to match DataFrame index.\n",
      "  \"DataFrame index.\", UserWarning)\n"
     ]
    },
    {
     "data": {
      "text/html": [
       "<div>\n",
       "<table border=\"1\" class=\"dataframe\">\n",
       "  <thead>\n",
       "    <tr style=\"text-align: right;\">\n",
       "      <th></th>\n",
       "      <th>Country</th>\n",
       "      <th>HALEatBirth</th>\n",
       "      <th>LEat60</th>\n",
       "      <th>LEat60-Adj</th>\n",
       "      <th>LEatBirth</th>\n",
       "      <th>Year</th>\n",
       "      <th>Region</th>\n",
       "      <th>LEB</th>\n",
       "      <th>LE60-Adj</th>\n",
       "      <th>HALE</th>\n",
       "    </tr>\n",
       "  </thead>\n",
       "  <tbody>\n",
       "    <tr>\n",
       "      <th>9</th>\n",
       "      <td>Andorra</td>\n",
       "      <td>72</td>\n",
       "      <td>25</td>\n",
       "      <td>85</td>\n",
       "      <td>83</td>\n",
       "      <td>2012-01-01</td>\n",
       "      <td>Europe</td>\n",
       "      <td>Over 80</td>\n",
       "      <td>Over 80</td>\n",
       "      <td>70-75</td>\n",
       "    </tr>\n",
       "    <tr>\n",
       "      <th>25</th>\n",
       "      <td>Australia</td>\n",
       "      <td>73</td>\n",
       "      <td>25</td>\n",
       "      <td>85</td>\n",
       "      <td>83</td>\n",
       "      <td>2012-01-01</td>\n",
       "      <td>Western Pacific</td>\n",
       "      <td>Over 80</td>\n",
       "      <td>Over 80</td>\n",
       "      <td>70-75</td>\n",
       "    </tr>\n",
       "    <tr>\n",
       "      <th>29</th>\n",
       "      <td>Austria</td>\n",
       "      <td>70</td>\n",
       "      <td>24</td>\n",
       "      <td>84</td>\n",
       "      <td>81</td>\n",
       "      <td>2012-01-01</td>\n",
       "      <td>Europe</td>\n",
       "      <td>Over 80</td>\n",
       "      <td>Over 80</td>\n",
       "      <td>70-75</td>\n",
       "    </tr>\n",
       "    <tr>\n",
       "      <th>57</th>\n",
       "      <td>Belgium</td>\n",
       "      <td>70</td>\n",
       "      <td>23</td>\n",
       "      <td>83</td>\n",
       "      <td>80</td>\n",
       "      <td>2012-01-01</td>\n",
       "      <td>Europe</td>\n",
       "      <td>Over 80</td>\n",
       "      <td>Over 80</td>\n",
       "      <td>70-75</td>\n",
       "    </tr>\n",
       "    <tr>\n",
       "      <th>93</th>\n",
       "      <td>Canada</td>\n",
       "      <td>72</td>\n",
       "      <td>25</td>\n",
       "      <td>85</td>\n",
       "      <td>82</td>\n",
       "      <td>2012-01-01</td>\n",
       "      <td>Americas</td>\n",
       "      <td>Over 80</td>\n",
       "      <td>Over 80</td>\n",
       "      <td>70-75</td>\n",
       "    </tr>\n",
       "    <tr>\n",
       "      <th>97</th>\n",
       "      <td>Chile</td>\n",
       "      <td>70</td>\n",
       "      <td>24</td>\n",
       "      <td>84</td>\n",
       "      <td>80</td>\n",
       "      <td>2012-01-01</td>\n",
       "      <td>Americas</td>\n",
       "      <td>Over 80</td>\n",
       "      <td>Over 80</td>\n",
       "      <td>70-75</td>\n",
       "    </tr>\n",
       "    <tr>\n",
       "      <th>125</th>\n",
       "      <td>Cyprus</td>\n",
       "      <td>74</td>\n",
       "      <td>24</td>\n",
       "      <td>84</td>\n",
       "      <td>82</td>\n",
       "      <td>2012-01-01</td>\n",
       "      <td>Europe</td>\n",
       "      <td>Over 80</td>\n",
       "      <td>Over 80</td>\n",
       "      <td>70-75</td>\n",
       "    </tr>\n",
       "    <tr>\n",
       "      <th>133</th>\n",
       "      <td>Denmark</td>\n",
       "      <td>70</td>\n",
       "      <td>23</td>\n",
       "      <td>83</td>\n",
       "      <td>80</td>\n",
       "      <td>2012-01-01</td>\n",
       "      <td>Europe</td>\n",
       "      <td>Over 80</td>\n",
       "      <td>Over 80</td>\n",
       "      <td>70-75</td>\n",
       "    </tr>\n",
       "    <tr>\n",
       "      <th>177</th>\n",
       "      <td>Finland</td>\n",
       "      <td>71</td>\n",
       "      <td>24</td>\n",
       "      <td>84</td>\n",
       "      <td>81</td>\n",
       "      <td>2012-01-01</td>\n",
       "      <td>Europe</td>\n",
       "      <td>Over 80</td>\n",
       "      <td>Over 80</td>\n",
       "      <td>70-75</td>\n",
       "    </tr>\n",
       "    <tr>\n",
       "      <th>181</th>\n",
       "      <td>France</td>\n",
       "      <td>72</td>\n",
       "      <td>25</td>\n",
       "      <td>85</td>\n",
       "      <td>82</td>\n",
       "      <td>2012-01-01</td>\n",
       "      <td>Europe</td>\n",
       "      <td>Over 80</td>\n",
       "      <td>Over 80</td>\n",
       "      <td>70-75</td>\n",
       "    </tr>\n",
       "    <tr>\n",
       "      <th>193</th>\n",
       "      <td>Germany</td>\n",
       "      <td>71</td>\n",
       "      <td>24</td>\n",
       "      <td>84</td>\n",
       "      <td>81</td>\n",
       "      <td>2012-01-01</td>\n",
       "      <td>Europe</td>\n",
       "      <td>Over 80</td>\n",
       "      <td>Over 80</td>\n",
       "      <td>70-75</td>\n",
       "    </tr>\n",
       "    <tr>\n",
       "      <th>201</th>\n",
       "      <td>Greece</td>\n",
       "      <td>71</td>\n",
       "      <td>24</td>\n",
       "      <td>84</td>\n",
       "      <td>81</td>\n",
       "      <td>2012-01-01</td>\n",
       "      <td>Europe</td>\n",
       "      <td>Over 80</td>\n",
       "      <td>Over 80</td>\n",
       "      <td>70-75</td>\n",
       "    </tr>\n",
       "    <tr>\n",
       "      <th>229</th>\n",
       "      <td>Iceland</td>\n",
       "      <td>72</td>\n",
       "      <td>25</td>\n",
       "      <td>85</td>\n",
       "      <td>82</td>\n",
       "      <td>2012-01-01</td>\n",
       "      <td>Europe</td>\n",
       "      <td>Over 80</td>\n",
       "      <td>Over 80</td>\n",
       "      <td>70-75</td>\n",
       "    </tr>\n",
       "    <tr>\n",
       "      <th>245</th>\n",
       "      <td>Ireland</td>\n",
       "      <td>71</td>\n",
       "      <td>24</td>\n",
       "      <td>84</td>\n",
       "      <td>81</td>\n",
       "      <td>2012-01-01</td>\n",
       "      <td>Europe</td>\n",
       "      <td>Over 80</td>\n",
       "      <td>Over 80</td>\n",
       "      <td>70-75</td>\n",
       "    </tr>\n",
       "    <tr>\n",
       "      <th>249</th>\n",
       "      <td>Israel</td>\n",
       "      <td>72</td>\n",
       "      <td>24</td>\n",
       "      <td>84</td>\n",
       "      <td>82</td>\n",
       "      <td>2012-01-01</td>\n",
       "      <td>Europe</td>\n",
       "      <td>Over 80</td>\n",
       "      <td>Over 80</td>\n",
       "      <td>70-75</td>\n",
       "    </tr>\n",
       "    <tr>\n",
       "      <th>253</th>\n",
       "      <td>Italy</td>\n",
       "      <td>73</td>\n",
       "      <td>25</td>\n",
       "      <td>85</td>\n",
       "      <td>83</td>\n",
       "      <td>2012-01-01</td>\n",
       "      <td>Europe</td>\n",
       "      <td>Over 80</td>\n",
       "      <td>Over 80</td>\n",
       "      <td>70-75</td>\n",
       "    </tr>\n",
       "    <tr>\n",
       "      <th>261</th>\n",
       "      <td>Japan</td>\n",
       "      <td>75</td>\n",
       "      <td>26</td>\n",
       "      <td>86</td>\n",
       "      <td>84</td>\n",
       "      <td>2012-01-01</td>\n",
       "      <td>Western Pacific</td>\n",
       "      <td>Over 80</td>\n",
       "      <td>Over 80</td>\n",
       "      <td>75-80</td>\n",
       "    </tr>\n",
       "    <tr>\n",
       "      <th>297</th>\n",
       "      <td>Lebanon</td>\n",
       "      <td>69</td>\n",
       "      <td>22</td>\n",
       "      <td>82</td>\n",
       "      <td>80</td>\n",
       "      <td>2012-01-01</td>\n",
       "      <td>Eastern Mediterranean</td>\n",
       "      <td>Over 80</td>\n",
       "      <td>Over 80</td>\n",
       "      <td>65-70</td>\n",
       "    </tr>\n",
       "    <tr>\n",
       "      <th>317</th>\n",
       "      <td>Luxembourg</td>\n",
       "      <td>71</td>\n",
       "      <td>25</td>\n",
       "      <td>85</td>\n",
       "      <td>82</td>\n",
       "      <td>2012-01-01</td>\n",
       "      <td>Europe</td>\n",
       "      <td>Over 80</td>\n",
       "      <td>Over 80</td>\n",
       "      <td>70-75</td>\n",
       "    </tr>\n",
       "    <tr>\n",
       "      <th>333</th>\n",
       "      <td>Malta</td>\n",
       "      <td>71</td>\n",
       "      <td>24</td>\n",
       "      <td>84</td>\n",
       "      <td>81</td>\n",
       "      <td>2012-01-01</td>\n",
       "      <td>Europe</td>\n",
       "      <td>Over 80</td>\n",
       "      <td>Over 80</td>\n",
       "      <td>70-75</td>\n",
       "    </tr>\n",
       "    <tr>\n",
       "      <th>349</th>\n",
       "      <td>Monaco</td>\n",
       "      <td>72</td>\n",
       "      <td>25</td>\n",
       "      <td>85</td>\n",
       "      <td>82</td>\n",
       "      <td>2012-01-01</td>\n",
       "      <td>Europe</td>\n",
       "      <td>Over 80</td>\n",
       "      <td>Over 80</td>\n",
       "      <td>70-75</td>\n",
       "    </tr>\n",
       "    <tr>\n",
       "      <th>381</th>\n",
       "      <td>Netherlands</td>\n",
       "      <td>71</td>\n",
       "      <td>24</td>\n",
       "      <td>84</td>\n",
       "      <td>81</td>\n",
       "      <td>2012-01-01</td>\n",
       "      <td>Europe</td>\n",
       "      <td>Over 80</td>\n",
       "      <td>Over 80</td>\n",
       "      <td>70-75</td>\n",
       "    </tr>\n",
       "    <tr>\n",
       "      <th>385</th>\n",
       "      <td>New Zealand</td>\n",
       "      <td>72</td>\n",
       "      <td>25</td>\n",
       "      <td>85</td>\n",
       "      <td>82</td>\n",
       "      <td>2012-01-01</td>\n",
       "      <td>Western Pacific</td>\n",
       "      <td>Over 80</td>\n",
       "      <td>Over 80</td>\n",
       "      <td>70-75</td>\n",
       "    </tr>\n",
       "    <tr>\n",
       "      <th>401</th>\n",
       "      <td>Norway</td>\n",
       "      <td>70</td>\n",
       "      <td>24</td>\n",
       "      <td>84</td>\n",
       "      <td>82</td>\n",
       "      <td>2012-01-01</td>\n",
       "      <td>Europe</td>\n",
       "      <td>Over 80</td>\n",
       "      <td>Over 80</td>\n",
       "      <td>70-75</td>\n",
       "    </tr>\n",
       "    <tr>\n",
       "      <th>441</th>\n",
       "      <td>Portugal</td>\n",
       "      <td>71</td>\n",
       "      <td>24</td>\n",
       "      <td>84</td>\n",
       "      <td>81</td>\n",
       "      <td>2012-01-01</td>\n",
       "      <td>Europe</td>\n",
       "      <td>Over 80</td>\n",
       "      <td>Over 80</td>\n",
       "      <td>70-75</td>\n",
       "    </tr>\n",
       "    <tr>\n",
       "      <th>449</th>\n",
       "      <td>Republic of Korea</td>\n",
       "      <td>72</td>\n",
       "      <td>24</td>\n",
       "      <td>84</td>\n",
       "      <td>81</td>\n",
       "      <td>2012-01-01</td>\n",
       "      <td>Western Pacific</td>\n",
       "      <td>Over 80</td>\n",
       "      <td>Over 80</td>\n",
       "      <td>70-75</td>\n",
       "    </tr>\n",
       "    <tr>\n",
       "      <th>485</th>\n",
       "      <td>San Marino</td>\n",
       "      <td>73</td>\n",
       "      <td>25</td>\n",
       "      <td>85</td>\n",
       "      <td>83</td>\n",
       "      <td>2012-01-01</td>\n",
       "      <td>Europe</td>\n",
       "      <td>Over 80</td>\n",
       "      <td>Over 80</td>\n",
       "      <td>70-75</td>\n",
       "    </tr>\n",
       "    <tr>\n",
       "      <th>505</th>\n",
       "      <td>Singapore</td>\n",
       "      <td>76</td>\n",
       "      <td>25</td>\n",
       "      <td>85</td>\n",
       "      <td>83</td>\n",
       "      <td>2012-01-01</td>\n",
       "      <td>Western Pacific</td>\n",
       "      <td>Over 80</td>\n",
       "      <td>Over 80</td>\n",
       "      <td>75-80</td>\n",
       "    </tr>\n",
       "    <tr>\n",
       "      <th>513</th>\n",
       "      <td>Slovenia</td>\n",
       "      <td>69</td>\n",
       "      <td>23</td>\n",
       "      <td>83</td>\n",
       "      <td>80</td>\n",
       "      <td>2012-01-01</td>\n",
       "      <td>Europe</td>\n",
       "      <td>Over 80</td>\n",
       "      <td>Over 80</td>\n",
       "      <td>65-70</td>\n",
       "    </tr>\n",
       "    <tr>\n",
       "      <th>533</th>\n",
       "      <td>Spain</td>\n",
       "      <td>73</td>\n",
       "      <td>25</td>\n",
       "      <td>85</td>\n",
       "      <td>82</td>\n",
       "      <td>2012-01-01</td>\n",
       "      <td>Europe</td>\n",
       "      <td>Over 80</td>\n",
       "      <td>Over 80</td>\n",
       "      <td>70-75</td>\n",
       "    </tr>\n",
       "    <tr>\n",
       "      <th>549</th>\n",
       "      <td>Sweden</td>\n",
       "      <td>72</td>\n",
       "      <td>24</td>\n",
       "      <td>84</td>\n",
       "      <td>82</td>\n",
       "      <td>2012-01-01</td>\n",
       "      <td>Europe</td>\n",
       "      <td>Over 80</td>\n",
       "      <td>Over 80</td>\n",
       "      <td>70-75</td>\n",
       "    </tr>\n",
       "    <tr>\n",
       "      <th>553</th>\n",
       "      <td>Switzerland</td>\n",
       "      <td>72</td>\n",
       "      <td>25</td>\n",
       "      <td>85</td>\n",
       "      <td>83</td>\n",
       "      <td>2012-01-01</td>\n",
       "      <td>Europe</td>\n",
       "      <td>Over 80</td>\n",
       "      <td>Over 80</td>\n",
       "      <td>70-75</td>\n",
       "    </tr>\n",
       "    <tr>\n",
       "      <th>609</th>\n",
       "      <td>United Kingdom of Great Britain and Northern I...</td>\n",
       "      <td>70</td>\n",
       "      <td>24</td>\n",
       "      <td>84</td>\n",
       "      <td>81</td>\n",
       "      <td>2012-01-01</td>\n",
       "      <td>Europe</td>\n",
       "      <td>Over 80</td>\n",
       "      <td>Over 80</td>\n",
       "      <td>70-75</td>\n",
       "    </tr>\n",
       "  </tbody>\n",
       "</table>\n",
       "</div>"
      ],
      "text/plain": [
       "                                               Country  HALEatBirth  LEat60  \\\n",
       "9                                              Andorra           72      25   \n",
       "25                                           Australia           73      25   \n",
       "29                                             Austria           70      24   \n",
       "57                                             Belgium           70      23   \n",
       "93                                              Canada           72      25   \n",
       "97                                               Chile           70      24   \n",
       "125                                             Cyprus           74      24   \n",
       "133                                            Denmark           70      23   \n",
       "177                                            Finland           71      24   \n",
       "181                                             France           72      25   \n",
       "193                                            Germany           71      24   \n",
       "201                                             Greece           71      24   \n",
       "229                                            Iceland           72      25   \n",
       "245                                            Ireland           71      24   \n",
       "249                                             Israel           72      24   \n",
       "253                                              Italy           73      25   \n",
       "261                                              Japan           75      26   \n",
       "297                                            Lebanon           69      22   \n",
       "317                                         Luxembourg           71      25   \n",
       "333                                              Malta           71      24   \n",
       "349                                             Monaco           72      25   \n",
       "381                                        Netherlands           71      24   \n",
       "385                                        New Zealand           72      25   \n",
       "401                                             Norway           70      24   \n",
       "441                                           Portugal           71      24   \n",
       "449                                  Republic of Korea           72      24   \n",
       "485                                         San Marino           73      25   \n",
       "505                                          Singapore           76      25   \n",
       "513                                           Slovenia           69      23   \n",
       "533                                              Spain           73      25   \n",
       "549                                             Sweden           72      24   \n",
       "553                                        Switzerland           72      25   \n",
       "609  United Kingdom of Great Britain and Northern I...           70      24   \n",
       "\n",
       "     LEat60-Adj  LEatBirth       Year                 Region      LEB  \\\n",
       "9            85         83 2012-01-01                 Europe  Over 80   \n",
       "25           85         83 2012-01-01        Western Pacific  Over 80   \n",
       "29           84         81 2012-01-01                 Europe  Over 80   \n",
       "57           83         80 2012-01-01                 Europe  Over 80   \n",
       "93           85         82 2012-01-01               Americas  Over 80   \n",
       "97           84         80 2012-01-01               Americas  Over 80   \n",
       "125          84         82 2012-01-01                 Europe  Over 80   \n",
       "133          83         80 2012-01-01                 Europe  Over 80   \n",
       "177          84         81 2012-01-01                 Europe  Over 80   \n",
       "181          85         82 2012-01-01                 Europe  Over 80   \n",
       "193          84         81 2012-01-01                 Europe  Over 80   \n",
       "201          84         81 2012-01-01                 Europe  Over 80   \n",
       "229          85         82 2012-01-01                 Europe  Over 80   \n",
       "245          84         81 2012-01-01                 Europe  Over 80   \n",
       "249          84         82 2012-01-01                 Europe  Over 80   \n",
       "253          85         83 2012-01-01                 Europe  Over 80   \n",
       "261          86         84 2012-01-01        Western Pacific  Over 80   \n",
       "297          82         80 2012-01-01  Eastern Mediterranean  Over 80   \n",
       "317          85         82 2012-01-01                 Europe  Over 80   \n",
       "333          84         81 2012-01-01                 Europe  Over 80   \n",
       "349          85         82 2012-01-01                 Europe  Over 80   \n",
       "381          84         81 2012-01-01                 Europe  Over 80   \n",
       "385          85         82 2012-01-01        Western Pacific  Over 80   \n",
       "401          84         82 2012-01-01                 Europe  Over 80   \n",
       "441          84         81 2012-01-01                 Europe  Over 80   \n",
       "449          84         81 2012-01-01        Western Pacific  Over 80   \n",
       "485          85         83 2012-01-01                 Europe  Over 80   \n",
       "505          85         83 2012-01-01        Western Pacific  Over 80   \n",
       "513          83         80 2012-01-01                 Europe  Over 80   \n",
       "533          85         82 2012-01-01                 Europe  Over 80   \n",
       "549          84         82 2012-01-01                 Europe  Over 80   \n",
       "553          85         83 2012-01-01                 Europe  Over 80   \n",
       "609          84         81 2012-01-01                 Europe  Over 80   \n",
       "\n",
       "    LE60-Adj   HALE  \n",
       "9    Over 80  70-75  \n",
       "25   Over 80  70-75  \n",
       "29   Over 80  70-75  \n",
       "57   Over 80  70-75  \n",
       "93   Over 80  70-75  \n",
       "97   Over 80  70-75  \n",
       "125  Over 80  70-75  \n",
       "133  Over 80  70-75  \n",
       "177  Over 80  70-75  \n",
       "181  Over 80  70-75  \n",
       "193  Over 80  70-75  \n",
       "201  Over 80  70-75  \n",
       "229  Over 80  70-75  \n",
       "245  Over 80  70-75  \n",
       "249  Over 80  70-75  \n",
       "253  Over 80  70-75  \n",
       "261  Over 80  75-80  \n",
       "297  Over 80  65-70  \n",
       "317  Over 80  70-75  \n",
       "333  Over 80  70-75  \n",
       "349  Over 80  70-75  \n",
       "381  Over 80  70-75  \n",
       "385  Over 80  70-75  \n",
       "401  Over 80  70-75  \n",
       "441  Over 80  70-75  \n",
       "449  Over 80  70-75  \n",
       "485  Over 80  70-75  \n",
       "505  Over 80  75-80  \n",
       "513  Over 80  65-70  \n",
       "533  Over 80  70-75  \n",
       "549  Over 80  70-75  \n",
       "553  Over 80  70-75  \n",
       "609  Over 80  70-75  "
      ]
     },
     "execution_count": 114,
     "metadata": {},
     "output_type": "execute_result"
    }
   ],
   "source": [
    "df_le_clean[df_le_clean['LEB']=='Over 80'][df_le_clean['Year']=='2012-01-01']"
   ]
  },
  {
   "cell_type": "code",
   "execution_count": 51,
   "metadata": {
    "collapsed": false
   },
   "outputs": [
    {
     "data": {
      "text/plain": [
       "70-75       174\n",
       "75-80       161\n",
       "65-70        96\n",
       "Over 80      75\n",
       "60-65        66\n",
       "55-60        30\n",
       "Under 50     26\n",
       "50-55        20\n",
       "dtype: int64"
      ]
     },
     "execution_count": 51,
     "metadata": {},
     "output_type": "execute_result"
    }
   ],
   "source": [
    "df_le_clean['LEB'].value_counts()"
   ]
  },
  {
   "cell_type": "code",
   "execution_count": 130,
   "metadata": {
    "collapsed": false
   },
   "outputs": [
    {
     "data": {
      "text/plain": [
       "<matplotlib.text.Text at 0xfc6f3c8>"
      ]
     },
     "execution_count": 130,
     "metadata": {},
     "output_type": "execute_result"
    },
    {
     "data": {
      "image/png": "[encoded data removed]",
      "text/plain": [
       "<matplotlib.figure.Figure at 0xfcbb4a8>"
      ]
     },
     "metadata": {},
     "output_type": "display_data"
    }
   ],
   "source": [
    "#Look ar records from 2013\n",
    "df_le_2013 = df_le_clean[df_le_clean['Year'] == '2012-01-01']\n",
    "df_le_2013.groupby(['LEB'])['Country'].count().plot(kind='barh', figsize=(10,5))\n",
    "pyplot.xlabel(\"Number of Countries\")\n",
    "pyplot.ylabel(\"Life Expectancy at Birth (grouped)\")"
   ]
  },
  {
   "cell_type": "code",
   "execution_count": 53,
   "metadata": {
    "collapsed": true
   },
   "outputs": [],
   "source": [
    "#group by country\n",
    "le_by_country = df_le_clean.groupby('Country')"
   ]
  },
  {
   "cell_type": "code",
   "execution_count": 54,
   "metadata": {
    "collapsed": false
   },
   "outputs": [
    {
     "data": {
      "text/plain": [
       "<matplotlib.text.Text at 0xa236860>"
      ]
     },
     "execution_count": 54,
     "metadata": {},
     "output_type": "execute_result"
    },
    {
     "data": {
      "image/png": "[encoded data removed]",
      "text/plain": [
       "<matplotlib.figure.Figure at 0x91a7860>"
      ]
     },
     "metadata": {},
     "output_type": "display_data"
    }
   ],
   "source": [
    "#Countries with the shortest life expectancy\n",
    "le_by_country['LEatBirth'].mean()[le_by_country['LEatBirth'].mean()<50].plot(kind='barh')\n",
    "pyplot.xlabel(\"Life Expectancy\")\n",
    "pyplot.title(\"Countries with Shortest Life Expectancy\")"
   ]
  },
  {
   "cell_type": "code",
   "execution_count": 131,
   "metadata": {
    "collapsed": false
   },
   "outputs": [
    {
     "data": {
      "text/plain": [
       "<matplotlib.text.Text at 0xff46fd0>"
      ]
     },
     "execution_count": 131,
     "metadata": {},
     "output_type": "execute_result"
    },
    {
     "data": {
      "image/png": "[encoded data removed]",
      "text/plain": [
       "<matplotlib.figure.Figure at 0xe0dcf60>"
      ]
     },
     "metadata": {},
     "output_type": "display_data"
    }
   ],
   "source": [
    "#countries with the highest Life Expectancies\n",
    "le_by_country2 = df_le_clean[df_le_clean.Year=='2012-01-01'].groupby('Country')\n",
    "le_by_country2['LEatBirth'].mean()[le_by_country2['LEatBirth'].mean()>79].plot(kind='bar', figsize=(14,6), rot=20)\n",
    "pyplot.xlabel(\"Life Expectancy\")\n",
    "pyplot.title(\"Countries with Longest Life Expectancy - 2012\")"
   ]
  },
  {
   "cell_type": "code",
   "execution_count": 115,
   "metadata": {
    "collapsed": false
   },
   "outputs": [
    {
     "data": {
      "text/plain": [
       "<matplotlib.text.Text at 0xe30f4e0>"
      ]
     },
     "execution_count": 115,
     "metadata": {},
     "output_type": "execute_result"
    },
    {
     "data": {
      "image/png": "[encoded data removed]",
      "text/plain": [
       "<matplotlib.figure.Figure at 0xe2665f8>"
      ]
     },
     "metadata": {},
     "output_type": "display_data"
    }
   ],
   "source": [
    "#countries with the highest Life Expectancies - mean for all years\n",
    "le_by_country['LEatBirth'].mean()[le_by_country['LEatBirth'].mean()>80].plot(kind='bar', figsize=(10,6), rot=45)\n",
    "pyplot.xlabel(\"Life Expectancy\")\n",
    "pyplot.title(\"Countries with Longest Life Expectancy\")"
   ]
  },
  {
   "cell_type": "code",
   "execution_count": 56,
   "metadata": {
    "collapsed": false
   },
   "outputs": [
    {
     "data": {
      "text/plain": [
       "Country\n",
       "Sierra Leone                   29.5\n",
       "Lesotho                        26.0\n",
       "Zambia                         26.0\n",
       "Nigeria                        25.0\n",
       "Somalia                        24.0\n",
       "Malawi                         23.5\n",
       "Uganda                         23.5\n",
       "South Sudan                    23.5\n",
       "Swaziland                      23.0\n",
       "United Republic of Tanzania    21.0\n",
       "dtype: float64"
      ]
     },
     "execution_count": 56,
     "metadata": {},
     "output_type": "execute_result"
    }
   ],
   "source": [
    "# look at countries with largest difference b/t LEatBirth and LEat60 (using median values across years of data)\n",
    "le_variance = abs(le_by_country['LEatBirth'].median() - (le_by_country['LEat60'].median() + 60)).sort_values(ascending=False)\n",
    "le_variance.head(10)"
   ]
  },
  {
   "cell_type": "code",
   "execution_count": 111,
   "metadata": {
    "collapsed": false
   },
   "outputs": [
    {
     "data": {
      "text/plain": [
       "([<matplotlib.axis.XTick at 0xe1c2a90>,\n",
       "  <matplotlib.axis.XTick at 0xe1bb3c8>,\n",
       "  <matplotlib.axis.XTick at 0xe1b6550>],\n",
       " <a list of 3 Text xticklabel objects>)"
      ]
     },
     "execution_count": 111,
     "metadata": {},
     "output_type": "execute_result"
    },
    {
     "data": {
      "image/png": "[encoded data removed]",
      "text/plain": [
       "<matplotlib.figure.Figure at 0xe24dbe0>"
      ]
     },
     "metadata": {},
     "output_type": "display_data"
    }
   ],
   "source": [
    "# box plot to see \n",
    "df_le_clean[['LEatBirth', 'LEat60-Adj', 'HALEatBirth']].plot(kind='box', return_type='axes', rot=30)\n",
    "pyplot.title (\"Variation of Measures\")\n",
    "pyplot.ylabel(\"Life Expectancy\")\n",
    "xlabels = ['Life Expectancy (Birth)', 'Like Expectancy (60)', 'Healthy Life Expectancy']\n",
    "pyplot.xticks([1, 2, 3,], xlabels)"
   ]
  },
  {
   "cell_type": "code",
   "execution_count": 58,
   "metadata": {
    "collapsed": false
   },
   "outputs": [
    {
     "data": {
      "text/plain": [
       "<matplotlib.legend.Legend at 0xa26cb38>"
      ]
     },
     "execution_count": 58,
     "metadata": {},
     "output_type": "execute_result"
    },
    {
     "data": {
      "image/png": "[encoded data removed]",
      "text/plain": [
       "<matplotlib.figure.Figure at 0xa26c8d0>"
      ]
     },
     "metadata": {},
     "output_type": "display_data"
    }
   ],
   "source": [
    "# look at spread by global region\n",
    "df_le_clean.groupby('Region')[['HALEatBirth', 'LEat60-Adj', 'LEatBirth']].mean().plot(kind = 'bar', figsize = (8,8), rot=30)\n",
    "pyplot.title (\"View by Global Region\")\n",
    "pyplot.ylabel(\"Life Expectancy\")\n",
    "pyplot.legend([\"HALE at Birth\", 'LE at 60', 'LE at Birth'], bbox_to_anchor=(.28, 1.2))\n"
   ]
  },
  {
   "cell_type": "markdown",
   "metadata": {},
   "source": [
    "## Aid Exploration"
   ]
  },
  {
   "cell_type": "code",
   "execution_count": 59,
   "metadata": {
    "collapsed": false
   },
   "outputs": [
    {
     "data": {
      "text/html": [
       "<div>\n",
       "<table border=\"1\" class=\"dataframe\">\n",
       "  <thead>\n",
       "    <tr style=\"text-align: right;\">\n",
       "      <th></th>\n",
       "      <th>Country; Year</th>\n",
       "      <th>Commitments</th>\n",
       "      <th>Disbursements</th>\n",
       "      <th>Country</th>\n",
       "      <th>Year</th>\n",
       "    </tr>\n",
       "  </thead>\n",
       "  <tbody>\n",
       "    <tr>\n",
       "      <th>0</th>\n",
       "      <td>Afghanistan; 2010</td>\n",
       "      <td>386.92</td>\n",
       "      <td>300.09</td>\n",
       "      <td>Afghanistan</td>\n",
       "      <td>2010-01-01</td>\n",
       "    </tr>\n",
       "    <tr>\n",
       "      <th>1</th>\n",
       "      <td>Afghanistan; 2009</td>\n",
       "      <td>254.04</td>\n",
       "      <td>345.59</td>\n",
       "      <td>Afghanistan</td>\n",
       "      <td>2009-01-01</td>\n",
       "    </tr>\n",
       "    <tr>\n",
       "      <th>2</th>\n",
       "      <td>Afghanistan; 2008</td>\n",
       "      <td>459.80</td>\n",
       "      <td>254.46</td>\n",
       "      <td>Afghanistan</td>\n",
       "      <td>2008-01-01</td>\n",
       "    </tr>\n",
       "    <tr>\n",
       "      <th>3</th>\n",
       "      <td>Afghanistan; 2007</td>\n",
       "      <td>217.22</td>\n",
       "      <td>254.40</td>\n",
       "      <td>Afghanistan</td>\n",
       "      <td>2007-01-01</td>\n",
       "    </tr>\n",
       "    <tr>\n",
       "      <th>4</th>\n",
       "      <td>Afghanistan; 2006</td>\n",
       "      <td>334.53</td>\n",
       "      <td>186.74</td>\n",
       "      <td>Afghanistan</td>\n",
       "      <td>2006-01-01</td>\n",
       "    </tr>\n",
       "  </tbody>\n",
       "</table>\n",
       "</div>"
      ],
      "text/plain": [
       "       Country; Year  Commitments  Disbursements      Country       Year\n",
       "0  Afghanistan; 2010       386.92         300.09  Afghanistan 2010-01-01\n",
       "1  Afghanistan; 2009       254.04         345.59  Afghanistan 2009-01-01\n",
       "2  Afghanistan; 2008       459.80         254.46  Afghanistan 2008-01-01\n",
       "3  Afghanistan; 2007       217.22         254.40  Afghanistan 2007-01-01\n",
       "4  Afghanistan; 2006       334.53         186.74  Afghanistan 2006-01-01"
      ]
     },
     "execution_count": 59,
     "metadata": {},
     "output_type": "execute_result"
    }
   ],
   "source": [
    "# commitments are noted by year\n",
    "df_c.head()"
   ]
  },
  {
   "cell_type": "code",
   "execution_count": 60,
   "metadata": {
    "collapsed": false
   },
   "outputs": [
    {
     "name": "stdout",
     "output_type": "stream",
     "text": [
      "Object `c_by_year.plot` not found.\n"
     ]
    }
   ],
   "source": [
    "?c_by_year.plot"
   ]
  },
  {
   "cell_type": "code",
   "execution_count": 61,
   "metadata": {
    "collapsed": false
   },
   "outputs": [
    {
     "data": {
      "text/plain": [
       "([<matplotlib.axis.YTick at 0xa433908>,\n",
       "  <matplotlib.axis.YTick at 0xa433c18>,\n",
       "  <matplotlib.axis.YTick at 0xa6dccc0>,\n",
       "  <matplotlib.axis.YTick at 0xa6cc3c8>,\n",
       "  <matplotlib.axis.YTick at 0xa6dca58>,\n",
       "  <matplotlib.axis.YTick at 0xa6e20b8>],\n",
       " <a list of 6 Text yticklabel objects>)"
      ]
     },
     "execution_count": 61,
     "metadata": {},
     "output_type": "execute_result"
    },
    {
     "data": {
      "image/png": "[encoded data removed]",
      "text/plain": [
       "<matplotlib.figure.Figure at 0xa4355f8>"
      ]
     },
     "metadata": {},
     "output_type": "display_data"
    }
   ],
   "source": [
    "# look at variations in commitments by year\n",
    "# using pivot to get years as columns\n",
    "# using logy (non-linear) to better display the distribution\n",
    "xlabels = ['2000','2001','2002','2003','2004','2005','2006','2007','2008','2009','2010']\n",
    "ylabels = ['0.1', '1','10', '100', '1,000', '10,000']\n",
    "c_by_year = df_c.pivot_table(index=['Country'], columns=['Year'],values=['Commitments'], aggfunc = sum)\n",
    "c_by_year.plot(kind='box', return_type='axes', rot=30, figsize=(10,8), ylim = (0,10**4), logy=True)\n",
    "pyplot.title (\"Commitment Distribution by Year\")\n",
    "pyplot.ylabel(\"Commitment - US Million\")\n",
    "pyplot.xticks([1, 2, 3, 4, 5, 6, 7, 8, 9, 10, 11], xlabels)\n",
    "pyplot.yticks([10**-1, 10**0, 10**1, 10**2, 10**3, 10**4], ylabels)\n"
   ]
  },
  {
   "cell_type": "code",
   "execution_count": 62,
   "metadata": {
    "collapsed": false
   },
   "outputs": [
    {
     "data": {
      "text/plain": [
       "<matplotlib.text.Text at 0xa42bb70>"
      ]
     },
     "execution_count": 62,
     "metadata": {},
     "output_type": "execute_result"
    },
    {
     "data": {
      "image/png": "[encoded data removed]",
      "text/plain": [
       "<matplotlib.figure.Figure at 0xa400240>"
      ]
     },
     "metadata": {},
     "output_type": "display_data"
    }
   ],
   "source": [
    "# distribution of committed aid across years\n",
    "commitments_by_country['Commitments'].mean().hist(bins=25)\n",
    "pyplot.xlabel(\"Millions of US Dollars Committed\")\n",
    "pyplot.title(\"How is the Aid Distributed?\")"
   ]
  },
  {
   "cell_type": "code",
   "execution_count": 63,
   "metadata": {
    "collapsed": false
   },
   "outputs": [
    {
     "data": {
      "text/plain": [
       "<matplotlib.text.Text at 0xa9567b8>"
      ]
     },
     "execution_count": 63,
     "metadata": {},
     "output_type": "execute_result"
    },
    {
     "data": {
      "image/png": "[encoded data removed]",
      "text/plain": [
       "<matplotlib.figure.Figure at 0xa6ec710>"
      ]
     },
     "metadata": {},
     "output_type": "display_data"
    }
   ],
   "source": [
    "# countries with the most beneftis\n",
    "commitments_by_country['Commitments'].mean()[commitments_by_country['Commitments'].mean()>250].plot(kind='barh')\n",
    "pyplot.title(\"Countries with Highest Aid Reciepts\")\n",
    "pyplot.xlabel(\"US Millions of Dollars Committed to Country\")"
   ]
  },
  {
   "cell_type": "code",
   "execution_count": 64,
   "metadata": {
    "collapsed": false
   },
   "outputs": [
    {
     "data": {
      "text/plain": [
       "<matplotlib.text.Text at 0xa9dc1d0>"
      ]
     },
     "execution_count": 64,
     "metadata": {},
     "output_type": "execute_result"
    },
    {
     "data": {
      "image/png": "[encoded data removed]",
      "text/plain": [
       "<matplotlib.figure.Figure at 0xa99d710>"
      ]
     },
     "metadata": {},
     "output_type": "display_data"
    }
   ],
   "source": [
    "# countries with the most beneftis\n",
    "plot_data = commitments_by_country['Commitments'].mean()[commitments_by_country['Commitments'].mean()>250].sort_values()\n",
    "plot_data.plot(kind='barh')\n",
    "pyplot.title(\"Countries Receiving the Most Aid\")\n",
    "pyplot.xlabel(\"US Millions of Dollars Committed to Country\")\n",
    "pyplot.ylabel(\"\")"
   ]
  },
  {
   "cell_type": "code",
   "execution_count": 65,
   "metadata": {
    "collapsed": false
   },
   "outputs": [
    {
     "data": {
      "text/plain": [
       "Americas                 242\n",
       "Africa                   220\n",
       "Europe                   173\n",
       "Eastern Mediterranean    143\n",
       "Western Pacific          110\n",
       "Southeast Asia            88\n",
       "Name: Region, dtype: int64"
      ]
     },
     "execution_count": 65,
     "metadata": {},
     "output_type": "execute_result"
    }
   ],
   "source": [
    "# look at commitments by region\n",
    "# # first map region in (compare to Region / Country dataset)\n",
    "# merging (joining) the commitments data set with the Region Country map; joining field is \"Country\"\n",
    "df_c_region = pd.merge(df_c, rc_map, on='Country')\n",
    "\n",
    "df_c_region['Region'].value_counts()"
   ]
  },
  {
   "cell_type": "code",
   "execution_count": 66,
   "metadata": {
    "collapsed": false
   },
   "outputs": [
    {
     "data": {
      "text/plain": [
       "<matplotlib.text.Text at 0xaab8e48>"
      ]
     },
     "execution_count": 66,
     "metadata": {},
     "output_type": "execute_result"
    },
    {
     "data": {
      "image/png": "[encoded data removed]",
      "text/plain": [
       "<matplotlib.figure.Figure at 0xaa3fa58>"
      ]
     },
     "metadata": {},
     "output_type": "display_data"
    }
   ],
   "source": [
    "region_commitments_2010 = df_c_region[df_c_region['Year']=='2010-01-01'].groupby(['Region'])['Commitments'].sum()\n",
    "region_commitments_2010.plot(kind='pie', subplots=True, figsize = (7,6))\n",
    "pyplot.title(\"Aid Commitments by Region\")\n",
    "pyplot.ylabel(\"\")\n"
   ]
  },
  {
   "cell_type": "code",
   "execution_count": 67,
   "metadata": {
    "collapsed": false
   },
   "outputs": [
    {
     "data": {
      "text/plain": [
       "<matplotlib.legend.Legend at 0xbb59b70>"
      ]
     },
     "execution_count": 67,
     "metadata": {},
     "output_type": "execute_result"
    },
    {
     "data": {
      "image/png": "[encoded data removed]",
      "text/plain": [
       "<matplotlib.figure.Figure at 0xaaa8e80>"
      ]
     },
     "metadata": {},
     "output_type": "display_data"
    }
   ],
   "source": [
    "# commitments vs disbursements by region\n",
    "reg_com_dis_2010 = df_c_region[df_c_region['Year']=='2010-01-01'].groupby(['Region'])['Commitments', 'Disbursements'].sum()\n",
    "reg_com_dis_2010['Commitments'].plot(kind='bar', label=\"Commitments\", figsize = (7,6), position=0, color='Blue', rot=30)\n",
    "reg_com_dis_2010['Disbursements'].plot(kind='bar', label=\"Disbursements\", figsize = (7,6), position=1, color='Red', rot=30)\n",
    "pyplot.title(\"Commitments vs Disbursements by Region\")\n",
    "pyplot.ylabel(\"US Millions\")\n",
    "pyplot.legend()"
   ]
  },
  {
   "cell_type": "code",
   "execution_count": 68,
   "metadata": {
    "collapsed": false
   },
   "outputs": [
    {
     "name": "stderr",
     "output_type": "stream",
     "text": [
      "c:\\Users\\u958Pope\\AppData\\Local\\Continuum\\Anaconda3\\lib\\site-packages\\pandas\\core\\frame.py:1997: UserWarning: Boolean Series key will be reindexed to match DataFrame index.\n",
      "  \"DataFrame index.\", UserWarning)\n"
     ]
    },
    {
     "data": {
      "text/plain": [
       "<matplotlib.legend.Legend at 0xbc31080>"
      ]
     },
     "execution_count": 68,
     "metadata": {},
     "output_type": "execute_result"
    },
    {
     "data": {
      "image/png": "[encoded data removed]",
      "text/plain": [
       "<matplotlib.figure.Figure at 0xab39978>"
      ]
     },
     "metadata": {},
     "output_type": "display_data"
    }
   ],
   "source": [
    "# biggest variation (percentage wise, is in SE Asia - lets look by country)\n",
    "# this only includes SEAsia countries that receive any aid\n",
    "seasia_cd = df_c_region[df_c_region['Year']=='2010-01-01'][df_c_region['Region']=='Southeast Asia'].groupby(['Country'])['Commitments', 'Disbursements'].sum()\n",
    "seasia_cd['Commitments'].plot(kind='bar', label=\"Commitments\", figsize = (10,6), position=0, color='Blue', rot=30)\n",
    "seasia_cd['Disbursements'].plot(kind='bar', label=\"Disbursements\", figsize = (10,6), position=1, color='Red', rot=30)\n",
    "pyplot.title(\"Commitments vs Disbursements for Southeast Asia\")\n",
    "pyplot.ylabel(\"US Millions\")\n",
    "pyplot.legend()"
   ]
  },
  {
   "cell_type": "markdown",
   "metadata": {},
   "source": [
    "# Aid Comparison to LE"
   ]
  },
  {
   "cell_type": "code",
   "execution_count": 69,
   "metadata": {
    "collapsed": false
   },
   "outputs": [
    {
     "data": {
      "text/html": [
       "<div>\n",
       "<table border=\"1\" class=\"dataframe\">\n",
       "  <thead>\n",
       "    <tr style=\"text-align: right;\">\n",
       "      <th></th>\n",
       "      <th>Country</th>\n",
       "      <th>HALEatBirth</th>\n",
       "      <th>LEat60</th>\n",
       "      <th>LEat60-Adj</th>\n",
       "      <th>LEatBirth</th>\n",
       "      <th>Year</th>\n",
       "      <th>Region</th>\n",
       "      <th>LEB</th>\n",
       "      <th>LE60-Adj</th>\n",
       "      <th>HALE</th>\n",
       "    </tr>\n",
       "  </thead>\n",
       "  <tbody>\n",
       "    <tr>\n",
       "      <th>0</th>\n",
       "      <td>Afghanistan</td>\n",
       "      <td>50</td>\n",
       "      <td>16</td>\n",
       "      <td>76</td>\n",
       "      <td>61</td>\n",
       "      <td>2013-01-01</td>\n",
       "      <td>Eastern Mediterranean</td>\n",
       "      <td>60-65</td>\n",
       "      <td>75-80</td>\n",
       "      <td>50-55</td>\n",
       "    </tr>\n",
       "    <tr>\n",
       "      <th>1</th>\n",
       "      <td>Afghanistan</td>\n",
       "      <td>49</td>\n",
       "      <td>16</td>\n",
       "      <td>76</td>\n",
       "      <td>60</td>\n",
       "      <td>2012-01-01</td>\n",
       "      <td>Eastern Mediterranean</td>\n",
       "      <td>60-65</td>\n",
       "      <td>75-80</td>\n",
       "      <td>Under 50</td>\n",
       "    </tr>\n",
       "    <tr>\n",
       "      <th>2</th>\n",
       "      <td>Afghanistan</td>\n",
       "      <td>45</td>\n",
       "      <td>15</td>\n",
       "      <td>75</td>\n",
       "      <td>55</td>\n",
       "      <td>2000-01-01</td>\n",
       "      <td>Eastern Mediterranean</td>\n",
       "      <td>55-60</td>\n",
       "      <td>75-80</td>\n",
       "      <td>Under 50</td>\n",
       "    </tr>\n",
       "    <tr>\n",
       "      <th>3</th>\n",
       "      <td>Afghanistan</td>\n",
       "      <td>NaN</td>\n",
       "      <td>14</td>\n",
       "      <td>74</td>\n",
       "      <td>49</td>\n",
       "      <td>1990-01-01</td>\n",
       "      <td>Eastern Mediterranean</td>\n",
       "      <td>Under 50</td>\n",
       "      <td>70-75</td>\n",
       "      <td>NaN</td>\n",
       "    </tr>\n",
       "    <tr>\n",
       "      <th>4</th>\n",
       "      <td>Albania</td>\n",
       "      <td>65</td>\n",
       "      <td>19</td>\n",
       "      <td>79</td>\n",
       "      <td>74</td>\n",
       "      <td>2013-01-01</td>\n",
       "      <td>Europe</td>\n",
       "      <td>70-75</td>\n",
       "      <td>75-80</td>\n",
       "      <td>65-70</td>\n",
       "    </tr>\n",
       "  </tbody>\n",
       "</table>\n",
       "</div>"
      ],
      "text/plain": [
       "       Country  HALEatBirth  LEat60  LEat60-Adj  LEatBirth       Year  \\\n",
       "0  Afghanistan           50      16          76         61 2013-01-01   \n",
       "1  Afghanistan           49      16          76         60 2012-01-01   \n",
       "2  Afghanistan           45      15          75         55 2000-01-01   \n",
       "3  Afghanistan          NaN      14          74         49 1990-01-01   \n",
       "4      Albania           65      19          79         74 2013-01-01   \n",
       "\n",
       "                  Region       LEB LE60-Adj      HALE  \n",
       "0  Eastern Mediterranean     60-65    75-80     50-55  \n",
       "1  Eastern Mediterranean     60-65    75-80  Under 50  \n",
       "2  Eastern Mediterranean     55-60    75-80  Under 50  \n",
       "3  Eastern Mediterranean  Under 50    70-75       NaN  \n",
       "4                 Europe     70-75    75-80     65-70  "
      ]
     },
     "execution_count": 69,
     "metadata": {},
     "output_type": "execute_result"
    }
   ],
   "source": [
    "# will compare mean LE at Birth with mean Commitment data\n",
    "# year to year comparisons, are too strict, as impact of aid, could be over time\n",
    "\n",
    "df_le_clean.head()"
   ]
  },
  {
   "cell_type": "code",
   "execution_count": 70,
   "metadata": {
    "collapsed": false
   },
   "outputs": [
    {
     "data": {
      "text/html": [
       "<div>\n",
       "<table border=\"1\" class=\"dataframe\">\n",
       "  <thead>\n",
       "    <tr style=\"text-align: right;\">\n",
       "      <th></th>\n",
       "      <th>Region</th>\n",
       "      <th>Country</th>\n",
       "      <th>LEatBirth</th>\n",
       "    </tr>\n",
       "  </thead>\n",
       "  <tbody>\n",
       "    <tr>\n",
       "      <th>0</th>\n",
       "      <td>Africa</td>\n",
       "      <td>Botswana</td>\n",
       "      <td>59.50</td>\n",
       "    </tr>\n",
       "    <tr>\n",
       "      <th>1</th>\n",
       "      <td>Africa</td>\n",
       "      <td>Eritrea</td>\n",
       "      <td>55.00</td>\n",
       "    </tr>\n",
       "    <tr>\n",
       "      <th>2</th>\n",
       "      <td>Africa</td>\n",
       "      <td>Ethiopia</td>\n",
       "      <td>56.25</td>\n",
       "    </tr>\n",
       "    <tr>\n",
       "      <th>3</th>\n",
       "      <td>Africa</td>\n",
       "      <td>Gambia</td>\n",
       "      <td>57.50</td>\n",
       "    </tr>\n",
       "    <tr>\n",
       "      <th>4</th>\n",
       "      <td>Africa</td>\n",
       "      <td>Ghana</td>\n",
       "      <td>60.00</td>\n",
       "    </tr>\n",
       "  </tbody>\n",
       "</table>\n",
       "</div>"
      ],
      "text/plain": [
       "   Region   Country  LEatBirth\n",
       "0  Africa  Botswana      59.50\n",
       "1  Africa   Eritrea      55.00\n",
       "2  Africa  Ethiopia      56.25\n",
       "3  Africa    Gambia      57.50\n",
       "4  Africa     Ghana      60.00"
      ]
     },
     "execution_count": 70,
     "metadata": {},
     "output_type": "execute_result"
    }
   ],
   "source": [
    "# create LE dataset for joining\n",
    "le_temp = df_le_clean.groupby(['Region', 'Country'])['LEatBirth'].mean()\n",
    "#remove Region and Country from index (so can join)\n",
    "le = le_temp.reset_index()\n",
    "#le.columns\n",
    "le.head()"
   ]
  },
  {
   "cell_type": "code",
   "execution_count": 71,
   "metadata": {
    "collapsed": false
   },
   "outputs": [
    {
     "data": {
      "text/html": [
       "<div>\n",
       "<table border=\"1\" class=\"dataframe\">\n",
       "  <thead>\n",
       "    <tr style=\"text-align: right;\">\n",
       "      <th></th>\n",
       "      <th>Country</th>\n",
       "      <th>Commitments</th>\n",
       "    </tr>\n",
       "  </thead>\n",
       "  <tbody>\n",
       "    <tr>\n",
       "      <th>0</th>\n",
       "      <td>Afghanistan</td>\n",
       "      <td>202.500909</td>\n",
       "    </tr>\n",
       "    <tr>\n",
       "      <th>1</th>\n",
       "      <td>Albania</td>\n",
       "      <td>23.777273</td>\n",
       "    </tr>\n",
       "    <tr>\n",
       "      <th>2</th>\n",
       "      <td>Argentina</td>\n",
       "      <td>21.648182</td>\n",
       "    </tr>\n",
       "    <tr>\n",
       "      <th>3</th>\n",
       "      <td>Armenia</td>\n",
       "      <td>19.489091</td>\n",
       "    </tr>\n",
       "    <tr>\n",
       "      <th>4</th>\n",
       "      <td>Azerbaijan</td>\n",
       "      <td>16.588182</td>\n",
       "    </tr>\n",
       "  </tbody>\n",
       "</table>\n",
       "</div>"
      ],
      "text/plain": [
       "       Country  Commitments\n",
       "0  Afghanistan   202.500909\n",
       "1      Albania    23.777273\n",
       "2    Argentina    21.648182\n",
       "3      Armenia    19.489091\n",
       "4   Azerbaijan    16.588182"
      ]
     },
     "execution_count": 71,
     "metadata": {},
     "output_type": "execute_result"
    }
   ],
   "source": [
    "# create Commitment dataset for joining\n",
    "c_temp = df_c_region.groupby(['Country'])['Commitments'].mean()\n",
    "#remove Region and Country from index (so can join)\n",
    "c = c_temp.reset_index()\n",
    "c.head()\n"
   ]
  },
  {
   "cell_type": "code",
   "execution_count": 72,
   "metadata": {
    "collapsed": false
   },
   "outputs": [
    {
     "data": {
      "text/html": [
       "<div>\n",
       "<table border=\"1\" class=\"dataframe\">\n",
       "  <thead>\n",
       "    <tr style=\"text-align: right;\">\n",
       "      <th></th>\n",
       "      <th>Region</th>\n",
       "      <th>Country</th>\n",
       "      <th>LEatBirth</th>\n",
       "      <th>Commitments</th>\n",
       "    </tr>\n",
       "  </thead>\n",
       "  <tbody>\n",
       "    <tr>\n",
       "      <th>0</th>\n",
       "      <td>Africa</td>\n",
       "      <td>Botswana</td>\n",
       "      <td>59.50</td>\n",
       "      <td>73.323636</td>\n",
       "    </tr>\n",
       "    <tr>\n",
       "      <th>1</th>\n",
       "      <td>Africa</td>\n",
       "      <td>Eritrea</td>\n",
       "      <td>55.00</td>\n",
       "      <td>32.640909</td>\n",
       "    </tr>\n",
       "    <tr>\n",
       "      <th>2</th>\n",
       "      <td>Africa</td>\n",
       "      <td>Ethiopia</td>\n",
       "      <td>56.25</td>\n",
       "      <td>413.290909</td>\n",
       "    </tr>\n",
       "    <tr>\n",
       "      <th>3</th>\n",
       "      <td>Africa</td>\n",
       "      <td>Gambia</td>\n",
       "      <td>57.50</td>\n",
       "      <td>12.850909</td>\n",
       "    </tr>\n",
       "    <tr>\n",
       "      <th>4</th>\n",
       "      <td>Africa</td>\n",
       "      <td>Ghana</td>\n",
       "      <td>60.00</td>\n",
       "      <td>192.429091</td>\n",
       "    </tr>\n",
       "    <tr>\n",
       "      <th>5</th>\n",
       "      <td>Africa</td>\n",
       "      <td>Kenya</td>\n",
       "      <td>58.50</td>\n",
       "      <td>406.039091</td>\n",
       "    </tr>\n",
       "    <tr>\n",
       "      <th>6</th>\n",
       "      <td>Africa</td>\n",
       "      <td>Lesotho</td>\n",
       "      <td>52.25</td>\n",
       "      <td>45.190000</td>\n",
       "    </tr>\n",
       "    <tr>\n",
       "      <th>7</th>\n",
       "      <td>Africa</td>\n",
       "      <td>Liberia</td>\n",
       "      <td>54.25</td>\n",
       "      <td>42.887273</td>\n",
       "    </tr>\n",
       "    <tr>\n",
       "      <th>8</th>\n",
       "      <td>Africa</td>\n",
       "      <td>Malawi</td>\n",
       "      <td>52.00</td>\n",
       "      <td>199.942727</td>\n",
       "    </tr>\n",
       "    <tr>\n",
       "      <th>9</th>\n",
       "      <td>Africa</td>\n",
       "      <td>Mauritius</td>\n",
       "      <td>72.50</td>\n",
       "      <td>0.777273</td>\n",
       "    </tr>\n",
       "    <tr>\n",
       "      <th>10</th>\n",
       "      <td>Africa</td>\n",
       "      <td>Namibia</td>\n",
       "      <td>63.75</td>\n",
       "      <td>76.712727</td>\n",
       "    </tr>\n",
       "    <tr>\n",
       "      <th>11</th>\n",
       "      <td>Africa</td>\n",
       "      <td>Nigeria</td>\n",
       "      <td>50.50</td>\n",
       "      <td>584.656364</td>\n",
       "    </tr>\n",
       "    <tr>\n",
       "      <th>12</th>\n",
       "      <td>Africa</td>\n",
       "      <td>Rwanda</td>\n",
       "      <td>56.00</td>\n",
       "      <td>171.601818</td>\n",
       "    </tr>\n",
       "    <tr>\n",
       "      <th>13</th>\n",
       "      <td>Africa</td>\n",
       "      <td>Seychelles</td>\n",
       "      <td>72.25</td>\n",
       "      <td>0.000000</td>\n",
       "    </tr>\n",
       "    <tr>\n",
       "      <th>14</th>\n",
       "      <td>Africa</td>\n",
       "      <td>Sierra Leone</td>\n",
       "      <td>42.25</td>\n",
       "      <td>43.451818</td>\n",
       "    </tr>\n",
       "    <tr>\n",
       "      <th>15</th>\n",
       "      <td>Africa</td>\n",
       "      <td>South Africa</td>\n",
       "      <td>60.00</td>\n",
       "      <td>349.667273</td>\n",
       "    </tr>\n",
       "    <tr>\n",
       "      <th>16</th>\n",
       "      <td>Africa</td>\n",
       "      <td>South Sudan</td>\n",
       "      <td>50.50</td>\n",
       "      <td>0.000000</td>\n",
       "    </tr>\n",
       "    <tr>\n",
       "      <th>17</th>\n",
       "      <td>Africa</td>\n",
       "      <td>Swaziland</td>\n",
       "      <td>54.00</td>\n",
       "      <td>27.640909</td>\n",
       "    </tr>\n",
       "    <tr>\n",
       "      <th>18</th>\n",
       "      <td>Africa</td>\n",
       "      <td>Uganda</td>\n",
       "      <td>52.00</td>\n",
       "      <td>332.251818</td>\n",
       "    </tr>\n",
       "    <tr>\n",
       "      <th>19</th>\n",
       "      <td>Africa</td>\n",
       "      <td>United Republic of Tanzania</td>\n",
       "      <td>56.25</td>\n",
       "      <td>431.484545</td>\n",
       "    </tr>\n",
       "  </tbody>\n",
       "</table>\n",
       "</div>"
      ],
      "text/plain": [
       "    Region                      Country  LEatBirth  Commitments\n",
       "0   Africa                     Botswana      59.50    73.323636\n",
       "1   Africa                      Eritrea      55.00    32.640909\n",
       "2   Africa                     Ethiopia      56.25   413.290909\n",
       "3   Africa                       Gambia      57.50    12.850909\n",
       "4   Africa                        Ghana      60.00   192.429091\n",
       "5   Africa                        Kenya      58.50   406.039091\n",
       "6   Africa                      Lesotho      52.25    45.190000\n",
       "7   Africa                      Liberia      54.25    42.887273\n",
       "8   Africa                       Malawi      52.00   199.942727\n",
       "9   Africa                    Mauritius      72.50     0.777273\n",
       "10  Africa                      Namibia      63.75    76.712727\n",
       "11  Africa                      Nigeria      50.50   584.656364\n",
       "12  Africa                       Rwanda      56.00   171.601818\n",
       "13  Africa                   Seychelles      72.25     0.000000\n",
       "14  Africa                 Sierra Leone      42.25    43.451818\n",
       "15  Africa                 South Africa      60.00   349.667273\n",
       "16  Africa                  South Sudan      50.50     0.000000\n",
       "17  Africa                    Swaziland      54.00    27.640909\n",
       "18  Africa                       Uganda      52.00   332.251818\n",
       "19  Africa  United Republic of Tanzania      56.25   431.484545"
      ]
     },
     "execution_count": 72,
     "metadata": {},
     "output_type": "execute_result"
    }
   ],
   "source": [
    "# join (merge) LE and Commitment data; doing outter join to keep all countries, even those not receiving aid\n",
    "le_c = pd.merge(le, c, how='outer', on='Country')\n",
    "le_c.Commitments.fillna(0, inplace=True)\n",
    "le_c.head(20)"
   ]
  },
  {
   "cell_type": "code",
   "execution_count": 73,
   "metadata": {
    "collapsed": false
   },
   "outputs": [
    {
     "data": {
      "text/plain": [
       "Europe                   52\n",
       "Americas                 33\n",
       "Western Pacific          26\n",
       "Africa                   22\n",
       "Eastern Mediterranean    20\n",
       "Southeast Asia            9\n",
       "Name: Region, dtype: int64"
      ]
     },
     "execution_count": 73,
     "metadata": {},
     "output_type": "execute_result"
    }
   ],
   "source": [
    "le_c['Region'].value_counts()"
   ]
  },
  {
   "cell_type": "code",
   "execution_count": 74,
   "metadata": {
    "collapsed": false
   },
   "outputs": [
    {
     "data": {
      "image/png": "[encoded data removed]",
      "text/plain": [
       "<matplotlib.figure.Figure at 0xbc8cf98>"
      ]
     },
     "metadata": {},
     "output_type": "display_data"
    }
   ],
   "source": [
    "# building a dual axis to plot together (and compare variances)\n",
    "fig = pyplot.figure() # Create matplotlib figure\n",
    "\n",
    "ax = fig.add_subplot(111) # Create matplotlib axes\n",
    "ax2 = ax.twinx() # Create another axes that shares the same x-axis as ax.\n",
    "\n",
    "width = 0.4\n",
    "\n",
    "le_c['LEatBirth'].plot(kind='bar', color='red', ax=ax, width=width, position=1, figsize=(14,7))\n",
    "le_c['Commitments'].plot(kind='bar', color='blue', ax=ax2, width=width, position=0, figsize=(14,7))\n",
    "\n",
    "ax.set_ylabel('Life Expectancy at Birth', color='red')\n",
    "ax2.set_ylabel('Commitments (US Millions)', color='blue')\n",
    "pyplot.xticks([], \"\")\n",
    "pyplot.xlabel('Countries')\n",
    "pyplot.show()"
   ]
  },
  {
   "cell_type": "code",
   "execution_count": 75,
   "metadata": {
    "collapsed": false
   },
   "outputs": [
    {
     "data": {
      "text/html": [
       "<div>\n",
       "<table border=\"1\" class=\"dataframe\">\n",
       "  <thead>\n",
       "    <tr style=\"text-align: right;\">\n",
       "      <th></th>\n",
       "      <th>LEatBirth</th>\n",
       "      <th>Commitments</th>\n",
       "    </tr>\n",
       "    <tr>\n",
       "      <th>Region</th>\n",
       "      <th></th>\n",
       "      <th></th>\n",
       "    </tr>\n",
       "  </thead>\n",
       "  <tbody>\n",
       "    <tr>\n",
       "      <th>Africa</th>\n",
       "      <td>56.375000</td>\n",
       "      <td>173.261570</td>\n",
       "    </tr>\n",
       "    <tr>\n",
       "      <th>Americas</th>\n",
       "      <td>73.242424</td>\n",
       "      <td>17.993278</td>\n",
       "    </tr>\n",
       "    <tr>\n",
       "      <th>Eastern Mediterranean</th>\n",
       "      <td>68.725000</td>\n",
       "      <td>50.843682</td>\n",
       "    </tr>\n",
       "    <tr>\n",
       "      <th>Europe</th>\n",
       "      <td>75.235577</td>\n",
       "      <td>7.520700</td>\n",
       "    </tr>\n",
       "    <tr>\n",
       "      <th>Southeast Asia</th>\n",
       "      <td>65.416667</td>\n",
       "      <td>155.048889</td>\n",
       "    </tr>\n",
       "    <tr>\n",
       "      <th>Western Pacific</th>\n",
       "      <td>71.115385</td>\n",
       "      <td>31.674755</td>\n",
       "    </tr>\n",
       "  </tbody>\n",
       "</table>\n",
       "</div>"
      ],
      "text/plain": [
       "                       LEatBirth  Commitments\n",
       "Region                                       \n",
       "Africa                 56.375000   173.261570\n",
       "Americas               73.242424    17.993278\n",
       "Eastern Mediterranean  68.725000    50.843682\n",
       "Europe                 75.235577     7.520700\n",
       "Southeast Asia         65.416667   155.048889\n",
       "Western Pacific        71.115385    31.674755"
      ]
     },
     "execution_count": 75,
     "metadata": {},
     "output_type": "execute_result"
    }
   ],
   "source": [
    "le_c_region = le_c.groupby('Region')[['LEatBirth', 'Commitments']].mean()\n",
    "le_c_region"
   ]
  },
  {
   "cell_type": "code",
   "execution_count": 76,
   "metadata": {
    "collapsed": false
   },
   "outputs": [
    {
     "data": {
      "image/png": "[encoded data removed]",
      "text/plain": [
       "<matplotlib.figure.Figure at 0xbe5ab00>"
      ]
     },
     "metadata": {},
     "output_type": "display_data"
    }
   ],
   "source": [
    "# second dual axis, at region level this time)\n",
    "fig = pyplot.figure() # Create matplotlib figure\n",
    "\n",
    "ax = fig.add_subplot(111) # Create matplotlib axes\n",
    "ax2 = ax.twinx() # Create another axes that shares the same x-axis as ax.\n",
    "\n",
    "width = 0.4\n",
    "\n",
    "le_c_region['LEatBirth'].plot(kind='bar', color='red', ax=ax, width=width, position=1, figsize=(10,7), rot=30)\n",
    "le_c_region['Commitments'].plot(kind='bar', color='blue', ax=ax2, width=width, position=0, figsize=(10,7), rot=30)\n",
    "\n",
    "ax.set_ylabel('Life Expectancy at Birth', color='red')\n",
    "ax2.set_ylabel('Commitments (US Millions)', color='blue')\n",
    "#pyplot.xticks([], \"\")\n",
    "pyplot.xlabel('')\n",
    "pyplot.show()"
   ]
  },
  {
   "cell_type": "code",
   "execution_count": 77,
   "metadata": {
    "collapsed": true
   },
   "outputs": [],
   "source": [
    "def show_le_c_by_region(region, f_le_c):\n",
    "    # this function plots LE vs Commitments for specific countries within a defined region for a given DF\n",
    "    \n",
    "    # DF must include Region, Country, Commitments, and LEatBirth \n",
    "    fig = pyplot.figure() # Create matplotlib figure\n",
    "\n",
    "    ax = fig.add_subplot(111) # Create matplotlib axes\n",
    "    ax2 = ax.twinx() # Create another axes that shares the same x-axis as ax.\n",
    "\n",
    "    width = 0.4\n",
    "\n",
    "    f_le_c[f_le_c['Region']==region]['LEatBirth'].plot(kind='bar', color='red', ax=ax, width=width, position=1, figsize=(14,7))\n",
    "    f_le_c[f_le_c['Region']==region]['Commitments'].plot(kind='bar', color='blue', ax=ax2, width=width, position=0, figsize=(14,7))\n",
    "\n",
    "    ax.set_ylabel('Life Expectancy at Birth', color='red')\n",
    "    ax2.set_ylabel('Commitments (US Millions)', color='blue')\n",
    "\n",
    "    labels = [item.get_text() for item in ax.get_xticklabels()]\n",
    "\n",
    "    new_labels = []\n",
    "    for x in labels:\n",
    "        new_labels.append(f_le_c.loc[int(x)]['Country'])\n",
    "    ax.set_xticklabels(new_labels)\n",
    "\n",
    "    pyplot.title(region)\n",
    "    pyplot.show()\n",
    "    return"
   ]
  },
  {
   "cell_type": "code",
   "execution_count": 78,
   "metadata": {
    "collapsed": false
   },
   "outputs": [
    {
     "data": {
      "image/png": "[encoded data removed]",
      "text/plain": [
       "<matplotlib.figure.Figure at 0xc583eb8>"
      ]
     },
     "metadata": {},
     "output_type": "display_data"
    }
   ],
   "source": [
    "# anticipate highest aid to go areas with low LE\n",
    "# southeast asi, high amount of aid and high LE; anticipate a large variation by country\n",
    "# let's check\n",
    "# building a dual axis to plot at country level for Southest Asia\n",
    "show_le_c_by_region('Southeast Asia', le_c)\n",
    "\n",
    "# India is very high, but this could be due to Population, as well as LE; as their LE is in line; more analysis with\n",
    "# additional data could test this further hypothesis"
   ]
  },
  {
   "cell_type": "code",
   "execution_count": 79,
   "metadata": {
    "collapsed": false
   },
   "outputs": [
    {
     "data": {
      "image/png": "[encoded data removed]",
      "text/plain": [
       "<matplotlib.figure.Figure at 0xc27b240>"
      ]
     },
     "metadata": {},
     "output_type": "display_data"
    }
   ],
   "source": [
    "# lets look at Eastern Med now, where the LE is high\n",
    "show_le_c_by_region('Eastern Mediterranean', le_c)\n"
   ]
  },
  {
   "cell_type": "code",
   "execution_count": 80,
   "metadata": {
    "collapsed": false
   },
   "outputs": [
    {
     "data": {
      "image/png": "[encoded data removed]",
      "text/plain": [
       "<matplotlib.figure.Figure at 0xc4e52b0>"
      ]
     },
     "metadata": {},
     "output_type": "display_data"
    }
   ],
   "source": [
    "# lets look at Europe now, where the LE is high\n",
    "show_le_c_by_region('Europe', le_c)\n",
    "\n",
    "# result show Western Europe, as anticipated receives majority of aid"
   ]
  },
  {
   "cell_type": "markdown",
   "metadata": {},
   "source": [
    "## Water and Santiation Exploration"
   ]
  },
  {
   "cell_type": "code",
   "execution_count": 81,
   "metadata": {
    "collapsed": false
   },
   "outputs": [
    {
     "data": {
      "text/plain": [
       "<matplotlib.legend.Legend at 0xbf08588>"
      ]
     },
     "execution_count": 81,
     "metadata": {},
     "output_type": "execute_result"
    },
    {
     "data": {
      "image/png": "[encoded data removed]",
      "text/plain": [
       "<matplotlib.figure.Figure at 0xc483748>"
      ]
     },
     "metadata": {},
     "output_type": "display_data"
    }
   ],
   "source": [
    "# Histograms by year for Rural access to water\n",
    "df_exp[df_exp.Year=='1990'].IWRuralPct.plot(figsize=(7,7), kind=\"hist\", bins=20, label=\"1990\", xlim=(0, 100), ylim=(0, 150), grid=True)\n",
    "df_exp[df_exp.Year=='2000'].IWRuralPct.plot(kind=\"hist\", bins=20, label=\"2000\", grid=True)\n",
    "df_exp[df_exp.Year=='2015'].IWRuralPct.plot(kind=\"hist\", bins=20, label=\"2015\", grid=True)\n",
    "pyplot.title(\"Rural Access to Drinking Water\")\n",
    "pyplot.xlabel(\"Access Pct\")\n",
    "pyplot.ylabel(\"Number of Countries\")\n",
    "pyplot.legend()"
   ]
  },
  {
   "cell_type": "code",
   "execution_count": 82,
   "metadata": {
    "collapsed": false
   },
   "outputs": [
    {
     "data": {
      "text/plain": [
       "<matplotlib.legend.Legend at 0xbedf0f0>"
      ]
     },
     "execution_count": 82,
     "metadata": {},
     "output_type": "execute_result"
    },
    {
     "data": {
      "image/png": "[encoded data removed]",
      "text/plain": [
       "<matplotlib.figure.Figure at 0xc4124a8>"
      ]
     },
     "metadata": {},
     "output_type": "display_data"
    }
   ],
   "source": [
    "# Histograms by year for Urban access to water\n",
    "df_exp[df_exp.Year=='1990'].IWUrbanPct.plot(figsize=(7,7), kind=\"hist\", bins=13, label=\"1990\", xlim=(0, 100), ylim=(0, 150), grid=True)\n",
    "df_exp[df_exp.Year=='2000'].IWUrbanPct.plot(kind=\"hist\", bins=13, label=\"2000\", grid=True)\n",
    "df_exp[df_exp.Year=='2015'].IWUrbanPct.plot(kind=\"hist\", bins=13, label=\"2015\", grid=True)\n",
    "pyplot.title(\"Urban Access to Drinking Water\")\n",
    "pyplot.xlabel(\"Access Pct\")\n",
    "pyplot.ylabel(\"Number of Countries\")\n",
    "pyplot.legend()"
   ]
  },
  {
   "cell_type": "code",
   "execution_count": 83,
   "metadata": {
    "collapsed": false
   },
   "outputs": [
    {
     "data": {
      "text/plain": [
       "<matplotlib.legend.Legend at 0xbe7ccf8>"
      ]
     },
     "execution_count": 83,
     "metadata": {},
     "output_type": "execute_result"
    },
    {
     "data": {
      "image/png": "[encoded data removed]",
      "text/plain": [
       "<matplotlib.figure.Figure at 0xbf5dfd0>"
      ]
     },
     "metadata": {},
     "output_type": "display_data"
    }
   ],
   "source": [
    "# Histograms by year for Overall access to water\n",
    "df_exp[df_exp.Year=='1990'].IWPct.plot(figsize=(7,7), kind=\"hist\", bins=15, label=\"1990\", xlim=(0, 100), ylim=(0, 150), grid=True)\n",
    "df_exp[df_exp.Year=='2000'].IWPct.plot(kind=\"hist\", bins=15, label=\"2000\", grid=True)\n",
    "df_exp[df_exp.Year=='2015'].IWPct.plot(kind=\"hist\", bins=15, label=\"2015\", grid=True)\n",
    "pyplot.title(\"Overall Access to Drinking Water\")\n",
    "pyplot.xlabel(\"Access Pct\")\n",
    "pyplot.ylabel(\"Number of Countries\")\n",
    "pyplot.legend()"
   ]
  },
  {
   "cell_type": "code",
   "execution_count": 84,
   "metadata": {
    "collapsed": false
   },
   "outputs": [
    {
     "data": {
      "text/plain": [
       "<matplotlib.legend.Legend at 0xc1966a0>"
      ]
     },
     "execution_count": 84,
     "metadata": {},
     "output_type": "execute_result"
    },
    {
     "data": {
      "image/png": "[encoded data removed]",
      "text/plain": [
       "<matplotlib.figure.Figure at 0xc18a518>"
      ]
     },
     "metadata": {},
     "output_type": "display_data"
    }
   ],
   "source": [
    "# Histograms by year for total access to sanitation\n",
    "df_exp[df_exp.Year=='1990'].ISPct.plot(figsize=(7,7), kind=\"hist\", bins=20, label=\"1990\", xlim=(0, 100), ylim=(0, 150), grid=True)\n",
    "df_exp[df_exp.Year=='2000'].ISPct.plot(kind=\"hist\", bins=20, label=\"2000\", grid=True)\n",
    "df_exp[df_exp.Year=='2015'].ISPct.plot(kind=\"hist\", bins=20, label=\"2015\", grid=True)\n",
    "pyplot.title(\"Overall Access to Sanitation\")\n",
    "pyplot.xlabel(\"Access Pct\")\n",
    "pyplot.ylabel(\"Number of Countries\")\n",
    "pyplot.legend()"
   ]
  },
  {
   "cell_type": "code",
   "execution_count": 85,
   "metadata": {
    "collapsed": false
   },
   "outputs": [
    {
     "data": {
      "text/html": [
       "<div>\n",
       "<table border=\"1\" class=\"dataframe\">\n",
       "  <thead>\n",
       "    <tr style=\"text-align: right;\">\n",
       "      <th></th>\n",
       "      <th>IWRuralPct</th>\n",
       "      <th>IWUrbanPct</th>\n",
       "      <th>IWPct</th>\n",
       "      <th>ISRuralPct</th>\n",
       "      <th>ISUrbanPct</th>\n",
       "      <th>ISPct</th>\n",
       "    </tr>\n",
       "    <tr>\n",
       "      <th>Country</th>\n",
       "      <th></th>\n",
       "      <th></th>\n",
       "      <th></th>\n",
       "      <th></th>\n",
       "      <th></th>\n",
       "      <th></th>\n",
       "    </tr>\n",
       "  </thead>\n",
       "  <tbody>\n",
       "    <tr>\n",
       "      <th>Chad</th>\n",
       "      <td>40.900000</td>\n",
       "      <td>60.266667</td>\n",
       "      <td>45.100000</td>\n",
       "      <td>5.400000</td>\n",
       "      <td>26.000000</td>\n",
       "      <td>9.866667</td>\n",
       "    </tr>\n",
       "    <tr>\n",
       "      <th>Congo</th>\n",
       "      <td>36.050000</td>\n",
       "      <td>95.466667</td>\n",
       "      <td>72.850000</td>\n",
       "      <td>5.600000</td>\n",
       "      <td>18.850000</td>\n",
       "      <td>13.850000</td>\n",
       "    </tr>\n",
       "    <tr>\n",
       "      <th>Democratic Republic of the Congo</th>\n",
       "      <td>27.566667</td>\n",
       "      <td>84.133333</td>\n",
       "      <td>47.700000</td>\n",
       "      <td>20.666667</td>\n",
       "      <td>29.333333</td>\n",
       "      <td>23.533333</td>\n",
       "    </tr>\n",
       "    <tr>\n",
       "      <th>Ethiopia</th>\n",
       "      <td>23.500000</td>\n",
       "      <td>87.966667</td>\n",
       "      <td>33.133333</td>\n",
       "      <td>11.433333</td>\n",
       "      <td>23.500000</td>\n",
       "      <td>13.066667</td>\n",
       "    </tr>\n",
       "    <tr>\n",
       "      <th>Madagascar</th>\n",
       "      <td>25.266667</td>\n",
       "      <td>76.166667</td>\n",
       "      <td>39.666667</td>\n",
       "      <td>8.100000</td>\n",
       "      <td>16.566667</td>\n",
       "      <td>10.566667</td>\n",
       "    </tr>\n",
       "    <tr>\n",
       "      <th>Mozambique</th>\n",
       "      <td>29.033333</td>\n",
       "      <td>75.866667</td>\n",
       "      <td>42.433333</td>\n",
       "      <td>5.666667</td>\n",
       "      <td>37.900000</td>\n",
       "      <td>14.966667</td>\n",
       "    </tr>\n",
       "    <tr>\n",
       "      <th>Niger</th>\n",
       "      <td>38.133333</td>\n",
       "      <td>79.700000</td>\n",
       "      <td>45.200000</td>\n",
       "      <td>2.800000</td>\n",
       "      <td>27.866667</td>\n",
       "      <td>7.133333</td>\n",
       "    </tr>\n",
       "    <tr>\n",
       "      <th>Papua New Guinea</th>\n",
       "      <td>28.066667</td>\n",
       "      <td>87.600000</td>\n",
       "      <td>36.300000</td>\n",
       "      <td>13.066667</td>\n",
       "      <td>59.300000</td>\n",
       "      <td>19.433333</td>\n",
       "    </tr>\n",
       "    <tr>\n",
       "      <th>Sierra Leone</th>\n",
       "      <td>33.133333</td>\n",
       "      <td>76.800000</td>\n",
       "      <td>48.833333</td>\n",
       "      <td>5.633333</td>\n",
       "      <td>22.066667</td>\n",
       "      <td>11.566667</td>\n",
       "    </tr>\n",
       "    <tr>\n",
       "      <th>Somalia</th>\n",
       "      <td>16.400000</td>\n",
       "      <td>37.700000</td>\n",
       "      <td>23.500000</td>\n",
       "      <td>10.300000</td>\n",
       "      <td>45.000000</td>\n",
       "      <td>21.800000</td>\n",
       "    </tr>\n",
       "    <tr>\n",
       "      <th>Togo</th>\n",
       "      <td>39.200000</td>\n",
       "      <td>84.933333</td>\n",
       "      <td>54.733333</td>\n",
       "      <td>5.033333</td>\n",
       "      <td>23.966667</td>\n",
       "      <td>11.533333</td>\n",
       "    </tr>\n",
       "  </tbody>\n",
       "</table>\n",
       "</div>"
      ],
      "text/plain": [
       "                                  IWRuralPct  IWUrbanPct      IWPct  \\\n",
       "Country                                                               \n",
       "Chad                               40.900000   60.266667  45.100000   \n",
       "Congo                              36.050000   95.466667  72.850000   \n",
       "Democratic Republic of the Congo   27.566667   84.133333  47.700000   \n",
       "Ethiopia                           23.500000   87.966667  33.133333   \n",
       "Madagascar                         25.266667   76.166667  39.666667   \n",
       "Mozambique                         29.033333   75.866667  42.433333   \n",
       "Niger                              38.133333   79.700000  45.200000   \n",
       "Papua New Guinea                   28.066667   87.600000  36.300000   \n",
       "Sierra Leone                       33.133333   76.800000  48.833333   \n",
       "Somalia                            16.400000   37.700000  23.500000   \n",
       "Togo                               39.200000   84.933333  54.733333   \n",
       "\n",
       "                                  ISRuralPct  ISUrbanPct      ISPct  \n",
       "Country                                                              \n",
       "Chad                                5.400000   26.000000   9.866667  \n",
       "Congo                               5.600000   18.850000  13.850000  \n",
       "Democratic Republic of the Congo   20.666667   29.333333  23.533333  \n",
       "Ethiopia                           11.433333   23.500000  13.066667  \n",
       "Madagascar                          8.100000   16.566667  10.566667  \n",
       "Mozambique                          5.666667   37.900000  14.966667  \n",
       "Niger                               2.800000   27.866667   7.133333  \n",
       "Papua New Guinea                   13.066667   59.300000  19.433333  \n",
       "Sierra Leone                        5.633333   22.066667  11.566667  \n",
       "Somalia                            10.300000   45.000000  21.800000  \n",
       "Togo                                5.033333   23.966667  11.533333  "
      ]
     },
     "execution_count": 85,
     "metadata": {},
     "output_type": "execute_result"
    }
   ],
   "source": [
    "# Countries with lowest combined rural access to water & sanitation\n",
    "exp_by_country = df_exp.groupby('Country')\n",
    "exp_by_country.mean()[(exp_by_country.IWRuralPct.mean() + exp_by_country.ISRuralPct.mean()) < 50]"
   ]
  },
  {
   "cell_type": "code",
   "execution_count": 86,
   "metadata": {
    "collapsed": false
   },
   "outputs": [
    {
     "data": {
      "text/plain": [
       "<matplotlib.text.Text at 0xc027198>"
      ]
     },
     "execution_count": 86,
     "metadata": {},
     "output_type": "execute_result"
    },
    {
     "data": {
      "image/png": "[encoded data removed]",
      "text/plain": [
       "<matplotlib.figure.Figure at 0xbff2f60>"
      ]
     },
     "metadata": {},
     "output_type": "display_data"
    }
   ],
   "source": [
    "exp_by_country.IWRuralPct.mean()[(exp_by_country.IWRuralPct.mean() + exp_by_country.ISRuralPct.mean()) < 50].plot(legend = True, label = \"Clean Water\", kind = \"barh\")\n",
    "exp_by_country.ISRuralPct.mean()[(exp_by_country.IWRuralPct.mean() + exp_by_country.ISRuralPct.mean()) < 50].plot(legend = True, label = \"Sanitation\", color = \"g\", kind = \"barh\")\n",
    "pyplot.title(\"Rural Access to Clean water and Sanitation in Countries with Least Access \")\n",
    "pyplot.xlabel(\"Percent of Rural Population with Access\")"
   ]
  },
  {
   "cell_type": "markdown",
   "metadata": {},
   "source": [
    "# Comparing Access to Water and Sanitation against Life Expectancy"
   ]
  },
  {
   "cell_type": "code",
   "execution_count": 87,
   "metadata": {
    "collapsed": false
   },
   "outputs": [],
   "source": [
    "# Function to make 2013 data look like 2015 data so we can join 2015 to 2015 data\n",
    "from datetime import datetime\n",
    "def push2015(value):\n",
    "    if value == datetime.strptime('2013','%Y'):\n",
    "        return datetime.strptime('2015','%Y')\n",
    "    else:\n",
    "        return value"
   ]
  },
  {
   "cell_type": "code",
   "execution_count": 88,
   "metadata": {
    "collapsed": true
   },
   "outputs": [],
   "source": [
    "df_le_clean_w = df_le_clean"
   ]
  },
  {
   "cell_type": "code",
   "execution_count": 89,
   "metadata": {
    "collapsed": false
   },
   "outputs": [],
   "source": [
    "df_le_clean_w['Year'] = df_le_clean_w['Year'].apply(push2015)"
   ]
  },
  {
   "cell_type": "code",
   "execution_count": 90,
   "metadata": {
    "collapsed": true
   },
   "outputs": [],
   "source": [
    "# We don't have water data for 2012, so remove it from our comparison set\n",
    "df_le_clean_w = df_le_clean_w[df_le_clean_w.Year != '2012']"
   ]
  },
  {
   "cell_type": "code",
   "execution_count": 91,
   "metadata": {
    "collapsed": true
   },
   "outputs": [],
   "source": [
    "# Merge (Join) Life Expectancy and Water data\n",
    "df_le_exp = pd.merge(df_le_clean_w, df_exp)"
   ]
  },
  {
   "cell_type": "code",
   "execution_count": 92,
   "metadata": {
    "collapsed": true
   },
   "outputs": [],
   "source": [
    "# Only look at countries where we have 3 years of samples in both LE and Water\n",
    "df3 = df_le_exp['Country'].groupby(df_le_exp['Country']).count()\n",
    "df3 = df3.to_frame()\n",
    "df3.columns = ['Count']\n",
    "df3.reset_index(level=0, inplace=True)\n",
    "df3 = df3[df3.Count == 3]\n",
    "df3_le_exp = pd.merge(df_le_exp, df3)"
   ]
  },
  {
   "cell_type": "code",
   "execution_count": 93,
   "metadata": {
    "collapsed": false
   },
   "outputs": [
    {
     "data": {
      "text/html": [
       "<div>\n",
       "<table border=\"1\" class=\"dataframe\">\n",
       "  <thead>\n",
       "    <tr style=\"text-align: right;\">\n",
       "      <th></th>\n",
       "      <th>IWRuralPct</th>\n",
       "      <th>IWUrbanPct</th>\n",
       "      <th>IWPct</th>\n",
       "      <th>ISRuralPct</th>\n",
       "      <th>ISUrbanPct</th>\n",
       "      <th>ISPct</th>\n",
       "    </tr>\n",
       "  </thead>\n",
       "  <tbody>\n",
       "    <tr>\n",
       "      <th>HALEatBirth</th>\n",
       "      <td>0.721630</td>\n",
       "      <td>0.605282</td>\n",
       "      <td>0.760497</td>\n",
       "      <td>0.781505</td>\n",
       "      <td>0.813864</td>\n",
       "      <td>0.822283</td>\n",
       "    </tr>\n",
       "    <tr>\n",
       "      <th>LEat60</th>\n",
       "      <td>0.537267</td>\n",
       "      <td>0.478050</td>\n",
       "      <td>0.581113</td>\n",
       "      <td>0.573080</td>\n",
       "      <td>0.560381</td>\n",
       "      <td>0.601530</td>\n",
       "    </tr>\n",
       "    <tr>\n",
       "      <th>LEat60-Adj</th>\n",
       "      <td>0.537267</td>\n",
       "      <td>0.478050</td>\n",
       "      <td>0.581113</td>\n",
       "      <td>0.573080</td>\n",
       "      <td>0.560381</td>\n",
       "      <td>0.601530</td>\n",
       "    </tr>\n",
       "    <tr>\n",
       "      <th>LEatBirth</th>\n",
       "      <td>0.721812</td>\n",
       "      <td>0.602502</td>\n",
       "      <td>0.773956</td>\n",
       "      <td>0.769797</td>\n",
       "      <td>0.795374</td>\n",
       "      <td>0.814427</td>\n",
       "    </tr>\n",
       "  </tbody>\n",
       "</table>\n",
       "</div>"
      ],
      "text/plain": [
       "             IWRuralPct  IWUrbanPct     IWPct  ISRuralPct  ISUrbanPct  \\\n",
       "HALEatBirth    0.721630    0.605282  0.760497    0.781505    0.813864   \n",
       "LEat60         0.537267    0.478050  0.581113    0.573080    0.560381   \n",
       "LEat60-Adj     0.537267    0.478050  0.581113    0.573080    0.560381   \n",
       "LEatBirth      0.721812    0.602502  0.773956    0.769797    0.795374   \n",
       "\n",
       "                ISPct  \n",
       "HALEatBirth  0.822283  \n",
       "LEat60       0.601530  \n",
       "LEat60-Adj   0.601530  \n",
       "LEatBirth    0.814427  "
      ]
     },
     "execution_count": 93,
     "metadata": {},
     "output_type": "execute_result"
    }
   ],
   "source": [
    "# Examine correlations between Water/Sanitation Access and Life Expectancy\n",
    "df3_le_exp_corr = df3_le_exp.corr()\n",
    "df3_le_exp_corr = df3_le_exp_corr[['IWRuralPct','IWUrbanPct','IWPct','ISRuralPct','ISUrbanPct','ISPct']]\n",
    "df3_le_exp_corr.loc[:'LEatBirth']"
   ]
  },
  {
   "cell_type": "markdown",
   "metadata": {},
   "source": [
    "## Health Services Data Exploration"
   ]
  },
  {
   "cell_type": "code",
   "execution_count": 94,
   "metadata": {
    "collapsed": false
   },
   "outputs": [
    {
     "data": {
      "text/html": [
       "<div>\n",
       "<table border=\"1\" class=\"dataframe\">\n",
       "  <thead>\n",
       "    <tr style=\"text-align: right;\">\n",
       "      <th></th>\n",
       "      <th>Country</th>\n",
       "      <th>Total_pct_GDP</th>\n",
       "      <th>Govt_pct_total</th>\n",
       "      <th>Pvt_pct_total</th>\n",
       "      <th>Pocket_pct_total</th>\n",
       "      <th>Year</th>\n",
       "    </tr>\n",
       "  </thead>\n",
       "  <tbody>\n",
       "    <tr>\n",
       "      <th>0</th>\n",
       "      <td>Afghanistan</td>\n",
       "      <td>NaN</td>\n",
       "      <td>NaN</td>\n",
       "      <td>NaN</td>\n",
       "      <td>NaN</td>\n",
       "      <td>2000-01-01</td>\n",
       "    </tr>\n",
       "    <tr>\n",
       "      <th>1</th>\n",
       "      <td>Albania</td>\n",
       "      <td>6.3</td>\n",
       "      <td>36.1</td>\n",
       "      <td>63.9</td>\n",
       "      <td>63.8</td>\n",
       "      <td>2000-01-01</td>\n",
       "    </tr>\n",
       "    <tr>\n",
       "      <th>2</th>\n",
       "      <td>Algeria</td>\n",
       "      <td>3.5</td>\n",
       "      <td>73.3</td>\n",
       "      <td>26.7</td>\n",
       "      <td>25.8</td>\n",
       "      <td>2000-01-01</td>\n",
       "    </tr>\n",
       "    <tr>\n",
       "      <th>3</th>\n",
       "      <td>Andorra</td>\n",
       "      <td>6.0</td>\n",
       "      <td>64.8</td>\n",
       "      <td>35.2</td>\n",
       "      <td>26.6</td>\n",
       "      <td>2000-01-01</td>\n",
       "    </tr>\n",
       "    <tr>\n",
       "      <th>4</th>\n",
       "      <td>Angola</td>\n",
       "      <td>3.4</td>\n",
       "      <td>49.5</td>\n",
       "      <td>50.5</td>\n",
       "      <td>36.1</td>\n",
       "      <td>2000-01-01</td>\n",
       "    </tr>\n",
       "  </tbody>\n",
       "</table>\n",
       "</div>"
      ],
      "text/plain": [
       "       Country  Total_pct_GDP  Govt_pct_total  Pvt_pct_total  \\\n",
       "0  Afghanistan            NaN             NaN            NaN   \n",
       "1      Albania            6.3            36.1           63.9   \n",
       "2      Algeria            3.5            73.3           26.7   \n",
       "3      Andorra            6.0            64.8           35.2   \n",
       "4       Angola            3.4            49.5           50.5   \n",
       "\n",
       "   Pocket_pct_total       Year  \n",
       "0               NaN 2000-01-01  \n",
       "1              63.8 2000-01-01  \n",
       "2              25.8 2000-01-01  \n",
       "3              26.6 2000-01-01  \n",
       "4              36.1 2000-01-01  "
      ]
     },
     "execution_count": 94,
     "metadata": {},
     "output_type": "execute_result"
    }
   ],
   "source": [
    "df_hs.head()"
   ]
  },
  {
   "cell_type": "code",
   "execution_count": 95,
   "metadata": {
    "collapsed": false
   },
   "outputs": [
    {
     "data": {
      "text/plain": [
       "<matplotlib.lines.Line2D at 0xc3dab70>"
      ]
     },
     "execution_count": 95,
     "metadata": {},
     "output_type": "execute_result"
    },
    {
     "data": {
      "image/png": "[encoded data removed]",
      "text/plain": [
       "<matplotlib.figure.Figure at 0xbdec9b0>"
      ]
     },
     "metadata": {},
     "output_type": "display_data"
    }
   ],
   "source": [
    "df_hs.Total_pct_GDP[df_hs.Year =='2013'].hist()\n",
    "pyplot.xlabel(\"Percent of GDP spent on Health, 2013\")\n",
    "pyplot.ylabel(\"# of Countries\")\n",
    "pyplot.title(\"Distribution of Total Health Expenditures as a Percent of GDP\")\n",
    "pyplot.axvline(HS[\"Total_pct_GDP2013\"].mean(), color='c', linestyle='dashed', linewidth=2)"
   ]
  },
  {
   "cell_type": "code",
   "execution_count": 96,
   "metadata": {
    "collapsed": false
   },
   "outputs": [
    {
     "data": {
      "text/plain": [
       "<matplotlib.lines.Line2D at 0xc2c8828>"
      ]
     },
     "execution_count": 96,
     "metadata": {},
     "output_type": "execute_result"
    },
    {
     "data": {
      "image/png": "[encoded data removed]",
      "text/plain": [
       "<matplotlib.figure.Figure at 0xc3eedd8>"
      ]
     },
     "metadata": {},
     "output_type": "display_data"
    }
   ],
   "source": [
    "df_hs.Total_pct_GDP[df_hs.Year =='2000'].hist()\n",
    "pyplot.xlabel(\"Percent of GDP spent on Health, 2000\")\n",
    "pyplot.ylabel(\"# of Countries\")\n",
    "pyplot.title(\"Distribution of Total Health Expenditures as a Percent of GDP\")\n",
    "pyplot.axvline(HS[\"Total_pct_GDP2000\"].mean(), color='c', linestyle='dashed', linewidth=2)"
   ]
  },
  {
   "cell_type": "code",
   "execution_count": 97,
   "metadata": {
    "collapsed": false
   },
   "outputs": [
    {
     "data": {
      "text/plain": [
       "<matplotlib.text.Text at 0xc48b278>"
      ]
     },
     "execution_count": 97,
     "metadata": {},
     "output_type": "execute_result"
    },
    {
     "data": {
      "image/png": "[encoded data removed]",
      "text/plain": [
       "<matplotlib.figure.Figure at 0xc521470>"
      ]
     },
     "metadata": {},
     "output_type": "display_data"
    }
   ],
   "source": [
    "# All of the countries with government expeditures 2 or more standard deviations above the mean\n",
    "hs_2013 = df_hs[df_hs.Year =='2013']\n",
    "cut_off = hs_2013.Total_pct_GDP.mean() + 2*hs_2013.Total_pct_GDP.std() \n",
    "cut_off\n",
    "hs_2013_subset = hs_2013[hs_2013.Total_pct_GDP >= cut_off]\n",
    "hs_2013_subset.set_index(\"Country\", inplace = True)\n",
    "hs_2013_subset.Total_pct_GDP.plot(kind = \"barh\")\n",
    "pyplot.title(\"Countries with Overall Expeditures(% of GDP) 2 Standard Deviations above the Mean\")\n",
    "pyplot.xlabel(\"Percent of GDP spent on Health\")"
   ]
  },
  {
   "cell_type": "markdown",
   "metadata": {},
   "source": [
    "## HIV Prevalance Exploration"
   ]
  },
  {
   "cell_type": "code",
   "execution_count": 98,
   "metadata": {
    "collapsed": false
   },
   "outputs": [
    {
     "data": {
      "text/plain": [
       "<matplotlib.lines.Line2D at 0xbdb7fd0>"
      ]
     },
     "execution_count": 98,
     "metadata": {},
     "output_type": "execute_result"
    },
    {
     "data": {
      "image/png": "[encoded data removed]",
      "text/plain": [
       "<matplotlib.figure.Figure at 0xc119438>"
      ]
     },
     "metadata": {},
     "output_type": "display_data"
    }
   ],
   "source": [
    "df_HIV.HIV_Rate[df_HIV.Year == \"2013\"].hist(bins = 30, color = 'c')\n",
    "pyplot.xlabel(\"HIV Prevalance, 2013\")\n",
    "pyplot.ylabel(\"# of Countries\")\n",
    "pyplot.title(\"Distribution of HIV Prevalances, 2013\")\n",
    "pyplot.axvline(HIV.HIV2013.mean(), color='b', linestyle='dashed', linewidth=2)"
   ]
  },
  {
   "cell_type": "code",
   "execution_count": 99,
   "metadata": {
    "collapsed": false
   },
   "outputs": [
    {
     "data": {
      "text/plain": [
       "<matplotlib.lines.Line2D at 0xc5d2208>"
      ]
     },
     "execution_count": 99,
     "metadata": {},
     "output_type": "execute_result"
    },
    {
     "data": {
      "image/png": "[encoded data removed]",
      "text/plain": [
       "<matplotlib.figure.Figure at 0xc5d21d0>"
      ]
     },
     "metadata": {},
     "output_type": "display_data"
    }
   ],
   "source": [
    "df_HIV.HIV_Rate[df_HIV.Year == \"2001\"].hist(bins = 30, color = 'g')\n",
    "pyplot.xlabel(\"HIV Prevalance, 2001\")\n",
    "pyplot.ylabel(\"# of Countries\")\n",
    "pyplot.title(\"Distribution of HIV Prevalances, 2001\")\n",
    "pyplot.axvline(HIV.HIV2013.mean(), color='b', linestyle='dashed', linewidth=2)"
   ]
  },
  {
   "cell_type": "code",
   "execution_count": 100,
   "metadata": {
    "collapsed": false
   },
   "outputs": [
    {
     "data": {
      "text/plain": [
       "<matplotlib.text.Text at 0xc6a2630>"
      ]
     },
     "execution_count": 100,
     "metadata": {},
     "output_type": "execute_result"
    },
    {
     "data": {
      "image/png": "[encoded data removed]",
      "text/plain": [
       "<matplotlib.figure.Figure at 0xc6a6f98>"
      ]
     },
     "metadata": {},
     "output_type": "display_data"
    }
   ],
   "source": [
    "# All of the countries with HIV rates over 10%\n",
    "hiv_2013 = df_HIV[df_HIV.Year =='2013']\n",
    "hiv_2013_subset = hiv_2013[hiv_2013.HIV_Rate >= 10]\n",
    "high_HIV_countries = hiv_2013_subset.Country\n",
    "hiv_2013_subset.set_index(\"Country\", inplace = True)\n",
    "hiv_2013_subset.HIV_Rate.plot(kind = \"barh\")\n",
    "pyplot.title(\"Countries with HIV Prevalances of more than 10% in 2013\")\n",
    "pyplot.xlabel(\"Percent of population with HIV\")"
   ]
  },
  {
   "cell_type": "code",
   "execution_count": 101,
   "metadata": {
    "collapsed": false
   },
   "outputs": [
    {
     "data": {
      "text/plain": [
       "<matplotlib.lines.Line2D at 0xc729e48>"
      ]
     },
     "execution_count": 101,
     "metadata": {},
     "output_type": "execute_result"
    },
    {
     "data": {
      "image/png": "[encoded data removed]",
      "text/plain": [
       "<matplotlib.figure.Figure at 0xc729be0>"
      ]
     },
     "metadata": {},
     "output_type": "display_data"
    }
   ],
   "source": [
    "#Change in HIV prevalances between 2001 and 2013\n",
    "HIV[\"Increase\"] = HIV[\"HIV2013\"] - HIV[\"HIV2001\"]\n",
    "HIV.Increase.hist(bins = 20)\n",
    "pyplot.xlabel(\"Change in HIV Prevalance\")\n",
    "pyplot.ylabel(\"# of Countries\")\n",
    "pyplot.title(\"Distribution of Change in HIV Prevalances, 2001-2013\")\n",
    "pyplot.axvline(HIV.Increase.mean(), color='c', linestyle='dashed', linewidth=2)"
   ]
  },
  {
   "cell_type": "code",
   "execution_count": 102,
   "metadata": {
    "collapsed": false
   },
   "outputs": [
    {
     "data": {
      "text/plain": [
       "<matplotlib.text.Text at 0xc8088d0>"
      ]
     },
     "execution_count": 102,
     "metadata": {},
     "output_type": "execute_result"
    },
    {
     "data": {
      "image/png": "[encoded data removed]",
      "text/plain": [
       "<matplotlib.figure.Figure at 0xc732c18>"
      ]
     },
     "metadata": {},
     "output_type": "display_data"
    }
   ],
   "source": [
    "# Current HIV Rate of all of the countries who have decreased thier HIV rate by more than 2%\n",
    "HIV_decrease = HIV[HIV.Increase <= -2]\n",
    "HIV_decrease.set_index(\"Country\", inplace = True)\n",
    "HIV_decrease.HIV2013.plot(kind = \"barh\", color = 'r')\n",
    "pyplot.title(\"HIV Prevalance in Countries in which HIV Rate has Fallen by 2% or More 2001-2013\")\n",
    "pyplot.xlabel(\"Percent of population with HIV\")"
   ]
  },
  {
   "cell_type": "code",
   "execution_count": 103,
   "metadata": {
    "collapsed": false
   },
   "outputs": [
    {
     "data": {
      "text/plain": [
       "<matplotlib.text.Text at 0xc808828>"
      ]
     },
     "execution_count": 103,
     "metadata": {},
     "output_type": "execute_result"
    },
    {
     "data": {
      "image/png": "[encoded data removed]",
      "text/plain": [
       "<matplotlib.figure.Figure at 0xc84d320>"
      ]
     },
     "metadata": {},
     "output_type": "display_data"
    }
   ],
   "source": [
    "#HIV Rate over time in countries with high HIV prevalence\n",
    "cols = [\"Country\",\"HIV2001\", \"HIV2005\", \"HIV2009\", \"HIV2013\"]\n",
    "HIV_ordered = HIV[cols]\n",
    "HIV_ordered.columns = [\"Country\", \"2001\", \"2005\", \"2009\", \"2013\"]\n",
    "highHIV = HIV_ordered[HIV_ordered[\"2013\"] >10]\n",
    "highHIV.set_index(\"Country\", inplace = True)\n",
    "highHIV_flipped = highHIV.T\n",
    "highHIV_flipped.plot( figsize = (10,10))\n",
    "pyplot.title(\"Changes over time in HIV Prevalance in Countries with High HIV Rates\")\n",
    "pyplot.ylabel(\"HIV Prevalance (%)\")"
   ]
  }
 ],
 "metadata": {
  "kernelspec": {
   "display_name": "Python 3",
   "language": "python",
   "name": "python3"
  },
  "language_info": {
   "codemirror_mode": {
    "name": "ipython",
    "version": 3
   },
   "file_extension": ".py",
   "mimetype": "text/x-python",
   "name": "python",
   "nbconvert_exporter": "python",
   "pygments_lexer": "ipython3",
   "version": "3.5.1"
  }
 },
 "nbformat": 4,
 "nbformat_minor": 0
}
