{
 "cells": [
  {
   "cell_type": "code",
   "execution_count": 26,
   "metadata": {
    "collapsed": true
   },
   "outputs": [],
   "source": [
    "%matplotlib inline\n",
    "import numpy as np\n",
    "import pandas as pd\n",
    "import matplotlib.pyplot as pyplot"
   ]
  },
  {
   "cell_type": "code",
   "execution_count": 2,
   "metadata": {
    "collapsed": false
   },
   "outputs": [
    {
     "data": {
      "text/plain": [
       "158"
      ]
     },
     "execution_count": 2,
     "metadata": {},
     "output_type": "execute_result"
    }
   ],
   "source": [
    "HIV = pd.read_csv(\"HIV.csv\")\n",
    "HS = pd.read_csv(\"health_services.csv\")\n",
    "LE = pd.read_csv(\"Life_expectancy.csv\")\n",
    "len(HIV)"
   ]
  },
  {
   "cell_type": "code",
   "execution_count": 3,
   "metadata": {
    "collapsed": false
   },
   "outputs": [
    {
     "data": {
      "text/plain": [
       "632"
      ]
     },
     "execution_count": 3,
     "metadata": {},
     "output_type": "execute_result"
    }
   ],
   "source": [
    "158*4"
   ]
  },
  {
   "cell_type": "markdown",
   "metadata": {},
   "source": [
    "## HIV Data Cleanup"
   ]
  },
  {
   "cell_type": "code",
   "execution_count": 4,
   "metadata": {
    "collapsed": false
   },
   "outputs": [
    {
     "data": {
      "text/html": [
       "<div>\n",
       "<table border=\"1\" class=\"dataframe\">\n",
       "  <thead>\n",
       "    <tr style=\"text-align: right;\">\n",
       "      <th></th>\n",
       "      <th>Country</th>\n",
       "      <th>HIV2013</th>\n",
       "      <th>HIV2009</th>\n",
       "      <th>HIV2005</th>\n",
       "      <th>HIV2001</th>\n",
       "    </tr>\n",
       "  </thead>\n",
       "  <tbody>\n",
       "    <tr>\n",
       "      <th>0</th>\n",
       "      <td>Afghanistan</td>\n",
       "      <td>&lt;0.1 [&lt;0.1-0.1]</td>\n",
       "      <td>&lt;0.1 [&lt;0.1-0.1]</td>\n",
       "      <td>&lt;0.1 [&lt;0.1-0.1]</td>\n",
       "      <td>&lt;0.1 [&lt;0.1-0.1]</td>\n",
       "    </tr>\n",
       "    <tr>\n",
       "      <th>1</th>\n",
       "      <td>Albania</td>\n",
       "      <td>&lt;0.1 [&lt;0.1-0.1]</td>\n",
       "      <td>&lt;0.1 [&lt;0.1-0.1]</td>\n",
       "      <td>&lt;0.1 [&lt;0.1-0.1]</td>\n",
       "      <td>&lt;0.1 [&lt;0.1-0.1]</td>\n",
       "    </tr>\n",
       "    <tr>\n",
       "      <th>2</th>\n",
       "      <td>Algeria</td>\n",
       "      <td>0.1 [0.1-0.2]</td>\n",
       "      <td>0.1 [&lt;0.1-0.2]</td>\n",
       "      <td>0.1 [&lt;0.1-0.2]</td>\n",
       "      <td>0.1 [&lt;0.1-0.2]</td>\n",
       "    </tr>\n",
       "    <tr>\n",
       "      <th>3</th>\n",
       "      <td>Angola</td>\n",
       "      <td>2.4 [1.7-3.2]</td>\n",
       "      <td>2.1 [1.4-2.9]</td>\n",
       "      <td>1.9 [1.3-2.6]</td>\n",
       "      <td>1.8 [1.2-2.4]</td>\n",
       "    </tr>\n",
       "    <tr>\n",
       "      <th>4</th>\n",
       "      <td>Argentina</td>\n",
       "      <td>No data</td>\n",
       "      <td>No data</td>\n",
       "      <td>No data</td>\n",
       "      <td>No data</td>\n",
       "    </tr>\n",
       "  </tbody>\n",
       "</table>\n",
       "</div>"
      ],
      "text/plain": [
       "       Country          HIV2013          HIV2009          HIV2005  \\\n",
       "0  Afghanistan  <0.1 [<0.1-0.1]  <0.1 [<0.1-0.1]  <0.1 [<0.1-0.1]   \n",
       "1      Albania  <0.1 [<0.1-0.1]  <0.1 [<0.1-0.1]  <0.1 [<0.1-0.1]   \n",
       "2      Algeria    0.1 [0.1-0.2]   0.1 [<0.1-0.2]   0.1 [<0.1-0.2]   \n",
       "3       Angola    2.4 [1.7-3.2]    2.1 [1.4-2.9]    1.9 [1.3-2.6]   \n",
       "4    Argentina          No data          No data          No data   \n",
       "\n",
       "           HIV2001  \n",
       "0  <0.1 [<0.1-0.1]  \n",
       "1  <0.1 [<0.1-0.1]  \n",
       "2   0.1 [<0.1-0.2]  \n",
       "3    1.8 [1.2-2.4]  \n",
       "4          No data  "
      ]
     },
     "execution_count": 4,
     "metadata": {},
     "output_type": "execute_result"
    }
   ],
   "source": [
    "HIV.head()"
   ]
  },
  {
   "cell_type": "code",
   "execution_count": 5,
   "metadata": {
    "collapsed": false
   },
   "outputs": [
    {
     "data": {
      "text/html": [
       "<div>\n",
       "<table border=\"1\" class=\"dataframe\">\n",
       "  <thead>\n",
       "    <tr style=\"text-align: right;\">\n",
       "      <th></th>\n",
       "      <th>Country</th>\n",
       "      <th>HIV2013</th>\n",
       "      <th>HIV2009</th>\n",
       "      <th>HIV2005</th>\n",
       "      <th>HIV2001</th>\n",
       "    </tr>\n",
       "  </thead>\n",
       "  <tbody>\n",
       "    <tr>\n",
       "      <th>0</th>\n",
       "      <td>Afghanistan</td>\n",
       "      <td>0.1</td>\n",
       "      <td>0.1</td>\n",
       "      <td>0.1</td>\n",
       "      <td>0.1</td>\n",
       "    </tr>\n",
       "    <tr>\n",
       "      <th>1</th>\n",
       "      <td>Albania</td>\n",
       "      <td>0.1</td>\n",
       "      <td>0.1</td>\n",
       "      <td>0.1</td>\n",
       "      <td>0.1</td>\n",
       "    </tr>\n",
       "    <tr>\n",
       "      <th>2</th>\n",
       "      <td>Algeria</td>\n",
       "      <td>0.1</td>\n",
       "      <td>0.1</td>\n",
       "      <td>0.1</td>\n",
       "      <td>0.1</td>\n",
       "    </tr>\n",
       "    <tr>\n",
       "      <th>3</th>\n",
       "      <td>Angola</td>\n",
       "      <td>2.4</td>\n",
       "      <td>2.1</td>\n",
       "      <td>1.9</td>\n",
       "      <td>1.8</td>\n",
       "    </tr>\n",
       "    <tr>\n",
       "      <th>4</th>\n",
       "      <td>Argentina</td>\n",
       "      <td>NaN</td>\n",
       "      <td>NaN</td>\n",
       "      <td>NaN</td>\n",
       "      <td>NaN</td>\n",
       "    </tr>\n",
       "  </tbody>\n",
       "</table>\n",
       "</div>"
      ],
      "text/plain": [
       "       Country HIV2013 HIV2009 HIV2005 HIV2001\n",
       "0  Afghanistan     0.1     0.1     0.1     0.1\n",
       "1      Albania     0.1     0.1     0.1     0.1\n",
       "2      Algeria     0.1     0.1     0.1     0.1\n",
       "3       Angola     2.4     2.1     1.9     1.8\n",
       "4    Argentina     NaN     NaN     NaN     NaN"
      ]
     },
     "execution_count": 5,
     "metadata": {},
     "output_type": "execute_result"
    }
   ],
   "source": [
    "variables = list(HIV.columns.values)\n",
    "for item in variables[1:]: \n",
    "    HIV[item] = HIV[item].map(lambda x: x.lstrip('<'))\n",
    "    HIV[item] = HIV[item].map(lambda x: x[0:3])\n",
    "HIV = HIV.replace(\"No \", np.nan)\n",
    "HIV.head()"
   ]
  },
  {
   "cell_type": "code",
   "execution_count": 73,
   "metadata": {
    "collapsed": false
   },
   "outputs": [],
   "source": [
    "HIV.HIV2013 = pd.to_numeric(HIV.HIV2013)\n",
    "HIV.HIV2009 = pd.to_numeric(HIV.HIV2009)\n",
    "HIV.HIV2005 = pd.to_numeric(HIV.HIV2005)\n",
    "HIV.HIV2001 = pd.to_numeric(HIV.HIV2001)"
   ]
  },
  {
   "cell_type": "code",
   "execution_count": 81,
   "metadata": {
    "collapsed": false
   },
   "outputs": [
    {
     "data": {
      "text/plain": [
       "<matplotlib.lines.Line2D at 0x117ead6d8>"
      ]
     },
     "execution_count": 81,
     "metadata": {},
     "output_type": "execute_result"
    },
    {
     "data": {
      "image/png": "[encoded data removed]",
      "text/plain": [
       "<matplotlib.figure.Figure at 0x119381550>"
      ]
     },
     "metadata": {},
     "output_type": "display_data"
    }
   ],
   "source": [
    "HIV.HIV2013.hist(bins = 30, color = 'c')\n",
    "pyplot.xlabel(\"HIV Prevalance, 2013\")\n",
    "pyplot.ylabel(\"# of Countries\")\n",
    "pyplot.title(\"Distribution of HIV Prevalances, 2013\")\n",
    "pyplot.axvline(HIV.HIV2013.mean(), color='b', linestyle='dashed', linewidth=2)"
   ]
  },
  {
   "cell_type": "code",
   "execution_count": 147,
   "metadata": {
    "collapsed": false
   },
   "outputs": [
    {
     "data": {
      "text/plain": [
       "<matplotlib.axes._subplots.AxesSubplot at 0x11b091358>"
      ]
     },
     "execution_count": 147,
     "metadata": {},
     "output_type": "execute_result"
    },
    {
     "data": {
      "image/png": "[encoded data removed]",
      "text/plain": [
       "<matplotlib.figure.Figure at 0x119fadd68>"
      ]
     },
     "metadata": {},
     "output_type": "display_data"
    }
   ],
   "source": [
    "highHIV = HIV[HIV.HIV2013>10]\n",
    "highHIV.ix[:,[0,1]]\n",
    "highHIV_flipped = highHIV.T\n",
    "temp = highHIV_flipped.drop(highHIV_flipped.index[[0,5]])\n",
    "temp.columns = [\"Botswana\", \"Lesotho\", \"Namibia\", \"South Africa\", \"Swaziland\", \"Zambia\", \"Zimbabwe\"]\n",
    "temp.plot(figsize = (10, 10))\n",
    "#change column order"
   ]
  },
  {
   "cell_type": "code",
   "execution_count": 74,
   "metadata": {
    "collapsed": false
   },
   "outputs": [],
   "source": [
    "HIV[\"Increase\"] = HIV[\"HIV2013\"] - HIV[\"HIV2001\"]"
   ]
  },
  {
   "cell_type": "code",
   "execution_count": 77,
   "metadata": {
    "collapsed": false
   },
   "outputs": [
    {
     "data": {
      "text/plain": [
       "<matplotlib.lines.Line2D at 0x118f2c278>"
      ]
     },
     "execution_count": 77,
     "metadata": {},
     "output_type": "execute_result"
    },
    {
     "data": {
      "image/png": "[encoded data removed]",
      "text/plain": [
       "<matplotlib.figure.Figure at 0x118f2ce48>"
      ]
     },
     "metadata": {},
     "output_type": "display_data"
    }
   ],
   "source": [
    "HIV.Increase.hist(bins = 20)\n",
    "pyplot.xlabel(\"Change in HIV Prevalance\")\n",
    "pyplot.ylabel(\"# of Countries\")\n",
    "pyplot.title(\"Distribution of Change in HIV Prevalances, 2001-2013\")\n",
    "pyplot.axvline(HIV.Increase.mean(), color='c', linestyle='dashed', linewidth=2)"
   ]
  },
  {
   "cell_type": "code",
   "execution_count": 6,
   "metadata": {
    "collapsed": false
   },
   "outputs": [
    {
     "data": {
      "text/html": [
       "<div>\n",
       "<table border=\"1\" class=\"dataframe\">\n",
       "  <thead>\n",
       "    <tr style=\"text-align: right;\">\n",
       "      <th></th>\n",
       "      <th>Country</th>\n",
       "      <th>HIV2001</th>\n",
       "    </tr>\n",
       "  </thead>\n",
       "  <tbody>\n",
       "    <tr>\n",
       "      <th>0</th>\n",
       "      <td>Afghanistan</td>\n",
       "      <td>0.1</td>\n",
       "    </tr>\n",
       "    <tr>\n",
       "      <th>1</th>\n",
       "      <td>Albania</td>\n",
       "      <td>0.1</td>\n",
       "    </tr>\n",
       "    <tr>\n",
       "      <th>2</th>\n",
       "      <td>Algeria</td>\n",
       "      <td>0.1</td>\n",
       "    </tr>\n",
       "    <tr>\n",
       "      <th>3</th>\n",
       "      <td>Angola</td>\n",
       "      <td>1.8</td>\n",
       "    </tr>\n",
       "    <tr>\n",
       "      <th>4</th>\n",
       "      <td>Argentina</td>\n",
       "      <td>NaN</td>\n",
       "    </tr>\n",
       "  </tbody>\n",
       "</table>\n",
       "</div>"
      ],
      "text/plain": [
       "       Country HIV2001\n",
       "0  Afghanistan     0.1\n",
       "1      Albania     0.1\n",
       "2      Algeria     0.1\n",
       "3       Angola     1.8\n",
       "4    Argentina     NaN"
      ]
     },
     "execution_count": 6,
     "metadata": {},
     "output_type": "execute_result"
    }
   ],
   "source": [
    "'''HIV2013 = HIV.ix[:,0:2]\n",
    "HIV2009 = HIV.ix[:,[0,2]]\n",
    "HIV2005 = HIV.ix[:,[0,3]]\n",
    "HIV2001 = HIV.ix[:,[0,4]]\n",
    "HIV2001.head()'''"
   ]
  },
  {
   "cell_type": "markdown",
   "metadata": {},
   "source": [
    "## Health Services Data Clean UP"
   ]
  },
  {
   "cell_type": "code",
   "execution_count": 7,
   "metadata": {
    "collapsed": false,
    "scrolled": true
   },
   "outputs": [
    {
     "data": {
      "text/html": [
       "<div>\n",
       "<table border=\"1\" class=\"dataframe\">\n",
       "  <thead>\n",
       "    <tr style=\"text-align: right;\">\n",
       "      <th></th>\n",
       "      <th>Country</th>\n",
       "      <th>Total expenditure on health as a percentage of gross domestic product; 2013</th>\n",
       "      <th>Total expenditure on health as a percentage of gross domestic product; 2012</th>\n",
       "      <th>Total expenditure on health as a percentage of gross domestic product; 2000</th>\n",
       "      <th>General government expenditure on health as a percentage of total expenditure on health; 2013</th>\n",
       "      <th>General government expenditure on health as a percentage of total expenditure on health; 2012</th>\n",
       "      <th>General government expenditure on health as a percentage of total expenditure on health; 2000</th>\n",
       "      <th>Private expenditure on health as a percentage of total expenditure on health; 2013</th>\n",
       "      <th>Private expenditure on health as a percentage of total expenditure on health; 2012</th>\n",
       "      <th>Private expenditure on health as a percentage of total expenditure on health; 2000</th>\n",
       "      <th>...</th>\n",
       "      <th>Social security expenditure on health as a percentage of general government expenditure on health; 2000</th>\n",
       "      <th>Out-of-pocket expenditure as a percentage of private expenditure on health; 2013</th>\n",
       "      <th>Out-of-pocket expenditure as a percentage of private expenditure on health; 2012</th>\n",
       "      <th>Out-of-pocket expenditure as a percentage of private expenditure on health; 2000</th>\n",
       "      <th>Out-of-pocket expenditure as a percentage of total expenditure on health; 2013</th>\n",
       "      <th>Out-of-pocket expenditure as a percentage of total expenditure on health; 2012</th>\n",
       "      <th>Out-of-pocket expenditure as a percentage of total expenditure on health; 2000</th>\n",
       "      <th>Private prepaid plans as a percentage of private expenditure on health; 2013</th>\n",
       "      <th>Private prepaid plans as a percentage of private expenditure on health; 2012</th>\n",
       "      <th>Private prepaid plans as a percentage of private expenditure on health; 2000</th>\n",
       "    </tr>\n",
       "  </thead>\n",
       "  <tbody>\n",
       "    <tr>\n",
       "      <th>0</th>\n",
       "      <td>Afghanistan</td>\n",
       "      <td>8.1</td>\n",
       "      <td>8.5</td>\n",
       "      <td>NaN</td>\n",
       "      <td>21.2</td>\n",
       "      <td>20.8</td>\n",
       "      <td>NaN</td>\n",
       "      <td>78.8</td>\n",
       "      <td>75.3</td>\n",
       "      <td>NaN</td>\n",
       "      <td>...</td>\n",
       "      <td>NaN</td>\n",
       "      <td>93.6</td>\n",
       "      <td>93.6</td>\n",
       "      <td>NaN</td>\n",
       "      <td>73.8</td>\n",
       "      <td>70.5</td>\n",
       "      <td>NaN</td>\n",
       "      <td>0.0</td>\n",
       "      <td>0.0</td>\n",
       "      <td>NaN</td>\n",
       "    </tr>\n",
       "    <tr>\n",
       "      <th>1</th>\n",
       "      <td>Albania</td>\n",
       "      <td>5.9</td>\n",
       "      <td>5.6</td>\n",
       "      <td>6.3</td>\n",
       "      <td>48.4</td>\n",
       "      <td>49.3</td>\n",
       "      <td>36.1</td>\n",
       "      <td>51.6</td>\n",
       "      <td>50.7</td>\n",
       "      <td>63.9</td>\n",
       "      <td>...</td>\n",
       "      <td>20.4</td>\n",
       "      <td>99.7</td>\n",
       "      <td>99.7</td>\n",
       "      <td>99.9</td>\n",
       "      <td>51.5</td>\n",
       "      <td>50.5</td>\n",
       "      <td>63.8</td>\n",
       "      <td>NaN</td>\n",
       "      <td>NaN</td>\n",
       "      <td>0.0</td>\n",
       "    </tr>\n",
       "    <tr>\n",
       "      <th>2</th>\n",
       "      <td>Algeria</td>\n",
       "      <td>6.6</td>\n",
       "      <td>6.0</td>\n",
       "      <td>3.5</td>\n",
       "      <td>74.2</td>\n",
       "      <td>73.5</td>\n",
       "      <td>73.3</td>\n",
       "      <td>25.8</td>\n",
       "      <td>26.5</td>\n",
       "      <td>26.7</td>\n",
       "      <td>...</td>\n",
       "      <td>35.5</td>\n",
       "      <td>97.2</td>\n",
       "      <td>97.2</td>\n",
       "      <td>96.7</td>\n",
       "      <td>25.1</td>\n",
       "      <td>25.8</td>\n",
       "      <td>25.8</td>\n",
       "      <td>2.7</td>\n",
       "      <td>2.7</td>\n",
       "      <td>3.1</td>\n",
       "    </tr>\n",
       "    <tr>\n",
       "      <th>3</th>\n",
       "      <td>Andorra</td>\n",
       "      <td>8.1</td>\n",
       "      <td>8.3</td>\n",
       "      <td>6.0</td>\n",
       "      <td>75.3</td>\n",
       "      <td>76.6</td>\n",
       "      <td>64.8</td>\n",
       "      <td>24.7</td>\n",
       "      <td>23.4</td>\n",
       "      <td>35.2</td>\n",
       "      <td>...</td>\n",
       "      <td>88.1</td>\n",
       "      <td>74.6</td>\n",
       "      <td>74.6</td>\n",
       "      <td>75.5</td>\n",
       "      <td>18.4</td>\n",
       "      <td>17.5</td>\n",
       "      <td>26.6</td>\n",
       "      <td>23.3</td>\n",
       "      <td>23.3</td>\n",
       "      <td>22.3</td>\n",
       "    </tr>\n",
       "    <tr>\n",
       "      <th>4</th>\n",
       "      <td>Angola</td>\n",
       "      <td>3.8</td>\n",
       "      <td>3.5</td>\n",
       "      <td>3.4</td>\n",
       "      <td>66.7</td>\n",
       "      <td>62.2</td>\n",
       "      <td>49.5</td>\n",
       "      <td>33.3</td>\n",
       "      <td>37.8</td>\n",
       "      <td>50.5</td>\n",
       "      <td>...</td>\n",
       "      <td>0.0</td>\n",
       "      <td>73.2</td>\n",
       "      <td>70.5</td>\n",
       "      <td>71.4</td>\n",
       "      <td>24.4</td>\n",
       "      <td>26.7</td>\n",
       "      <td>36.1</td>\n",
       "      <td>0.0</td>\n",
       "      <td>0.0</td>\n",
       "      <td>0.0</td>\n",
       "    </tr>\n",
       "  </tbody>\n",
       "</table>\n",
       "<p>5 rows × 28 columns</p>\n",
       "</div>"
      ],
      "text/plain": [
       "       Country  \\\n",
       "0  Afghanistan   \n",
       "1      Albania   \n",
       "2      Algeria   \n",
       "3      Andorra   \n",
       "4       Angola   \n",
       "\n",
       "   Total expenditure on health as a percentage of gross domestic product; 2013  \\\n",
       "0                                                8.1                             \n",
       "1                                                5.9                             \n",
       "2                                                6.6                             \n",
       "3                                                8.1                             \n",
       "4                                                3.8                             \n",
       "\n",
       "   Total expenditure on health as a percentage of gross domestic product; 2012  \\\n",
       "0                                                8.5                             \n",
       "1                                                5.6                             \n",
       "2                                                6.0                             \n",
       "3                                                8.3                             \n",
       "4                                                3.5                             \n",
       "\n",
       "   Total expenditure on health as a percentage of gross domestic product; 2000  \\\n",
       "0                                                NaN                             \n",
       "1                                                6.3                             \n",
       "2                                                3.5                             \n",
       "3                                                6.0                             \n",
       "4                                                3.4                             \n",
       "\n",
       "   General government expenditure on health as a percentage of total expenditure on health; 2013  \\\n",
       "0                                               21.2                                               \n",
       "1                                               48.4                                               \n",
       "2                                               74.2                                               \n",
       "3                                               75.3                                               \n",
       "4                                               66.7                                               \n",
       "\n",
       "   General government expenditure on health as a percentage of total expenditure on health; 2012  \\\n",
       "0                                               20.8                                               \n",
       "1                                               49.3                                               \n",
       "2                                               73.5                                               \n",
       "3                                               76.6                                               \n",
       "4                                               62.2                                               \n",
       "\n",
       "   General government expenditure on health as a percentage of total expenditure on health; 2000  \\\n",
       "0                                                NaN                                               \n",
       "1                                               36.1                                               \n",
       "2                                               73.3                                               \n",
       "3                                               64.8                                               \n",
       "4                                               49.5                                               \n",
       "\n",
       "   Private expenditure on health as a percentage of total expenditure on health; 2013  \\\n",
       "0                                               78.8                                    \n",
       "1                                               51.6                                    \n",
       "2                                               25.8                                    \n",
       "3                                               24.7                                    \n",
       "4                                               33.3                                    \n",
       "\n",
       "   Private expenditure on health as a percentage of total expenditure on health; 2012  \\\n",
       "0                                               75.3                                    \n",
       "1                                               50.7                                    \n",
       "2                                               26.5                                    \n",
       "3                                               23.4                                    \n",
       "4                                               37.8                                    \n",
       "\n",
       "   Private expenditure on health as a percentage of total expenditure on health; 2000  \\\n",
       "0                                                NaN                                    \n",
       "1                                               63.9                                    \n",
       "2                                               26.7                                    \n",
       "3                                               35.2                                    \n",
       "4                                               50.5                                    \n",
       "\n",
       "                                       ...                                       \\\n",
       "0                                      ...                                        \n",
       "1                                      ...                                        \n",
       "2                                      ...                                        \n",
       "3                                      ...                                        \n",
       "4                                      ...                                        \n",
       "\n",
       "   Social security expenditure on health as a percentage of general government expenditure on health; 2000  \\\n",
       "0                                                NaN                                                         \n",
       "1                                               20.4                                                         \n",
       "2                                               35.5                                                         \n",
       "3                                               88.1                                                         \n",
       "4                                                0.0                                                         \n",
       "\n",
       "   Out-of-pocket expenditure as a percentage of private expenditure on health; 2013  \\\n",
       "0                                               93.6                                  \n",
       "1                                               99.7                                  \n",
       "2                                               97.2                                  \n",
       "3                                               74.6                                  \n",
       "4                                               73.2                                  \n",
       "\n",
       "   Out-of-pocket expenditure as a percentage of private expenditure on health; 2012  \\\n",
       "0                                               93.6                                  \n",
       "1                                               99.7                                  \n",
       "2                                               97.2                                  \n",
       "3                                               74.6                                  \n",
       "4                                               70.5                                  \n",
       "\n",
       "   Out-of-pocket expenditure as a percentage of private expenditure on health; 2000  \\\n",
       "0                                                NaN                                  \n",
       "1                                               99.9                                  \n",
       "2                                               96.7                                  \n",
       "3                                               75.5                                  \n",
       "4                                               71.4                                  \n",
       "\n",
       "   Out-of-pocket expenditure as a percentage of total expenditure on health; 2013  \\\n",
       "0                                               73.8                                \n",
       "1                                               51.5                                \n",
       "2                                               25.1                                \n",
       "3                                               18.4                                \n",
       "4                                               24.4                                \n",
       "\n",
       "   Out-of-pocket expenditure as a percentage of total expenditure on health; 2012  \\\n",
       "0                                               70.5                                \n",
       "1                                               50.5                                \n",
       "2                                               25.8                                \n",
       "3                                               17.5                                \n",
       "4                                               26.7                                \n",
       "\n",
       "   Out-of-pocket expenditure as a percentage of total expenditure on health; 2000  \\\n",
       "0                                                NaN                                \n",
       "1                                               63.8                                \n",
       "2                                               25.8                                \n",
       "3                                               26.6                                \n",
       "4                                               36.1                                \n",
       "\n",
       "   Private prepaid plans as a percentage of private expenditure on health; 2013  \\\n",
       "0                                                0.0                              \n",
       "1                                                NaN                              \n",
       "2                                                2.7                              \n",
       "3                                               23.3                              \n",
       "4                                                0.0                              \n",
       "\n",
       "   Private prepaid plans as a percentage of private expenditure on health; 2012  \\\n",
       "0                                                0.0                              \n",
       "1                                                NaN                              \n",
       "2                                                2.7                              \n",
       "3                                               23.3                              \n",
       "4                                                0.0                              \n",
       "\n",
       "   Private prepaid plans as a percentage of private expenditure on health; 2000  \n",
       "0                                                NaN                             \n",
       "1                                                0.0                             \n",
       "2                                                3.1                             \n",
       "3                                               22.3                             \n",
       "4                                                0.0                             \n",
       "\n",
       "[5 rows x 28 columns]"
      ]
     },
     "execution_count": 7,
     "metadata": {},
     "output_type": "execute_result"
    }
   ],
   "source": [
    "HS.head()"
   ]
  },
  {
   "cell_type": "code",
   "execution_count": 8,
   "metadata": {
    "collapsed": false
   },
   "outputs": [
    {
     "data": {
      "text/plain": [
       "['Country',\n",
       " 'Total expenditure on health as a percentage of gross domestic product; 2013',\n",
       " 'Total expenditure on health as a percentage of gross domestic product; 2012',\n",
       " 'Total expenditure on health as a percentage of gross domestic product; 2000',\n",
       " 'General government expenditure on health as a percentage of total expenditure on health; 2013',\n",
       " 'General government expenditure on health as a percentage of total expenditure on health; 2012',\n",
       " 'General government expenditure on health as a percentage of total expenditure on health; 2000',\n",
       " 'Private expenditure on health as a percentage of total expenditure on health; 2013',\n",
       " 'Private expenditure on health as a percentage of total expenditure on health; 2012',\n",
       " 'Private expenditure on health as a percentage of total expenditure on health; 2000',\n",
       " 'General government expenditure on health as a percentage of total government expenditure; 2013',\n",
       " 'General government expenditure on health as a percentage of total government expenditure; 2012',\n",
       " 'General government expenditure on health as a percentage of total government expenditure; 2000',\n",
       " 'External resources for health as a percentage of total expenditure on health; 2013',\n",
       " 'External resources for health as a percentage of total expenditure on health; 2012',\n",
       " 'External resources for health as a percentage of total expenditure on health; 2000',\n",
       " 'Social security expenditure on health as a percentage of general government expenditure on health; 2013',\n",
       " 'Social security expenditure on health as a percentage of general government expenditure on health; 2012',\n",
       " 'Social security expenditure on health as a percentage of general government expenditure on health; 2000',\n",
       " 'Out-of-pocket expenditure as a percentage of private expenditure on health; 2013',\n",
       " 'Out-of-pocket expenditure as a percentage of private expenditure on health; 2012',\n",
       " 'Out-of-pocket expenditure as a percentage of private expenditure on health; 2000',\n",
       " 'Out-of-pocket expenditure as a percentage of total expenditure on health; 2013',\n",
       " 'Out-of-pocket expenditure as a percentage of total expenditure on health; 2012',\n",
       " 'Out-of-pocket expenditure as a percentage of total expenditure on health; 2000',\n",
       " 'Private prepaid plans as a percentage of private expenditure on health; 2013',\n",
       " 'Private prepaid plans as a percentage of private expenditure on health; 2012',\n",
       " 'Private prepaid plans as a percentage of private expenditure on health; 2000']"
      ]
     },
     "execution_count": 8,
     "metadata": {},
     "output_type": "execute_result"
    }
   ],
   "source": [
    "list(HS.columns.values)"
   ]
  },
  {
   "cell_type": "code",
   "execution_count": 9,
   "metadata": {
    "collapsed": false
   },
   "outputs": [
    {
     "data": {
      "text/plain": [
       "['Country',\n",
       " 'Total expenditure on health as a percentage of gross domestic product; 2013',\n",
       " 'Total expenditure on health as a percentage of gross domestic product; 2012',\n",
       " 'Total expenditure on health as a percentage of gross domestic product; 2000',\n",
       " 'General government expenditure on health as a percentage of total expenditure on health; 2013',\n",
       " 'General government expenditure on health as a percentage of total expenditure on health; 2012',\n",
       " 'General government expenditure on health as a percentage of total expenditure on health; 2000',\n",
       " 'Private expenditure on health as a percentage of total expenditure on health; 2013',\n",
       " 'Private expenditure on health as a percentage of total expenditure on health; 2012',\n",
       " 'Private expenditure on health as a percentage of total expenditure on health; 2000',\n",
       " 'Out-of-pocket expenditure as a percentage of total expenditure on health; 2013',\n",
       " 'Out-of-pocket expenditure as a percentage of total expenditure on health; 2012',\n",
       " 'Out-of-pocket expenditure as a percentage of total expenditure on health; 2000']"
      ]
     },
     "execution_count": 9,
     "metadata": {},
     "output_type": "execute_result"
    }
   ],
   "source": [
    "#drop columns that we don't want\n",
    "to_drop = list(range(10,22))+ list(range(25,28))\n",
    "HS = HS.drop(HS.columns[to_drop], axis=1)\n",
    "list(HS.columns.values)"
   ]
  },
  {
   "cell_type": "code",
   "execution_count": 30,
   "metadata": {
    "collapsed": true
   },
   "outputs": [],
   "source": [
    "HS.columns = [\"Country\", \"Total_pct_GDP2013\", \"Total_pct_GDP2012\", \"Total_pct_GDP2000\", \"Govt_pct_total2013\", \"Govt_pct_total2012\", \"Govt_pct_total2000\", \"Pvt_pct_total2013\", \"Pvt_pct_total2012\", \"Pvt_pct_total2000\", \"Pocket_pct_total2013\", \"Pocket_pct_total2012\", \"Pocket_pct_total2000\"]"
   ]
  },
  {
   "cell_type": "code",
   "execution_count": 31,
   "metadata": {
    "collapsed": false
   },
   "outputs": [
    {
     "data": {
      "text/html": [
       "<div>\n",
       "<table border=\"1\" class=\"dataframe\">\n",
       "  <thead>\n",
       "    <tr style=\"text-align: right;\">\n",
       "      <th></th>\n",
       "      <th>Country</th>\n",
       "      <th>Total_pct_GDP2013</th>\n",
       "      <th>Total_pct_GDP2012</th>\n",
       "      <th>Total_pct_GDP2000</th>\n",
       "      <th>Govt_pct_total2013</th>\n",
       "      <th>Govt_pct_total2012</th>\n",
       "      <th>Govt_pct_total2000</th>\n",
       "      <th>Pvt_pct_total2013</th>\n",
       "      <th>Pvt_pct_total2012</th>\n",
       "      <th>Pvt_pct_total2000</th>\n",
       "      <th>Pocket_pct_total2013</th>\n",
       "      <th>Pocket_pct_total2012</th>\n",
       "      <th>Pocket_pct_total2000</th>\n",
       "    </tr>\n",
       "  </thead>\n",
       "  <tbody>\n",
       "    <tr>\n",
       "      <th>0</th>\n",
       "      <td>Afghanistan</td>\n",
       "      <td>8.1</td>\n",
       "      <td>8.5</td>\n",
       "      <td>NaN</td>\n",
       "      <td>21.2</td>\n",
       "      <td>20.8</td>\n",
       "      <td>NaN</td>\n",
       "      <td>78.8</td>\n",
       "      <td>75.3</td>\n",
       "      <td>NaN</td>\n",
       "      <td>73.8</td>\n",
       "      <td>70.5</td>\n",
       "      <td>NaN</td>\n",
       "    </tr>\n",
       "    <tr>\n",
       "      <th>1</th>\n",
       "      <td>Albania</td>\n",
       "      <td>5.9</td>\n",
       "      <td>5.6</td>\n",
       "      <td>6.3</td>\n",
       "      <td>48.4</td>\n",
       "      <td>49.3</td>\n",
       "      <td>36.1</td>\n",
       "      <td>51.6</td>\n",
       "      <td>50.7</td>\n",
       "      <td>63.9</td>\n",
       "      <td>51.5</td>\n",
       "      <td>50.5</td>\n",
       "      <td>63.8</td>\n",
       "    </tr>\n",
       "    <tr>\n",
       "      <th>2</th>\n",
       "      <td>Algeria</td>\n",
       "      <td>6.6</td>\n",
       "      <td>6.0</td>\n",
       "      <td>3.5</td>\n",
       "      <td>74.2</td>\n",
       "      <td>73.5</td>\n",
       "      <td>73.3</td>\n",
       "      <td>25.8</td>\n",
       "      <td>26.5</td>\n",
       "      <td>26.7</td>\n",
       "      <td>25.1</td>\n",
       "      <td>25.8</td>\n",
       "      <td>25.8</td>\n",
       "    </tr>\n",
       "    <tr>\n",
       "      <th>3</th>\n",
       "      <td>Andorra</td>\n",
       "      <td>8.1</td>\n",
       "      <td>8.3</td>\n",
       "      <td>6.0</td>\n",
       "      <td>75.3</td>\n",
       "      <td>76.6</td>\n",
       "      <td>64.8</td>\n",
       "      <td>24.7</td>\n",
       "      <td>23.4</td>\n",
       "      <td>35.2</td>\n",
       "      <td>18.4</td>\n",
       "      <td>17.5</td>\n",
       "      <td>26.6</td>\n",
       "    </tr>\n",
       "    <tr>\n",
       "      <th>4</th>\n",
       "      <td>Angola</td>\n",
       "      <td>3.8</td>\n",
       "      <td>3.5</td>\n",
       "      <td>3.4</td>\n",
       "      <td>66.7</td>\n",
       "      <td>62.2</td>\n",
       "      <td>49.5</td>\n",
       "      <td>33.3</td>\n",
       "      <td>37.8</td>\n",
       "      <td>50.5</td>\n",
       "      <td>24.4</td>\n",
       "      <td>26.7</td>\n",
       "      <td>36.1</td>\n",
       "    </tr>\n",
       "  </tbody>\n",
       "</table>\n",
       "</div>"
      ],
      "text/plain": [
       "       Country  Total_pct_GDP2013  Total_pct_GDP2012  Total_pct_GDP2000  \\\n",
       "0  Afghanistan                8.1                8.5                NaN   \n",
       "1      Albania                5.9                5.6                6.3   \n",
       "2      Algeria                6.6                6.0                3.5   \n",
       "3      Andorra                8.1                8.3                6.0   \n",
       "4       Angola                3.8                3.5                3.4   \n",
       "\n",
       "   Govt_pct_total2013  Govt_pct_total2012  Govt_pct_total2000  \\\n",
       "0                21.2                20.8                 NaN   \n",
       "1                48.4                49.3                36.1   \n",
       "2                74.2                73.5                73.3   \n",
       "3                75.3                76.6                64.8   \n",
       "4                66.7                62.2                49.5   \n",
       "\n",
       "   Pvt_pct_total2013  Pvt_pct_total2012  Pvt_pct_total2000  \\\n",
       "0               78.8               75.3                NaN   \n",
       "1               51.6               50.7               63.9   \n",
       "2               25.8               26.5               26.7   \n",
       "3               24.7               23.4               35.2   \n",
       "4               33.3               37.8               50.5   \n",
       "\n",
       "   Pocket_pct_total2013  Pocket_pct_total2012  Pocket_pct_total2000  \n",
       "0                  73.8                  70.5                   NaN  \n",
       "1                  51.5                  50.5                  63.8  \n",
       "2                  25.1                  25.8                  25.8  \n",
       "3                  18.4                  17.5                  26.6  \n",
       "4                  24.4                  26.7                  36.1  "
      ]
     },
     "execution_count": 31,
     "metadata": {},
     "output_type": "execute_result"
    }
   ],
   "source": [
    "HS.head()"
   ]
  },
  {
   "cell_type": "code",
   "execution_count": 59,
   "metadata": {
    "collapsed": false
   },
   "outputs": [
    {
     "data": {
      "text/plain": [
       "<matplotlib.lines.Line2D at 0x1181be828>"
      ]
     },
     "execution_count": 59,
     "metadata": {},
     "output_type": "execute_result"
    },
    {
     "data": {
      "image/png": "[encoded data removed]",
      "text/plain": [
       "<matplotlib.figure.Figure at 0x118c61588>"
      ]
     },
     "metadata": {},
     "output_type": "display_data"
    }
   ],
   "source": [
    "HS.Total_pct_GDP2013.hist()\n",
    "pyplot.xlabel(\"Percent of GDP spent on Health, 2013\")\n",
    "pyplot.ylabel(\"# of Countries\")\n",
    "pyplot.title(\"Distribution of Total Health Expenditures as a Percent of GDP\")\n",
    "pyplot.axvline(HS[\"Total_pct_GDP2013\"].mean(), color='c', linestyle='dashed', linewidth=2)"
   ]
  },
  {
   "cell_type": "code",
   "execution_count": 60,
   "metadata": {
    "collapsed": false
   },
   "outputs": [
    {
     "data": {
      "text/plain": [
       "<matplotlib.lines.Line2D at 0x117ea3d68>"
      ]
     },
     "execution_count": 60,
     "metadata": {},
     "output_type": "execute_result"
    },
    {
     "data": {
      "image/png": "[encoded data removed]",
      "text/plain": [
       "<matplotlib.figure.Figure at 0x117ea3fd0>"
      ]
     },
     "metadata": {},
     "output_type": "display_data"
    }
   ],
   "source": [
    "HS.Total_pct_GDP2000.hist()\n",
    "pyplot.xlabel(\"Percent of GDP spent on Health, 2000\")\n",
    "pyplot.ylabel(\"# of Countries\")\n",
    "pyplot.title(\"Distribution of Total Health Expenditures as a Percent of GDP\")\n",
    "pyplot.axvline(HS[\"Total_pct_GDP2000\"].mean(), color='c', linestyle='dashed', linewidth=2)"
   ]
  },
  {
   "cell_type": "code",
   "execution_count": 39,
   "metadata": {
    "collapsed": true
   },
   "outputs": [],
   "source": [
    "HS[\"Total_pct_GDPIncrease\"] = HS[\"Total_pct_GDP2013\"] - HS[\"Total_pct_GDP2000\"]"
   ]
  },
  {
   "cell_type": "code",
   "execution_count": 58,
   "metadata": {
    "collapsed": false
   },
   "outputs": [
    {
     "data": {
      "text/plain": [
       "<matplotlib.lines.Line2D at 0x118bf7a20>"
      ]
     },
     "execution_count": 58,
     "metadata": {},
     "output_type": "execute_result"
    },
    {
     "data": {
      "image/png": "[encoded data removed]",
      "text/plain": [
       "<matplotlib.figure.Figure at 0x1184a9198>"
      ]
     },
     "metadata": {},
     "output_type": "display_data"
    }
   ],
   "source": [
    "HS[\"Total_pct_GDPIncrease\"].hist(color = 'c')\n",
    "pyplot.xlabel(\"Change in Percent of GDP spent on Health, 2000 - 2013\")\n",
    "pyplot.ylabel(\"# of Countries\")\n",
    "pyplot.title(\"Distribution of Increase in Health Expenditures as a Percent of GDP, 2000-2013\")\n",
    "pyplot.axvline(HS[\"Total_pct_GDPIncrease\"].mean(), color='b', linestyle='dashed', linewidth=2)"
   ]
  },
  {
   "cell_type": "code",
   "execution_count": 10,
   "metadata": {
    "collapsed": false
   },
   "outputs": [],
   "source": [
    "'''HS2013 = HS.ix[:,[0,1,4,7,10]]\n",
    "HS2012 = HS.ix[:,[0,2,5,8,11]]\n",
    "HS2000 = HS.ix[:,[0,3,6,9,12]]'''"
   ]
  },
  {
   "cell_type": "markdown",
   "metadata": {},
   "source": [
    "## Merging data sets (outer join to keep cases for now)"
   ]
  },
  {
   "cell_type": "code",
   "execution_count": 12,
   "metadata": {
    "collapsed": false
   },
   "outputs": [],
   "source": [
    "list(HIV2013.columns.values)\n",
    "HS_HIV_2013 = pd.merge(HS2013, HIV2013, on = \"Country\", how = \"outer\")\n",
    "HS_HIV_2000_2001 = pd.merge(HS2000, HIV2001, on = \"Country\", how = \"outer\")"
   ]
  },
  {
   "cell_type": "code",
   "execution_count": 13,
   "metadata": {
    "collapsed": false
   },
   "outputs": [
    {
     "data": {
      "text/html": [
       "<div>\n",
       "<table border=\"1\" class=\"dataframe\">\n",
       "  <thead>\n",
       "    <tr style=\"text-align: right;\">\n",
       "      <th></th>\n",
       "      <th>Country</th>\n",
       "      <th>Year</th>\n",
       "      <th>LE B Both sexes</th>\n",
       "      <th>LE BFemale</th>\n",
       "      <th>LE B Male</th>\n",
       "      <th>LE 60 Both sexes</th>\n",
       "      <th>LE 60 Female</th>\n",
       "      <th>LE 60 Male</th>\n",
       "      <th>HALE Both sexes</th>\n",
       "      <th>HALE  Female</th>\n",
       "      <th>HALE  Male</th>\n",
       "    </tr>\n",
       "  </thead>\n",
       "  <tbody>\n",
       "    <tr>\n",
       "      <th>0</th>\n",
       "      <td>Afghanistan</td>\n",
       "      <td>2013</td>\n",
       "      <td>61</td>\n",
       "      <td>62</td>\n",
       "      <td>61</td>\n",
       "      <td>16</td>\n",
       "      <td>17</td>\n",
       "      <td>15</td>\n",
       "      <td>50</td>\n",
       "      <td>50</td>\n",
       "      <td>50</td>\n",
       "    </tr>\n",
       "    <tr>\n",
       "      <th>1</th>\n",
       "      <td>Afghanistan</td>\n",
       "      <td>2012</td>\n",
       "      <td>60</td>\n",
       "      <td>61</td>\n",
       "      <td>58</td>\n",
       "      <td>16</td>\n",
       "      <td>17</td>\n",
       "      <td>15</td>\n",
       "      <td>49</td>\n",
       "      <td>49</td>\n",
       "      <td>49</td>\n",
       "    </tr>\n",
       "    <tr>\n",
       "      <th>2</th>\n",
       "      <td>Afghanistan</td>\n",
       "      <td>2000</td>\n",
       "      <td>55</td>\n",
       "      <td>56</td>\n",
       "      <td>54</td>\n",
       "      <td>15</td>\n",
       "      <td>16</td>\n",
       "      <td>14</td>\n",
       "      <td>45</td>\n",
       "      <td>45</td>\n",
       "      <td>45</td>\n",
       "    </tr>\n",
       "    <tr>\n",
       "      <th>3</th>\n",
       "      <td>Afghanistan</td>\n",
       "      <td>1990</td>\n",
       "      <td>49</td>\n",
       "      <td>50</td>\n",
       "      <td>49</td>\n",
       "      <td>14</td>\n",
       "      <td>15</td>\n",
       "      <td>13</td>\n",
       "      <td>NaN</td>\n",
       "      <td>NaN</td>\n",
       "      <td>NaN</td>\n",
       "    </tr>\n",
       "    <tr>\n",
       "      <th>4</th>\n",
       "      <td>Albania</td>\n",
       "      <td>2013</td>\n",
       "      <td>74</td>\n",
       "      <td>76</td>\n",
       "      <td>73</td>\n",
       "      <td>19</td>\n",
       "      <td>20</td>\n",
       "      <td>18</td>\n",
       "      <td>65</td>\n",
       "      <td>66</td>\n",
       "      <td>64</td>\n",
       "    </tr>\n",
       "  </tbody>\n",
       "</table>\n",
       "</div>"
      ],
      "text/plain": [
       "       Country  Year   LE B Both sexes   LE BFemale   LE B Male  \\\n",
       "0  Afghanistan  2013                61           62          61   \n",
       "1  Afghanistan  2012                60           61          58   \n",
       "2  Afghanistan  2000                55           56          54   \n",
       "3  Afghanistan  1990                49           50          49   \n",
       "4      Albania  2013                74           76          73   \n",
       "\n",
       "    LE 60 Both sexes  LE 60 Female   LE 60 Male HALE Both sexes HALE  Female  \\\n",
       "0                 16            17           15              50           50   \n",
       "1                 16            17           15              49           49   \n",
       "2                 15            16           14              45           45   \n",
       "3                 14            15           13             NaN          NaN   \n",
       "4                 19            20           18              65           66   \n",
       "\n",
       "  HALE  Male  \n",
       "0         50  \n",
       "1         49  \n",
       "2         45  \n",
       "3        NaN  \n",
       "4         64  "
      ]
     },
     "execution_count": 13,
     "metadata": {},
     "output_type": "execute_result"
    }
   ],
   "source": [
    "LE.head()"
   ]
  },
  {
   "cell_type": "code",
   "execution_count": null,
   "metadata": {
    "collapsed": true
   },
   "outputs": [],
   "source": []
  }
 ],
 "metadata": {
  "kernelspec": {
   "display_name": "Python 3",
   "language": "python",
   "name": "python3"
  },
  "language_info": {
   "codemirror_mode": {
    "name": "ipython",
    "version": 3
   },
   "file_extension": ".py",
   "mimetype": "text/x-python",
   "name": "python",
   "nbconvert_exporter": "python",
   "pygments_lexer": "ipython3",
   "version": "3.5.1"
  }
 },
 "nbformat": 4,
 "nbformat_minor": 0
}
