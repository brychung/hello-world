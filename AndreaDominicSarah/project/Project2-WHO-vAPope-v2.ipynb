{
 "cells": [
  {
   "cell_type": "code",
   "execution_count": 69,
   "metadata": {
    "collapsed": true
   },
   "outputs": [],
   "source": [
    "%matplotlib inline\n",
    "import numpy as np\n",
    "import pandas as pd\n",
    "import matplotlib.pyplot as pyplot"
   ]
  },
  {
   "cell_type": "code",
   "execution_count": null,
   "metadata": {
    "collapsed": true
   },
   "outputs": [],
   "source": [
    "# life expectancy"
   ]
  },
  {
   "cell_type": "code",
   "execution_count": null,
   "metadata": {
    "collapsed": false
   },
   "outputs": [],
   "source": [
    "!head research/LifeExpectancy.csv"
   ]
  },
  {
   "cell_type": "code",
   "execution_count": 2,
   "metadata": {
    "collapsed": false
   },
   "outputs": [],
   "source": [
    "df_le = pd.read_csv(\"research/LifeExpectancy.csv\")"
   ]
  },
  {
   "cell_type": "code",
   "execution_count": 3,
   "metadata": {
    "collapsed": false
   },
   "outputs": [
    {
     "data": {
      "text/html": [
       "<div>\n",
       "<table border=\"1\" class=\"dataframe\">\n",
       "  <thead>\n",
       "    <tr style=\"text-align: right;\">\n",
       "      <th></th>\n",
       "      <th>Country; Year</th>\n",
       "      <th>Life expectancy at birth (years); Both sexes</th>\n",
       "      <th>Life expectancy at birth (years); Female</th>\n",
       "      <th>Life expectancy at birth (years); Male</th>\n",
       "      <th>Life expectancy at age 60 (years); Both sexes</th>\n",
       "      <th>Life expectancy at age 60 (years); Female</th>\n",
       "      <th>Life expectancy at age 60 (years); Male</th>\n",
       "      <th>Healthy life expectancy (HALE) at birth (years); Both sexes</th>\n",
       "      <th>Healthy life expectancy (HALE) at birth (years); Female</th>\n",
       "      <th>Healthy life expectancy (HALE) at birth (years); Male</th>\n",
       "    </tr>\n",
       "  </thead>\n",
       "  <tbody>\n",
       "    <tr>\n",
       "      <th>0</th>\n",
       "      <td>Afghanistan; 2013</td>\n",
       "      <td>61</td>\n",
       "      <td>62</td>\n",
       "      <td>61</td>\n",
       "      <td>16</td>\n",
       "      <td>17</td>\n",
       "      <td>15</td>\n",
       "      <td>50</td>\n",
       "      <td>50</td>\n",
       "      <td>50</td>\n",
       "    </tr>\n",
       "    <tr>\n",
       "      <th>1</th>\n",
       "      <td>Afghanistan; 2012</td>\n",
       "      <td>60</td>\n",
       "      <td>61</td>\n",
       "      <td>58</td>\n",
       "      <td>16</td>\n",
       "      <td>17</td>\n",
       "      <td>15</td>\n",
       "      <td>49</td>\n",
       "      <td>49</td>\n",
       "      <td>49</td>\n",
       "    </tr>\n",
       "    <tr>\n",
       "      <th>2</th>\n",
       "      <td>Afghanistan; 2000</td>\n",
       "      <td>55</td>\n",
       "      <td>56</td>\n",
       "      <td>54</td>\n",
       "      <td>15</td>\n",
       "      <td>16</td>\n",
       "      <td>14</td>\n",
       "      <td>45</td>\n",
       "      <td>45</td>\n",
       "      <td>45</td>\n",
       "    </tr>\n",
       "    <tr>\n",
       "      <th>3</th>\n",
       "      <td>Afghanistan; 1990</td>\n",
       "      <td>49</td>\n",
       "      <td>50</td>\n",
       "      <td>49</td>\n",
       "      <td>14</td>\n",
       "      <td>15</td>\n",
       "      <td>13</td>\n",
       "      <td>NaN</td>\n",
       "      <td>NaN</td>\n",
       "      <td>NaN</td>\n",
       "    </tr>\n",
       "    <tr>\n",
       "      <th>4</th>\n",
       "      <td>Albania; 2013</td>\n",
       "      <td>74</td>\n",
       "      <td>76</td>\n",
       "      <td>73</td>\n",
       "      <td>19</td>\n",
       "      <td>20</td>\n",
       "      <td>18</td>\n",
       "      <td>65</td>\n",
       "      <td>66</td>\n",
       "      <td>64</td>\n",
       "    </tr>\n",
       "  </tbody>\n",
       "</table>\n",
       "</div>"
      ],
      "text/plain": [
       "       Country; Year  Life expectancy at birth (years); Both sexes  \\\n",
       "0  Afghanistan; 2013                                            61   \n",
       "1  Afghanistan; 2012                                            60   \n",
       "2  Afghanistan; 2000                                            55   \n",
       "3  Afghanistan; 1990                                            49   \n",
       "4      Albania; 2013                                            74   \n",
       "\n",
       "   Life expectancy at birth (years); Female  \\\n",
       "0                                        62   \n",
       "1                                        61   \n",
       "2                                        56   \n",
       "3                                        50   \n",
       "4                                        76   \n",
       "\n",
       "   Life expectancy at birth (years); Male  \\\n",
       "0                                      61   \n",
       "1                                      58   \n",
       "2                                      54   \n",
       "3                                      49   \n",
       "4                                      73   \n",
       "\n",
       "   Life expectancy at age 60 (years); Both sexes  \\\n",
       "0                                             16   \n",
       "1                                             16   \n",
       "2                                             15   \n",
       "3                                             14   \n",
       "4                                             19   \n",
       "\n",
       "   Life expectancy at age 60 (years); Female  \\\n",
       "0                                         17   \n",
       "1                                         17   \n",
       "2                                         16   \n",
       "3                                         15   \n",
       "4                                         20   \n",
       "\n",
       "   Life expectancy at age 60 (years); Male  \\\n",
       "0                                       15   \n",
       "1                                       15   \n",
       "2                                       14   \n",
       "3                                       13   \n",
       "4                                       18   \n",
       "\n",
       "  Healthy life expectancy (HALE) at birth (years); Both sexes  \\\n",
       "0                                                 50            \n",
       "1                                                 49            \n",
       "2                                                 45            \n",
       "3                                                NaN            \n",
       "4                                                 65            \n",
       "\n",
       "  Healthy life expectancy (HALE) at birth (years); Female  \\\n",
       "0                                                 50        \n",
       "1                                                 49        \n",
       "2                                                 45        \n",
       "3                                                NaN        \n",
       "4                                                 66        \n",
       "\n",
       "  Healthy life expectancy (HALE) at birth (years); Male  \n",
       "0                                                 50     \n",
       "1                                                 49     \n",
       "2                                                 45     \n",
       "3                                                NaN     \n",
       "4                                                 64     "
      ]
     },
     "execution_count": 3,
     "metadata": {},
     "output_type": "execute_result"
    }
   ],
   "source": [
    "df_le.head()"
   ]
  },
  {
   "cell_type": "code",
   "execution_count": 4,
   "metadata": {
    "collapsed": false
   },
   "outputs": [],
   "source": [
    "df_le = pd.read_csv('research/LifeExpectancy.csv', names=(\"Country; Year\", \"LEatBirth\", \"LEatBirthFem\", \"LEatBirthMale\",\n",
    "                                                                      \"LEat60\", \"LEat60Female\", \"LEat60Male\", \"HALEatBirth\",\n",
    "                                                                      \"HALEatBirthFemale\", \"HALEatBirthMale\"))[1:]"
   ]
  },
  {
   "cell_type": "code",
   "execution_count": 5,
   "metadata": {
    "collapsed": false
   },
   "outputs": [
    {
     "data": {
      "text/html": [
       "<div>\n",
       "<table border=\"1\" class=\"dataframe\">\n",
       "  <thead>\n",
       "    <tr style=\"text-align: right;\">\n",
       "      <th></th>\n",
       "      <th>Country; Year</th>\n",
       "      <th>LEatBirth</th>\n",
       "      <th>LEatBirthFem</th>\n",
       "      <th>LEatBirthMale</th>\n",
       "      <th>LEat60</th>\n",
       "      <th>LEat60Female</th>\n",
       "      <th>LEat60Male</th>\n",
       "      <th>HALEatBirth</th>\n",
       "      <th>HALEatBirthFemale</th>\n",
       "      <th>HALEatBirthMale</th>\n",
       "    </tr>\n",
       "  </thead>\n",
       "  <tbody>\n",
       "    <tr>\n",
       "      <th>1</th>\n",
       "      <td>Afghanistan; 2013</td>\n",
       "      <td>61</td>\n",
       "      <td>62</td>\n",
       "      <td>61</td>\n",
       "      <td>16</td>\n",
       "      <td>17</td>\n",
       "      <td>15</td>\n",
       "      <td>50</td>\n",
       "      <td>50</td>\n",
       "      <td>50</td>\n",
       "    </tr>\n",
       "    <tr>\n",
       "      <th>2</th>\n",
       "      <td>Afghanistan; 2012</td>\n",
       "      <td>60</td>\n",
       "      <td>61</td>\n",
       "      <td>58</td>\n",
       "      <td>16</td>\n",
       "      <td>17</td>\n",
       "      <td>15</td>\n",
       "      <td>49</td>\n",
       "      <td>49</td>\n",
       "      <td>49</td>\n",
       "    </tr>\n",
       "    <tr>\n",
       "      <th>3</th>\n",
       "      <td>Afghanistan; 2000</td>\n",
       "      <td>55</td>\n",
       "      <td>56</td>\n",
       "      <td>54</td>\n",
       "      <td>15</td>\n",
       "      <td>16</td>\n",
       "      <td>14</td>\n",
       "      <td>45</td>\n",
       "      <td>45</td>\n",
       "      <td>45</td>\n",
       "    </tr>\n",
       "    <tr>\n",
       "      <th>4</th>\n",
       "      <td>Afghanistan; 1990</td>\n",
       "      <td>49</td>\n",
       "      <td>50</td>\n",
       "      <td>49</td>\n",
       "      <td>14</td>\n",
       "      <td>15</td>\n",
       "      <td>13</td>\n",
       "      <td>NaN</td>\n",
       "      <td>NaN</td>\n",
       "      <td>NaN</td>\n",
       "    </tr>\n",
       "    <tr>\n",
       "      <th>5</th>\n",
       "      <td>Albania; 2013</td>\n",
       "      <td>74</td>\n",
       "      <td>76</td>\n",
       "      <td>73</td>\n",
       "      <td>19</td>\n",
       "      <td>20</td>\n",
       "      <td>18</td>\n",
       "      <td>65</td>\n",
       "      <td>66</td>\n",
       "      <td>64</td>\n",
       "    </tr>\n",
       "  </tbody>\n",
       "</table>\n",
       "</div>"
      ],
      "text/plain": [
       "       Country; Year LEatBirth LEatBirthFem LEatBirthMale LEat60 LEat60Female  \\\n",
       "1  Afghanistan; 2013        61           62            61     16           17   \n",
       "2  Afghanistan; 2012        60           61            58     16           17   \n",
       "3  Afghanistan; 2000        55           56            54     15           16   \n",
       "4  Afghanistan; 1990        49           50            49     14           15   \n",
       "5      Albania; 2013        74           76            73     19           20   \n",
       "\n",
       "  LEat60Male HALEatBirth HALEatBirthFemale HALEatBirthMale  \n",
       "1         15          50                50              50  \n",
       "2         15          49                49              49  \n",
       "3         14          45                45              45  \n",
       "4         13         NaN               NaN             NaN  \n",
       "5         18          65                66              64  "
      ]
     },
     "execution_count": 5,
     "metadata": {},
     "output_type": "execute_result"
    }
   ],
   "source": [
    "df_le.head()"
   ]
  },
  {
   "cell_type": "code",
   "execution_count": 6,
   "metadata": {
    "collapsed": false
   },
   "outputs": [],
   "source": [
    "df_le['Country'], df_le['Year'] = zip(*df_le['Country; Year'].apply(lambda x: x.split('; ', 1)))"
   ]
  },
  {
   "cell_type": "code",
   "execution_count": 7,
   "metadata": {
    "collapsed": false
   },
   "outputs": [
    {
     "data": {
      "text/html": [
       "<div>\n",
       "<table border=\"1\" class=\"dataframe\">\n",
       "  <thead>\n",
       "    <tr style=\"text-align: right;\">\n",
       "      <th></th>\n",
       "      <th>Country; Year</th>\n",
       "      <th>LEatBirth</th>\n",
       "      <th>LEatBirthFem</th>\n",
       "      <th>LEatBirthMale</th>\n",
       "      <th>LEat60</th>\n",
       "      <th>LEat60Female</th>\n",
       "      <th>LEat60Male</th>\n",
       "      <th>HALEatBirth</th>\n",
       "      <th>HALEatBirthFemale</th>\n",
       "      <th>HALEatBirthMale</th>\n",
       "      <th>Country</th>\n",
       "      <th>Year</th>\n",
       "    </tr>\n",
       "  </thead>\n",
       "  <tbody>\n",
       "    <tr>\n",
       "      <th>1</th>\n",
       "      <td>Afghanistan; 2013</td>\n",
       "      <td>61</td>\n",
       "      <td>62</td>\n",
       "      <td>61</td>\n",
       "      <td>16</td>\n",
       "      <td>17</td>\n",
       "      <td>15</td>\n",
       "      <td>50</td>\n",
       "      <td>50</td>\n",
       "      <td>50</td>\n",
       "      <td>Afghanistan</td>\n",
       "      <td>2013</td>\n",
       "    </tr>\n",
       "    <tr>\n",
       "      <th>2</th>\n",
       "      <td>Afghanistan; 2012</td>\n",
       "      <td>60</td>\n",
       "      <td>61</td>\n",
       "      <td>58</td>\n",
       "      <td>16</td>\n",
       "      <td>17</td>\n",
       "      <td>15</td>\n",
       "      <td>49</td>\n",
       "      <td>49</td>\n",
       "      <td>49</td>\n",
       "      <td>Afghanistan</td>\n",
       "      <td>2012</td>\n",
       "    </tr>\n",
       "    <tr>\n",
       "      <th>3</th>\n",
       "      <td>Afghanistan; 2000</td>\n",
       "      <td>55</td>\n",
       "      <td>56</td>\n",
       "      <td>54</td>\n",
       "      <td>15</td>\n",
       "      <td>16</td>\n",
       "      <td>14</td>\n",
       "      <td>45</td>\n",
       "      <td>45</td>\n",
       "      <td>45</td>\n",
       "      <td>Afghanistan</td>\n",
       "      <td>2000</td>\n",
       "    </tr>\n",
       "    <tr>\n",
       "      <th>4</th>\n",
       "      <td>Afghanistan; 1990</td>\n",
       "      <td>49</td>\n",
       "      <td>50</td>\n",
       "      <td>49</td>\n",
       "      <td>14</td>\n",
       "      <td>15</td>\n",
       "      <td>13</td>\n",
       "      <td>NaN</td>\n",
       "      <td>NaN</td>\n",
       "      <td>NaN</td>\n",
       "      <td>Afghanistan</td>\n",
       "      <td>1990</td>\n",
       "    </tr>\n",
       "    <tr>\n",
       "      <th>5</th>\n",
       "      <td>Albania; 2013</td>\n",
       "      <td>74</td>\n",
       "      <td>76</td>\n",
       "      <td>73</td>\n",
       "      <td>19</td>\n",
       "      <td>20</td>\n",
       "      <td>18</td>\n",
       "      <td>65</td>\n",
       "      <td>66</td>\n",
       "      <td>64</td>\n",
       "      <td>Albania</td>\n",
       "      <td>2013</td>\n",
       "    </tr>\n",
       "  </tbody>\n",
       "</table>\n",
       "</div>"
      ],
      "text/plain": [
       "       Country; Year LEatBirth LEatBirthFem LEatBirthMale LEat60 LEat60Female  \\\n",
       "1  Afghanistan; 2013        61           62            61     16           17   \n",
       "2  Afghanistan; 2012        60           61            58     16           17   \n",
       "3  Afghanistan; 2000        55           56            54     15           16   \n",
       "4  Afghanistan; 1990        49           50            49     14           15   \n",
       "5      Albania; 2013        74           76            73     19           20   \n",
       "\n",
       "  LEat60Male HALEatBirth HALEatBirthFemale HALEatBirthMale      Country  Year  \n",
       "1         15          50                50              50  Afghanistan  2013  \n",
       "2         15          49                49              49  Afghanistan  2012  \n",
       "3         14          45                45              45  Afghanistan  2000  \n",
       "4         13         NaN               NaN             NaN  Afghanistan  1990  \n",
       "5         18          65                66              64      Albania  2013  "
      ]
     },
     "execution_count": 7,
     "metadata": {},
     "output_type": "execute_result"
    }
   ],
   "source": [
    "df_le.head()"
   ]
  },
  {
   "cell_type": "code",
   "execution_count": 8,
   "metadata": {
    "collapsed": false
   },
   "outputs": [
    {
     "data": {
      "text/html": [
       "<div>\n",
       "<table border=\"1\" class=\"dataframe\">\n",
       "  <thead>\n",
       "    <tr style=\"text-align: right;\">\n",
       "      <th></th>\n",
       "      <th>Country; Year</th>\n",
       "      <th>LEatBirth</th>\n",
       "      <th>LEatBirthFem</th>\n",
       "      <th>LEatBirthMale</th>\n",
       "      <th>LEat60</th>\n",
       "      <th>LEat60Female</th>\n",
       "      <th>LEat60Male</th>\n",
       "      <th>HALEatBirth</th>\n",
       "      <th>HALEatBirthFemale</th>\n",
       "      <th>HALEatBirthMale</th>\n",
       "      <th>Country</th>\n",
       "      <th>Year</th>\n",
       "    </tr>\n",
       "  </thead>\n",
       "  <tbody>\n",
       "    <tr>\n",
       "      <th>count</th>\n",
       "      <td>776</td>\n",
       "      <td>776</td>\n",
       "      <td>776</td>\n",
       "      <td>776</td>\n",
       "      <td>776</td>\n",
       "      <td>776</td>\n",
       "      <td>776</td>\n",
       "      <td>582</td>\n",
       "      <td>582</td>\n",
       "      <td>582</td>\n",
       "      <td>776</td>\n",
       "      <td>776</td>\n",
       "    </tr>\n",
       "    <tr>\n",
       "      <th>unique</th>\n",
       "      <td>776</td>\n",
       "      <td>46</td>\n",
       "      <td>48</td>\n",
       "      <td>46</td>\n",
       "      <td>16</td>\n",
       "      <td>19</td>\n",
       "      <td>15</td>\n",
       "      <td>44</td>\n",
       "      <td>46</td>\n",
       "      <td>44</td>\n",
       "      <td>194</td>\n",
       "      <td>4</td>\n",
       "    </tr>\n",
       "    <tr>\n",
       "      <th>top</th>\n",
       "      <td>Libya; 1990</td>\n",
       "      <td>74</td>\n",
       "      <td>78</td>\n",
       "      <td>72</td>\n",
       "      <td>17</td>\n",
       "      <td>18</td>\n",
       "      <td>16</td>\n",
       "      <td>63</td>\n",
       "      <td>66</td>\n",
       "      <td>63</td>\n",
       "      <td>Swaziland</td>\n",
       "      <td>1990</td>\n",
       "    </tr>\n",
       "    <tr>\n",
       "      <th>freq</th>\n",
       "      <td>1</td>\n",
       "      <td>51</td>\n",
       "      <td>65</td>\n",
       "      <td>51</td>\n",
       "      <td>118</td>\n",
       "      <td>95</td>\n",
       "      <td>125</td>\n",
       "      <td>40</td>\n",
       "      <td>51</td>\n",
       "      <td>42</td>\n",
       "      <td>4</td>\n",
       "      <td>194</td>\n",
       "    </tr>\n",
       "  </tbody>\n",
       "</table>\n",
       "</div>"
      ],
      "text/plain": [
       "       Country; Year LEatBirth LEatBirthFem LEatBirthMale LEat60 LEat60Female  \\\n",
       "count            776       776          776           776    776          776   \n",
       "unique           776        46           48            46     16           19   \n",
       "top      Libya; 1990        74           78            72     17           18   \n",
       "freq               1        51           65            51    118           95   \n",
       "\n",
       "       LEat60Male HALEatBirth HALEatBirthFemale HALEatBirthMale    Country  \\\n",
       "count         776         582               582             582        776   \n",
       "unique         15          44                46              44        194   \n",
       "top            16          63                66              63  Swaziland   \n",
       "freq          125          40                51              42          4   \n",
       "\n",
       "        Year  \n",
       "count    776  \n",
       "unique     4  \n",
       "top     1990  \n",
       "freq     194  "
      ]
     },
     "execution_count": 8,
     "metadata": {},
     "output_type": "execute_result"
    }
   ],
   "source": [
    "df_le.describe()"
   ]
  },
  {
   "cell_type": "code",
   "execution_count": 15,
   "metadata": {
    "collapsed": false
   },
   "outputs": [
    {
     "data": {
      "text/plain": [
       "dtype('O')"
      ]
     },
     "execution_count": 15,
     "metadata": {},
     "output_type": "execute_result"
    }
   ],
   "source": [
    "df_le['HALEatBirth'].dtype"
   ]
  },
  {
   "cell_type": "code",
   "execution_count": null,
   "metadata": {
    "collapsed": true
   },
   "outputs": [],
   "source": [
    "# clearly we have cleanliness issues, so going to clean and put into a new dataset"
   ]
  },
  {
   "cell_type": "code",
   "execution_count": 18,
   "metadata": {
    "collapsed": false
   },
   "outputs": [
    {
     "data": {
      "text/plain": [
       "Swaziland                     4\n",
       "Madagascar                    4\n",
       "Monaco                        4\n",
       "Philippines                   4\n",
       "Oman                          4\n",
       "Marshall Islands              4\n",
       "Georgia                       4\n",
       "Mauritania                    4\n",
       "Ghana                         4\n",
       "Tajikistan                    4\n",
       "Rwanda                        4\n",
       "Republic of Moldova           4\n",
       "Azerbaijan                    4\n",
       "Burkina Faso                  4\n",
       "Guinea                        4\n",
       "Afghanistan                   4\n",
       "Brazil                        4\n",
       "Canada                        4\n",
       "Brunei Darussalam             4\n",
       "Portugal                      4\n",
       "Gabon                         4\n",
       "Algeria                       4\n",
       "Pakistan                      4\n",
       "Ecuador                       4\n",
       "Bahrain                       4\n",
       "Indonesia                     4\n",
       "Timor-Leste                   4\n",
       "Andorra                       4\n",
       "Sri Lanka                     4\n",
       "Honduras                      4\n",
       "                             ..\n",
       "Uruguay                       4\n",
       "Bosnia and Herzegovina        4\n",
       "Costa Rica                    4\n",
       "Chile                         4\n",
       "Jamaica                       4\n",
       "Malaysia                      4\n",
       "Peru                          4\n",
       "Guyana                        4\n",
       "Tonga                         4\n",
       "Mexico                        4\n",
       "Czech Republic                4\n",
       "Lithuania                     4\n",
       "Burundi                       4\n",
       "Chad                          4\n",
       "Nauru                         4\n",
       "Switzerland                   4\n",
       "Qatar                         4\n",
       "Mongolia                      4\n",
       "Papua New Guinea              4\n",
       "Cambodia                      4\n",
       "Liberia                       4\n",
       "Viet Nam                      4\n",
       "Niue                          4\n",
       "Finland                       4\n",
       "Kyrgyzstan                    4\n",
       "Iran (Islamic Republic of)    4\n",
       "Somalia                       4\n",
       "Bahamas                       4\n",
       "France                        4\n",
       "Uganda                        4\n",
       "Name: Country, dtype: int64"
      ]
     },
     "execution_count": 18,
     "metadata": {},
     "output_type": "execute_result"
    }
   ],
   "source": [
    "df_le['Country'].value_counts()"
   ]
  },
  {
   "cell_type": "code",
   "execution_count": 20,
   "metadata": {
    "collapsed": false
   },
   "outputs": [
    {
     "data": {
      "text/plain": [
       "1990    194\n",
       "2013    194\n",
       "2000    194\n",
       "2012    194\n",
       "Name: Year, dtype: int64"
      ]
     },
     "execution_count": 20,
     "metadata": {},
     "output_type": "execute_result"
    }
   ],
   "source": [
    "df_le['Year'].value_counts()"
   ]
  },
  {
   "cell_type": "code",
   "execution_count": 35,
   "metadata": {
    "collapsed": false
   },
   "outputs": [],
   "source": [
    "#convert year into date format\n",
    "df_le['Year'] = pd.to_datetime(df_le['Year'], format='%Y')"
   ]
  },
  {
   "cell_type": "code",
   "execution_count": 36,
   "metadata": {
    "collapsed": false
   },
   "outputs": [
    {
     "data": {
      "text/html": [
       "<div>\n",
       "<table border=\"1\" class=\"dataframe\">\n",
       "  <thead>\n",
       "    <tr style=\"text-align: right;\">\n",
       "      <th></th>\n",
       "      <th>Country; Year</th>\n",
       "      <th>LEatBirth</th>\n",
       "      <th>LEatBirthFem</th>\n",
       "      <th>LEatBirthMale</th>\n",
       "      <th>LEat60</th>\n",
       "      <th>LEat60Female</th>\n",
       "      <th>LEat60Male</th>\n",
       "      <th>HALEatBirth</th>\n",
       "      <th>HALEatBirthFemale</th>\n",
       "      <th>HALEatBirthMale</th>\n",
       "      <th>Country</th>\n",
       "      <th>Year</th>\n",
       "    </tr>\n",
       "  </thead>\n",
       "  <tbody>\n",
       "    <tr>\n",
       "      <th>1</th>\n",
       "      <td>Afghanistan; 2013</td>\n",
       "      <td>61</td>\n",
       "      <td>62</td>\n",
       "      <td>61</td>\n",
       "      <td>16</td>\n",
       "      <td>17</td>\n",
       "      <td>15</td>\n",
       "      <td>50</td>\n",
       "      <td>50</td>\n",
       "      <td>50</td>\n",
       "      <td>Afghanistan</td>\n",
       "      <td>2013-01-01</td>\n",
       "    </tr>\n",
       "    <tr>\n",
       "      <th>2</th>\n",
       "      <td>Afghanistan; 2012</td>\n",
       "      <td>60</td>\n",
       "      <td>61</td>\n",
       "      <td>58</td>\n",
       "      <td>16</td>\n",
       "      <td>17</td>\n",
       "      <td>15</td>\n",
       "      <td>49</td>\n",
       "      <td>49</td>\n",
       "      <td>49</td>\n",
       "      <td>Afghanistan</td>\n",
       "      <td>2012-01-01</td>\n",
       "    </tr>\n",
       "    <tr>\n",
       "      <th>3</th>\n",
       "      <td>Afghanistan; 2000</td>\n",
       "      <td>55</td>\n",
       "      <td>56</td>\n",
       "      <td>54</td>\n",
       "      <td>15</td>\n",
       "      <td>16</td>\n",
       "      <td>14</td>\n",
       "      <td>45</td>\n",
       "      <td>45</td>\n",
       "      <td>45</td>\n",
       "      <td>Afghanistan</td>\n",
       "      <td>2000-01-01</td>\n",
       "    </tr>\n",
       "    <tr>\n",
       "      <th>4</th>\n",
       "      <td>Afghanistan; 1990</td>\n",
       "      <td>49</td>\n",
       "      <td>50</td>\n",
       "      <td>49</td>\n",
       "      <td>14</td>\n",
       "      <td>15</td>\n",
       "      <td>13</td>\n",
       "      <td>NaN</td>\n",
       "      <td>NaN</td>\n",
       "      <td>NaN</td>\n",
       "      <td>Afghanistan</td>\n",
       "      <td>1990-01-01</td>\n",
       "    </tr>\n",
       "    <tr>\n",
       "      <th>5</th>\n",
       "      <td>Albania; 2013</td>\n",
       "      <td>74</td>\n",
       "      <td>76</td>\n",
       "      <td>73</td>\n",
       "      <td>19</td>\n",
       "      <td>20</td>\n",
       "      <td>18</td>\n",
       "      <td>65</td>\n",
       "      <td>66</td>\n",
       "      <td>64</td>\n",
       "      <td>Albania</td>\n",
       "      <td>2013-01-01</td>\n",
       "    </tr>\n",
       "  </tbody>\n",
       "</table>\n",
       "</div>"
      ],
      "text/plain": [
       "       Country; Year LEatBirth LEatBirthFem LEatBirthMale LEat60 LEat60Female  \\\n",
       "1  Afghanistan; 2013        61           62            61     16           17   \n",
       "2  Afghanistan; 2012        60           61            58     16           17   \n",
       "3  Afghanistan; 2000        55           56            54     15           16   \n",
       "4  Afghanistan; 1990        49           50            49     14           15   \n",
       "5      Albania; 2013        74           76            73     19           20   \n",
       "\n",
       "  LEat60Male HALEatBirth HALEatBirthFemale HALEatBirthMale      Country  \\\n",
       "1         15          50                50              50  Afghanistan   \n",
       "2         15          49                49              49  Afghanistan   \n",
       "3         14          45                45              45  Afghanistan   \n",
       "4         13         NaN               NaN             NaN  Afghanistan   \n",
       "5         18          65                66              64      Albania   \n",
       "\n",
       "        Year  \n",
       "1 2013-01-01  \n",
       "2 2012-01-01  \n",
       "3 2000-01-01  \n",
       "4 1990-01-01  \n",
       "5 2013-01-01  "
      ]
     },
     "execution_count": 36,
     "metadata": {},
     "output_type": "execute_result"
    }
   ],
   "source": [
    "df_le.head()"
   ]
  },
  {
   "cell_type": "code",
   "execution_count": 51,
   "metadata": {
    "collapsed": true
   },
   "outputs": [],
   "source": [
    "def clean_le(value):\n",
    "    if type(value) == type(np.NaN):\n",
    "        return np.NaN\n",
    "    return int(value[0:2])"
   ]
  },
  {
   "cell_type": "code",
   "execution_count": 55,
   "metadata": {
    "collapsed": false
   },
   "outputs": [
    {
     "data": {
      "text/plain": [
       "'46'"
      ]
     },
     "execution_count": 55,
     "metadata": {},
     "output_type": "execute_result"
    }
   ],
   "source": [
    "#check\n",
    "clean_le('46 48')"
   ]
  },
  {
   "cell_type": "code",
   "execution_count": 44,
   "metadata": {
    "collapsed": false
   },
   "outputs": [
    {
     "data": {
      "text/plain": [
       "1     50\n",
       "2     49\n",
       "3     45\n",
       "4    NaN\n",
       "5     65\n",
       "Name: HALEatBirth, dtype: object"
      ]
     },
     "execution_count": 44,
     "metadata": {},
     "output_type": "execute_result"
    }
   ],
   "source": [
    "df_le['HALEatBirth'].head()"
   ]
  },
  {
   "cell_type": "code",
   "execution_count": 56,
   "metadata": {
    "collapsed": true
   },
   "outputs": [],
   "source": [
    "df_le['HALEatBirth'] = df_le['HALEatBirth'].apply(clean_le)"
   ]
  },
  {
   "cell_type": "code",
   "execution_count": 59,
   "metadata": {
    "collapsed": false
   },
   "outputs": [
    {
     "data": {
      "text/plain": [
       "63    40\n",
       "65    39\n",
       "62    36\n",
       "64    33\n",
       "66    32\n",
       "60    26\n",
       "67    25\n",
       "69    22\n",
       "61    22\n",
       "72    21\n",
       "68    21\n",
       "71    20\n",
       "70    18\n",
       "50    18\n",
       "54    16\n",
       "59    15\n",
       "53    14\n",
       "57    14\n",
       "58    13\n",
       "49    12\n",
       "55    12\n",
       "51    11\n",
       "44    10\n",
       "73    10\n",
       "56     9\n",
       "41     8\n",
       "52     8\n",
       "43     8\n",
       "48     7\n",
       "46     7\n",
       "45     7\n",
       "47     6\n",
       "39     5\n",
       "42     4\n",
       "40     2\n",
       "75     2\n",
       "76     2\n",
       "38     2\n",
       "74     2\n",
       "33     1\n",
       "37     1\n",
       "36     1\n",
       "Name: HALEatBirth, dtype: int64"
      ]
     },
     "execution_count": 59,
     "metadata": {},
     "output_type": "execute_result"
    }
   ],
   "source": [
    "df_le['HALEatBirth'].value_counts()"
   ]
  },
  {
   "cell_type": "code",
   "execution_count": 60,
   "metadata": {
    "collapsed": false
   },
   "outputs": [
    {
     "data": {
      "text/plain": [
       "dtype('O')"
      ]
     },
     "execution_count": 60,
     "metadata": {},
     "output_type": "execute_result"
    }
   ],
   "source": [
    "df_le['HALEatBirth'].dtype"
   ]
  },
  {
   "cell_type": "code",
   "execution_count": 61,
   "metadata": {
    "collapsed": true
   },
   "outputs": [],
   "source": [
    "df_le['HALEatBirth'] = df_le['HALEatBirth'].astype('float')"
   ]
  },
  {
   "cell_type": "code",
   "execution_count": 62,
   "metadata": {
    "collapsed": false
   },
   "outputs": [
    {
     "data": {
      "text/plain": [
       "dtype('float64')"
      ]
     },
     "execution_count": 62,
     "metadata": {},
     "output_type": "execute_result"
    }
   ],
   "source": [
    "df_le['HALEatBirth'].dtype"
   ]
  },
  {
   "cell_type": "code",
   "execution_count": 65,
   "metadata": {
    "collapsed": true
   },
   "outputs": [],
   "source": [
    "?df_le.hist"
   ]
  },
  {
   "cell_type": "code",
   "execution_count": 72,
   "metadata": {
    "collapsed": false
   },
   "outputs": [
    {
     "data": {
      "text/plain": [
       "<matplotlib.text.Text at 0xa4c2518>"
      ]
     },
     "execution_count": 72,
     "metadata": {},
     "output_type": "execute_result"
    },
    {
     "data": {
      "image/png": "[encoded data removed]",
      "text/plain": [
       "<matplotlib.figure.Figure at 0xa4ff8d0>"
      ]
     },
     "metadata": {},
     "output_type": "display_data"
    }
   ],
   "source": [
    "df_le.hist('HALEatBirth')\n",
    "pyplot.ylabel(\"# fo Countries\")\n",
    "pyplot.xlabel(\"Life Expectancy\")\n",
    "pyplot.title(\"Distribution of Healthy Life Expectancy\")\n"
   ]
  },
  {
   "cell_type": "code",
   "execution_count": null,
   "metadata": {
    "collapsed": true
   },
   "outputs": [],
   "source": [
    "df_le.Country = df_le.Country.astype('str')"
   ]
  },
  {
   "cell_type": "code",
   "execution_count": null,
   "metadata": {
    "collapsed": false
   },
   "outputs": [],
   "source": [
    "df_le.head()"
   ]
  },
  {
   "cell_type": "code",
   "execution_count": null,
   "metadata": {
    "collapsed": false
   },
   "outputs": [],
   "source": [
    "le_by_country = df_le.groupby('Country')"
   ]
  },
  {
   "cell_type": "code",
   "execution_count": null,
   "metadata": {
    "collapsed": false
   },
   "outputs": [],
   "source": [
    "le_by_country.describe()"
   ]
  },
  {
   "cell_type": "code",
   "execution_count": null,
   "metadata": {
    "collapsed": false
   },
   "outputs": [],
   "source": [
    "le_by_country.hist('HALEatBirth')"
   ]
  },
  {
   "cell_type": "code",
   "execution_count": null,
   "metadata": {
    "collapsed": false
   },
   "outputs": [],
   "source": [
    "def extract_country(value):\n",
    "    if type(value) == type(np.NaN):\n",
    "        return np.NaN\n",
    "    return value.split(\";\")[0].strip(\" \")"
   ]
  },
  {
   "cell_type": "code",
   "execution_count": null,
   "metadata": {
    "collapsed": false
   },
   "outputs": [],
   "source": [
    "df_le['Country'] = df_le['Country; Year'].apply(extract_country)"
   ]
  },
  {
   "cell_type": "code",
   "execution_count": null,
   "metadata": {
    "collapsed": false
   },
   "outputs": [],
   "source": [
    "df_le.Country.value_counts()"
   ]
  },
  {
   "cell_type": "code",
   "execution_count": null,
   "metadata": {
    "collapsed": false
   },
   "outputs": [],
   "source": [
    "# of countries\n",
    "len(df_le.Country.unique())"
   ]
  },
  {
   "cell_type": "code",
   "execution_count": null,
   "metadata": {
    "collapsed": true
   },
   "outputs": [],
   "source": [
    "?df_le.count"
   ]
  },
  {
   "cell_type": "code",
   "execution_count": null,
   "metadata": {
    "collapsed": true
   },
   "outputs": [],
   "source": [
    "def extract_year(value):\n",
    "    if type(value) == type(np.NaN):\n",
    "        return np.NaN\n",
    "    return value.split(\";\")[1].strip(\" \")"
   ]
  },
  {
   "cell_type": "code",
   "execution_count": null,
   "metadata": {
    "collapsed": true
   },
   "outputs": [],
   "source": [
    "df_le['Year'] = df_le['Country; Year'].apply(extract_year)"
   ]
  },
  {
   "cell_type": "code",
   "execution_count": null,
   "metadata": {
    "collapsed": false
   },
   "outputs": [],
   "source": [
    "df_le.Year.value_counts()"
   ]
  },
  {
   "cell_type": "code",
   "execution_count": null,
   "metadata": {
    "collapsed": false
   },
   "outputs": [],
   "source": [
    "df_le.columns"
   ]
  },
  {
   "cell_type": "code",
   "execution_count": null,
   "metadata": {
    "collapsed": false
   },
   "outputs": [],
   "source": [
    "df_le[['Life expectancy at birth (years); Female', 'Life expectancy at birth (years); Male']].describe()"
   ]
  },
  {
   "cell_type": "code",
   "execution_count": null,
   "metadata": {
    "collapsed": false
   },
   "outputs": [],
   "source": [
    "df_le[['Life expectancy at birth (years); Female', 'Life expectancy at birth (years); Male']].plot()"
   ]
  },
  {
   "cell_type": "code",
   "execution_count": null,
   "metadata": {
    "collapsed": false
   },
   "outputs": [],
   "source": [
    "df_le['Healthy life expectancy (HALE) at birth (years); Both sexes'].dtype"
   ]
  },
  {
   "cell_type": "code",
   "execution_count": null,
   "metadata": {
    "collapsed": false
   },
   "outputs": [],
   "source": [
    "country = df_le.groupby('Country')\n",
    "country.describe()"
   ]
  },
  {
   "cell_type": "code",
   "execution_count": null,
   "metadata": {
    "collapsed": false
   },
   "outputs": [],
   "source": [
    "country['Life expectancy at birth (years); Both sexes'].mean().plot(kind='barh')"
   ]
  },
  {
   "cell_type": "code",
   "execution_count": null,
   "metadata": {
    "collapsed": true
   },
   "outputs": [],
   "source": [
    "?country.plot()"
   ]
  },
  {
   "cell_type": "code",
   "execution_count": null,
   "metadata": {
    "collapsed": false
   },
   "outputs": [],
   "source": [
    "country['Life expectancy at birth (years); Both sexes'].mean()[country['Life expectancy at birth (years); Both sexes'].mean()<50].plot(kind='barh')"
   ]
  },
  {
   "cell_type": "code",
   "execution_count": null,
   "metadata": {
    "collapsed": false
   },
   "outputs": [],
   "source": [
    "country['Life expectancy at birth (years); Both sexes'].mean()[country['Life expectancy at birth (years); Both sexes'].mean()>80].plot(kind='barh')"
   ]
  },
  {
   "cell_type": "code",
   "execution_count": null,
   "metadata": {
    "collapsed": false
   },
   "outputs": [],
   "source": [
    "country.head()"
   ]
  },
  {
   "cell_type": "code",
   "execution_count": null,
   "metadata": {
    "collapsed": false
   },
   "outputs": [],
   "source": [
    "country['Healthy life expectancy (HALE) at birth (years); Both sexes'].head()"
   ]
  },
  {
   "cell_type": "code",
   "execution_count": null,
   "metadata": {
    "collapsed": false
   },
   "outputs": [],
   "source": [
    "country['Healthy life expectancy (HALE) at birth (years); Both sexes'].value_counts()"
   ]
  },
  {
   "cell_type": "code",
   "execution_count": null,
   "metadata": {
    "collapsed": false
   },
   "outputs": [],
   "source": [
    "df_c = pd.read_csv(\"research/Commitments_n_DisbursementsofAidbyCountry.csv\")"
   ]
  },
  {
   "cell_type": "code",
   "execution_count": null,
   "metadata": {
    "collapsed": false
   },
   "outputs": [],
   "source": [
    "df_c.head()"
   ]
  },
  {
   "cell_type": "code",
   "execution_count": null,
   "metadata": {
    "collapsed": false
   },
   "outputs": [],
   "source": [
    "df_c.count()"
   ]
  },
  {
   "cell_type": "code",
   "execution_count": null,
   "metadata": {
    "collapsed": false
   },
   "outputs": [],
   "source": [
    "df_c.columns"
   ]
  },
  {
   "cell_type": "code",
   "execution_count": null,
   "metadata": {
    "collapsed": true
   },
   "outputs": [],
   "source": [
    "df_c['Country'] = df_c['Country; Year'].apply(extract_country)"
   ]
  },
  {
   "cell_type": "code",
   "execution_count": null,
   "metadata": {
    "collapsed": true
   },
   "outputs": [],
   "source": [
    "df_c['Year'] = df_c['Country; Year'].apply(extract_year)"
   ]
  },
  {
   "cell_type": "code",
   "execution_count": null,
   "metadata": {
    "collapsed": false
   },
   "outputs": [],
   "source": [
    "df_c.Country.unique()"
   ]
  },
  {
   "cell_type": "code",
   "execution_count": null,
   "metadata": {
    "collapsed": false
   },
   "outputs": [],
   "source": [
    "len(df_c.Country.unique())"
   ]
  },
  {
   "cell_type": "code",
   "execution_count": null,
   "metadata": {
    "collapsed": false
   },
   "outputs": [],
   "source": [
    "df_c.Year.value_counts()"
   ]
  },
  {
   "cell_type": "code",
   "execution_count": null,
   "metadata": {
    "collapsed": false
   },
   "outputs": [],
   "source": [
    "commitments_by_country = df_c.groupby('Country')"
   ]
  },
  {
   "cell_type": "code",
   "execution_count": null,
   "metadata": {
    "collapsed": false
   },
   "outputs": [],
   "source": [
    "commitments_by_country.describe()"
   ]
  },
  {
   "cell_type": "code",
   "execution_count": null,
   "metadata": {
    "collapsed": false
   },
   "outputs": [],
   "source": [
    "commitments_by_country.mean()"
   ]
  },
  {
   "cell_type": "code",
   "execution_count": null,
   "metadata": {
    "collapsed": false
   },
   "outputs": [],
   "source": [
    "commitments_by_country['Commitments to recipient countries (Million, constant 2009 US$)'].mean()"
   ]
  },
  {
   "cell_type": "code",
   "execution_count": null,
   "metadata": {
    "collapsed": false
   },
   "outputs": [],
   "source": [
    "commitments_by_country['Commitments to recipient countries (Million, constant 2009 US$)'].mean().plot()"
   ]
  },
  {
   "cell_type": "code",
   "execution_count": null,
   "metadata": {
    "collapsed": false
   },
   "outputs": [],
   "source": [
    "commitments_by_country['Commitments to recipient countries (Million, constant 2009 US$)'] \\\n",
    ".mean()[commitments_by_country['Commitments to recipient countries (Million, constant 2009 US$)'].mean()>250].plot(kind='barh')"
   ]
  },
  {
   "cell_type": "code",
   "execution_count": null,
   "metadata": {
    "collapsed": false
   },
   "outputs": [],
   "source": [
    "commitments_by_country['Disbursements to recipient countries (Million, constant 2009 US$)'] \\\n",
    ".mean()[commitments_by_country['Disbursements to recipient countries (Million, constant 2009 US$)'].mean()>250].plot(kind='barh')"
   ]
  },
  {
   "cell_type": "code",
   "execution_count": null,
   "metadata": {
    "collapsed": false
   },
   "outputs": [],
   "source": [
    "commitments_by_country"
   ]
  },
  {
   "cell_type": "code",
   "execution_count": null,
   "metadata": {
    "collapsed": true
   },
   "outputs": [],
   "source": []
  }
 ],
 "metadata": {
  "kernelspec": {
   "display_name": "Python 3",
   "language": "python",
   "name": "python3"
  },
  "language_info": {
   "codemirror_mode": {
    "name": "ipython",
    "version": 3
   },
   "file_extension": ".py",
   "mimetype": "text/x-python",
   "name": "python",
   "nbconvert_exporter": "python",
   "pygments_lexer": "ipython3",
   "version": "3.5.1"
  }
 },
 "nbformat": 4,
 "nbformat_minor": 0
}
