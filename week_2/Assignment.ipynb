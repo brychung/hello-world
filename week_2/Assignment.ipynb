{
 "cells": [
  {
   "cell_type": "markdown",
   "metadata": {},
   "source": [
    "# Week 2 Assignment"
   ]
  },
  {
   "cell_type": "markdown",
   "metadata": {},
   "source": [
    "## Readings\n",
    "\n",
    "Note that the output of your programs must match the example output *exactly*.  This is needed for automatic grading to work."
   ]
  },
  {
   "cell_type": "markdown",
   "metadata": {},
   "source": [
    "## 1. The command line and bash scripting\n",
    "\n",
    "Bash scripts are just files with lines of commands where the files are allowed to be executable. It's a simple way of automating tedious tasks.\n",
    "\n",
    "Write a bash script that generates the below file tree, save it as `make_tree.sh`.\n",
    "\n",
    "```\n",
    "s1\n",
    "|---s3\n",
    "|   |---conf.txt\n",
    "|---s2\n",
    "    |---text_analyzer1.py\n",
    "    |---Advanced\n",
    "         |---text_analyzer2.py\n",
    "```\n",
    "\n",
    "`conf.txt` should contain the sentence `I love bash scripting.` on the first line. After that line, the rest of the file should contain the output of the `ls` command of all your files in the `assignment` directory.\n",
    "\n",
    "`text_analyzer1.py` should prompt the user for a text string. It should then output (1) the number of vowels (aeiou), (2) the first vowel, (3) the character immediately after the first vowel.\n",
    "\n",
    "For example:\n",
    "\n",
    "input: \n",
    "\n",
    "`\"Boogie Woogie\"`\n",
    "\n",
    "output: \n",
    "\n",
    "```\n",
    "vowels: 8\n",
    "first vowel: o\n",
    "character immediately after first vowel: o\n",
    "```\n",
    "\n",
    "Your program should print something helpful (not throw an exception) if the input has no vowels.\n",
    "\n",
    "`text_analyzer2.py` should also prompt the use for a text string.  It should then create a dictionary in which the keys are the five vowels, and the values are the number of times each vowel occurs in the text.  Print the dictionary.\n",
    "\n",
    "For example:\n",
    "\n",
    "input:\n",
    "`Boogie Woogie`\n",
    "\n",
    "output: \n",
    "\n",
    "```\n",
    "{'i': 2, 'a': 0, 'e': 2, 'u': 0, 'o': 4}\n",
    "```\n",
    "\n",
    "You may write the python files and copy or move them to the given location or you may write them from within the bash file. The latter would be preferred.\n",
    "\n",
    "## 2. Matrix Inverter\n",
    "\n",
    "One place tuples are convenient is in the representation of matrices.  Label the values in a 2x2 matrix as follows:\n",
    "$$\n",
    "\\begin{bmatrix}\n",
    "    a       & b  \\\\\n",
    "    c       & d\n",
    "\\end{bmatrix}\n",
    "$$\n",
    "Write a script, matrix_fun.py, that asks the user for a text string including the four values, a, b, c, and d, separated by spaces.  You can use the `split()` method on the string to create a list of the four values in order.\n",
    "\n",
    "Create a tuple that represents each row, then create a tuple that contains those two tuples.  It should have the form `((a, b), (c, d))`.  Print this representation.\n",
    "\n",
    "The inverse of the matrix above is given by the formula,\n",
    "\n",
    "$$\n",
    "\\frac{1}{ad-bc} \\begin{bmatrix}\n",
    "    d       & -b  \\\\\n",
    "    -c       & a\n",
    "\\end{bmatrix}\n",
    "$$\n",
    "\n",
    "Compute the inverse of the given matrix, again represented as nested tuples, and print this representation. For example:\n",
    "\n",
    "\n",
    "input: 1 2 3 4\n",
    "\n",
    "output:\n",
    "```\n",
    "matrix: ((1.0, 2.0), (3.0, 4.0))\n",
    "inverse: ((-2.0, 1.0), (1.5, -0.5))\n",
    "```"
   ]
  },
  {
   "cell_type": "code",
   "execution_count": null,
   "metadata": {
    "collapsed": true
   },
   "outputs": [],
   "source": []
  }
 ],
 "metadata": {
  "kernelspec": {
   "display_name": "Python 3",
   "language": "python",
   "name": "python3"
  },
  "language_info": {
   "codemirror_mode": {
    "name": "ipython",
    "version": 3
   },
   "file_extension": ".py",
   "mimetype": "text/x-python",
   "name": "python",
   "nbconvert_exporter": "python",
   "pygments_lexer": "ipython3",
   "version": "3.4.3"
  }
 },
 "nbformat": 4,
 "nbformat_minor": 0
}
