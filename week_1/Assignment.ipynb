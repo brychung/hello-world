{
 "cells": [
  {
   "cell_type": "markdown",
   "metadata": {},
   "source": [
    "## Week 1 Assignment"
   ]
  },
  {
   "cell_type": "markdown",
   "metadata": {},
   "source": [
    "### Readings\n",
    "\n",
    "You are to read the included pdf files for this week's assignment. This includes the basics of the command line. In addition, we would like you to read this article:\n",
    "\n",
    "http://mikehadlow.blogspot.com/2015/12/learn-to-code-its-harder-than-you-think.html\n",
    "\n",
    "and bring some thoughts and ideas to the next discussion question. The point of this is not to scare you but to rather gauge your reaction to what you think of his perspective. Do you think it's correct? Do you think that it shouldn't be correct? Please be prepared to talk about this in class."
   ]
  },
  {
   "cell_type": "markdown",
   "metadata": {},
   "source": [
    "## Python Coding"
   ]
  },
  {
   "cell_type": "markdown",
   "metadata": {},
   "source": [
    "Write a script to solve each of the following problems.  When you are done, create a zip file that holds all four scripts and upload it.\n",
    "\n",
    "Ensure that the name of your submitted file follows this naming convention:\n",
    "\"First Name_Last Name_Week1Assignment.zip\"\n",
    "\n",
    "Sample filename: Ann_Taylor_Week1Assignment.zip\n",
    "\n",
    "Assignment due date: 24 hours before the Week 2 Live Session.\n",
    "\n",
    "### 1. Tip Calculator\n",
    "\n",
    "Below, you can see the script we wrote to compute the tip for a meal.  Fix it so that it works correctly.  Save your result as the file tip.py."
   ]
  },
  {
   "cell_type": "code",
   "execution_count": null,
   "metadata": {
    "collapsed": true
   },
   "outputs": [],
   "source": [
    "price = input(\"Enter the price of a meal:\")\n",
    "\n",
    "tip = price * 0.16\n",
    "total = price + tip\n",
    "\n",
    "print(\"A 16% tip would be \", tip)\n",
    "print(\"The total including tip would be \", total)"
   ]
  },
  {
   "cell_type": "markdown",
   "metadata": {},
   "source": [
    "### 2. Gas Pump Informer\n",
    "\n",
    "Write a script that prompts the user for a number of gallons of gasoline. Reprint that value, along with its conversion to other measurements:\n",
    "\n",
    "- Equivalent number of liters\n",
    "- Number of barrels of oil required to produce it\n",
    "- Price in U.S. dollars\n",
    "\n",
    "Figures to use:\n",
    "\n",
    "- 1 gallon is equivalent to 3.7854 liters.\n",
    "- 1 barrel of oil produces 19.5 gallons of gas.\n",
    "- The average price of gas is approximately $3.65.\n",
    "\n",
    "Save your script as gas.py"
   ]
  },
  {
   "cell_type": "markdown",
   "metadata": {},
   "source": [
    "### 3. Pig Latin Translator\n",
    "\n",
    "Write a script that translates names into a (simplified) Pig Latin. Have your script ask the user for his or her name. Move the first letter to the end of the name and add the letters \"ay\".  Make sure that only the first letter of your output is capitalized. Your script should re-create the following behavior exactly:\n",
    "\n",
    "```\n",
    "Enter your name: Paul\n",
    "Aulpay\n",
    "```\n",
    "\n",
    "Save your script as piglatin.py"
   ]
  },
  {
   "cell_type": "markdown",
   "metadata": {},
   "source": [
    "### 4. Number Averager\n",
    "\n",
    "Write a script that prompts the user for two numbers, a and b.  Output the the following types of averages:\n",
    "\n",
    "- The arithmetic mean $(a + b) / 2 $\n",
    "- The geometric mean $\\sqrt{ab}$\n",
    "- The root-mean-square $\\sqrt{a^2 + b^2}$\n",
    "\n",
    "Sae your script as averages.py"
   ]
  },
  {
   "cell_type": "code",
   "execution_count": null,
   "metadata": {
    "collapsed": true
   },
   "outputs": [],
   "source": []
  }
 ],
 "metadata": {
  "kernelspec": {
   "display_name": "Python 3",
   "language": "python",
   "name": "python3"
  },
  "language_info": {
   "codemirror_mode": {
    "name": "ipython",
    "version": 3
   },
   "file_extension": ".py",
   "mimetype": "text/x-python",
   "name": "python",
   "nbconvert_exporter": "python",
   "pygments_lexer": "ipython3",
   "version": "3.4.3"
  }
 },
 "nbformat": 4,
 "nbformat_minor": 0
}
