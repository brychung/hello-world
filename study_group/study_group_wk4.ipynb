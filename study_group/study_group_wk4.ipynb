{
 "cells": [
  {
   "cell_type": "markdown",
   "metadata": {},
   "source": [
    "# DISCUSSION TOPICS #"
   ]
  },
  {
   "cell_type": "markdown",
   "metadata": {},
   "source": [
    "* **For Loops**\n",
    "    * Method used for chess board!!\n",
    "    \n",
    "* **Bisection Search**\n",
    "    * The formula, approach\n",
    "    \n",
    "* **Bisection Pt2**\n",
    "    * clarify requirements and grading expectations\n",
    "        * What does digit by digit method mean?\n",
    "            * Write it so that it figures out each digit in the square root individually\n",
    "            * OR does it mean rather than incrementing by epsillon you're incrementing by 1, etc.\n",
    "    \n",
    "* **Comprehensions**\n",
    "    * Structuring embedded loops within comprehensions \n",
    "    * \n",
    "    \n",
    "\n",
    "* **Useful Resources**\n",
    "    * http://www.python-course.eu/list_comprehension.php <-- beware, solution to Pythagorean Triples\n",
    "    * https://docs.python.org/2/tutorial/datastructures.html\n",
    "    * http://nestacms.com/docs/creating-content/markdown-cheat-sheet\n",
    "    \n",
    "* **USE JUPYTER FOR HOMEWORKS**\n",
    "* In Office Hours Bill emphasized the need to learn jupyter shortkeys, will make your life easier\n",
    "\n",
    "\n",
    "**In the future we will spend the first 45 minutes - 1 hour discussing current homework. Following that, for those who are interested, we will analyze previous homeworks and try to identify best practices. "
   ]
  },
  {
   "cell_type": "markdown",
   "metadata": {},
   "source": [
    "## FOR LOOPS"
   ]
  },
  {
   "cell_type": "markdown",
   "metadata": {},
   "source": [
    "* **CHESS BOARD**\n",
    "    * Very helpful to draw out with pen and paper a completed output (e.g. \n",
    "    * Very similar to Pascals\n",
    "        * Use two lists, previous list and current list\n",
    "        * Some even borrowed code form their prev hw\n",
    "    * Error checking?\n",
    "        * Choosing a square outside of board range\n",
    "        * Checking for neg, float, and alpha\n",
    "    * Interpretation of input:\n",
    "        * input 10 means build a 10x10 chess board\n",
    "    * **Rule of programming: reuse, recycle code**\n",
    "    * List vs Strings:\n",
    "        * everyone used lists\n",
    "    * This problem and others emphasize the need to understand and utilize nested strings\n",
    "    * Possible to use arrays?\n",
    "        * Not sure\n",
    "        * Priya did try coupling numbers like coordinates, but got very complex\n",
    "        * *ask bill if this is a good application of arrays*\n",
    "    "
   ]
  },
  {
   "cell_type": "markdown",
   "metadata": {},
   "source": []
  },
  {
   "cell_type": "markdown",
   "metadata": {},
   "source": [
    "## BISECTION SEARCH"
   ]
  },
  {
   "cell_type": "markdown",
   "metadata": {},
   "source": [
    "* Sarah's take: it should compile the digits 1-by-1 up until 10 decimal places\n",
    "* **Post on board and get follow** \n",
    "* **Discussing Formula**\n",
    "    * How to interpret the hint?\n",
    "    * Take a data science approach? Randomly generate 100 numbers and then take square root...\n",
    "    * How to solve for n root log function? Answer: yes.\n",
    "    * Check the Data & Algorithms class - whole section on this\n",
    "        * Chapter 3 of Data Structure & Algorithms\n",
    "* One quick question again on bisection - when computing the square root of 10 to 10 decimal places, do we want to increase epsilon to .0000000001, or just get the root of 10 out to 10 decimal places\n",
    "    * stop once the step is less than epsilon\n",
    "* "
   ]
  },
  {
   "cell_type": "markdown",
   "metadata": {},
   "source": []
  },
  {
   "cell_type": "markdown",
   "metadata": {},
   "source": [
    "## BISECTION PT 2"
   ]
  },
  {
   "cell_type": "markdown",
   "metadata": {},
   "source": []
  },
  {
   "cell_type": "markdown",
   "metadata": {},
   "source": [
    "## COMPREHENSIONS"
   ]
  },
  {
   "cell_type": "markdown",
   "metadata": {},
   "source": [
    "* Reading the chapter on this material is important\n",
    "    * reference the example code here\n",
    "    * wirte out the embeded  loop you would use to get a sense of what you're trying to build\n",
    "* \n",
    "    * Rather than replace value, replace index\n",
    "    * one \"o\" at a time:\n",
    "        * baoted\n",
    "        * booted\n",
    "* Bill mentioned using functions to solve this, comprehension calling a function, specifically for 4.4?\n",
    "    * Bill also said that you don't need ot worry too much about having only one comprehension (nested) for each probllem\n",
    "    * e.g. use a comprehension to generate part of the answer, then a function to work with the material\n",
    "* Is there a limit to how much you can return in Jupyter?\n",
    "    * No - **ask bill**\n",
    "*"
   ]
  },
  {
   "cell_type": "markdown",
   "metadata": {},
   "source": []
  },
  {
   "cell_type": "markdown",
   "metadata": {},
   "source": []
  },
  {
   "cell_type": "markdown",
   "metadata": {},
   "source": []
  },
  {
   "cell_type": "markdown",
   "metadata": {},
   "source": []
  }
 ],
 "metadata": {
  "kernelspec": {
   "display_name": "Python 3",
   "language": "python",
   "name": "python3"
  },
  "language_info": {
   "codemirror_mode": {
    "name": "ipython",
    "version": 3
   },
   "file_extension": ".py",
   "mimetype": "text/x-python",
   "name": "python",
   "nbconvert_exporter": "python",
   "pygments_lexer": "ipython3",
   "version": "3.5.1"
  }
 },
 "nbformat": 4,
 "nbformat_minor": 0
}
